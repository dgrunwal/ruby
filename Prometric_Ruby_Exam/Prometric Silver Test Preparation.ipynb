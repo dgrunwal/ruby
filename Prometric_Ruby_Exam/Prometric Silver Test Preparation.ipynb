{
 "cells": [
  {
   "cell_type": "code",
   "execution_count": 3,
   "id": "67dc2538",
   "metadata": {},
   "outputs": [],
   "source": [
    "#  Silver Test Preparation: concepts and code: case, variables, hashes and arrays, loops, if elseif\n",
    "#  https://www.prometric.com/test-takers/search/ry\n",
    "\n",
    "=begin\n",
    "\n",
    "  \n",
    "Literals (e.g., numbers, booleans, strings, characters, arrays, hashes) WORKING ON \n",
    "Variables, constants, and scope *\n",
    "Operators\n",
    "Conditional branching\n",
    "Loops *\n",
    "Exception handling\n",
    "Method calls *\n",
    "Blocks *\n",
    "Method definition *\n",
    "Module definition\n",
    "Keyword arguments\n",
    "Built-in libraries *\n",
    "\n",
    "Well-used built-in classes and modules\n",
    "(e.g., Object, Numerical classes, String, Array, Hash, Kernel, Enumerable, Comparable)\n",
    "Object orientation\n",
    "\n",
    "Polymorphism\n",
    "Inheritance\n",
    "mix-in *\n",
    "\n",
    "=end"
   ]
  },
  {
   "cell_type": "code",
   "execution_count": 1,
   "id": "f0230c66",
   "metadata": {},
   "outputs": [
    {
     "name": "stdout",
     "output_type": "stream",
     "text": [
      "[1, 4, 5]\n"
     ]
    },
    {
     "data": {
      "text/plain": [
       "[1, 4, 5]"
      ]
     },
     "execution_count": 1,
     "metadata": {},
     "output_type": "execute_result"
    }
   ],
   "source": [
    "def foo(x: 1, y: 2, z: 3)\n",
    "  p [x, y, z]\n",
    "end\n",
    "\n",
    "foo(y: 4, z: 5)\n",
    "\n",
    "# Not the default returned if no argument provided in the foo function."
   ]
  },
  {
   "cell_type": "code",
   "execution_count": 4,
   "id": "4a234323",
   "metadata": {},
   "outputs": [
    {
     "name": "stdout",
     "output_type": "stream",
     "text": [
      "[1, 2, 3]\n"
     ]
    },
    {
     "data": {
      "text/plain": [
       "[1, 2, 3]"
      ]
     },
     "execution_count": 4,
     "metadata": {},
     "output_type": "execute_result"
    }
   ],
   "source": [
    "# Example of ** turning a Hash into keyword arguments.\n",
    "\n",
    "def foo(x:, y:, z:)\n",
    "  p [x, y, z]\n",
    "end\n",
    "\n",
    "h = {x: 1, y: 2, z: 3}\n",
    "foo(**h)"
   ]
  },
  {
   "cell_type": "code",
   "execution_count": 5,
   "id": "35dc24ad",
   "metadata": {},
   "outputs": [
    {
     "name": "stderr",
     "output_type": "stream",
     "text": [
      "(irb):1: warning: already initialized constant Object::MSG\n"
     ]
    },
    {
     "name": "stdout",
     "output_type": "stream",
     "text": [
      "47\n"
     ]
    },
    {
     "data": {
      "text/plain": [
       "47"
      ]
     },
     "execution_count": 5,
     "metadata": {},
     "output_type": "execute_result"
    }
   ],
   "source": [
    "MSG = 42\n",
    "MSG += 5\n",
    "p MSG"
   ]
  },
  {
   "cell_type": "code",
   "execution_count": 6,
   "id": "ca6178b6",
   "metadata": {},
   "outputs": [
    {
     "name": "stderr",
     "output_type": "stream",
     "text": [
      "(irb): warning: already initialized constant Object::MSG\n",
      "(irb):1: warning: previous definition of MSG was here\n"
     ]
    },
    {
     "name": "stdout",
     "output_type": "stream",
     "text": [
      "\"HELLO\"\n"
     ]
    },
    {
     "data": {
      "text/plain": [
       "\"HELLO\""
      ]
     },
     "execution_count": 6,
     "metadata": {},
     "output_type": "execute_result"
    }
   ],
   "source": [
    "MSG = \"hello\"\n",
    "MSG.upcase!\n",
    "p MSG\n",
    "\n",
    " \n",
    "#irb(main):001> MSG = \"hello\"\n",
    "#irb(main):002> MSG.upcase!\n",
    "#irb(main):003> p MSG\n",
    "#\"HELLO\"\n",
    "#=> \"HELLO\"\n",
    "\n"
   ]
  },
  {
   "cell_type": "code",
   "execution_count": 7,
   "id": "563702e8",
   "metadata": {},
   "outputs": [],
   "source": [
    "# Remember about Ruby variables \n",
    "\n",
    "=begin \n",
    "\n",
    "Global variables start with $.\n",
    "Class variables start with @@.\n",
    "Instance variables start with @.\n",
    "Local variables must begin with a lowercase letter or an underscore.\n",
    "The remaining characters in any variable type are limited to letters, numbers, underscores, and non-ASCII characters.\n",
    "\n",
    "=end "
   ]
  },
  {
   "cell_type": "code",
   "execution_count": 9,
   "id": "8581360d",
   "metadata": {
    "scrolled": true
   },
   "outputs": [
    {
     "name": "stdout",
     "output_type": "stream",
     "text": [
      "[1, 3, 5, 7]\n",
      "[1, 3, 5, 7]\n"
     ]
    },
    {
     "data": {
      "text/plain": [
       "[1, 3, 5, 7]"
      ]
     },
     "execution_count": 9,
     "metadata": {},
     "output_type": "execute_result"
    }
   ],
   "source": [
    "# both the x and y variables reference the same array object.\n",
    "# Because Array#reject! modifies its receiver, this means that it modifies the single array that is referenced by both variables.\n",
    "\n",
    "\n",
    "\n",
    "x = [1,2,3,4,5,6,7,8]\n",
    "y = x\n",
    "x.reject! { |e| e.even? }\n",
    "p x\n",
    "p y"
   ]
  },
  {
   "cell_type": "code",
   "execution_count": 10,
   "id": "97fed489",
   "metadata": {},
   "outputs": [
    {
     "name": "stdout",
     "output_type": "stream",
     "text": [
      "[4, 6, 8, 12]\n"
     ]
    },
    {
     "data": {
      "text/plain": [
       "[4, 6, 8, 12]"
      ]
     },
     "execution_count": 10,
     "metadata": {},
     "output_type": "execute_result"
    }
   ],
   "source": [
    "a = [ 2, 4, 6, 8, 10 ]\n",
    "a.shift\n",
    "a.pop\n",
    "a.push(12)\n",
    "p a\n",
    "\n",
    "# [4, 6, 8, 12]"
   ]
  },
  {
   "cell_type": "code",
   "execution_count": 11,
   "id": "8d237c2e",
   "metadata": {},
   "outputs": [
    {
     "name": "stdout",
     "output_type": "stream",
     "text": [
      "[4, 6, 8, 12]\n"
     ]
    },
    {
     "data": {
      "text/plain": [
       "[4, 6, 8, 12]"
      ]
     },
     "execution_count": 11,
     "metadata": {},
     "output_type": "execute_result"
    }
   ],
   "source": [
    "a = [ 2, 4, 6, 8, 10 ]\n",
    "a.shift\n",
    "a.pop\n",
    "a.push(12)\n",
    "p a\n",
    "\n",
    "=begin\n",
    "shift removes the first element of an array and returns its value.\n",
    "pop removes the last element of an array and returns its value\n",
    "push adds the specified element to the end of an array.\n",
    "=end\n",
    " "
   ]
  },
  {
   "cell_type": "code",
   "execution_count": 14,
   "id": "ddfe81ce",
   "metadata": {},
   "outputs": [
    {
     "name": "stdout",
     "output_type": "stream",
     "text": [
      "succeeded!\n"
     ]
    }
   ],
   "source": [
    "x = true\n",
    "x || exit(1)\n",
    "puts(\"succeeded!\")\n",
    "\n",
    "#[Output]\n",
    "#succeeded!\n",
    "\n",
    "=begin\n",
    "\n",
    "The exit(1) statement is not executed because the left-hand side of the || operator is true. As a result, the program \n",
    "continues to execute and prints \"succeeded!\" to the console. The exit(1) call would only be executed if x were false \n",
    "or a falsy value, triggering the right-hand side of the || operator.\n",
    "\n",
    "=end "
   ]
  },
  {
   "cell_type": "code",
   "execution_count": 17,
   "id": "c2970db3",
   "metadata": {},
   "outputs": [
    {
     "name": "stdout",
     "output_type": "stream",
     "text": [
      "nil\n"
     ]
    }
   ],
   "source": [
    "# Although the or operator short circuits and the n = true expression is never executed, the n local variable is still statically declared. \n",
    "# Therefore, the variable is present but its value is nil.\n",
    "\n",
    "# This is because n was not explicitly assigned a value before it was referenced, causing it to default to nil in Ruby.\n",
    "\n",
    "m = true\n",
    "m or n = true\n",
    "p n"
   ]
  },
  {
   "cell_type": "code",
   "execution_count": 21,
   "id": "e1bc26c1",
   "metadata": {},
   "outputs": [
    {
     "name": "stdout",
     "output_type": "stream",
     "text": [
      "[1, 3, 5]\n"
     ]
    },
    {
     "data": {
      "text/plain": [
       "[1, 3, 5]"
      ]
     },
     "execution_count": 21,
     "metadata": {},
     "output_type": "execute_result"
    }
   ],
   "source": [
    "ary = [ 1, 2, 3, 4, 5 ]\n",
    "p ary.filter { |i| i.odd? }"
   ]
  },
  {
   "cell_type": "code",
   "execution_count": 22,
   "id": "963ca73b",
   "metadata": {},
   "outputs": [
    {
     "ename": "NoMethodError",
     "evalue": "undefined method `foo' for #<#<Class:0x000001833ff2a648>::Klass:0x000001833f81bd70>",
     "output_type": "error",
     "traceback": [
      "\u001b[31mNoMethodError\u001b[0m: undefined method `foo' for #<#<Class:0x000001833ff2a648>::Klass:0x000001833f81bd70>",
      "(irb):16:in `<top (required)>'"
     ]
    }
   ],
   "source": [
    "# In general, clone and dup may have different semantics in descendant classes. \n",
    "# While clone is used to duplicate an object, including its internal state, dup typically uses the class of the descendant object to create the new instance.\n",
    "# When using dup, any modules that the object has been extended with will not be copied.\n",
    "\n",
    "\n",
    "class Klass\n",
    "  attr_accessor :str\n",
    "end\n",
    "\n",
    "module Foo\n",
    "  def foo; 'foo'; end\n",
    "end\n",
    "\n",
    "s1 = Klass.new #=> #<Klass:0x401b3a38>\n",
    "s1.extend(Foo) #=> #<Klass:0x401b3a38>\n",
    "s1.foo #=> \"foo\"\n",
    "\n",
    "s2 = s1.clone #=> #<Klass:0x401be280>\n",
    "s2.foo #=> \"foo\"\n",
    "\n",
    "s3 = s1.dup #=> #<Klass:0x401c1084>\n",
    "s3.foo #=> NoMethodError: undefined method `foo' for #<Klass:0x401c1084>"
   ]
  },
  {
   "cell_type": "code",
   "execution_count": 23,
   "id": "e0a96839",
   "metadata": {},
   "outputs": [
    {
     "name": "stdout",
     "output_type": "stream",
     "text": [
      "42\n"
     ]
    }
   ],
   "source": [
    "puts \"42A7\".to_i"
   ]
  },
  {
   "cell_type": "code",
   "execution_count": 28,
   "id": "e90af9cd",
   "metadata": {},
   "outputs": [
    {
     "ename": "NoMethodError",
     "evalue": "undefined method `contain?' for {:a=>2, :b=>4, :c=>6, :d=>8, :e=>10}:Hash",
     "output_type": "error",
     "traceback": [
      "\u001b[31mNoMethodError\u001b[0m: undefined method `contain?' for {:a=>2, :b=>4, :c=>6, :d=>8, :e=>10}:Hash",
      "(irb):2:in `<top (required)>'"
     ]
    }
   ],
   "source": [
    "h = {a: 2, b: 4, c: 6, d: 8, e: 10}\n",
    "\n",
    "#  The following aliases are single methods returning a true if key is in the hash\n",
    "\n",
    "#p h.has_key?(:c)\n",
    "#p h.include?(:c)\n",
    "#p h.key?(:c)\n",
    "#p h.member?(:c)"
   ]
  },
  {
   "cell_type": "code",
   "execution_count": 30,
   "id": "ec2c625b",
   "metadata": {},
   "outputs": [
    {
     "name": "stdout",
     "output_type": "stream",
     "text": [
      "[120, 80, 160, 180]\n"
     ]
    },
    {
     "data": {
      "text/plain": [
       "[120, 80, 160, 180]"
      ]
     },
     "execution_count": 30,
     "metadata": {},
     "output_type": "execute_result"
    }
   ],
   "source": [
    "a = [120, 40, 20, 80, 160, 60, 180]\n",
    "a.delete_if {|i| i < 80}\n",
    "p a"
   ]
  },
  {
   "cell_type": "code",
   "execution_count": 34,
   "id": "237def50",
   "metadata": {},
   "outputs": [
    {
     "name": "stdout",
     "output_type": "stream",
     "text": [
      "[120, 80, 160, 180]\n"
     ]
    },
    {
     "data": {
      "text/plain": [
       "[120, 80, 160, 180]"
      ]
     },
     "execution_count": 34,
     "metadata": {},
     "output_type": "execute_result"
    }
   ],
   "source": [
    "a = [120, 40, 20, 80, 160, 60, 180]\n",
    "a.reject! {|i| i < 80} \n",
    "p a\n",
    "\n",
    "\n"
   ]
  },
  {
   "cell_type": "code",
   "execution_count": 36,
   "id": "9010073b",
   "metadata": {},
   "outputs": [
    {
     "name": "stdout",
     "output_type": "stream",
     "text": [
      "[120, 80, 160, 180]\n"
     ]
    },
    {
     "data": {
      "text/plain": [
       "[120, 80, 160, 180]"
      ]
     },
     "execution_count": 36,
     "metadata": {},
     "output_type": "execute_result"
    }
   ],
   "source": [
    "#  Note  In addition to reject! there is also reject, which returns a new array rather than modifying the original.\n",
    "\n",
    "a = [120, 40, 20, 80, 160, 60, 180]\n",
    "a = a.reject { |i| i < 80 }\n",
    "p a\n"
   ]
  },
  {
   "cell_type": "code",
   "execution_count": 38,
   "id": "3c3d2319",
   "metadata": {},
   "outputs": [
    {
     "data": {
      "text/plain": [
       "{1=>1, 2=>3, 3=>3, 4=>1}"
      ]
     },
     "execution_count": 38,
     "metadata": {},
     "output_type": "execute_result"
    }
   ],
   "source": [
    "# hashes and itself\n",
    "\n",
    "arr = [1,2,2,2,3,3,3,4]\n",
    "arr.group_by(&:itself) \\\n",
    ".each_with_object({}) { |(k, v), hash| hash[k] = v.size }\n",
    "#=> {1=>1, 2=>3, 3=>3, 4=>1}\n"
   ]
  },
  {
   "cell_type": "code",
   "execution_count": 41,
   "id": "9ee4c7ea",
   "metadata": {},
   "outputs": [
    {
     "name": "stdout",
     "output_type": "stream",
     "text": [
      "[\"apple\", \"banana\", \"carrot\"]\n"
     ]
    },
    {
     "data": {
      "text/plain": [
       "[\"apple\", \"banana\", \"carrot\"]"
      ]
     },
     "execution_count": 41,
     "metadata": {},
     "output_type": "execute_result"
    }
   ],
   "source": [
    "# The | operator is equivalent to a set union. \n",
    "# It returns a new array that is built by joining two arrays together, eliminating any duplicates while preserving order.\n",
    "\n",
    "p [\"apple\", \"banana\"] | [\"banana\", \"carrot\"]\n",
    "\n",
    "# [\"apple\", \"banana\", \"carrot\"]"
   ]
  },
  {
   "cell_type": "code",
   "execution_count": 43,
   "id": "6e4f70ad",
   "metadata": {},
   "outputs": [
    {
     "name": "stdout",
     "output_type": "stream",
     "text": [
      "[:x1, :x2, :x3]\n"
     ]
    },
    {
     "data": {
      "text/plain": [
       "[:x1, :x2, :x3]"
      ]
     },
     "execution_count": 43,
     "metadata": {},
     "output_type": "execute_result"
    }
   ],
   "source": [
    "#  %i(...) is an non-interpolated array of symbols, separated by whitespace.\n",
    "\n",
    "\n",
    "p %i(x1 x2 x3)  #[:x1, :x2, :x3]"
   ]
  },
  {
   "cell_type": "code",
   "execution_count": 51,
   "id": "a7d12014",
   "metadata": {},
   "outputs": [
    {
     "name": "stdout",
     "output_type": "stream",
     "text": [
      "Error: Division by zero!\n"
     ]
    }
   ],
   "source": [
    "# The first error is returned.  Best to provide specific errors first before general ones\n",
    "\n",
    "begin\n",
    "  # Code that might raise an exception\n",
    "  result = 10 / 0\n",
    "rescue ZeroDivisionError\n",
    "  # Handle the specific exception (division by zero)\n",
    "  puts \"Error: Division by zero!\"\n",
    "rescue StandardError => e\n",
    "  # Handle other types of exceptions\n",
    "  puts \"Error: #{e.message}\"\n",
    "end\n",
    "\n",
    "#  Error: Division by zero!\n"
   ]
  },
  {
   "cell_type": "code",
   "execution_count": 55,
   "id": "b2a20a80",
   "metadata": {},
   "outputs": [
    {
     "name": "stdout",
     "output_type": "stream",
     "text": [
      "Error: ZeroDivisionError\n",
      "DONE!\n"
     ]
    }
   ],
   "source": [
    "# The ensure clause is useful because it can be used to do cleanup even when some code raises an exception or tells Ruby to exit. \n",
    "# It is often used for things like closing file handles, database connections, etc.\n",
    "\n",
    "begin\n",
    "  ans = 100/0\n",
    "  puts ans\n",
    "rescue ZeroDivisionError\n",
    "  puts \"Error: ZeroDivisionError\"\n",
    "  exit 1\n",
    "ensure\n",
    "  puts \"DONE!\"\n",
    "end\n",
    "\n",
    "#  Error: ZeroDivisionError\n",
    "#  DONE!"
   ]
  },
  {
   "cell_type": "code",
   "execution_count": 1,
   "id": "3fe7d74f",
   "metadata": {},
   "outputs": [
    {
     "data": {
      "text/plain": [
       ":moo"
      ]
     },
     "execution_count": 1,
     "metadata": {},
     "output_type": "execute_result"
    }
   ],
   "source": [
    "class Object\n",
    "  def moo\n",
    "    puts \"MOO!\"\n",
    "  end\n",
    "end\n",
    " \n",
    "# in irb \"Cow\".moo => \"MOO!\""
   ]
  },
  {
   "cell_type": "code",
   "execution_count": 19,
   "id": "733ca124",
   "metadata": {},
   "outputs": [
    {
     "name": "stdout",
     "output_type": "stream",
     "text": [
      "HELLO, WORLD!\n"
     ]
    }
   ],
   "source": [
    "class Shouter\n",
    "  def initialize(message)\n",
    "    @message = message\n",
    "  end\n",
    "\n",
    "  def greet\n",
    "    puts @message.upcase\n",
    "  end\n",
    "end\n",
    "\n",
    "g = Shouter.new(\"Hello, world!\")\n",
    "g.greet\n",
    "\n",
    "# HELLO WORLD!\n",
    "\n",
    "# Whenever the new method is called on a class, a new instance of that class is allocated and then the initialize \n",
    "# method is called on that instance.  This allows some setup code to be run as soon as the object is instantiated."
   ]
  },
  {
   "cell_type": "code",
   "execution_count": 17,
   "id": "914f9cae",
   "metadata": {},
   "outputs": [
    {
     "name": "stdout",
     "output_type": "stream",
     "text": [
      "HELLO, WORLD!\n"
     ]
    }
   ],
   "source": [
    "class Shouter\n",
    "  def initialize(message)\n",
    "    @message = message\n",
    "  end\n",
    "\n",
    "  def greet\n",
    "    puts @message.upcase\n",
    "  end\n",
    "end\n",
    "\n",
    "g = #Shouter(\"Hello, world!\")\n",
    "g.greet\n",
    "\n",
    "# HELLO WORLD!\n"
   ]
  },
  {
   "cell_type": "code",
   "execution_count": 1,
   "id": "012a9ded",
   "metadata": {},
   "outputs": [
    {
     "name": "stdout",
     "output_type": "stream",
     "text": [
      "apple\n"
     ]
    }
   ],
   "source": [
    "class Foo\n",
    "  attr_reader :var\n",
    "  def initialize\n",
    "    @var = \"apple\"\n",
    "  end\n",
    "end\n",
    "\n",
    "class Bar < Foo\n",
    "  def initialize\n",
    "    @var = \"banana\"\n",
    "    super\n",
    "  end\n",
    "end\n",
    "\n",
    "bar = Bar.new\n",
    "puts bar.var\n",
    "\n",
    "#  returns apple \n",
    "#  calling Bar.new causes Bar#initialize to run, which sets @var = \"banana\". But then immediately after that, super is called, \n",
    "#  causing Foo#initialize to run. That method sets @var = \"apple\", which explains the final result."
   ]
  },
  {
   "cell_type": "code",
   "execution_count": 4,
   "id": "5d0d2560",
   "metadata": {},
   "outputs": [
    {
     "name": "stdout",
     "output_type": "stream",
     "text": [
      "foo\n"
     ]
    }
   ],
   "source": [
    "puts \"$foo$\".delete(\"$\")\n",
    "\n",
    "#[Output] foo\n",
    "\n",
    "# \"$foo$\".delete(\"$\") removes all instances of the '$' character from the string and returns the modified string \"foo\".\n",
    " \n",
    "\n",
    " "
   ]
  },
  {
   "cell_type": "code",
   "execution_count": 5,
   "id": "462d5c92",
   "metadata": {},
   "outputs": [
    {
     "name": "stdout",
     "output_type": "stream",
     "text": [
      "Index: 0, Fruit: apple\n",
      "Index: 1, Fruit: banana\n",
      "Index: 2, Fruit: orange\n"
     ]
    },
    {
     "data": {
      "text/plain": [
       "[\"apple\", \"banana\", \"orange\"]"
      ]
     },
     "execution_count": 5,
     "metadata": {},
     "output_type": "execute_result"
    }
   ],
   "source": [
    "# enumerate in Ruby\n",
    "\n",
    "fruits = ['apple', 'banana', 'orange']\n",
    "\n",
    "fruits.each_with_index do |fruit, index|\n",
    "  puts \"Index: #{index}, Fruit: #{fruit}\"\n",
    "end\n",
    "\n",
    "\n",
    "=begin\n",
    "\n",
    "Index: 0, Fruit: apple\n",
    "Index: 1, Fruit: banana\n",
    "Index: 2, Fruit: orange\n",
    "\n",
    "=end"
   ]
  },
  {
   "cell_type": "code",
   "execution_count": 6,
   "id": "2079650a",
   "metadata": {},
   "outputs": [
    {
     "name": "stdout",
     "output_type": "stream",
     "text": [
      "[\"a\", \"b\", \"c\", \"d\", \"e\"]\n"
     ]
    },
    {
     "data": {
      "text/plain": [
       "[\"a\", \"b\", \"c\", \"d\", \"e\"]"
      ]
     },
     "execution_count": 6,
     "metadata": {},
     "output_type": "execute_result"
    }
   ],
   "source": [
    "r = \"a\"..\"e\"\n",
    "p r.to_a\n",
    "\n",
    "#  [\"a\", \"b\", \"c\", \"d\", \"e\"]"
   ]
  },
  {
   "cell_type": "code",
   "execution_count": 8,
   "id": "c7b64383",
   "metadata": {},
   "outputs": [
    {
     "name": "stdout",
     "output_type": "stream",
     "text": [
      "0\n"
     ]
    },
    {
     "data": {
      "text/plain": [
       "0"
      ]
     },
     "execution_count": 8,
     "metadata": {},
     "output_type": "execute_result"
    }
   ],
   "source": [
    "p [0,1,2,3,4,5].find {|x| x < 3}\n",
    "# 0\n",
    "\n",
    "# The #find method is defined by the Enumerable module. It returns the first element of the collection for which the block's result is not false or nil.\n",
    "# Note that Enumerable#find is also aliased as Enumerable#detect."
   ]
  },
  {
   "cell_type": "code",
   "execution_count": 24,
   "id": "02ec5b04",
   "metadata": {},
   "outputs": [
    {
     "name": "stdout",
     "output_type": "stream",
     "text": [
      "[16, 8, 4, 2, 1]\n",
      "[16, 8, 4, 2, 1]\n"
     ]
    },
    {
     "data": {
      "text/plain": [
       "[16, 8, 4, 2, 1]"
      ]
     },
     "execution_count": 24,
     "metadata": {},
     "output_type": "execute_result"
    }
   ],
   "source": [
    "# Sorting\n",
    "\n",
    "p [1,16,8,4,2].sort_by { |x| -x}  # [16, 8, 4, 2, 1]\n",
    "p [1,16,8,4,2].sort.reverse       # [16, 8, 4, 2, 1]"
   ]
  },
  {
   "cell_type": "code",
   "execution_count": null,
   "id": "efaff185",
   "metadata": {},
   "outputs": [],
   "source": [
    "# Sorting\n",
    "\n",
    "p [1,16,8,4,2].sort  # [1, 2, 4, 8, 16]"
   ]
  },
  {
   "cell_type": "code",
   "execution_count": 25,
   "id": "c59d9dcd",
   "metadata": {
    "scrolled": false
   },
   "outputs": [
    {
     "name": "stdout",
     "output_type": "stream",
     "text": [
      "[16, 8, 4, 2, 1]\n"
     ]
    },
    {
     "data": {
      "text/plain": [
       "[16, 8, 4, 2, 1]"
      ]
     },
     "execution_count": 25,
     "metadata": {},
     "output_type": "execute_result"
    }
   ],
   "source": [
    "ary = [2,4,8,1,16]\n",
    "p ary.sort { |i,j| -i <=> -j }   #[16, 8, 4, 2, 1]"
   ]
  },
  {
   "cell_type": "code",
   "execution_count": 29,
   "id": "309769e6",
   "metadata": {},
   "outputs": [
    {
     "name": "stdout",
     "output_type": "stream",
     "text": [
      "rubyworld\n"
     ]
    }
   ],
   "source": [
    "File.write(\"test1\", \"hellorubyworld\\n\")\n",
    "File.open(\"test1\") do |file|\n",
    "  file.seek(5)\n",
    "  print file.gets\n",
    "end\n",
    "\n",
    "#  rubyworld"
   ]
  },
  {
   "cell_type": "code",
   "execution_count": null,
   "id": "5345c56d",
   "metadata": {},
   "outputs": [],
   "source": [
    "=begin\n",
    "\n",
    "The following I/O open modes are supported by Ruby:\n",
    "\n",
    "\"r\"  Read-only, starts at beginning of file  (default mode).\n",
    "\n",
    "\"r+\" Read-write, starts at beginning of file.\n",
    "\n",
    "\"w\"  Write-only, truncates existing file\n",
    "     to zero length or creates a new file for writing.\n",
    "\n",
    "\"w+\" Read-write, truncates existing file to zero length\n",
    "     or creates a new file for reading and writing.\n",
    "\n",
    "\"a\"  Write-only, each write call appends data at end of file.\n",
    "     Creates a new file for writing if file does not exist.\n",
    "\n",
    "\"a+\" Read-write, each write call appends data at end of file.\n",
    "     Creates a new file for reading and writing if file does\n",
    "     not exist.\n",
    "     \n",
    "=end"
   ]
  },
  {
   "cell_type": "code",
   "execution_count": 32,
   "id": "b328c53c",
   "metadata": {},
   "outputs": [
    {
     "name": "stdout",
     "output_type": "stream",
     "text": [
      "Read-only mode ('r'):\n",
      "This is a demonstration of file modes in Ruby.\n",
      "\n",
      "Read-write mode ('r+'):\n",
      "Before write: This is a demonstration of file modes in Ruby.\n",
      "After write: Updated content.\n",
      "ation of file modes in Ruby.\n",
      "\n",
      "Read-write mode ('w+'):\n",
      "This will overwrite the content.\n",
      "\n",
      "Read-write mode ('a+'):\n",
      "This will overwrite the content.\n",
      "\n",
      "Write-only mode ('a'):\n",
      "This will append data at the end of the file.\n",
      "This will append data as well.\n"
     ]
    }
   ],
   "source": [
    "# reading and writing files \n",
    "\n",
    "# Create a new file and write some content\n",
    "File.open(\"example.txt\", \"w\") do |file|\n",
    "  file.puts \"This is a demonstration of file modes in Ruby.\"\n",
    "end\n",
    "\n",
    "# Read from a file using different modes\n",
    "File.open(\"example.txt\", \"r\") do |file|\n",
    "  puts \"Read-only mode ('r'):\"\n",
    "  puts file.read\n",
    "end\n",
    "\n",
    "File.open(\"example.txt\", \"r+\") do |file|\n",
    "  puts \"\\nRead-write mode ('r+'):\"\n",
    "  puts \"Before write: #{file.read}\"\n",
    "  file.rewind\n",
    "  file.puts \"Updated content.\"\n",
    "  file.rewind\n",
    "  puts \"After write: #{file.read}\"\n",
    "end\n",
    "\n",
    "File.open(\"example.txt\", \"w\") do |file|\n",
    "  file.puts \"\\nWrite-only mode ('w'):\"\n",
    "  file.puts \"This will truncate the existing content.\"\n",
    "end\n",
    "\n",
    "File.open(\"example.txt\", \"w+\") do |file|\n",
    "  puts \"\\nRead-write mode ('w+'):\"\n",
    "  file.puts \"This will overwrite the content.\"\n",
    "  file.rewind\n",
    "  puts file.read\n",
    "end\n",
    "\n",
    "File.open(\"example.txt\", \"a\") do |file|\n",
    "  file.puts \"\\nWrite-only mode ('a'):\"\n",
    "  file.puts \"This will append data at the end of the file.\"\n",
    "end\n",
    "\n",
    "File.open(\"example.txt\", \"a+\") do |file|\n",
    "  puts \"\\nRead-write mode ('a+'):\"\n",
    "  file.puts \"This will append data as well.\"\n",
    "  file.rewind\n",
    "  puts file.read\n",
    "end\n",
    "\n",
    "=begin\n",
    "\n",
    "Read-only mode ('r'):\n",
    "This is a demonstration of file modes in Ruby.\n",
    "\n",
    "Read-write mode ('r+'):\n",
    "Before write: This is a demonstration of file modes in Ruby.\n",
    "After write: Updated content.\n",
    "ation of file modes in Ruby.\n",
    "\n",
    "Read-write mode ('w+'):\n",
    "This will overwrite the content.\n",
    "\n",
    "Read-write mode ('a+'):\n",
    "This will overwrite the content.\n",
    "\n",
    "Write-only mode ('a'):\n",
    "This will append data at the end of the file.\n",
    "This will append data as well.\n",
    "\n",
    "\n",
    "=end\n",
    "\n"
   ]
  },
  {
   "cell_type": "code",
   "execution_count": 34,
   "id": "49d1cee4",
   "metadata": {},
   "outputs": [
    {
     "data": {
      "text/plain": [
       "\"C:/Users/dgrun\""
      ]
     },
     "execution_count": 34,
     "metadata": {},
     "output_type": "execute_result"
    }
   ],
   "source": [
    " Dir.pwd"
   ]
  },
  {
   "cell_type": "code",
   "execution_count": 2,
   "id": "ef4d25cd",
   "metadata": {},
   "outputs": [
    {
     "name": "stdout",
     "output_type": "stream",
     "text": [
      "\"ruby\"\n"
     ]
    },
    {
     "data": {
      "text/plain": [
       "\"ruby\""
      ]
     },
     "execution_count": 2,
     "metadata": {},
     "output_type": "execute_result"
    }
   ],
   "source": [
    "p \"hello ruby world\"[6,4]   # ruby\n",
    "# Similar to the syntax for indexing subarrays (Q25), it is possible to index a substring by providing a starting position and length."
   ]
  },
  {
   "cell_type": "code",
   "execution_count": 4,
   "id": "0c8a2ee3",
   "metadata": {},
   "outputs": [
    {
     "name": "stdout",
     "output_type": "stream",
     "text": [
      "\"bot\"\n"
     ]
    },
    {
     "data": {
      "text/plain": [
       "\"bot\""
      ]
     },
     "execution_count": 4,
     "metadata": {},
     "output_type": "execute_result"
    }
   ],
   "source": [
    "str = \"bat\"\n",
    "str[1,1] = \"o\"\n",
    "p str\n",
    "\n",
    "=begin\n",
    "\n",
    "Note that the replacement string does not need to be the same length as the original string. For example:\n",
    "\n",
    ">> str = \"boat\"\n",
    "=> \"boat\"\n",
    ">> str[1,2] = \"uil\"\n",
    "=> \"uil\"\n",
    ">> str\n",
    "=> \"built\"\n",
    "\n",
    "=end"
   ]
  },
  {
   "cell_type": "code",
   "execution_count": 13,
   "id": "1776bc5d",
   "metadata": {},
   "outputs": [
    {
     "name": "stdout",
     "output_type": "stream",
     "text": [
      "hihihihihi\n",
      "hihihihihi\n"
     ]
    }
   ],
   "source": [
    "#puts 5 * \"hi\"  # TypeError: String can't be coerced into Integer\n",
    "puts \"hi\" * 5  #hihihihihi\n",
    "# Concatenate \"hi\" with itself five times\n",
    "puts \"hi\" + \"hi\" + \"hi\" + \"hi\" + \"hi\"  # #hihihihihi\n",
    " "
   ]
  },
  {
   "cell_type": "code",
   "execution_count": null,
   "id": "17cc2801",
   "metadata": {},
   "outputs": [],
   "source": []
  }
 ],
 "metadata": {
  "kernelspec": {
   "display_name": "Ruby 3.2.2",
   "language": "ruby",
   "name": "ruby"
  },
  "language_info": {
   "file_extension": ".rb",
   "mimetype": "application/x-ruby",
   "name": "ruby",
   "version": "3.2.2"
  }
 },
 "nbformat": 4,
 "nbformat_minor": 5
}
