{
 "cells": [
  {
   "cell_type": "code",
   "execution_count": 9,
   "id": "504f1bbd",
   "metadata": {},
   "outputs": [
    {
     "name": "stdout",
     "output_type": "stream",
     "text": [
      "1\n",
      "2\n",
      "3\n",
      "[1, 4, 9]\n"
     ]
    },
    {
     "data": {
      "text/plain": [
       "[1, 4, 9]"
      ]
     },
     "execution_count": 9,
     "metadata": {},
     "output_type": "execute_result"
    }
   ],
   "source": [
    "# BLOCKS\n",
    "#\n",
    "# A block is a chunk of code to execute.\n",
    "# An argument is an object we pass a method, while a block is a procedure\n",
    "# A block cannot exist without a method.\n",
    "# A block is a temporary construct.  Method can capture logic while block captures varying\n",
    "# \n",
    "#\n",
    "# BLOCKS VS METHODS\n",
    "#\n",
    "# Methods can be invoked over and over. \n",
    "# A block is used only once, then disappears.\n",
    "# Methods capture the repeatable steps of a procedure.\n",
    "# A block captures the custom step of a procedure.\n",
    "\n",
    "[1, 2, 3].each { |value| p value }\n",
    "p [1, 2, 3].map { |value| value ** 2 }"
   ]
  },
  {
   "cell_type": "code",
   "execution_count": 3,
   "id": "a2aca992",
   "metadata": {},
   "outputs": [
    {
     "name": "stdout",
     "output_type": "stream",
     "text": [
      "I'm at the start of the pass_control method\n",
      "Now I'm inside the block\n",
      "Now I'm back inside the pass_control method\n",
      "Now I'm inside the block\n",
      "\n",
      "I'm at the start of the pass_control method\n",
      "I am very handsome\n",
      "Now I'm back inside the pass_control method\n",
      "I am very handsome\n",
      "\n",
      "I'm at the start of the pass_control method\n",
      "Hello, line number 1\n",
      "Goodbye, line number 2\n",
      "Now I'm back inside the pass_control method\n",
      "Hello, line number 1\n",
      "Goodbye, line number 2\n"
     ]
    }
   ],
   "source": [
    "# yield - directly inside the method\n",
    "\n",
    "def pass_control\n",
    "  puts \"I'm at the start of the pass_control method\"\n",
    "  yield\n",
    "  puts \"Now I'm back inside the pass_control method\"\n",
    "  yield\n",
    "end\n",
    "\n",
    "pass_control { puts \"Now I'm inside the block\" }\n",
    "puts\n",
    "\n",
    "pass_control { puts \"I am very handsome\" }\n",
    "puts\n",
    "\n",
    "pass_control do\n",
    "  puts \"Hello, line number 1\"\n",
    "  puts \"Goodbye, line number 2\"\n",
    "end"
   ]
  },
  {
   "cell_type": "code",
   "execution_count": 4,
   "id": "61570e2c",
   "metadata": {},
   "outputs": [
    {
     "name": "stdout",
     "output_type": "stream",
     "text": [
      "Hello there! Let me tell you about myself\n",
      "I am very handsome\n",
      "Hello there! Let me tell you about myself\n",
      "I am very talented\n",
      "\n",
      "Hello there! Let me tell you about myself\n",
      "I am very wonderful\n",
      "\n",
      "Hello there! Let me tell you about myself\n"
     ]
    },
    {
     "ename": "LocalJumpError",
     "evalue": "unexpected return",
     "output_type": "error",
     "traceback": [
      "\u001b[31mLocalJumpError\u001b[0m: unexpected return",
      "(irb):20:in `block in <top (required)>'",
      "(irb):4:in `who_am_i'",
      "(irb):20:in `<top (required)>'"
     ]
    }
   ],
   "source": [
    "# Blocks implicitly return their last evaluation back to the method\n",
    "\n",
    "def who_am_i\n",
    "  puts \"Hello there! Let me tell you about myself\"\n",
    "  adjective = yield\n",
    "  puts \"I am very #{adjective}\"\n",
    "end\n",
    "\n",
    "who_am_i { \"handsome\" }\n",
    "who_am_i { \"talented\" }\n",
    "\n",
    "puts\n",
    "\n",
    "who_am_i do\n",
    "  \"handsome\"\n",
    "  \"wonderful\"\n",
    "end\n",
    "\n",
    "puts\n",
    "\n",
    "who_am_i { return \"charming\" }"
   ]
  },
  {
   "cell_type": "code",
   "execution_count": 8,
   "id": "d2325e90",
   "metadata": {},
   "outputs": [
    {
     "name": "stdout",
     "output_type": "stream",
     "text": [
      "Block is given\n",
      "No block given\n"
     ]
    }
   ],
   "source": [
    "def my_method\n",
    "  if block_given?\n",
    "    yield\n",
    "  else\n",
    "    puts \"No block given\"\n",
    "  end\n",
    "end\n",
    "\n",
    "my_method { puts \"Block is given\" } # This will print \"Block is given\"\n",
    "my_method # This will print \"No block given\"\n"
   ]
  },
  {
   "cell_type": "code",
   "execution_count": 11,
   "id": "f1414b95",
   "metadata": {},
   "outputs": [
    {
     "name": "stdout",
     "output_type": "stream",
     "text": [
      "The sum is: 7\n",
      "The sum is: 11\n"
     ]
    }
   ],
   "source": [
    "# A lambda function is essentially an anonymous function \n",
    "\n",
    "# Creating a lambda\n",
    "my_lambda = ->(x, y) { puts \"The sum is: #{x + y}\" }\n",
    "\n",
    "# Calling the lambda\n",
    "my_lambda.call(3, 4)  # Output: The sum is: 7\n",
    "\n",
    "# You can also use the .() syntax to call a lambda\n",
    "my_lambda.(5, 6)  # Output: The sum is: 11\n"
   ]
  },
  {
   "cell_type": "code",
   "execution_count": 12,
   "id": "5351fec3",
   "metadata": {},
   "outputs": [
    {
     "name": "stdout",
     "output_type": "stream",
     "text": [
      "Hello from the Parent class!\n",
      "And hello from the Child class!\n"
     ]
    }
   ],
   "source": [
    "class Parent\n",
    "  def greet\n",
    "    puts \"Hello from the Parent class!\"\n",
    "  end\n",
    "end\n",
    "\n",
    "class Child < Parent\n",
    "  def greet\n",
    "    super  # Calls the greet method of the Parent class\n",
    "    puts \"And hello from the Child class!\"\n",
    "  end\n",
    "end\n",
    "\n",
    "child = Child.new\n",
    "child.greet\n"
   ]
  },
  {
   "cell_type": "code",
   "execution_count": 13,
   "id": "3f2da5fd",
   "metadata": {},
   "outputs": [
    {
     "name": "stdout",
     "output_type": "stream",
     "text": [
      "Boris is brilliant!\n",
      "Sarah is incredible!\n",
      "30\n",
      "60\n"
     ]
    },
    {
     "data": {
      "text/plain": [
       "60"
      ]
     },
     "execution_count": 13,
     "metadata": {},
     "output_type": "execute_result"
    }
   ],
   "source": [
    "def speak_the_truth(name)\n",
    "  yield(name)\n",
    "end\n",
    "\n",
    "speak_the_truth(\"Boris\") { |name| puts \"#{name} is brilliant!\" }\n",
    "speak_the_truth(\"Sarah\") { |name| puts \"#{name} is incredible!\" }\n",
    "\n",
    "def number_evaluation(num1, num2, num3)\n",
    "  yield(num1, num2, num3) # 30\n",
    "end\n",
    "\n",
    "p number_evaluation(5, 10, 15) { |a, b, c| a + b + c }\n",
    "p number_evaluation(3, 4, 5) { |a, b, c| a * b * c }"
   ]
  },
  {
   "cell_type": "code",
   "execution_count": 14,
   "id": "f4bca937",
   "metadata": {},
   "outputs": [
    {
     "name": "stdout",
     "output_type": "stream",
     "text": [
      "Excellent\n",
      "It's a number\n"
     ]
    }
   ],
   "source": [
    "# Use of === explained IMPLICIT Example 1: Using === with case statements\n",
    "grade = 'A'\n",
    "\n",
    "case grade\n",
    "when 'A'\n",
    "  puts \"Excellent\"\n",
    "when 'B'\n",
    "  puts \"Good\"\n",
    "when 'C'\n",
    "  puts \"Average\"\n",
    "else\n",
    "  puts \"Below Average\"\n",
    "end\n",
    "\n",
    "# Example 2: Using === with class names\n",
    "obj = 42\n",
    "\n",
    "case obj\n",
    "when String\n",
    "  puts \"It's a string\"\n",
    "when Numeric\n",
    "  puts \"It's a number\"\n",
    "else\n",
    "  puts \"It's something else\"\n",
    "end\n",
    "\n",
    "=begin\n",
    "\n",
    " In the examples provided, the === operator is not explicitly used. However, it's *implicitly* used behind the scenes within the when clauses of the case statement.\n",
    "\n",
    "In Ruby, the case statement internally uses the === operator to test each when clause. \n",
    "So, when you write case value when pattern, Ruby internally translates it to pattern === value. \n",
    "This means that the === operator is effectively being used to perform pattern matching.\n",
    "\n",
    "\n",
    "=end \n"
   ]
  },
  {
   "cell_type": "code",
   "execution_count": 15,
   "id": "664e071c",
   "metadata": {},
   "outputs": [
    {
     "name": "stdout",
     "output_type": "stream",
     "text": [
      "true\n",
      "false\n",
      "Value is within the range\n"
     ]
    }
   ],
   "source": [
    "# Custom class with a custom === method  EXPLICIT\n",
    "class MyRange\n",
    "  def self.===(other)\n",
    "    other.is_a?(Numeric) && other >= 1 && other <= 10\n",
    "  end\n",
    "end\n",
    "\n",
    "# Using === explicitly\n",
    "puts MyRange === 5   # Output: true\n",
    "puts MyRange === 15  # Output: false\n",
    "\n",
    "# Using === in a case statement\n",
    "value = 7\n",
    "case value\n",
    "when MyRange\n",
    "  puts \"Value is within the range\"\n",
    "else\n",
    "  puts \"Value is outside the range\"\n",
    "end\n"
   ]
  },
  {
   "cell_type": "code",
   "execution_count": 2,
   "id": "28b19edf",
   "metadata": {},
   "outputs": [
    {
     "name": "stdout",
     "output_type": "stream",
     "text": [
      "The square of 10 is 100\n",
      "The square of 20 is 400\n",
      "The square of 30 is 900\n",
      "\n",
      "The square of 10 is 100\n",
      "The square of 20 is 400\n",
      "The square of 30 is 900\n",
      "The length of Boris is 5\n",
      "The length of Arnold is 6\n",
      "The length of Melissa is 7\n"
     ]
    }
   ],
   "source": [
    "[10, 20, 30].each { |number| puts \"The square of #{number} is #{number * number}\"}\n",
    "puts\n",
    "\n",
    "def custom_each(elements)\n",
    "  i = 0\n",
    "\n",
    "  while i < elements.length\n",
    "    yield(elements[i])\n",
    "    i += 1\n",
    "  end\n",
    "end\n",
    "\n",
    "custom_each([10, 20, 30]) { |number| puts \"The square of #{number} is #{number * number}\"}\n",
    "\n",
    "custom_each([\"Boris\", \"Arnold\", \"Melissa\"]) do |name|\n",
    "  puts \"The length of #{name} is #{name.length}\"\n",
    "end"
   ]
  },
  {
   "cell_type": "code",
   "execution_count": 3,
   "id": "5b2bbee6",
   "metadata": {},
   "outputs": [
    {
     "name": "stdout",
     "output_type": "stream",
     "text": [
      "3\n",
      "6\n",
      "9\n",
      "5\n",
      "7\n"
     ]
    }
   ],
   "source": [
    "def custom_map(array)\n",
    "  result = []\n",
    "  array.each do |element|\n",
    "    result << yield(element)\n",
    "  end\n",
    "  result\n",
    "end\n",
    "\n",
    "# Test cases\n",
    "puts custom_map([1, 2, 3]) { |number| number * 3 }            # Output: [3, 6, 9]\n",
    "puts custom_map([\"Hello\", \"Goodbye\"]) { |text| text.length }  # Output: [5, 7]\n",
    "puts custom_map([]) { |text| text.length }                    # Output: []\n"
   ]
  },
  {
   "cell_type": "code",
   "execution_count": 4,
   "id": "335e7246",
   "metadata": {},
   "outputs": [
    {
     "name": "stdout",
     "output_type": "stream",
     "text": [
      "[1, 8, 27, 64, 125]\n",
      "[216, 343, 512, 729, 1000]\n",
      "[1331, 1728, 2197, 2744, 3375]\n",
      "\n",
      "[1, 8, 27, 64, 125]\n",
      "[216, 343, 512, 729, 1000]\n",
      "[1331, 1728, 2197, 2744, 3375]\n"
     ]
    },
    {
     "data": {
      "text/plain": [
       "[1331, 1728, 2197, 2744, 3375]"
      ]
     },
     "execution_count": 4,
     "metadata": {},
     "output_type": "execute_result"
    }
   ],
   "source": [
    "# Proc - an object representation of a block\n",
    "# procedure\n",
    "\n",
    "to_cubes = Proc.new { |number| number ** 3 }\n",
    "# to_cubes = Proc.new do |number| \n",
    "#   number ** 3\n",
    "# end\n",
    "# to_cubes = proc { |number| number ** 3 }\n",
    "# to_cubes = proc do |number| \n",
    "#   number ** 3\n",
    "# end\n",
    "\n",
    "a = [1, 2, 3, 4, 5]\n",
    "b = [6, 7, 8, 9, 10]\n",
    "c = [11, 12, 13, 14, 15]\n",
    "\n",
    "p a.map { |number| number ** 3 }\n",
    "p b.map { |number| number ** 3 }\n",
    "p c.map { |number| number ** 3 }\n",
    "\n",
    "puts\n",
    "\n",
    "p a.map(&to_cubes)\n",
    "p b.map(&to_cubes)\n",
    "p c.map(&to_cubes)"
   ]
  },
  {
   "cell_type": "code",
   "execution_count": 5,
   "id": "c15224a8",
   "metadata": {},
   "outputs": [
    {
     "name": "stdout",
     "output_type": "stream",
     "text": [
      "[1, 8, 27, 64, 125]\n",
      "[216, 343, 512, 729, 1000]\n",
      "[1331, 1728, 2197, 2744, 3375]\n",
      "\n",
      "[1, 8, 27, 64, 125]\n",
      "[216, 343, 512, 729, 1000]\n",
      "[1331, 1728, 2197, 2744, 3375]\n"
     ]
    },
    {
     "data": {
      "text/plain": [
       "[1331, 1728, 2197, 2744, 3375]"
      ]
     },
     "execution_count": 5,
     "metadata": {},
     "output_type": "execute_result"
    }
   ],
   "source": [
    "# Proc - an object representation of a block\n",
    "# procedure\n",
    "\n",
    "to_cubes = Proc.new { |number| number ** 3 }\n",
    "# to_cubes = Proc.new do |number| \n",
    "#   number ** 3\n",
    "# end\n",
    "# to_cubes = proc { |number| number ** 3 }\n",
    "# to_cubes = proc do |number| \n",
    "#   number ** 3\n",
    "# end\n",
    "\n",
    "a = [1, 2, 3, 4, 5]\n",
    "b = [6, 7, 8, 9, 10]\n",
    "c = [11, 12, 13, 14, 15]\n",
    "\n",
    "p a.map { |number| number ** 3 }\n",
    "p b.map { |number| number ** 3 }\n",
    "p c.map { |number| number ** 3 }\n",
    "\n",
    "puts\n",
    "\n",
    "p a.map(&to_cubes)\n",
    "p b.map(&to_cubes)\n",
    "p c.map(&to_cubes)"
   ]
  },
  {
   "cell_type": "code",
   "execution_count": 6,
   "id": "6d149699",
   "metadata": {},
   "outputs": [
    {
     "name": "stdout",
     "output_type": "stream",
     "text": [
      "Square of 5 is: 25\n",
      "Square of 6 is: 36\n"
     ]
    }
   ],
   "source": [
    "# Define a proc that squares a number\n",
    "square_proc = Proc.new { |x| x ** 2 }\n",
    "\n",
    "# Use the proc to square a number\n",
    "result = square_proc.call(5)\n",
    "puts \"Square of 5 is: #{result}\"  # Output: Square of 5 is: 25\n",
    "\n",
    "# Define a method that takes a proc as an argument\n",
    "def perform_operation(x, operation)\n",
    "  operation.call(x)\n",
    "end\n",
    "\n",
    "# Use the method with the square_proc\n",
    "result = perform_operation(6, square_proc)\n",
    "puts \"Square of 6 is: #{result}\"  # Output: Square of 6 is: 36\n"
   ]
  },
  {
   "cell_type": "code",
   "execution_count": 8,
   "id": "81b6acf1",
   "metadata": {},
   "outputs": [
    {
     "name": "stdout",
     "output_type": "stream",
     "text": [
      "[8.4, 16.8, 25.2, 33.6, 42.0]\n",
      "[822.8, 1645.6, 2468.4, 3291.2, 4114.0]\n",
      "[175.5, 351.0, 526.5, 702.0, 877.5]\n",
      "[58.8, 67.2, 75.6]\n",
      "\n",
      "[83]\n",
      "[10, 60, 30, 43, 25]\n"
     ]
    },
    {
     "data": {
      "text/plain": [
       "[10, 60, 30, 43, 25]"
      ]
     },
     "execution_count": 8,
     "metadata": {},
     "output_type": "execute_result"
    }
   ],
   "source": [
    "to_euros = Proc.new { |currency| currency * 0.84 }\n",
    "to_rupees = Proc.new { |currency| currency * 82.28 }\n",
    "to_pesos = Proc.new { |currency| currency * 17.55 }\n",
    "\n",
    "us_dollars = [10, 20, 30, 40, 50]\n",
    "more_us_dollars = [70, 80, 90]\n",
    "p us_dollars.map(&to_euros)\n",
    "p us_dollars.map(&to_rupees)\n",
    "p us_dollars.map(&to_pesos)\n",
    "p more_us_dollars.map(&to_euros)\n",
    "\n",
    "puts\n",
    "\n",
    "is_senior = Proc.new { |age| age > 60 }\n",
    "\n",
    "ages = [10, 60, 83, 30, 43, 25]\n",
    "p ages.select(&is_senior)\n",
    "p ages.reject(&is_senior)"
   ]
  },
  {
   "cell_type": "code",
   "execution_count": 10,
   "id": "9c4f9628",
   "metadata": {},
   "outputs": [
    {
     "name": "stdout",
     "output_type": "stream",
     "text": [
      "Let me tell you about Boris\n",
      "Boris is a jolly good fellow\n",
      "Let me tell you about Brock\n",
      "Brock is a dolt!\n",
      "Let me tell you about Johnny\n",
      "Johnny is irrelevant\n",
      "\n",
      "Let me tell you about Dan\n",
      "Dan is someone special!\n",
      "Let me tell you about Bob\n",
      "Bob is a jolly good fellow\n"
     ]
    }
   ],
   "source": [
    "def talk_about(name, &my_proc)\n",
    "  puts \"Let me tell you about #{name}\"\n",
    "  my_proc.call(name) # use for proc \n",
    "end\n",
    "\n",
    "def talk_about_2(name)\n",
    "  puts \"Let me tell you about #{name}\"\n",
    "  yield(name)   # use for block\n",
    "end\n",
    "\n",
    "good_thing = Proc.new { |name| puts \"#{name} is a jolly good fellow\" }\n",
    "bad_thing = Proc.new { |name| puts \"#{name} is a dolt!\" }\n",
    "\n",
    "talk_about(\"Boris\", &good_thing)\n",
    "talk_about(\"Brock\", &bad_thing)\n",
    "talk_about(\"Johnny\") { |name| puts \"#{name} is irrelevant\" }\n",
    "\n",
    "puts\n",
    "\n",
    "talk_about_2(\"Dan\") { |name| puts \"#{name} is someone special!\" }\n",
    "talk_about_2(\"Bob\", &good_thing)"
   ]
  },
  {
   "cell_type": "code",
   "execution_count": 12,
   "id": "0fe51a39",
   "metadata": {},
   "outputs": [
    {
     "name": "stdout",
     "output_type": "stream",
     "text": [
      "Hello, Alice!\n",
      "Nice to meet you!\n",
      "Hello, Bob!\n",
      "Nice to meet you!\n"
     ]
    }
   ],
   "source": [
    "# Example of a program using a block and transforming into proc\n",
    "def greet(name)\n",
    "  puts \"Hello, #{name}!\"\n",
    "  yield if block_given?  # Invokes the block if one is provided\n",
    "end\n",
    "\n",
    "# Using the method with a block\n",
    "greet(\"Alice\") do\n",
    "  puts \"Nice to meet you!\"\n",
    "end\n",
    "\n",
    "# Transforming the block into a proc for ease of use\n",
    "nice_to_meet_you = Proc.new do\n",
    "  puts \"Nice to meet you!\"\n",
    "end\n",
    "\n",
    "# Using the proc with the method\n",
    "greet(\"Bob\", &nice_to_meet_you)"
   ]
  },
  {
   "cell_type": "code",
   "execution_count": 18,
   "id": "477a8cad",
   "metadata": {},
   "outputs": [
    {
     "name": "stdout",
     "output_type": "stream",
     "text": [
      "[1, 4, 9]\n",
      "[1, 4, 9]\n",
      "[1, 4, 9]\n",
      "[1, 4, 9]\n"
     ]
    },
    {
     "data": {
      "text/plain": [
       "[1, 4, 9]"
      ]
     },
     "execution_count": 18,
     "metadata": {},
     "output_type": "execute_result"
    }
   ],
   "source": [
    "# lambdas - a nameless method almost identical to procs\n",
    "# both made from proc class \n",
    "squares_proc = Proc.new { |number| number ** 2 }\n",
    "squares_lambda = lambda { |number| number ** 2 }\n",
    "squares_lambda_alternative = ->(number) { number ** 2 }\n",
    "\n",
    "p [1, 2, 3].map(&squares_proc)\n",
    "p [1, 2, 3].map(&squares_lambda)\n",
    "p [1, 2, 3].map(&squares_lambda_alternative)\n",
    "p [1, 2, 3].map { |number| number ** 2 }"
   ]
  },
  {
   "cell_type": "code",
   "execution_count": 19,
   "id": "a95a5ede",
   "metadata": {
    "scrolled": true
   },
   "outputs": [
    {
     "name": "stdout",
     "output_type": "stream",
     "text": [
      "Your name is Boris and you are 25 years old.\n",
      "Your name is Boris and you are 25 years old.\n",
      "Your name is Boris and you are  years old.\n",
      "\n",
      "Starting execution...\n",
      "LAMBDA RETURN\n",
      "Ending execution...\n",
      "\n",
      "Starting execution...\n"
     ]
    },
    {
     "ename": "LocalJumpError",
     "evalue": "unexpected return",
     "output_type": "error",
     "traceback": [
      "\u001b[31mLocalJumpError\u001b[0m: unexpected return",
      "(irb):26:in `block in <top (required)>'",
      "(irb):31:in `execute'",
      "(irb):39:in `<top (required)>'"
     ]
    }
   ],
   "source": [
    "# Lambdas vs. Procs\n",
    "# 1) A lambda cares about the number of arguments it receives.\n",
    "#    A lambda will throw an error if passed the wrong number of arguments.\n",
    "#    A Proc will ignore extra arguments and assign nil to missing arguments.\n",
    "# 2) When a lambda returns, it passes control back to the calling method\n",
    "#    When a Proc returns, it triggers a return from the calling method\n",
    "#    (similar behavior to a block)\n",
    "\n",
    "my_proc = Proc.new { |name, age| puts \"Your name is #{name} and you are #{age} years old.\" }\n",
    "my_lambda = lambda { |name, age| puts \"Your name is #{name} and you are #{age} years old.\" }\n",
    "\n",
    "def do_stuff(&code)\n",
    "  code.call(\"Boris\", 25)\n",
    "end\n",
    "\n",
    "def do_more_stuff(&code)\n",
    "  code.call(\"Boris\")\n",
    "end\n",
    "\n",
    "do_stuff(&my_proc)\n",
    "do_stuff(&my_lambda)\n",
    "do_more_stuff(&my_proc)\n",
    "# do_more_stuff(&my_lambda)\n",
    "\n",
    "puts\n",
    "\n",
    "my_proc = Proc.new { return \"PROC RETURN\" }\n",
    "my_lambda = lambda { return \"LAMBDA RETURN\" }\n",
    "\n",
    "def execute(&logic)\n",
    "  puts \"Starting execution...\"\n",
    "  puts logic.call\n",
    "  puts \"Ending execution...\"\n",
    "end\n",
    "\n",
    "execute(&my_lambda)\n",
    "\n",
    "puts\n",
    "\n",
    "execute(&my_proc)\n",
    "\n"
   ]
  },
  {
   "cell_type": "code",
   "execution_count": 5,
   "id": "02ba6d10",
   "metadata": {},
   "outputs": [
    {
     "name": "stdout",
     "output_type": "stream",
     "text": [
      "No block has been provided.\n",
      "A block has been provided.\n"
     ]
    }
   ],
   "source": [
    "# In Ruby, you can check if a block has been passed to a method by using the block_given? method. \n",
    "# This method returns true if a block has been provided as an argument to the method, and false otherwise.\n",
    "#\n",
    "#\n",
    "#\n",
    "#\n",
    "\n",
    "def my_method\n",
    "  if block_given?\n",
    "    puts \"A block has been provided.\"\n",
    "  else\n",
    "    puts \"No block has been provided.\"\n",
    "  end\n",
    "end\n",
    "\n",
    "my_method # Output: No block has been provided.\n",
    "my_method { puts \"Inside the block.\" } # Output: A block has been provided.\n"
   ]
  },
  {
   "cell_type": "code",
   "execution_count": null,
   "id": "a6fde548",
   "metadata": {},
   "outputs": [],
   "source": []
  },
  {
   "cell_type": "code",
   "execution_count": null,
   "id": "9bb008f7",
   "metadata": {},
   "outputs": [],
   "source": []
  }
 ],
 "metadata": {
  "kernelspec": {
   "display_name": "Ruby 3.2.2",
   "language": "ruby",
   "name": "ruby"
  },
  "language_info": {
   "file_extension": ".rb",
   "mimetype": "application/x-ruby",
   "name": "ruby",
   "version": "3.2.2"
  }
 },
 "nbformat": 4,
 "nbformat_minor": 5
}
