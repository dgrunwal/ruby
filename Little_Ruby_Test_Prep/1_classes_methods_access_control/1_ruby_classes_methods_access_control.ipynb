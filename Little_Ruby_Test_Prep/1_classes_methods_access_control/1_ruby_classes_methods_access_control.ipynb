{
 "cells": [
  {
   "cell_type": "code",
   "execution_count": null,
   "id": "2a5b7d05",
   "metadata": {},
   "outputs": [],
   "source": [
    "# The following Ruby code was tested in Ruby 3.2.2  Some methods mentioned don't work in Jupyter notebooks, but are fine in the \n",
    "# Ruby Interactive Ruby (IRB).\n",
    "\n",
    "#  Following workbook shows classes, methods and simple variables with formatting possibilities, constants, singletons and an \n",
    "#  example of public, private and protected access control"
   ]
  },
  {
   "cell_type": "code",
   "execution_count": 94,
   "id": "241d1573",
   "metadata": {},
   "outputs": [
    {
     "name": "stdout",
     "output_type": "stream",
     "text": [
      "Diameter: 10\n",
      "Circumference: 31.41592653589793\n"
     ]
    }
   ],
   "source": [
    "# Fun with virtual attributes and classes.  Virtual attributes provide a convenient way to encapsulate behavior related to data \n",
    "# without actually storing that data in the object.   It's a convenient way to encapsulate. Virtual attributes can provide dynamic behavior. For example, you might have a virtual attribute \n",
    "# that determines the availability of a product based on its stock quantity. \n",
    "\n",
    "# NOTE: In Ruby, the attr_accessor is used to create getter and setter methods for instance variables. If you want to directly get or set the radius instance variable, then you would use attr_accessor :radius. \n",
    "# However, in the provided code, the radius is accessed through the getter and setter methods implicitly created by Ruby. \n",
    "# You don't need to manually create these methods unless you want to customize their behavior.\n",
    "# Regarding the diameter and circumference methods, they don't need attr_accessor declarations because these methods are defined to calculate their values based on the radius and diameter methods, respectively.\n",
    "# We don't need direct access to the radius instance variable from outside the class. \n",
    "\n",
    "class Circle\n",
    "#  attr_accessor :radius\n",
    "\n",
    "# Virtual attribute for radius calculation\n",
    "  def diameter\n",
    "    radius * 2\n",
    "  end\n",
    "  \n",
    "#  attr_accessor :circumference\n",
    "  # Virtual attribute for circumference calculation\n",
    "  def circumference\n",
    "    diameter * Math::PI\n",
    "  end\n",
    "end\n",
    "\n",
    "# Usage\n",
    "circle = Circle.new\n",
    "circle.radius = 5\n",
    "\n",
    "puts \"Diameter: #{circle.diameter}\" # Output: Diameter: 10\n",
    "puts \"Circumference: #{circle.circumference}\" # Output: Circumference: 31.41592653589793\n"
   ]
  },
  {
   "cell_type": "code",
   "execution_count": 96,
   "id": "0f21142e",
   "metadata": {},
   "outputs": [
    {
     "name": "stdout",
     "output_type": "stream",
     "text": [
      "Name: Alice\n",
      "Age: 30\n",
      "Updated Name: Bob\n",
      "Updated Age: 35\n"
     ]
    }
   ],
   "source": [
    "# Here is where the attr_ (getter and setter methods) are required.  In this example, attr_accessor is used to create getter \n",
    "# and setter methods for :name and :age. This allows us to access and modify these instance variables from outside the class. \n",
    "# If we had used attr_reader, we would have only created getter methods, and if we had used attr_writer, we would have only \n",
    "# created setter methods. Using these attr_ methods simplifies the code and provides a clear and concise way to manage access \n",
    "# to instance variables.\n",
    "\n",
    "\n",
    "class Person\n",
    "  attr_accessor :name, :age  # Provides both getter and setter methods for name and age\n",
    "\n",
    "  def initialize(name, age)\n",
    "    @name = name\n",
    "    @age = age\n",
    "  end\n",
    "end\n",
    "\n",
    "person = Person.new(\"Alice\", 30)\n",
    "\n",
    "# Using attr_accessor to get and set name and age\n",
    "puts \"Name: #{person.name}\"  # Output: Name: Alice\n",
    "puts \"Age: #{person.age}\"    # Output: Age: 30\n",
    "\n",
    "person.name = \"Bob\"\n",
    "person.age = 35\n",
    "\n",
    "puts \"Updated Name: #{person.name}\"  # Output: Updated Name: Bob\n",
    "puts \"Updated Age: #{person.age}\"    # Output: Updated Age: 35\n"
   ]
  },
  {
   "cell_type": "code",
   "execution_count": 93,
   "id": "9a8de399",
   "metadata": {},
   "outputs": [
    {
     "data": {
      "text/plain": [
       "3.14159"
      ]
     },
     "execution_count": 93,
     "metadata": {},
     "output_type": "execute_result"
    }
   ],
   "source": [
    "# Example of variables in Ruby.  \n",
    "\n",
    "name = \"Alice\"\n",
    "age = 30\n",
    "is_adult = true\n",
    "pi_value = 3.14159\n"
   ]
  },
  {
   "cell_type": "code",
   "execution_count": 9,
   "id": "252049f1",
   "metadata": {},
   "outputs": [
    {
     "data": {
      "text/plain": [
       "\"Alice\""
      ]
     },
     "execution_count": 9,
     "metadata": {},
     "output_type": "execute_result"
    }
   ],
   "source": [
    "name"
   ]
  },
  {
   "cell_type": "code",
   "execution_count": 6,
   "id": "41659aa5",
   "metadata": {},
   "outputs": [
    {
     "ename": "SyntaxError",
     "evalue": "(irb): syntax error, unexpected constant, expecting end-of-input\n3Y = 10\n ^\n",
     "output_type": "error",
     "traceback": [
      "\u001b[31mSyntaxError\u001b[0m: (irb): syntax error, unexpected constant, expecting end-of-input\n3Y = 10\n ^\n"
     ]
    }
   ],
   "source": [
    "\n",
    "# Ruby variable names must begin with a lowercase letter or underscore, and may contain only letters, \n",
    "# numbers, underscore, and non-ASCII characters.\n",
    "\n",
    "3Y = 10\n",
    "\n",
    "\n",
    "# SyntaxError: (irb): syntax error, unexpected constant, expecting end-of-input\n",
    "# 3Y = 10"
   ]
  },
  {
   "cell_type": "code",
   "execution_count": 7,
   "id": "2326418b",
   "metadata": {},
   "outputs": [
    {
     "data": {
      "text/plain": [
       "10"
      ]
     },
     "execution_count": 7,
     "metadata": {},
     "output_type": "execute_result"
    }
   ],
   "source": [
    "_3Y = 10"
   ]
  },
  {
   "cell_type": "code",
   "execution_count": null,
   "id": "9fdb8f5f",
   "metadata": {},
   "outputs": [],
   "source": [
    "#Single quoted string literals are simple, and are meant to represent raw sequences of characters.\n",
    "#Double quoted string literals are more complex, but offer extra features such as string interpolation (#{...}), where entire Ruby expressions can be evaluated and inserted into a string.\n",
    "#As a shortcut, #$ is usable for inserting the contents of a global variable into a string. (Similarly, #@ can be used with instance variables). This shortcut variant is less commonly used than the more general #{...} form."
   ]
  },
  {
   "cell_type": "code",
   "execution_count": 5,
   "id": "c975338b",
   "metadata": {},
   "outputs": [
    {
     "name": "stdout",
     "output_type": "stream",
     "text": [
      "This is an example of a global variable Ruby rocks.\n"
     ]
    }
   ],
   "source": [
    "# Define a global variable\n",
    "$global_var = \"Ruby rocks\"\n",
    "\n",
    "# Use string interpolation to include the global variable within a string\n",
    "puts \"This is an example of a global variable #$global_var.\"\n"
   ]
  },
  {
   "cell_type": "code",
   "execution_count": 4,
   "id": "ab53650e",
   "metadata": {},
   "outputs": [
    {
     "name": "stdout",
     "output_type": "stream",
     "text": [
      "My name is Instance Variable.\n"
     ]
    }
   ],
   "source": [
    "\n",
    "#As a shortcut, #$ is usable for inserting the contents of a global variable into a string. \n",
    "#(Similarly, #@ can be used with instance variables). This shortcut variant is less commonly used than the more general #{...} form.\n",
    "\n",
    "class MyClass\n",
    "  def initialize(name)\n",
    "    # Initialize an instance variable\n",
    "    @name = name\n",
    "  end\n",
    "\n",
    "  def display_name\n",
    "    # Use string interpolation to include the instance variable within a string\n",
    "    puts \"My name is #@name.\"\n",
    "  end\n",
    "end\n",
    "\n",
    "# Create an instance of MyClass\n",
    "obj = MyClass.new(\"Instance Variable\")\n",
    "\n",
    "# Call the display_name method to interpolate the instance variable within a string\n",
    "obj.display_name\n"
   ]
  },
  {
   "cell_type": "code",
   "execution_count": 29,
   "id": "3834d504",
   "metadata": {},
   "outputs": [
    {
     "name": "stdout",
     "output_type": "stream",
     "text": [
      "21\n"
     ]
    }
   ],
   "source": [
    "#  A leading zero in an integer literal indicates 'octal-mode' in Ruby, i.e. a number in base 8\n",
    "#  format. However, all print functions in Ruby will output numeric values in base 10 by default.\n",
    "\n",
    "num = 025\n",
    "puts num"
   ]
  },
  {
   "cell_type": "code",
   "execution_count": 30,
   "id": "55cf88fb",
   "metadata": {},
   "outputs": [],
   "source": [
    "# Should you need to output numbers in something other than base 10, there are many\n",
    "# different functions in Ruby for formatted numeric output (e.g. String #% ,\n",
    "# Numeric #to_s(base) , Kernel #sprintf )"
   ]
  },
  {
   "cell_type": "code",
   "execution_count": 36,
   "id": "343d1c23",
   "metadata": {},
   "outputs": [
    {
     "name": "stdout",
     "output_type": "stream",
     "text": [
      "Hello, my name is Alice and I am 30 years old.\n"
     ]
    }
   ],
   "source": [
    "#  String#%\n",
    "#  %s is a placeholder for a string.\n",
    "#  %d is a placeholder for an integer.\n",
    "name = \"Alice\"\n",
    "age = 30\n",
    "formatted_string = \"Hello, my name is %s and I am %d years old.\" % [name, age]\n",
    "puts formatted_string\n",
    "# Output: Hello, my name is Alice and I am 30 years old.\n"
   ]
  },
  {
   "cell_type": "code",
   "execution_count": 34,
   "id": "133df6eb",
   "metadata": {},
   "outputs": [
    {
     "name": "stdout",
     "output_type": "stream",
     "text": [
      "Binary representation: 101010\n",
      "Hexadecimal representation: 2a\n"
     ]
    }
   ],
   "source": [
    "#  Numeric to_s(base)\n",
    "\n",
    "\n",
    "number = 42\n",
    "binary_number = number.to_s(2)\n",
    "hexadecimal_number = number.to_s(16)\n",
    "puts \"Binary representation: #{binary_number}\"\n",
    "puts \"Hexadecimal representation: #{hexadecimal_number}\"\n",
    "# Output: Binary representation: 101010\n",
    "#         Hexadecimal representation: 2a\n"
   ]
  },
  {
   "cell_type": "code",
   "execution_count": 37,
   "id": "dbe53243",
   "metadata": {},
   "outputs": [
    {
     "name": "stdout",
     "output_type": "stream",
     "text": [
      "Name: Bob       \n",
      "Height: 1.75 meters\n",
      "Weight: 68.5 kg\n"
     ]
    }
   ],
   "source": [
    "# Kernel#sprintf\n",
    "# %.2f specifies a floating-point number with 2 decimal places.\n",
    "\n",
    "name = \"Bob\"\n",
    "height = 1.75\n",
    "weight = 68.5\n",
    "formatted_string = sprintf(\"Name: %-10s\\nHeight: %.2f meters\\nWeight: %.1f kg\", name, height, weight)\n",
    "puts formatted_string\n",
    "# Output:\n",
    "# Name: Bob       \n",
    "# Height: 1.75 meters\n",
    "# Weight: 68.5 kg\n",
    "\n",
    "\n"
   ]
  },
  {
   "cell_type": "code",
   "execution_count": 38,
   "id": "7173c23d",
   "metadata": {},
   "outputs": [
    {
     "name": "stdout",
     "output_type": "stream",
     "text": [
      "Total Cars: 3\n"
     ]
    }
   ],
   "source": [
    "# Class variables are shared objects among classes.  Unlike global and instance variables, class variables\n",
    "# must be initialized before use.\n",
    "\n",
    "class Car\n",
    "  @@total_cars = 0 # This is a class variable\n",
    "\n",
    "  def initialize\n",
    "    @@total_cars += 1 # Increment the class variable when a new car object is created\n",
    "  end\n",
    "\n",
    "  def self.total_cars\n",
    "    @@total_cars # Class method to access the class variable\n",
    "  end\n",
    "end\n",
    "\n",
    "# Creating instances of the Car class\n",
    "car1 = Car.new\n",
    "car2 = Car.new\n",
    "car3 = Car.new\n",
    "\n",
    "puts \"Total Cars: #{Car.total_cars}\"\n",
    "# Output: Total Cars: 3\n"
   ]
  },
  {
   "cell_type": "code",
   "execution_count": 26,
   "id": "7ce5362f",
   "metadata": {},
   "outputs": [
    {
     "name": "stdout",
     "output_type": "stream",
     "text": [
      "3\n",
      "3\n",
      "3\n",
      "3\n"
     ]
    }
   ],
   "source": [
    "#  Simple count method in Ruby\n",
    "\n",
    "strings = %w(a bb ccc ddd)\n",
    "puts strings.count { |str| str.size > 1 }\n",
    "\n",
    "#  3\n",
    "\n",
    "numbers = [1,2,3,4,5,6]\n",
    "puts numbers.count { |num| num.even? }\n",
    "\n",
    "# 3\n",
    "\n",
    "numbers = [1,2,3,4,5,6]\n",
    "puts numbers.count { |num| num.odd? }  # 3\n",
    "\n",
    "#  a short cut\n",
    "\n",
    "puts numbers.count(&:even?)  # 3\n"
   ]
  },
  {
   "cell_type": "code",
   "execution_count": 27,
   "id": "df251c84",
   "metadata": {},
   "outputs": [
    {
     "data": {
      "text/plain": [
       "[\"1\", \"2\", \"3\"]"
      ]
     },
     "execution_count": 27,
     "metadata": {},
     "output_type": "execute_result"
    }
   ],
   "source": [
    "# Without &: syntax\n",
    "[1, 2, 3].map { |x| x.to_s }  # Converts each element to a string\n",
    "\n",
    "# With &: syntax\n",
    "[1, 2, 3].map(&:to_s)  # Performs the same operation as above but using &: syntax\n",
    "\n",
    "#  [\"1\", \"2\", \"3\"]\n"
   ]
  },
  {
   "cell_type": "code",
   "execution_count": null,
   "id": "00a732bb",
   "metadata": {},
   "outputs": [],
   "source": [
    "# simple methods\n",
    "\n",
    "a = [ 2, 4, 6, 8, 10 ]\n",
    "a.shift\n",
    "a.pop\n",
    "a.push(12)\n",
    "p a   # [4, 6, 8, 12]\n",
    "\n",
    "\n",
    "\n",
    "=begin\n",
    "shift removes the first element of an array and returns its value.\n",
    "pop removes the last element of an array and returns its value\n",
    "push adds the specified element to the end of an array.\n",
    "=end"
   ]
  },
  {
   "cell_type": "code",
   "execution_count": 21,
   "id": "b7bdee09",
   "metadata": {},
   "outputs": [
    {
     "name": "stdout",
     "output_type": "stream",
     "text": [
      "[2, 4]\n"
     ]
    },
    {
     "data": {
      "text/plain": [
       "[2, 4]"
      ]
     },
     "execution_count": 21,
     "metadata": {},
     "output_type": "execute_result"
    }
   ],
   "source": [
    "ary = [ 1, 2, 3, 4, 5 ]\n",
    "p ary.filter { |i| i.even? }"
   ]
  },
  {
   "cell_type": "code",
   "execution_count": 22,
   "id": "0f518e6c",
   "metadata": {},
   "outputs": [
    {
     "name": "stdout",
     "output_type": "stream",
     "text": [
      "[1, 3, 5]\n"
     ]
    },
    {
     "data": {
      "text/plain": [
       "[1, 3, 5]"
      ]
     },
     "execution_count": 22,
     "metadata": {},
     "output_type": "execute_result"
    }
   ],
   "source": [
    "ary = [ 1, 2, 3, 4, 5 ]\n",
    "p ary.select { |i| i.odd? }"
   ]
  },
  {
   "cell_type": "code",
   "execution_count": 39,
   "id": "3a558a7c",
   "metadata": {},
   "outputs": [],
   "source": [
    "# Unlike instance methods, class methods are defined by placing the class name and a persiod in front of\n",
    "# the method name."
   ]
  },
  {
   "cell_type": "code",
   "execution_count": 41,
   "id": "3c410d73",
   "metadata": {},
   "outputs": [
    {
     "name": "stdout",
     "output_type": "stream",
     "text": [
      "Content written to C:\\test\\example.txt\n"
     ]
    }
   ],
   "source": [
    "class FileManager\n",
    "  def self.write_to_file(file_path, content)\n",
    "    File.open(file_path, 'w') do |file|\n",
    "      file.puts(content)\n",
    "    end\n",
    "    puts \"Content written to #{file_path}\"\n",
    "  rescue StandardError => e\n",
    "    puts \"Error: #{e.message}\"\n",
    "  end\n",
    "end\n",
    "\n",
    "# Example usage\n",
    "file_path = \"C:\\\\test\\\\example.txt\"\n",
    "content = 'Hello, world!'\n",
    "FileManager.write_to_file(file_path, content)\n"
   ]
  },
  {
   "cell_type": "code",
   "execution_count": 14,
   "id": "dab5fd51",
   "metadata": {},
   "outputs": [
    {
     "name": "stderr",
     "output_type": "stream",
     "text": [
      "(irb):4: warning: already initialized constant Object::MAXIMUM_TIME\n",
      "(irb):4: warning: previous definition of MAXIMUM_TIME was here\n"
     ]
    },
    {
     "data": {
      "text/plain": [
       "301"
      ]
     },
     "execution_count": 14,
     "metadata": {},
     "output_type": "execute_result"
    }
   ],
   "source": [
    "# Constants are typically written in capitals and initialized in class body.  Constants are used to enhance code \n",
    "# readability and maintainability by giving meaningful names to values that have significance in the context of the program. \n",
    "# They provide a way to centralize and manage such values in one place, making it easier to update them if needed.\n",
    "\n",
    "\n",
    "MAXIMUM_TIME = 5*60\n",
    "#puts (MAXIMUM_TIME)\n"
   ]
  },
  {
   "cell_type": "code",
   "execution_count": 12,
   "id": "42b05d4d",
   "metadata": {},
   "outputs": [
    {
     "name": "stderr",
     "output_type": "stream",
     "text": [
      "(irb):1: warning: already initialized constant Object::MSG\n"
     ]
    },
    {
     "name": "stdout",
     "output_type": "stream",
     "text": [
      "47\n"
     ]
    },
    {
     "data": {
      "text/plain": [
       "47"
      ]
     },
     "execution_count": 12,
     "metadata": {},
     "output_type": "execute_result"
    }
   ],
   "source": [
    "# The warning indicates that you are attempting to redefine a constant that has already been defined. \n",
    "# In Ruby, constants are expected to have consistent values throughout the program, and redefining them can lead to \n",
    "# unexpected behavior.\n",
    "\n",
    "MSG = 42\n",
    "MSG += 5\n",
    "p MSG"
   ]
  },
  {
   "cell_type": "code",
   "execution_count": 18,
   "id": "09bc154e",
   "metadata": {},
   "outputs": [
    {
     "name": "stdout",
     "output_type": "stream",
     "text": [
      "300\n"
     ]
    }
   ],
   "source": [
    "unless defined?(MAXIMUM_TIME)\n",
    "  MAXIMUM_TIME = 100\n",
    "end\n",
    "\n",
    "puts MAXIMUM_TIME\n",
    "\n",
    "# removes the warning "
   ]
  },
  {
   "cell_type": "code",
   "execution_count": 20,
   "id": "b580a7ee",
   "metadata": {},
   "outputs": [
    {
     "name": "stderr",
     "output_type": "stream",
     "text": [
      "(irb):4: warning: already initialized constant Object::MSG\n",
      "(irb):1: warning: previous definition of MSG was here\n"
     ]
    },
    {
     "name": "stdout",
     "output_type": "stream",
     "text": [
      "\"HELLO\"\n"
     ]
    },
    {
     "data": {
      "text/plain": [
       "\"HELLO\""
      ]
     },
     "execution_count": 20,
     "metadata": {},
     "output_type": "execute_result"
    }
   ],
   "source": [
    "# No warning is shown because the constant is not being redefined; instead the object it references is being modified.\n",
    "# By convention, objects referenced by constants are usually treated as immutable. But there are certain rare cases \n",
    "# where that convention would not apply.\n",
    "\n",
    "MSG = \"hello\"\n",
    "MSG.upcase!\n",
    "p MSG\n",
    "\n",
    "\n",
    "# Tested in irb \n",
    "#irb(main):001> MSG = \"hello\"\n",
    "#irb(main):002> MSG.upcase!\n",
    "#irb(main):003> p MSG\n",
    "#\"HELLO\"\n",
    "#=> \"HELLO\"\n",
    " \n"
   ]
  },
  {
   "cell_type": "code",
   "execution_count": 19,
   "id": "9f12ed11",
   "metadata": {},
   "outputs": [],
   "source": [
    "#  In Ruby, constants are used to store values that should not be modified during the execution of the program.  \n",
    "#  Ruby doesn't have built-in constants like some other languages (e.g., Math.PI in JavaScript). You can define mathematical constants as Ruby constants \n",
    "#  when needed.\n",
    "\n",
    "#Common uses:\n",
    "# 1. Configuration values \n",
    "# 2. Math constants e.g., PI = 3.14159\n",
    "# 3. Error Codes\n",
    "# 4. Enumerations \n",
    "# 5. Testing when constant values are needed"
   ]
  },
  {
   "cell_type": "code",
   "execution_count": 55,
   "id": "96749e4c",
   "metadata": {},
   "outputs": [
    {
     "data": {
      "text/plain": [
       "\"/var/log/app.log\""
      ]
     },
     "execution_count": 55,
     "metadata": {},
     "output_type": "execute_result"
    }
   ],
   "source": [
    "class Paths\n",
    "  CONFIG_FILE = '/etc/app/config.yml'\n",
    "  LOG_FILE = '/var/log/app.log'\n",
    "end\n"
   ]
  },
  {
   "cell_type": "code",
   "execution_count": 65,
   "id": "b55e9a02",
   "metadata": {},
   "outputs": [
    {
     "name": "stderr",
     "output_type": "stream",
     "text": [
      "(irb):4: warning: already initialized constant #<Class:0x0000017771d2bba0>::FileManager::LOG_FILE\n",
      "(irb):4: warning: previous definition of LOG_FILE was here\n"
     ]
    }
   ],
   "source": [
    "# Example of a constant use for a log file to be written if a file is not found.\n",
    "\n",
    "\n",
    "class FileManager\n",
    "  LOG_FILE = \"C:\\\\test\\\\error_log.txt\"\n",
    "  \n",
    "  def self.open_file(file_path)\n",
    "    begin\n",
    "      file_content = File.read(file_path)\n",
    "      # Process the file content here...\n",
    "    rescue Errno::ENOENT\n",
    "      # File not found error, write the error message to the log file\n",
    "      write_error_to_log(\"Error: File not found - #{file_path}\")\n",
    "    end\n",
    "  end\n",
    "\n",
    "  def self.write_error_to_log(error_message)\n",
    "    File.open(LOG_FILE, 'a') do |file|\n",
    "      file.puts(\"#{Time.now}: #{error_message}\")\n",
    "    end\n",
    "  end\n",
    "end\n",
    "\n",
    "# Example usage\n",
    "file_path = \"C:\\\\test\\\\non_existent_file.txt\"\n",
    "FileManager.open_file(file_path)\n",
    "\n",
    "# 2023-10-22 11:51:03 -0700: Error: File not found - non_existent_file.txt\n"
   ]
  },
  {
   "cell_type": "code",
   "execution_count": 69,
   "id": "48c9d8b6",
   "metadata": {},
   "outputs": [
    {
     "name": "stdout",
     "output_type": "stream",
     "text": [
      "2\n",
      "\"Hello\"\n"
     ]
    },
    {
     "data": {
      "text/plain": [
       "\"Hello\""
      ]
     },
     "execution_count": 69,
     "metadata": {},
     "output_type": "execute_result"
    }
   ],
   "source": [
    "# The ternary operator (cond ? expr1 : expr2) is a compact form of if/else which will return expr1 if cond is true, otherwise will return expr2. \n",
    "# It is most suitable for short statements that easily fit on a single line.\n",
    "\n",
    "\n",
    "x = \"Hello\"\n",
    "y = x.empty? ? 1 : 2\n",
    "p y\n",
    "p x"
   ]
  },
  {
   "cell_type": "markdown",
   "id": "63640e49",
   "metadata": {},
   "source": [
    "<div style=\"overflow-wrap: break-word;\">\n",
    "Singletons are primarily used to control access to a single instance of a class and ensure that there's only one object created for that class in a particular Ruby runtime environment.  Singleton's can be used to share resources, simplify configuration management and in certain caching mechanisms.\n",
    "</div>"
   ]
  },
  {
   "cell_type": "code",
   "execution_count": 75,
   "id": "6dae19bb",
   "metadata": {},
   "outputs": [
    {
     "name": "stdout",
     "output_type": "stream",
     "text": [
      "This is a singleton class instance.\n",
      "Is the two instances the same? true\n"
     ]
    }
   ],
   "source": [
    "# An example of a singleton\n",
    "\n",
    "class SingletonClass\n",
    "  # Class variable to store the single instance of the class\n",
    "  @@instance = nil\n",
    "  \n",
    "  # Private constructor to prevent direct instantiation\n",
    "  private_class_method def initialize\n",
    "    # Initialization code here\n",
    "  end\n",
    "  \n",
    "  # Method to get the single instance of the class\n",
    "  def self.instance\n",
    "    @@instance ||= new\n",
    "  end\n",
    "  \n",
    "  # Example method of the singleton class\n",
    "  def print_message\n",
    "    puts \"This is a singleton class instance.\"\n",
    "  end\n",
    "end\n",
    "\n",
    "# Trying to instantiate the singleton class will result in an error\n",
    "# singleton_obj = SingletonClass.new  # This line will raise a private method error\n",
    "\n",
    "# Getting the single instance using the class method\n",
    "singleton_instance = SingletonClass.instance\n",
    "singleton_instance.print_message\n",
    "\n",
    "# Attempting to create another instance will return the existing instance\n",
    "another_instance = SingletonClass.instance\n",
    "puts \"Is the two instances the same? #{singleton_instance == another_instance}\"  # Output: Is the two instances the same? true\n"
   ]
  },
  {
   "cell_type": "code",
   "execution_count": null,
   "id": "81c7a63d",
   "metadata": {},
   "outputs": [],
   "source": [
    "# Methods: Public, Protected and Private  These concepts are important to understand Access Control which is determined \n",
    "# dynamically, not statically"
   ]
  },
  {
   "cell_type": "code",
   "execution_count": 82,
   "id": "acf1b055",
   "metadata": {},
   "outputs": [
    {
     "name": "stdout",
     "output_type": "stream",
     "text": [
      "Argument provided: Hello\n"
     ]
    }
   ],
   "source": [
    "# Example #1 A Public Method  Public methods in Ruby can be accessed from anywhere outside the class. \n",
    "# They are accessible by any object, both inside and outside the class.  This works in Jupyter.\n",
    " \n",
    "class MyClass\n",
    "  def initialize(arg = nil)\n",
    "    @arg = arg\n",
    "  end\n",
    "  \n",
    "  def public_method\n",
    "    puts \"Argument provided: #{@arg}\"\n",
    "  end\n",
    "end\n",
    "\n",
    "obj = MyClass.new(\"Hello\") # This will create an instance without passing an argument\n",
    "obj.public_method\n",
    "\n",
    "\n",
    "\n"
   ]
  },
  {
   "cell_type": "code",
   "execution_count": 73,
   "id": "f9f52d8c",
   "metadata": {},
   "outputs": [
    {
     "ename": "ArgumentError",
     "evalue": "wrong number of arguments (given 0, expected 1)",
     "output_type": "error",
     "traceback": [
      "\u001b[31mArgumentError\u001b[0m: wrong number of arguments (given 0, expected 1)",
      "(irb):5:in `initialize'",
      "(irb):17:in `new'",
      "(irb):17:in `<top (required)>'"
     ]
    }
   ],
   "source": [
    "# Example #2 A Protected Method Protected methods in Ruby can be accessed within the class and its subclasses. \n",
    "# They cannot be accessed from outside the class hierarchy.  This code works in IRB but not in a Jupyter notebook.  The \n",
    "# error shows wrong number of arguments if run in the Jupyter notebook.\n",
    "\n",
    "class MyClass\n",
    "  protected\n",
    "  \n",
    "  def protected_method\n",
    "    puts \"This is a protected method.\"\n",
    "  end\n",
    "end\n",
    "\n",
    "class SubClass < MyClass\n",
    "  def call_protected_method\n",
    "    protected_method\n",
    "  end\n",
    "end\n",
    "\n",
    "obj = SubClass.new\n",
    "obj.call_protected_method\n",
    "\n",
    "#  In Jupyter Notebook, you cannot directly access protected methods from a subclass as you can in regular Ruby scripts or \n",
    "#  IRB sessions. In a Jupyter Notebook, each cell operates in its own context, so protected methods from one cell cannot be accessed from another cell.\n"
   ]
  },
  {
   "cell_type": "code",
   "execution_count": 84,
   "id": "8b67972a",
   "metadata": {},
   "outputs": [
    {
     "name": "stdout",
     "output_type": "stream",
     "text": [
      "This is a protected method.\n"
     ]
    }
   ],
   "source": [
    "#  This works in Jupyter.  If you want to access protected methods in a Jupyter Notebook, you can define both the \n",
    "#  superclass and the subclass within the same cell. \n",
    " \n",
    "\n",
    "\n",
    "class MyClass\n",
    "  protected\n",
    "  \n",
    "  def protected_method\n",
    "    puts \"This is a protected method.\"\n",
    "  end\n",
    "end\n",
    "\n",
    "class SubClass < MyClass\n",
    "  def call_protected_method\n",
    "    protected_method\n",
    "  end\n",
    "end\n",
    "\n",
    "obj = SubClass.new\n",
    "obj.call_protected_method\n"
   ]
  },
  {
   "cell_type": "code",
   "execution_count": 86,
   "id": "d74e2c74",
   "metadata": {},
   "outputs": [
    {
     "name": "stdout",
     "output_type": "stream",
     "text": [
      "This is a private method.\n"
     ]
    }
   ],
   "source": [
    "# Example #3  A Private Method   Private methods in Ruby can only be accessed within the class where they are defined. \n",
    "# They cannot be accessed from outside the class, even by subclasses.\n",
    "\n",
    "class MyClass\n",
    "  private\n",
    "  \n",
    "  def private_method\n",
    "    puts \"This is a private method.\"\n",
    "  end\n",
    "  \n",
    "  public\n",
    "  \n",
    "  def call_private_method\n",
    "    private_method\n",
    "  end\n",
    "end\n",
    "\n",
    "obj = MyClass.new\n",
    "obj.call_private_method\n"
   ]
  },
  {
   "cell_type": "code",
   "execution_count": 97,
   "id": "e25e82dd",
   "metadata": {},
   "outputs": [
    {
     "name": "stdout",
     "output_type": "stream",
     "text": [
      "This is a public method.\n"
     ]
    }
   ],
   "source": [
    " \n",
    "\n",
    "class MyClass\n",
    "  def public_method\n",
    "    puts \"This is a public method.\"\n",
    "  end\n",
    "end\n",
    "\n",
    "obj = MyClass.new()\n",
    "obj.public_method\n"
   ]
  },
  {
   "cell_type": "code",
   "execution_count": 102,
   "id": "07b0c33b",
   "metadata": {},
   "outputs": [
    {
     "name": "stdout",
     "output_type": "stream",
     "text": [
      "This is a public method.\n",
      "This is a protected method.\n",
      "This is a private method.\n"
     ]
    }
   ],
   "source": [
    "\n",
    "# Complete example of public, private and protected access control\n",
    "\n",
    "class MyClass\n",
    "  def public_method\n",
    "    puts \"This is a public method.\"\n",
    "  end\n",
    "\n",
    "  protected\n",
    "\n",
    "  def protected_method\n",
    "    puts \"This is a protected method.\"\n",
    "  end\n",
    "\n",
    "  private\n",
    "\n",
    "  def private_method\n",
    "    puts \"This is a private method.\"\n",
    "  end\n",
    "\n",
    "  # Access control function to demonstrate different access levels\n",
    "  def access_control(level)\n",
    "    send(level)\n",
    "  end\n",
    "\n",
    "  # Call access_control method within the class\n",
    "  def demonstrate_access_control\n",
    "    access_control(:public_method)    # Access public method\n",
    "    access_control(:protected_method) # Access protected method\n",
    "    access_control(:private_method)   # Access private method\n",
    "  end\n",
    "\n",
    "  public :demonstrate_access_control  # Make the method public\n",
    "end\n",
    "\n",
    "obj = MyClass.new\n",
    "obj.demonstrate_access_control\n",
    "\n",
    "\n"
   ]
  },
  {
   "cell_type": "code",
   "execution_count": 6,
   "id": "4b31e2ed",
   "metadata": {},
   "outputs": [
    {
     "name": "stdout",
     "output_type": "stream",
     "text": [
      "24\n",
      "25\n"
     ]
    }
   ],
   "source": [
    "# Method chaining\n",
    "\n",
    "puts \"Method chaining is cool!\".upcase.length\n",
    "\n",
    "#24\n",
    "\n",
    "puts \"Method chaining is cool!\".upcase.length.succ\n",
    "\n",
    "#25"
   ]
  },
  {
   "cell_type": "code",
   "execution_count": 7,
   "id": "2b3f6b56",
   "metadata": {},
   "outputs": [
    {
     "name": "stdout",
     "output_type": "stream",
     "text": [
      "12\n"
     ]
    }
   ],
   "source": [
    "puts 10.next.next  #returns 12"
   ]
  },
  {
   "cell_type": "code",
   "execution_count": 8,
   "id": "5872a895",
   "metadata": {},
   "outputs": [
    {
     "name": "stdout",
     "output_type": "stream",
     "text": [
      "11\n"
     ]
    }
   ],
   "source": [
    "puts 10.next.next.pred # returns 11"
   ]
  },
  {
   "cell_type": "code",
   "execution_count": 11,
   "id": "13a9287b",
   "metadata": {},
   "outputs": [
    {
     "name": "stdout",
     "output_type": "stream",
     "text": [
      "human readable\n",
      "\"not human readable\\n\"\n",
      "\"\\\"not human readable\\\\n\\\"\"\n"
     ]
    },
    {
     "data": {
      "text/plain": [
       "\"\\\"not human readable\\\\n\\\"\""
      ]
     },
     "execution_count": 11,
     "metadata": {},
     "output_type": "execute_result"
    }
   ],
   "source": [
    "# Inspect method converts an object to a string representation for debugging\n",
    "\n",
    "puts \"human readable\\n\"\n",
    "p \"not human readable\\n\"\n",
    "p \"not human readable\\n\".inspect\n",
    "\n",
    "#human readable\n",
    "#\"not human readable\\n\"\n",
    "#\"\\\"not human readable\\\\n\\\"\"\n"
   ]
  },
  {
   "cell_type": "code",
   "execution_count": 2,
   "id": "6e771340",
   "metadata": {},
   "outputs": [
    {
     "name": "stdout",
     "output_type": "stream",
     "text": [
      "The loop is now on: 5\n",
      "The loop is now on: 6\n",
      "The loop is now on: 7\n",
      "The loop is now on: 8\n",
      "The loop is now on: 9\n",
      "The loop is now on: 10\n",
      "99 bottles of beer on the wall, 99 bottles of beer\n",
      "Take one down, pass it around\n",
      "98 bottles of beer on the wall\n",
      "98 bottles of beer on the wall, 98 bottles of beer\n",
      "Take one down, pass it around\n",
      "97 bottles of beer on the wall\n",
      "97 bottles of beer on the wall, 97 bottles of beer\n",
      "Take one down, pass it around\n",
      "96 bottles of beer on the wall\n",
      "96 bottles of beer on the wall, 96 bottles of beer\n",
      "Take one down, pass it around\n",
      "95 bottles of beer on the wall\n",
      "95 bottles of beer on the wall, 95 bottles of beer\n",
      "Take one down, pass it around\n",
      "94 bottles of beer on the wall\n",
      "94 bottles of beer on the wall, 94 bottles of beer\n",
      "Take one down, pass it around\n",
      "93 bottles of beer on the wall\n",
      "93 bottles of beer on the wall, 93 bottles of beer\n",
      "Take one down, pass it around\n",
      "92 bottles of beer on the wall\n",
      "92 bottles of beer on the wall, 92 bottles of beer\n",
      "Take one down, pass it around\n",
      "91 bottles of beer on the wall\n",
      "91 bottles of beer on the wall, 91 bottles of beer\n",
      "Take one down, pass it around\n",
      "90 bottles of beer on the wall\n",
      "90 bottles of beer on the wall, 90 bottles of beer\n",
      "Take one down, pass it around\n",
      "89 bottles of beer on the wall\n",
      "89 bottles of beer on the wall, 89 bottles of beer\n",
      "Take one down, pass it around\n",
      "88 bottles of beer on the wall\n",
      "88 bottles of beer on the wall, 88 bottles of beer\n",
      "Take one down, pass it around\n",
      "87 bottles of beer on the wall\n",
      "87 bottles of beer on the wall, 87 bottles of beer\n",
      "Take one down, pass it around\n",
      "86 bottles of beer on the wall\n",
      "86 bottles of beer on the wall, 86 bottles of beer\n",
      "Take one down, pass it around\n",
      "85 bottles of beer on the wall\n",
      "85 bottles of beer on the wall, 85 bottles of beer\n",
      "Take one down, pass it around\n",
      "84 bottles of beer on the wall\n",
      "84 bottles of beer on the wall, 84 bottles of beer\n",
      "Take one down, pass it around\n",
      "83 bottles of beer on the wall\n",
      "83 bottles of beer on the wall, 83 bottles of beer\n",
      "Take one down, pass it around\n",
      "82 bottles of beer on the wall\n",
      "82 bottles of beer on the wall, 82 bottles of beer\n",
      "Take one down, pass it around\n",
      "81 bottles of beer on the wall\n",
      "81 bottles of beer on the wall, 81 bottles of beer\n",
      "Take one down, pass it around\n",
      "80 bottles of beer on the wall\n",
      "80 bottles of beer on the wall, 80 bottles of beer\n",
      "Take one down, pass it around\n",
      "79 bottles of beer on the wall\n",
      "79 bottles of beer on the wall, 79 bottles of beer\n",
      "Take one down, pass it around\n",
      "78 bottles of beer on the wall\n",
      "78 bottles of beer on the wall, 78 bottles of beer\n",
      "Take one down, pass it around\n",
      "77 bottles of beer on the wall\n",
      "77 bottles of beer on the wall, 77 bottles of beer\n",
      "Take one down, pass it around\n",
      "76 bottles of beer on the wall\n",
      "76 bottles of beer on the wall, 76 bottles of beer\n",
      "Take one down, pass it around\n",
      "75 bottles of beer on the wall\n",
      "75 bottles of beer on the wall, 75 bottles of beer\n",
      "Take one down, pass it around\n",
      "74 bottles of beer on the wall\n",
      "74 bottles of beer on the wall, 74 bottles of beer\n",
      "Take one down, pass it around\n",
      "73 bottles of beer on the wall\n",
      "73 bottles of beer on the wall, 73 bottles of beer\n",
      "Take one down, pass it around\n",
      "72 bottles of beer on the wall\n",
      "72 bottles of beer on the wall, 72 bottles of beer\n",
      "Take one down, pass it around\n",
      "71 bottles of beer on the wall\n",
      "71 bottles of beer on the wall, 71 bottles of beer\n",
      "Take one down, pass it around\n",
      "70 bottles of beer on the wall\n",
      "70 bottles of beer on the wall, 70 bottles of beer\n",
      "Take one down, pass it around\n",
      "69 bottles of beer on the wall\n",
      "69 bottles of beer on the wall, 69 bottles of beer\n",
      "Take one down, pass it around\n",
      "68 bottles of beer on the wall\n",
      "68 bottles of beer on the wall, 68 bottles of beer\n",
      "Take one down, pass it around\n",
      "67 bottles of beer on the wall\n",
      "67 bottles of beer on the wall, 67 bottles of beer\n",
      "Take one down, pass it around\n",
      "66 bottles of beer on the wall\n",
      "66 bottles of beer on the wall, 66 bottles of beer\n",
      "Take one down, pass it around\n",
      "65 bottles of beer on the wall\n",
      "65 bottles of beer on the wall, 65 bottles of beer\n",
      "Take one down, pass it around\n",
      "64 bottles of beer on the wall\n",
      "64 bottles of beer on the wall, 64 bottles of beer\n",
      "Take one down, pass it around\n",
      "63 bottles of beer on the wall\n",
      "63 bottles of beer on the wall, 63 bottles of beer\n",
      "Take one down, pass it around\n",
      "62 bottles of beer on the wall\n",
      "62 bottles of beer on the wall, 62 bottles of beer\n",
      "Take one down, pass it around\n",
      "61 bottles of beer on the wall\n",
      "61 bottles of beer on the wall, 61 bottles of beer\n",
      "Take one down, pass it around\n",
      "60 bottles of beer on the wall\n",
      "60 bottles of beer on the wall, 60 bottles of beer\n",
      "Take one down, pass it around\n",
      "59 bottles of beer on the wall\n",
      "59 bottles of beer on the wall, 59 bottles of beer\n",
      "Take one down, pass it around\n",
      "58 bottles of beer on the wall\n",
      "58 bottles of beer on the wall, 58 bottles of beer\n",
      "Take one down, pass it around\n",
      "57 bottles of beer on the wall\n",
      "57 bottles of beer on the wall, 57 bottles of beer\n",
      "Take one down, pass it around\n",
      "56 bottles of beer on the wall\n",
      "56 bottles of beer on the wall, 56 bottles of beer\n",
      "Take one down, pass it around\n",
      "55 bottles of beer on the wall\n",
      "55 bottles of beer on the wall, 55 bottles of beer\n",
      "Take one down, pass it around\n",
      "54 bottles of beer on the wall\n",
      "54 bottles of beer on the wall, 54 bottles of beer\n",
      "Take one down, pass it around\n",
      "53 bottles of beer on the wall\n",
      "53 bottles of beer on the wall, 53 bottles of beer\n",
      "Take one down, pass it around\n",
      "52 bottles of beer on the wall\n",
      "52 bottles of beer on the wall, 52 bottles of beer\n",
      "Take one down, pass it around\n",
      "51 bottles of beer on the wall\n",
      "51 bottles of beer on the wall, 51 bottles of beer\n",
      "Take one down, pass it around\n",
      "50 bottles of beer on the wall\n",
      "50 bottles of beer on the wall, 50 bottles of beer\n",
      "Take one down, pass it around\n",
      "49 bottles of beer on the wall\n",
      "49 bottles of beer on the wall, 49 bottles of beer\n",
      "Take one down, pass it around\n",
      "48 bottles of beer on the wall\n",
      "48 bottles of beer on the wall, 48 bottles of beer\n",
      "Take one down, pass it around\n",
      "47 bottles of beer on the wall\n",
      "47 bottles of beer on the wall, 47 bottles of beer\n",
      "Take one down, pass it around\n",
      "46 bottles of beer on the wall\n",
      "46 bottles of beer on the wall, 46 bottles of beer\n",
      "Take one down, pass it around\n",
      "45 bottles of beer on the wall\n",
      "45 bottles of beer on the wall, 45 bottles of beer\n",
      "Take one down, pass it around\n",
      "44 bottles of beer on the wall\n",
      "44 bottles of beer on the wall, 44 bottles of beer\n",
      "Take one down, pass it around\n",
      "43 bottles of beer on the wall\n",
      "43 bottles of beer on the wall, 43 bottles of beer\n",
      "Take one down, pass it around\n",
      "42 bottles of beer on the wall\n",
      "42 bottles of beer on the wall, 42 bottles of beer\n",
      "Take one down, pass it around\n",
      "41 bottles of beer on the wall\n",
      "41 bottles of beer on the wall, 41 bottles of beer\n",
      "Take one down, pass it around\n",
      "40 bottles of beer on the wall\n",
      "40 bottles of beer on the wall, 40 bottles of beer\n",
      "Take one down, pass it around\n",
      "39 bottles of beer on the wall\n",
      "39 bottles of beer on the wall, 39 bottles of beer\n",
      "Take one down, pass it around\n",
      "38 bottles of beer on the wall\n",
      "38 bottles of beer on the wall, 38 bottles of beer\n",
      "Take one down, pass it around\n",
      "37 bottles of beer on the wall\n",
      "37 bottles of beer on the wall, 37 bottles of beer\n",
      "Take one down, pass it around\n",
      "36 bottles of beer on the wall\n",
      "36 bottles of beer on the wall, 36 bottles of beer\n",
      "Take one down, pass it around\n",
      "35 bottles of beer on the wall\n",
      "35 bottles of beer on the wall, 35 bottles of beer\n",
      "Take one down, pass it around\n",
      "34 bottles of beer on the wall\n",
      "34 bottles of beer on the wall, 34 bottles of beer\n",
      "Take one down, pass it around\n",
      "33 bottles of beer on the wall\n",
      "33 bottles of beer on the wall, 33 bottles of beer\n",
      "Take one down, pass it around\n",
      "32 bottles of beer on the wall\n",
      "32 bottles of beer on the wall, 32 bottles of beer\n",
      "Take one down, pass it around\n",
      "31 bottles of beer on the wall\n",
      "31 bottles of beer on the wall, 31 bottles of beer\n",
      "Take one down, pass it around\n",
      "30 bottles of beer on the wall\n",
      "30 bottles of beer on the wall, 30 bottles of beer\n",
      "Take one down, pass it around\n",
      "29 bottles of beer on the wall\n",
      "29 bottles of beer on the wall, 29 bottles of beer\n",
      "Take one down, pass it around\n",
      "28 bottles of beer on the wall\n",
      "28 bottles of beer on the wall, 28 bottles of beer\n",
      "Take one down, pass it around\n",
      "27 bottles of beer on the wall\n"
     ]
    },
    {
     "name": "stdout",
     "output_type": "stream",
     "text": [
      "27 bottles of beer on the wall, 27 bottles of beer\n",
      "Take one down, pass it around\n",
      "26 bottles of beer on the wall\n",
      "26 bottles of beer on the wall, 26 bottles of beer\n",
      "Take one down, pass it around\n",
      "25 bottles of beer on the wall\n",
      "25 bottles of beer on the wall, 25 bottles of beer\n",
      "Take one down, pass it around\n",
      "24 bottles of beer on the wall\n",
      "24 bottles of beer on the wall, 24 bottles of beer\n",
      "Take one down, pass it around\n",
      "23 bottles of beer on the wall\n",
      "23 bottles of beer on the wall, 23 bottles of beer\n",
      "Take one down, pass it around\n",
      "22 bottles of beer on the wall\n",
      "22 bottles of beer on the wall, 22 bottles of beer\n",
      "Take one down, pass it around\n",
      "21 bottles of beer on the wall\n",
      "21 bottles of beer on the wall, 21 bottles of beer\n",
      "Take one down, pass it around\n",
      "20 bottles of beer on the wall\n",
      "20 bottles of beer on the wall, 20 bottles of beer\n",
      "Take one down, pass it around\n",
      "19 bottles of beer on the wall\n",
      "19 bottles of beer on the wall, 19 bottles of beer\n",
      "Take one down, pass it around\n",
      "18 bottles of beer on the wall\n",
      "18 bottles of beer on the wall, 18 bottles of beer\n",
      "Take one down, pass it around\n",
      "17 bottles of beer on the wall\n",
      "17 bottles of beer on the wall, 17 bottles of beer\n",
      "Take one down, pass it around\n",
      "16 bottles of beer on the wall\n",
      "16 bottles of beer on the wall, 16 bottles of beer\n",
      "Take one down, pass it around\n",
      "15 bottles of beer on the wall\n",
      "15 bottles of beer on the wall, 15 bottles of beer\n",
      "Take one down, pass it around\n",
      "14 bottles of beer on the wall\n",
      "14 bottles of beer on the wall, 14 bottles of beer\n",
      "Take one down, pass it around\n",
      "13 bottles of beer on the wall\n",
      "13 bottles of beer on the wall, 13 bottles of beer\n",
      "Take one down, pass it around\n",
      "12 bottles of beer on the wall\n",
      "12 bottles of beer on the wall, 12 bottles of beer\n",
      "Take one down, pass it around\n",
      "11 bottles of beer on the wall\n",
      "11 bottles of beer on the wall, 11 bottles of beer\n",
      "Take one down, pass it around\n",
      "10 bottles of beer on the wall\n",
      "10 bottles of beer on the wall, 10 bottles of beer\n",
      "Take one down, pass it around\n",
      "9 bottles of beer on the wall\n",
      "9 bottles of beer on the wall, 9 bottles of beer\n",
      "Take one down, pass it around\n",
      "8 bottles of beer on the wall\n",
      "8 bottles of beer on the wall, 8 bottles of beer\n",
      "Take one down, pass it around\n",
      "7 bottles of beer on the wall\n",
      "7 bottles of beer on the wall, 7 bottles of beer\n",
      "Take one down, pass it around\n",
      "6 bottles of beer on the wall\n",
      "6 bottles of beer on the wall, 6 bottles of beer\n",
      "Take one down, pass it around\n",
      "5 bottles of beer on the wall\n",
      "5 bottles of beer on the wall, 5 bottles of beer\n",
      "Take one down, pass it around\n",
      "4 bottles of beer on the wall\n",
      "4 bottles of beer on the wall, 4 bottles of beer\n",
      "Take one down, pass it around\n",
      "3 bottles of beer on the wall\n",
      "3 bottles of beer on the wall, 3 bottles of beer\n",
      "Take one down, pass it around\n",
      "2 bottles of beer on the wall\n",
      "2 bottles of beer on the wall, 2 bottles of beer\n",
      "Take one down, pass it around\n",
      "1 bottles of beer on the wall\n",
      "1 bottles of beer on the wall, 1 bottles of beer\n",
      "Take one down, pass it around\n",
      "0 bottles of beer on the wall\n"
     ]
    },
    {
     "data": {
      "text/plain": [
       "99"
      ]
     },
     "execution_count": 2,
     "metadata": {},
     "output_type": "execute_result"
    }
   ],
   "source": [
    "# upto and downto methods\n",
    "\n",
    "5.upto(10) { |current| puts \"The loop is now on: #{current}\" }\n",
    "\n",
    "# 6.downto(1) { |number| puts \"Countdown: #{number}\" }\n",
    "\n",
    "99.downto(1) do |number|\n",
    "  puts \"#{number} bottles of beer on the wall, #{number} bottles of beer\"\n",
    "  puts \"Take one down, pass it around\"\n",
    "  puts \"#{number - 1} bottles of beer on the wall\"\n",
    "end"
   ]
  },
  {
   "cell_type": "code",
   "execution_count": null,
   "id": "8321adef",
   "metadata": {},
   "outputs": [],
   "source": []
  }
 ],
 "metadata": {
  "kernelspec": {
   "display_name": "Ruby 3.2.2",
   "language": "ruby",
   "name": "ruby"
  },
  "language_info": {
   "file_extension": ".rb",
   "mimetype": "application/x-ruby",
   "name": "ruby",
   "version": "3.2.2"
  }
 },
 "nbformat": 4,
 "nbformat_minor": 5
}
