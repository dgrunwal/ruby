{
 "cells": [
  {
   "cell_type": "code",
   "execution_count": null,
   "id": "81db4e55",
   "metadata": {},
   "outputs": [],
   "source": [
    "# Ruby Objects and some methods.  Every method in Ruby returns an object."
   ]
  },
  {
   "cell_type": "code",
   "execution_count": 3,
   "id": "e4499d59",
   "metadata": {},
   "outputs": [
    {
     "name": "stdout",
     "output_type": "stream",
     "text": [
      "11\n",
      "HELLO WORLD\n",
      "totally different\n",
      "totally different\n"
     ]
    }
   ],
   "source": [
    "puts \"hello world\".length\n",
    "puts \"hello world\".upcase\n",
    "puts \"TOTALLY DIFFERENT\".downcase\n",
    "\n",
    "expression = \"TOTALLY DIFFERENT\"\n",
    "puts expression.downcase\n",
    "\n",
    "#11\n",
    "#HELLO WORLD\n",
    "#totally different\n",
    "#totally different"
   ]
  },
  {
   "cell_type": "code",
   "execution_count": 5,
   "id": "13ffbbf2",
   "metadata": {},
   "outputs": [
    {
     "name": "stdout",
     "output_type": "stream",
     "text": [
      "This is my custom object\n"
     ]
    }
   ],
   "source": [
    "# **`to_s`**: This method is used to convert an object to a string representation. It's automatically called when you use `puts` to print an object.\n",
    "\n",
    "     \n",
    "    class MyClass\n",
    "      def to_s\n",
    "        \"This is my custom object\"\n",
    "      end\n",
    "    end\n",
    "\n",
    "    obj = MyClass.new\n",
    "    puts obj # Output: This is my custom object\n",
    "     \n"
   ]
  },
  {
   "cell_type": "code",
   "execution_count": 6,
   "id": "5957ec30",
   "metadata": {},
   "outputs": [
    {
     "name": "stdout",
     "output_type": "stream",
     "text": [
      "Detailed inspection of my object\n"
     ]
    },
    {
     "data": {
      "text/plain": [
       "Detailed inspection of my object"
      ]
     },
     "execution_count": 6,
     "metadata": {},
     "output_type": "execute_result"
    }
   ],
   "source": [
    "# **`inspect`**: Similar to `to_s`, but used for a more detailed or developer-oriented representation of an object. It's automatically called when you use `p` to print an object.\n",
    "\n",
    "     \n",
    "    class MyClass\n",
    "      def inspect\n",
    "        \"Detailed inspection of my object\"\n",
    "      end\n",
    "    end\n",
    "\n",
    "    obj = MyClass.new\n",
    "    p obj # Output: Detailed inspection of my object\n",
    "     \n",
    "\n"
   ]
  },
  {
   "cell_type": "code",
   "execution_count": 18,
   "id": "9653167c",
   "metadata": {},
   "outputs": [
    {
     "name": "stdout",
     "output_type": "stream",
     "text": [
      "42\n",
      "3.14\n",
      "42\n",
      "3.14\n",
      "[\"h\", \"e\", \"l\", \"l\", \"o\"]\n"
     ]
    },
    {
     "data": {
      "text/plain": [
       "[\"h\", \"e\", \"l\", \"l\", \"o\"]"
      ]
     },
     "execution_count": 18,
     "metadata": {},
     "output_type": "execute_result"
    }
   ],
   "source": [
    "# **`to_i`, `to_f`, `to_a`**: These methods are used to convert an object to an integer, float, and array respectively.\n",
    "\n",
    "    \n",
    "    num_str = \"42\"\n",
    "    num = num_str.to_i\n",
    "    puts num # Output: 42\n",
    "\n",
    "    float_str = \"3.14\"\n",
    "    float_num = float_str.to_f\n",
    "    puts float_num # Output: 3.14\n",
    "\n",
    "   num_str = \"42\"\n",
    "   num = num_str.to_i\n",
    "   puts num # Output: 42\n",
    "\n",
    "   float_str = \"3.14\"\n",
    "   float_num = float_str.to_f\n",
    "   puts float_num # Output: 3.14\n",
    "\n",
    "   str = \"hello\"\n",
    "   arr = str.chars\n",
    "   p arr # Output: [\"h\", \"e\", \"l\", \"l\", \"o\"]\n",
    "\n",
    "    \n",
    "\n"
   ]
  },
  {
   "cell_type": "code",
   "execution_count": 8,
   "id": "9cbdc8fa",
   "metadata": {},
   "outputs": [
    {
     "name": "stdout",
     "output_type": "stream",
     "text": [
      "true\n",
      "false\n"
     ]
    }
   ],
   "source": [
    "# **`respond_to?`**: This method checks if an object responds to a certain method. It returns `true` if the object has the given method, `false` otherwise.\n",
    "\n",
    "     \n",
    "    str = \"hello\"\n",
    "    puts str.respond_to?(:length) # Output: true\n",
    "    puts str.respond_to?(:foo)    # Output: false\n",
    "    \n",
    "\n"
   ]
  },
  {
   "cell_type": "code",
   "execution_count": 9,
   "id": "dcf594f0",
   "metadata": {},
   "outputs": [
    {
     "name": "stdout",
     "output_type": "stream",
     "text": [
      "true\n"
     ]
    }
   ],
   "source": [
    "# **`nil?`**: This method checks if an object is `nil`.\n",
    "\n",
    "     \n",
    "    value = nil\n",
    "    puts value.nil? # Output: true\n",
    "     \n",
    "\n"
   ]
  },
  {
   "cell_type": "code",
   "execution_count": 10,
   "id": "6beb9229",
   "metadata": {},
   "outputs": [
    {
     "name": "stdout",
     "output_type": "stream",
     "text": [
      "String\n"
     ]
    }
   ],
   "source": [
    "# **`class`**: This method returns the class of an object.\n",
    "\n",
    "     \n",
    "    str = \"hello\"\n",
    "    puts str.class # Output: String\n",
    "     \n",
    "\n"
   ]
  },
  {
   "cell_type": "code",
   "execution_count": 15,
   "id": "457fc0cd",
   "metadata": {},
   "outputs": [
    {
     "name": "stdout",
     "output_type": "stream",
     "text": [
      "[:hash, :to_h, :include?, :&, :*, :+, :-, :at, :fetch, :last, :union, :difference, :intersection, :intersect?, :push, :append, :pop, :shift, :unshift, :each_index, :join, :rotate, :rotate!, :sort!, :sort_by!, :collect!, :map!, :select!, :filter!, :keep_if, :sort, :delete_at, :delete_if, :values_at, :reject!, :fill, :find_index, :assoc, :select, :filter, :flatten, :flatten!, :reject, :collect, :map, :compact!, :combination, :rassoc, :uniq!, :transpose, :repeated_permutation, :first, :permutation, :bsearch, :bsearch_index, :count, :minmax, :one?, :all?, :any?, :repeated_combination, :|, :reverse_each, :deconstruct, :none?, :zip, :take, :take_while, :drop, :drop_while, :<=>, :<<, :product, :cycle, :shuffle!, :==, :sum, :uniq, :compact, :pack, :[], :[]=, :pretty_print, :shuffle, :sample, :empty?, :eql?, :pretty_print_cycle, :insert, :index, :rindex, :min, :replace, :inspect, :clear, :max, :length, :size, :each, :to_ary, :reverse, :reverse!, :concat, :to_a, :to_s, :prepend, :delete, :slice, :slice!, :dig, :to_json, :each_cons, :each_with_object, :chunk, :slice_before, :slice_after, :slice_when, :chunk_while, :chain, :lazy, :to_set, :find, :entries, :sort_by, :grep, :grep_v, :detect, :find_all, :filter_map, :flat_map, :collect_concat, :inject, :reduce, :partition, :group_by, :tally, :min_by, :max_by, :minmax_by, :member?, :each_with_index, :each_entry, :each_slice, :pretty_print_inspect, :pretty_print_instance_variables, :singleton_class, :dup, :itself, :methods, :singleton_methods, :protected_methods, :private_methods, :public_methods, :instance_variables, :instance_variable_get, :instance_variable_set, :instance_variable_defined?, :remove_instance_variable, :instance_of?, :kind_of?, :is_a?, :display, :public_send, :pretty_inspect, :class, :tap, :frozen?, :yield_self, :then, :extend, :clone, :===, :!~, :method, :public_method, :nil?, :singleton_method, :respond_to?, :define_singleton_method, :freeze, :object_id, :send, :to_enum, :enum_for, :!, :equal?, :__send__, :!=, :__id__, :instance_eval, :instance_exec]\n"
     ]
    }
   ],
   "source": [
    "# **`methods`**: This method returns an array of symbols representing the public methods of an object.\n",
    "\n",
    "     \n",
    "    arr = [1, 2, 3]\n",
    "    puts arr.methods.inspect # Output: [:==, :..., :+, :-, :*, :%, :[], :[]=, :<<, ...]\n",
    "    \n",
    "=begin\n",
    "\n",
    "[:hash, :to_h, :include?, :&, :*, :+, :-, :at, :fetch, :last, :union, :difference, :intersection, :intersect?, \n",
    ":push, :append, :pop, :shift, :unshift, :each_index, :join, :rotate, :rotate!, :sort!, :sort_by!, :collect!, :map!, \n",
    ":select!, :filter!, :keep_if, :sort, :delete_at, :delete_if, :values_at, :reject!, :fill, :find_index, :assoc, :select, \n",
    ":filter, :flatten, :flatten!, :reject, :collect, :map, :compact!, :combination, :rassoc, :uniq!, :transpose, \n",
    ":repeated_permutation, :first, :permutation, :bsearch, :bsearch_index, :count, :minmax, :one?, :all?, :any?, \n",
    ":repeated_combination, :|, :reverse_each, :deconstruct, :none?, :zip, :take, :take_while, :drop, :drop_while, \n",
    ":<=>, :<<, :product, :cycle, :shuffle!, :==, :sum, :uniq, :compact, :pack, :[], :[]=, :pretty_print, :shuffle, \n",
    ":sample, :empty?, :eql?, :pretty_print_cycle, :insert, :index, :rindex, :min, :replace, :inspect, :clear, :max, \n",
    ":length, :size, :each, :to_ary, :reverse, :reverse!, :concat, :to_a, :to_s, :prepend, :delete, :slice, :slice!, \n",
    ":dig, :to_json, :each_cons, :each_with_object, :chunk, :slice_before, :slice_after, :slice_when, :chunk_while, \n",
    ":chain, :lazy, :to_set, :find, :entries, :sort_by, :grep, :grep_v, :detect, :find_all, :filter_map, :flat_map, \n",
    ":collect_concat, :inject, :reduce, :partition, :group_by, :tally, :min_by, :max_by, :minmax_by, :member?, \n",
    ":each_with_index, :each_entry, :each_slice, :pretty_print_inspect, :pretty_print_instance_variables, :singleton_class, \n",
    ":dup, :itself, :methods, :singleton_methods, :protected_methods, :private_methods, :public_methods, :instance_variables, \n",
    ":instance_variable_get, :instance_variable_set, :instance_variable_defined?, :remove_instance_variable, :instance_of?, \n",
    ":kind_of?, :is_a?, :display, :public_send, :pretty_inspect, :class, :tap, :frozen?, :yield_self, :then, :extend, :clone, \n",
    ":===, :!~, :method, :public_method, :nil?, :singleton_method, :respond_to?, :define_singleton_method, :freeze, :object_id, \n",
    ":send, :to_enum, :enum_for, :!, :equal?, :__send__, :!=, :__id__, :instance_eval, :instance_exec]\n",
    "\n",
    "Explanation:\n",
    "\n",
    "The arr.methods call returns an array of symbols, where each symbol represents a method that can be called on an array object. \n",
    "These symbols correspond to the public methods defined in the Ruby Array class, which is the class of the object arr.\n",
    "\n",
    "For example, :== represents the equality operator (==), :+ represents the addition operator (+), :[] represents the element access operator ([]), and so on. These symbols allow you to identify and call methods on the array object without using strings, \n",
    "which is a common convention in Ruby programming.\n",
    "\n",
    "\n",
    "=end\n"
   ]
  },
  {
   "cell_type": "code",
   "execution_count": 16,
   "id": "6906da57",
   "metadata": {},
   "outputs": [
    {
     "name": "stdout",
     "output_type": "stream",
     "text": [
      "Equality operator (==) is available for the array object.\n"
     ]
    }
   ],
   "source": [
    "# Example of operator methods available in Ruby arrays\n",
    "\n",
    "arr = [1, 2, 3]\n",
    "\n",
    "# Check if the equality operator method is available for the array object\n",
    "if arr.methods.include?(:==)\n",
    "  puts \"Equality operator (==) is available for the array object.\"\n",
    "else\n",
    "  puts \"Equality operator (==) is not available for the array object.\"\n",
    "end\n"
   ]
  },
  {
   "cell_type": "code",
   "execution_count": 6,
   "id": "727542e4",
   "metadata": {},
   "outputs": [
    {
     "name": "stdout",
     "output_type": "stream",
     "text": [
      "nil\n"
     ]
    },
    {
     "ename": "NameError",
     "evalue": "undefined local variable or method `nothing' for #<Object:0x0000021c9f499d88>",
     "output_type": "error",
     "traceback": [
      "\u001b[31mNameError\u001b[0m: undefined local variable or method `nothing' for #<Object:0x0000021c9f499d88>",
      "(irb):19:in `<top (required)>'"
     ]
    }
   ],
   "source": [
    "# nil value In Ruby, nil is a special value that represents the absence of a value or a null value. \n",
    "# It is an object of the NilClass class and indicates that a variable or expression does not currently \n",
    "# reference any object. nil is Ruby's way of representing \"nothing\" or \"no value.\"  It has no string representation.\n",
    "\n",
    "p nil\n",
    "\n",
    "# returns nil\n",
    "\n",
    "#Default uninitialized variables\n",
    "my_variable = nil\n",
    "\n",
    "def some_method\n",
    "  # No return statement, so the method returns nil implicitly\n",
    "end\n",
    "\n",
    "\n",
    "# Indicating the absence of a value: When a method or operation does not have a meaningful result to return, \n",
    "# it often returns nil to indicate that there is no valid value to return.\n",
    "\n",
    "result = nothing\n",
    "if result.nil?\n",
    "  puts \"No results found.\"\n",
    "else\n",
    "  puts \"Result found: #{result}\"\n",
    "end\n",
    "\n",
    "#NameError: undefined local variable or method `nothing' for #<Object:0x0000021c9f499d88>\n",
    "#(irb):19:in `<top (required)>'\n",
    "\n"
   ]
  },
  {
   "cell_type": "code",
   "execution_count": 8,
   "id": "3a7533eb",
   "metadata": {},
   "outputs": [
    {
     "name": "stdout",
     "output_type": "stream",
     "text": [
      "Hello\n",
      "nil\n"
     ]
    }
   ],
   "source": [
    "# Example of nil \n",
    "\n",
    "what_is_this_value = puts \"Hello\"  #Hello\n",
    "p what_is_this_value   # nil"
   ]
  },
  {
   "cell_type": "code",
   "execution_count": 10,
   "id": "b0ad60c4",
   "metadata": {},
   "outputs": [
    {
     "name": "stdout",
     "output_type": "stream",
     "text": [
      "[1, 3, 5, 7]\n",
      "[1, 3, 5, 7]\n"
     ]
    },
    {
     "data": {
      "text/plain": [
       "[1, 3, 5, 7]"
      ]
     },
     "execution_count": 10,
     "metadata": {},
     "output_type": "execute_result"
    }
   ],
   "source": [
    "# In this example, both the x and y variables reference the same array object.\n",
    "# Because Array#reject! modifies its receiver, this means that it modifies the single array that is referenced by both variables.\n",
    "\n",
    "x = [1,2,3,4,5,6,7,8]\n",
    "y = x\n",
    "x.reject! { |e| e.even? }\n",
    "p x\n",
    "p y\n",
    "\n",
    "#[1, 3, 5, 7]\n",
    "#[1, 3, 5, 7]"
   ]
  },
  {
   "cell_type": "code",
   "execution_count": 11,
   "id": "1fa50b3b",
   "metadata": {},
   "outputs": [
    {
     "name": "stdout",
     "output_type": "stream",
     "text": [
      "Modified Original Array: [2, 4]\n",
      "Modified Array: []\n",
      "Original Array: []\n"
     ]
    }
   ],
   "source": [
    "# In Ruby, the Array#reject! method removes elements from an array for which the block returns true. \n",
    "# It modifies the original array in place and returns nil if no changes were made, \n",
    "# or the modified array if changes were made.\n",
    "\n",
    "original_array = [1, 2, 3, 4, 5]\n",
    "\n",
    "# Using reject! to remove odd numbers from the array\n",
    "original_array.reject! { |number| number.odd? }\n",
    "\n",
    "# The changes are reflected in the original_array\n",
    "puts \"Modified Original Array: #{original_array.inspect}\"  # Output: [2, 4]\n",
    "\n",
    "# Assigning the modified array to a new variable\n",
    "modified_array = original_array.reject! { |number| number.even? }\n",
    "\n",
    "# The changes are reflected in the modified_array\n",
    "puts \"Modified Array: #{modified_array.inspect}\"  # Output: nil, because there are no even numbers left after the first reject!\n",
    "\n",
    "# The changes are also reflected in the original_array\n",
    "puts \"Original Array: #{original_array.inspect}\"  # Output: []\n"
   ]
  },
  {
   "cell_type": "code",
   "execution_count": null,
   "id": "b56a92ea",
   "metadata": {},
   "outputs": [],
   "source": []
  }
 ],
 "metadata": {
  "kernelspec": {
   "display_name": "Ruby 3.2.2",
   "language": "ruby",
   "name": "ruby"
  },
  "language_info": {
   "file_extension": ".rb",
   "mimetype": "application/x-ruby",
   "name": "ruby",
   "version": "3.2.2"
  }
 },
 "nbformat": 4,
 "nbformat_minor": 5
}
