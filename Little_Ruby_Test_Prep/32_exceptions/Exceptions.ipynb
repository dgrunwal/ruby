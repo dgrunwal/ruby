{
 "cells": [
  {
   "cell_type": "code",
   "execution_count": 2,
   "id": "a7515ba4",
   "metadata": {},
   "outputs": [
    {
     "name": "stdout",
     "output_type": "stream",
     "text": [
      "8\n",
      "Unknown\n",
      "Unknown\n"
     ]
    }
   ],
   "source": [
    "def sum(a, b)\n",
    "  begin\n",
    "    a + b\n",
    "  rescue\n",
    "    \"Unknown\"\n",
    "  end\n",
    "end\n",
    "\n",
    "puts sum(3, 5)\n",
    "puts sum(3, \"5\")\n",
    "puts sum(nil, nil)"
   ]
  },
  {
   "cell_type": "code",
   "execution_count": 3,
   "id": "ac964bdb",
   "metadata": {},
   "outputs": [
    {
     "name": "stdout",
     "output_type": "stream",
     "text": [
      "8\n",
      "CLASS NAME: TypeError\n",
      "MESSAGE: String can't be coerced into Integer\n",
      "\n",
      "We're gonna do something different to resolve a NoMethodError\n",
      "CLASS NAME: NoMethodError\n",
      "MESSAGE: undefined method `+' for nil:NilClass\n",
      "\n"
     ]
    }
   ],
   "source": [
    "def sum(a, b)\n",
    "  begin\n",
    "    a + b\n",
    "  rescue TypeError => e\n",
    "    puts \"CLASS NAME: #{e.class}\"\n",
    "    puts \"MESSAGE: #{e.message}\"\n",
    "  rescue NoMethodError => error\n",
    "    puts \"We're gonna do something different to resolve a NoMethodError\"\n",
    "    puts \"CLASS NAME: #{error.class}\"\n",
    "    puts \"MESSAGE: #{error.message}\"\n",
    "  end\n",
    "end\n",
    "\n",
    "puts sum(3, 5)\n",
    "puts sum(3, \"5\")\n",
    "puts sum(nil, nil)"
   ]
  },
  {
   "cell_type": "code",
   "execution_count": 5,
   "id": "a0a4c218",
   "metadata": {
    "scrolled": true
   },
   "outputs": [
    {
     "name": "stdout",
     "output_type": "stream",
     "text": [
      "8\n",
      "8\n",
      "8\n",
      "0\n"
     ]
    }
   ],
   "source": [
    "def sum(a, b)\n",
    "  begin\n",
    "    a + b\n",
    "  rescue TypeError => e\n",
    "    a = a.to_i\n",
    "    b = b.to_i\n",
    "    retry\n",
    "  rescue NoMethodError => error\n",
    "    a = 0\n",
    "    b = 0\n",
    "    retry\n",
    "  end\n",
    "end\n",
    "\n",
    "puts sum(3, 5)\n",
    "puts sum(3, \"5\")\n",
    "puts sum(\"3\", 5)\n",
    "puts sum(nil, nil)"
   ]
  },
  {
   "cell_type": "code",
   "execution_count": 6,
   "id": "38820d39",
   "metadata": {},
   "outputs": [
    {
     "name": "stdout",
     "output_type": "stream",
     "text": [
      "I'm always going to run\n",
      "8\n",
      "I'm always going to run\n",
      "8\n",
      "I'm always going to run\n",
      "8\n",
      "Can't solve this, sorry\n",
      "I'm always going to run\n",
      "\n"
     ]
    }
   ],
   "source": [
    "def sum(a, b)\n",
    "  begin\n",
    "    a + b\n",
    "  rescue TypeError => e\n",
    "    a = a.to_i\n",
    "    b = b.to_i\n",
    "    retry\n",
    "  rescue NoMethodError => error\n",
    "    puts \"Can't solve this, sorry\"\n",
    "  ensure  # runs no matter what at end of method, used for cleanup\n",
    "    puts \"I'm always going to run\"\n",
    "  end\n",
    "end\n",
    "\n",
    "puts sum(3, 5)\n",
    "puts sum(3, \"5\")\n",
    "puts sum(\"3\", 5)\n",
    "puts sum(nil, nil)"
   ]
  },
  {
   "cell_type": "code",
   "execution_count": 7,
   "id": "749ae5a2",
   "metadata": {},
   "outputs": [
    {
     "name": "stdout",
     "output_type": "stream",
     "text": [
      "One of the types is not valid\n",
      "OK, wrapping things up. Have a nice day!\n"
     ]
    }
   ],
   "source": [
    "def sum(a, b)\n",
    "  a + b\n",
    "end\n",
    "\n",
    "begin\n",
    "  sum(3, \"5\")\n",
    "rescue TypeError => e\n",
    "  puts \"One of the types is not valid\"\n",
    "rescue NoMethodError => e\n",
    "  puts \"Some method you're trying to invoke does not exist\"\n",
    "ensure\n",
    "  puts \"OK, wrapping things up. Have a nice day!\"\n",
    "end"
   ]
  },
  {
   "cell_type": "code",
   "execution_count": 8,
   "id": "f629cfe0",
   "metadata": {},
   "outputs": [
    {
     "name": "stdout",
     "output_type": "stream",
     "text": [
      "Baking Pepperoni Pizza\n"
     ]
    }
   ],
   "source": [
    "class Oven\n",
    "  attr_accessor :state\n",
    "\n",
    "  def initialize\n",
    "    @state = \"off\"\n",
    "  end\n",
    "\n",
    "  def turn_on\n",
    "    self.state = \"on\"\n",
    "  end\n",
    "\n",
    "  def bake(item)\n",
    "    raise \"Please turn the oven on first!\" if state == \"off\"  \n",
    "    puts \"Baking #{item}\"\n",
    "  end\n",
    "end\n",
    "\n",
    "oven = Oven.new\n",
    "oven.turn_on\n",
    "oven.bake(\"Pepperoni Pizza\")"
   ]
  },
  {
   "cell_type": "code",
   "execution_count": 9,
   "id": "b706377e",
   "metadata": {},
   "outputs": [
    {
     "name": "stdout",
     "output_type": "stream",
     "text": [
      "Please turn the oven on first!\n",
      "I'll turn the oven on for you and try again\n",
      "Baking Pepperoni Pizza\n"
     ]
    }
   ],
   "source": [
    "#\n",
    "#                           BasicObject\n",
    "#                                |\n",
    "#                             Object\n",
    "#                                |\n",
    "#                            Exception (defines the message method and others)\n",
    "#                                |\n",
    "#          StandardError | Syntax Error | NoMemoryError |\n",
    "#              |   |\n",
    "#              |   |\n",
    "#              /    \\\n",
    "#   ArgumentError   TypeError\n",
    "#\n",
    "\n",
    "class OvenIsOffError < StandardError\n",
    "end\n",
    "\n",
    "class Oven\n",
    "  attr_accessor :state\n",
    "\n",
    "  def initialize\n",
    "    @state = \"off\"\n",
    "  end\n",
    "\n",
    "  def turn_on\n",
    "    self.state = \"on\"\n",
    "  end\n",
    "\n",
    "  def bake(item)\n",
    "    raise OvenIsOffError, \"Please turn the oven on first!\" if state == \"off\"  \n",
    "    puts \"Baking #{item}\"\n",
    "  end\n",
    "end\n",
    "\n",
    "oven = Oven.new\n",
    "\n",
    "begin\n",
    "  oven.bake(\"Pepperoni Pizza\")\n",
    "rescue OvenIsOffError => e\n",
    "  puts e.message\n",
    "  puts \"I'll turn the oven on for you and try again\"\n",
    "  oven.turn_on\n",
    "  retry\n",
    "end"
   ]
  },
  {
   "cell_type": "code",
   "execution_count": 11,
   "id": "98d809a8",
   "metadata": {},
   "outputs": [
    {
     "name": "stdout",
     "output_type": "stream",
     "text": [
      "Please turn the oven on first!\n",
      "I'll turn the oven on for you and try again\n",
      "Baking Pepperoni Pizza\n"
     ]
    }
   ],
   "source": [
    "#\n",
    "#                           BasicObject\n",
    "#                                |\n",
    "#                             Object\n",
    "#                                |\n",
    "#                            Exception (defines the message method and others)\n",
    "#                                |\n",
    "#          StandardError | Syntax Error | NoMemoryError |\n",
    "#              |   |\n",
    "#              |   |\n",
    "#              /    \\\n",
    "#   ArgumentError   TypeError\n",
    "#\n",
    "\n",
    "class OvenIsOffError < StandardError\n",
    "end\n",
    "\n",
    "class Oven\n",
    "  attr_accessor :state\n",
    "\n",
    "  def initialize\n",
    "    @state = \"off\"\n",
    "  end\n",
    "\n",
    "  def turn_on\n",
    "    self.state = \"on\"\n",
    "  end\n",
    "\n",
    "  def bake(item)\n",
    "    raise OvenIsOffError, \"Please turn the oven on first!\" if state == \"off\"  \n",
    "    puts \"Baking #{item}\"\n",
    "  end\n",
    "end\n",
    "\n",
    "oven = Oven.new\n",
    "\n",
    "begin\n",
    "  oven.bake(\"Pepperoni Pizza\")\n",
    "rescue OvenIsOffError => e\n",
    "  puts e.message\n",
    "  puts \"I'll turn the oven on for you and try again\"\n",
    "  oven.turn_on\n",
    "  retry\n",
    "end"
   ]
  },
  {
   "cell_type": "code",
   "execution_count": 21,
   "id": "c89c5516",
   "metadata": {},
   "outputs": [
    {
     "data": {
      "text/plain": [
       "10"
      ]
     },
     "execution_count": 21,
     "metadata": {},
     "output_type": "execute_result"
    }
   ],
   "source": [
    "\n",
    "# Question \n",
    "# Below, you'll find a Truck class definition. A truck \n",
    "# has 18 wheels and a tank of gas. \n",
    "#\n",
    "# We want to raise an error if a driver attempts to drive\n",
    "# a truck that has a missing wheel or an empty tank of gas.\n",
    "#\n",
    "# Define two custom error classes\n",
    "#     - WheelMissingError\n",
    "#     - InsufficientGasError\n",
    "#\n",
    "# When the drive method is invoked, raise a WheelMissingError\n",
    "# if there are less than 18 wheels on the truck.\n",
    "# Provide an error message of \"Replace your wheel!\"\n",
    "#\n",
    "# When the drive method is invoked, raise an InsufficientGasError\n",
    "# if there are less than 0 gallons in the car.\n",
    "# Provide an error message of \"Fill up your tank!\"\n",
    "#\n",
    "# Examples:\n",
    "# The => indicates the expected return value\n",
    "#\n",
    "# truck = Truck.new\n",
    "# truck.fill_up_tank\n",
    "# truck.drive\n",
    "# truck.drive\n",
    "# truck.drive  -> Raises InsufficientGasError\n",
    "# truck.fill_up_tank\n",
    "# truck.lose_wheel\n",
    "# truck.drive  -> Raises WheelMissingError\n",
    "\n",
    "#class Truck\n",
    "#  attr_reader :wheels, :gallons_of_gas\n",
    "  \n",
    "#  def initialize\n",
    "#    @wheels = 18\n",
    "#    @gallons_of_gas = 0\n",
    "#  end\n",
    "  \n",
    "#  def lose_wheel\n",
    "#    @wheels -= 1\n",
    "#  end\n",
    "  \n",
    "#  def fill_up_tank\n",
    "#    @gallons_of_gas += 20\n",
    "#  end\n",
    "  \n",
    "#  def drive\n",
    "#    @gallons_of_gas -= 10\n",
    "#  end\n",
    "#end\n",
    "\n",
    "\n",
    "class WheelMissingError < StandardError\n",
    "  def initialize(msg=\"Replace your wheel!\")\n",
    "    super\n",
    "  end\n",
    "end\n",
    "\n",
    "class InsufficientGasError < StandardError\n",
    "  def initialize(msg=\"Fill up your tank!\")\n",
    "    super\n",
    "  end\n",
    "end\n",
    "\n",
    "class Truck\n",
    "  attr_reader :wheels, :gallons_of_gas\n",
    "  \n",
    "  def initialize\n",
    "    @wheels = 18\n",
    "    @gallons_of_gas = 0\n",
    "  end\n",
    "  \n",
    "  def lose_wheel\n",
    "    @wheels -= 1\n",
    "  end\n",
    "  \n",
    "  def fill_up_tank\n",
    "    @gallons_of_gas += 20\n",
    "  end\n",
    "  \n",
    "  def drive\n",
    "    raise WheelMissingError if @wheels < 18\n",
    "    raise InsufficientGasError if @gallons_of_gas <= 0\n",
    "    \n",
    "    @gallons_of_gas -= 10\n",
    "  end\n",
    "end\n",
    "\n",
    "# Example Usage:\n",
    "#truck = Truck.new\n",
    "#truck.fill_up_tank\n",
    "#truck.drive\n",
    "#truck.drive\n",
    "#truck.drive  #-> Raises InsufficientGasError\n",
    "#truck.fill_up_tank\n",
    "#truck.drive\n",
    "#truck.lose_wheel\n",
    "#truck.drive  #-> Raises WheelMissingError\n",
    "\n"
   ]
  },
  {
   "cell_type": "code",
   "execution_count": null,
   "id": "ea243487",
   "metadata": {},
   "outputs": [],
   "source": []
  }
 ],
 "metadata": {
  "kernelspec": {
   "display_name": "Ruby 3.2.2",
   "language": "ruby",
   "name": "ruby"
  },
  "language_info": {
   "file_extension": ".rb",
   "mimetype": "application/x-ruby",
   "name": "ruby",
   "version": "3.2.2"
  }
 },
 "nbformat": 4,
 "nbformat_minor": 5
}
