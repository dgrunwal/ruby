{
 "cells": [
  {
   "cell_type": "code",
   "execution_count": null,
   "id": "92839acd",
   "metadata": {},
   "outputs": [],
   "source": [
    "# Iterators in Ruby.  \n",
    "# In Ruby, iterators are a fundamental concept used to loop through collections (arrays, hashes, etc.) or custom data structures."
   ]
  },
  {
   "cell_type": "code",
   "execution_count": 3,
   "id": "87468900",
   "metadata": {},
   "outputs": [
    {
     "name": "stdout",
     "output_type": "stream",
     "text": [
      "Current number is: 1\n",
      "Current number is: 2\n",
      "Current number is: 3\n",
      "Current number is: 4\n",
      "Current number is: 5\n"
     ]
    },
    {
     "data": {
      "text/plain": [
       "[1, 2, 3, 4, 5]"
      ]
     },
     "execution_count": 3,
     "metadata": {},
     "output_type": "execute_result"
    }
   ],
   "source": [
    "# Define an array of numbers\n",
    "numbers = [1, 2, 3, 4, 5]\n",
    "\n",
    "# Iterate through the array using the each iterator\n",
    "numbers.each do |number|\n",
    "  puts \"Current number is: #{number}\"\n",
    "end\n"
   ]
  },
  {
   "cell_type": "code",
   "execution_count": 4,
   "id": "01aaa3b0",
   "metadata": {},
   "outputs": [
    {
     "name": "stdout",
     "output_type": "stream",
     "text": [
      "People in the collection:\n",
      "Name: Alice, Age: 30\n",
      "Name: Bob, Age: 35\n",
      "Name: Charlie, Age: 28\n"
     ]
    },
    {
     "data": {
      "text/plain": [
       "[#<#<Class:0x00000149cd18ae80>::Person:0x00000149cdcc4940 @name=\"Alice\", @age=30>, #<#<Class:0x00000149cd18ae80>::Person:0x00000149cdcc48a0 @name=\"Bob\", @age=35>, #<#<Class:0x00000149cd18ae80>::Person:0x00000149cdcc4828 @name=\"Charlie\", @age=28>]"
      ]
     },
     "execution_count": 4,
     "metadata": {},
     "output_type": "execute_result"
    }
   ],
   "source": [
    "# Define a Person class to represent individual persons.  This is an example of iterating through a custom data structure.\n",
    "\n",
    "class Person\n",
    "  attr_accessor :name, :age\n",
    "\n",
    "  def initialize(name, age)\n",
    "    @name = name\n",
    "    @age = age\n",
    "  end\n",
    "end\n",
    "\n",
    "# Define a custom iterator for the PersonCollection class\n",
    "class PersonCollection\n",
    "  include Enumerable\n",
    "\n",
    "  def initialize\n",
    "    @people = []\n",
    "  end\n",
    "\n",
    "  def add_person(person)\n",
    "    @people << person\n",
    "  end\n",
    "\n",
    "  # Implement the each method required by the Enumerable module\n",
    "  def each\n",
    "    @people.each { |person| yield person }\n",
    "  end\n",
    "end\n",
    "\n",
    "# Create instances of the Person class\n",
    "person1 = Person.new(\"Alice\", 30)\n",
    "person2 = Person.new(\"Bob\", 35)\n",
    "person3 = Person.new(\"Charlie\", 28)\n",
    "\n",
    "# Create a PersonCollection and add Person objects to it\n",
    "people_collection = PersonCollection.new\n",
    "people_collection.add_person(person1)\n",
    "people_collection.add_person(person2)\n",
    "people_collection.add_person(person3)\n",
    "\n",
    "# Iterate through the PersonCollection using each iterator\n",
    "puts \"People in the collection:\"\n",
    "people_collection.each do |person|\n",
    "  puts \"Name: #{person.name}, Age: #{person.age}\"\n",
    "end\n"
   ]
  },
  {
   "cell_type": "code",
   "execution_count": 7,
   "id": "98f7a69e",
   "metadata": {},
   "outputs": [
    {
     "name": "stdout",
     "output_type": "stream",
     "text": [
      "0\n",
      "1\n",
      "1\n",
      "2\n",
      "3\n",
      "5\n",
      "8\n",
      "13\n",
      "21\n",
      "34\n"
     ]
    }
   ],
   "source": [
    "#  External iterators 1.8+\n",
    " \n",
    "# Import the generator library\n",
    "# Define a generator function for Fibonacci numbers using Enumerator\n",
    "def fibonacci_generator\n",
    "  Enumerator.new do |yielder|\n",
    "    a, b = 0, 1\n",
    "    loop do\n",
    "      yielder.yield a\n",
    "      a, b = b, a + b\n",
    "    end\n",
    "  end\n",
    "end\n",
    "\n",
    "# Create a Fibonacci number generator using the generator function\n",
    "fibonacci = fibonacci_generator\n",
    "\n",
    "# Print the first 10 Fibonacci numbers using the generator\n",
    "count = 0\n",
    "fibonacci.each do |number|\n",
    "  puts number\n",
    "  count += 1\n",
    "  break if count >= 10\n",
    "end\n",
    "\n",
    "\n",
    "\n",
    "\n"
   ]
  },
  {
   "cell_type": "code",
   "execution_count": 1,
   "id": "c3f121e5",
   "metadata": {},
   "outputs": [
    {
     "name": "stdout",
     "output_type": "stream",
     "text": [
      "Can you hear me now?\n",
      "Can you hear me now?\n"
     ]
    }
   ],
   "source": [
    "# Iterator invoking a method in a block of code\n",
    "\n",
    "def say_it_again\n",
    "  yield\n",
    "  yield\n",
    "end\n",
    "\n",
    "say_it_again { puts \"Can you hear me now?\"}"
   ]
  },
  {
   "cell_type": "code",
   "execution_count": 6,
   "id": "8e85977b",
   "metadata": {},
   "outputs": [
    {
     "name": "stdout",
     "output_type": "stream",
     "text": [
      "Hello there Rubyist, hope day is good!\n"
     ]
    },
    {
     "data": {
      "text/plain": [
       "Hello there Rubyist, hope day is good!"
      ]
     },
     "execution_count": 6,
     "metadata": {},
     "output_type": "execute_result"
    }
   ],
   "source": [
    "# Define the file path (change it to your desired file path)\n",
    "file_path = \"example.txt\"\n",
    "\n",
    "# Initialize the file variable outside the block\n",
    "file = nil\n",
    "\n",
    "# Use a block with File.open to ensure the file is closed after its usage\n",
    "begin\n",
    "  file = File.open(file_path, \"r\")\n",
    "  file.each_line do |line|\n",
    "    puts line\n",
    "  end\n",
    "rescue Errno::ENOENT\n",
    "  puts \"Error: File not found!\"\n",
    "rescue => e\n",
    "  puts \"Error: #{e.message}\"\n",
    "ensure\n",
    "  # Ensure the file is closed even in case of abnormal termination\n",
    "  file.close if file && !file.closed?\n",
    "end\n"
   ]
  },
  {
   "cell_type": "code",
   "execution_count": 10,
   "id": "e87209a1",
   "metadata": {},
   "outputs": [
    {
     "name": "stdout",
     "output_type": "stream",
     "text": [
      "15\n"
     ]
    }
   ],
   "source": [
    "# Lambda example\n",
    "lambda_closure = lambda do |x|\n",
    "  y = 10\n",
    "  x + y\n",
    "end\n",
    "\n",
    "puts lambda_closure.call(5)  # Output: 15\n",
    "\n",
    "# The variable 'y' is enclosed within the lambda, forming a closure.\n",
    "# Lambdas enforce the number of arguments passed.\n"
   ]
  },
  {
   "cell_type": "code",
   "execution_count": 13,
   "id": "5de9304f",
   "metadata": {},
   "outputs": [
    {
     "name": "stdout",
     "output_type": "stream",
     "text": [
      "11\n"
     ]
    }
   ],
   "source": [
    "# Proc object example\n",
    "proc_closure = Proc.new do |x|\n",
    "  y = 10\n",
    "  x + y\n",
    "end\n",
    "\n",
    "puts proc_closure.call(1)  # Output: 15\n",
    "\n",
    "# Similar to lambda, Proc forms a closure capturing the variable 'y'.\n",
    "# Procs are more flexible regarding the number of arguments passed.\n"
   ]
  },
  {
   "cell_type": "code",
   "execution_count": 14,
   "id": "f8f32207",
   "metadata": {},
   "outputs": [
    {
     "name": "stdout",
     "output_type": "stream",
     "text": [
      "42\n",
      "100\n"
     ]
    }
   ],
   "source": [
    "# Container class example\n",
    "class Container\n",
    "  def initialize(value)\n",
    "    @value = value\n",
    "  end\n",
    "\n",
    "  def get_value\n",
    "    @value\n",
    "  end\n",
    "\n",
    "  def set_value(new_value)\n",
    "    @value = new_value\n",
    "  end\n",
    "end\n",
    "\n",
    "# Usage of the Container class\n",
    "my_container = Container.new(42)\n",
    "puts my_container.get_value  # Output: 42\n",
    "\n",
    "my_container.set_value(100)\n",
    "puts my_container.get_value  # Output: 100\n",
    "\n",
    "# The 'value' variable is enclosed within the Container class methods, forming a closure.\n",
    "# It provides encapsulation and allows controlled access to the variable.\n"
   ]
  },
  {
   "cell_type": "code",
   "execution_count": 15,
   "id": "6a74b7e1",
   "metadata": {},
   "outputs": [
    {
     "name": "stdout",
     "output_type": "stream",
     "text": [
      "0\n",
      "1\n",
      "1\n",
      "2\n",
      "3\n",
      "5\n",
      "8\n",
      "13\n",
      "21\n",
      "34\n"
     ]
    },
    {
     "data": {
      "text/plain": [
       "10"
      ]
     },
     "execution_count": 15,
     "metadata": {},
     "output_type": "execute_result"
    }
   ],
   "source": [
    "# A simple Ruby generator\n",
    "\n",
    "def fibonacci_generator\n",
    "  a, b = 0, 1\n",
    "  Enumerator.new do |yielder|\n",
    "    loop do\n",
    "      yielder << a\n",
    "      a, b = b, a + b\n",
    "    end\n",
    "  end\n",
    "end\n",
    "\n",
    "# Using the generator to get and a loop to print Fibonacci numbers\n",
    "fibonacci = fibonacci_generator\n",
    "\n",
    "10.times do\n",
    "  puts fibonacci.next\n",
    "end\n"
   ]
  },
  {
   "cell_type": "code",
   "execution_count": null,
   "id": "ca5b0c67",
   "metadata": {},
   "outputs": [],
   "source": []
  }
 ],
 "metadata": {
  "kernelspec": {
   "display_name": "Ruby 3.2.2",
   "language": "ruby",
   "name": "ruby"
  },
  "language_info": {
   "file_extension": ".rb",
   "mimetype": "application/x-ruby",
   "name": "ruby",
   "version": "3.2.2"
  }
 },
 "nbformat": 4,
 "nbformat_minor": 5
}
