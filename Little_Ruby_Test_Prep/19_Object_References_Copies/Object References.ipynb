{
 "cells": [
  {
   "cell_type": "code",
   "execution_count": 1,
   "id": "3c9dd7af",
   "metadata": {},
   "outputs": [
    {
     "name": "stdout",
     "output_type": "stream",
     "text": [
      "[1, 2, 3]\n",
      "[1, 2, 3]\n",
      "1760\n",
      "1760\n",
      "1780\n",
      "1800\n",
      "1820\n",
      "1840\n",
      "\n",
      "[1, 2, 3, 4]\n",
      "[1, 2, 3, 4]\n",
      "\n",
      "[1, 2, 3, 4, 5]\n",
      "[1, 2, 3, 4, 5]\n"
     ]
    },
    {
     "data": {
      "text/plain": [
       "[1, 2, 3, 4, 5]"
      ]
     },
     "execution_count": 1,
     "metadata": {},
     "output_type": "execute_result"
    }
   ],
   "source": [
    "a = [1, 2, 3]\n",
    "b = a\n",
    "\n",
    "p a\n",
    "p b\n",
    "p a.object_id\n",
    "p b.object_id\n",
    "p [1, 2, 3].object_id\n",
    "p [1, 2, 3].object_id\n",
    "p [1, 2, 3].object_id\n",
    "p [1, 2, 3].object_id\n",
    "\n",
    "puts\n",
    "\n",
    "a.push(4)\n",
    "p a\n",
    "p b\n",
    "\n",
    "puts\n",
    "\n",
    "b << 5\n",
    "p b\n",
    "p a"
   ]
  },
  {
   "cell_type": "code",
   "execution_count": 2,
   "id": "f00180cf",
   "metadata": {
    "scrolled": false
   },
   "outputs": [
    {
     "name": "stdout",
     "output_type": "stream",
     "text": [
      "1860\n",
      "1880\n",
      "1900\n",
      "[1, 2, 3, 4]\n",
      "[1, 2, 3]\n",
      "[1, 2, 3]\n",
      "\n",
      "\"SHOP RITE\"\n",
      "\"Shop Rite\"\n"
     ]
    },
    {
     "data": {
      "text/plain": [
       "\"Shop Rite\""
      ]
     },
     "execution_count": 2,
     "metadata": {},
     "output_type": "execute_result"
    }
   ],
   "source": [
    "a = [1, 2, 3]\n",
    "b = a.dup\n",
    "c = a.clone\n",
    "\n",
    "p a.object_id\n",
    "p b.object_id\n",
    "p c.object_id\n",
    "\n",
    "a.push(4)\n",
    "p a\n",
    "p b\n",
    "p c\n",
    "\n",
    "puts\n",
    "\n",
    "d = \"Shop Rite\"\n",
    "e = d.clone\n",
    "\n",
    "d.upcase!\n",
    "p d\n",
    "p e"
   ]
  },
  {
   "cell_type": "code",
   "execution_count": 4,
   "id": "c72dd219",
   "metadata": {},
   "outputs": [
    {
     "name": "stdout",
     "output_type": "stream",
     "text": [
      "\"Boris the Genius\"\n",
      "[\"Coding\", \"Sushi\", \"Winning\"]\n"
     ]
    },
    {
     "data": {
      "text/plain": [
       "[\"Coding\", \"Sushi\"]"
      ]
     },
     "execution_count": 4,
     "metadata": {},
     "output_type": "execute_result"
    }
   ],
   "source": [
    "# freeze - make it immutable prevents changes, stays frozen if try raises exception\n",
    "\n",
    "name = \"Boris\".freeze   \n",
    "hobbies = [\"Coding\", \"Sushi\"].freeze\n",
    "\n",
    "#name << \" the Genius\"  # FrozenError: can't modify frozen String: \"Boris\"\n",
    "#hobbies << \"Winning\"\n",
    "#name.upcase!\n",
    "\n",
    "name_dup = name.dup\n",
    "name_dup << \" the Genius\"\n",
    "p name_dup\n",
    "\n",
    "hobbies_dup = hobbies.dup\n",
    "hobbies_dup << \"Winning\"\n",
    "p hobbies_dup\n",
    "\n",
    "name_clone = name.clone\n",
    "# name_clone << \" the Genius\"\n",
    "\n",
    "hobbies_clone = hobbies.clone\n",
    "# hobbies_clone << \"Winning\""
   ]
  },
  {
   "cell_type": "code",
   "execution_count": 5,
   "id": "f075f963",
   "metadata": {},
   "outputs": [
    {
     "name": "stdout",
     "output_type": "stream",
     "text": [
      "[1, 2, 3, 4, 5]\n",
      "\"BORIS\"\n"
     ]
    },
    {
     "data": {
      "text/plain": [
       "\"BORIS\""
      ]
     },
     "execution_count": 5,
     "metadata": {},
     "output_type": "execute_result"
    }
   ],
   "source": [
    "def append_5(elements)\n",
    "  elements << 5\n",
    "end\n",
    "\n",
    "values = [1, 2, 3, 4]\n",
    "append_5(values)\n",
    "p values\n",
    "\n",
    "def uppercase(text)\n",
    "  text.upcase!\n",
    "end\n",
    "\n",
    "name = \"Boris\"\n",
    "uppercase(name)\n",
    "p name"
   ]
  },
  {
   "cell_type": "code",
   "execution_count": null,
   "id": "4855f326",
   "metadata": {},
   "outputs": [],
   "source": []
  }
 ],
 "metadata": {
  "kernelspec": {
   "display_name": "Ruby 3.2.2",
   "language": "ruby",
   "name": "ruby"
  },
  "language_info": {
   "file_extension": ".rb",
   "mimetype": "application/x-ruby",
   "name": "ruby",
   "version": "3.2.2"
  }
 },
 "nbformat": 4,
 "nbformat_minor": 5
}
