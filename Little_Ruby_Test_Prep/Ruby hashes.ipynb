{
 "cells": [
  {
   "cell_type": "code",
   "execution_count": 1,
   "id": "908f5005",
   "metadata": {},
   "outputs": [
    {
     "data": {
      "text/plain": [
       "{1=>1, 2=>3, 3=>3, 4=>1}"
      ]
     },
     "execution_count": 1,
     "metadata": {},
     "output_type": "execute_result"
    }
   ],
   "source": [
    "# hashes and itself\n",
    "\n",
    "arr = [1,2,2,2,3,3,3,4]\n",
    "arr.group_by(&:itself) \\\n",
    ".each_with_object({}) { |(k, v), hash| hash[k] = v.size }\n",
    "#=> {1=>1, 2=>3, 3=>3, 4=>1}\n"
   ]
  },
  {
   "cell_type": "code",
   "execution_count": 1,
   "id": "c6e434e2",
   "metadata": {},
   "outputs": [
    {
     "data": {
      "text/plain": [
       "{:bacon=>30, :chocolate=>50, :orange=>60}"
      ]
     },
     "execution_count": 1,
     "metadata": {},
     "output_type": "execute_result"
    }
   ],
   "source": [
    "# transform_values \n",
    "\n",
    "h = { bacon: 30, chocolate: 50, orange: 60}"
   ]
  },
  {
   "cell_type": "code",
   "execution_count": 2,
   "id": "9e6dcc66",
   "metadata": {},
   "outputs": [
    {
     "data": {
      "text/plain": [
       "{:bacon=>60, :chocolate=>100, :orange=>120}"
      ]
     },
     "execution_count": 2,
     "metadata": {},
     "output_type": "execute_result"
    }
   ],
   "source": [
    "# use of ! sets value of h in the example\n",
    "\n",
    "h.transform_values! { |v| v * 2}"
   ]
  },
  {
   "cell_type": "code",
   "execution_count": 3,
   "id": "174056fa",
   "metadata": {},
   "outputs": [
    {
     "name": "stdout",
     "output_type": "stream",
     "text": [
      "{:bacon=>60, :chocolate=>100, :orange=>120}\n"
     ]
    }
   ],
   "source": [
    "puts h"
   ]
  },
  {
   "cell_type": "code",
   "execution_count": 4,
   "id": "cdef7248",
   "metadata": {},
   "outputs": [
    {
     "data": {
      "text/plain": [
       "{\"b\"=>60, \"c\"=>100, \"o\"=>120}"
      ]
     },
     "execution_count": 4,
     "metadata": {},
     "output_type": "execute_result"
    }
   ],
   "source": [
    "h.transform_keys { |k| k[0] }"
   ]
  },
  {
   "cell_type": "code",
   "execution_count": 6,
   "id": "a8b47377",
   "metadata": {},
   "outputs": [
    {
     "data": {
      "text/plain": [
       "{\"b\"=>60, \"c\"=>100, \"o\"=>120}"
      ]
     },
     "execution_count": 6,
     "metadata": {},
     "output_type": "execute_result"
    }
   ],
   "source": [
    "# the ! sets changes to h\n",
    "\n",
    "h.transform_keys! { |k| k[0] }"
   ]
  },
  {
   "cell_type": "code",
   "execution_count": null,
   "id": "09f5ad39",
   "metadata": {},
   "outputs": [],
   "source": [
    "# Merging two hashesin Ruby\n",
    "\n"
   ]
  },
  {
   "cell_type": "code",
   "execution_count": 10,
   "id": "49291157",
   "metadata": {},
   "outputs": [
    {
     "data": {
      "text/plain": [
       "{:bacon=>1, :chocolate=>2}"
      ]
     },
     "execution_count": 10,
     "metadata": {},
     "output_type": "execute_result"
    }
   ],
   "source": [
    "a = {bacon: 1}\n",
    "b = {chocolate: 2}\n",
    "\n",
    "# combinine hashes\n",
    "\n",
    "a.merge(b)\n"
   ]
  },
  {
   "cell_type": "code",
   "execution_count": null,
   "id": "57b68978",
   "metadata": {},
   "outputs": [],
   "source": []
  }
 ],
 "metadata": {
  "kernelspec": {
   "display_name": "Ruby 3.2.2",
   "language": "ruby",
   "name": "ruby"
  },
  "language_info": {
   "file_extension": ".rb",
   "mimetype": "application/x-ruby",
   "name": "ruby",
   "version": "3.2.2"
  }
 },
 "nbformat": 4,
 "nbformat_minor": 5
}
