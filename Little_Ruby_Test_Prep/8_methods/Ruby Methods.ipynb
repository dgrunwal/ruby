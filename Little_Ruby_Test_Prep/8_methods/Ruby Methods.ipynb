{
 "cells": [
  {
   "cell_type": "code",
   "execution_count": 2,
   "id": "ebd2db71",
   "metadata": {},
   "outputs": [
    {
     "name": "stdout",
     "output_type": "stream",
     "text": [
      "I am studying Ruby\n",
      "I am learning methods\n",
      "I am practicing Ruby\n",
      "I am studying Ruby\n",
      "I am learning methods\n",
      "I am practicing Ruby\n",
      "I am studying Ruby\n",
      "I am learning methods\n",
      "I am practicing Ruby\n"
     ]
    }
   ],
   "source": [
    "def introduce_myself\n",
    "  puts \"I am studying Ruby\"\n",
    "  puts \"I am learning methods\"\n",
    "  puts \"I am practicing Ruby\"\n",
    "end\n",
    "\n",
    "introduce_myself\n",
    "introduce_myself\n",
    "introduce_myself()"
   ]
  },
  {
   "cell_type": "code",
   "execution_count": 3,
   "id": "0c7e3de7",
   "metadata": {},
   "outputs": [
    {
     "name": "stdout",
     "output_type": "stream",
     "text": [
      "Boris is amazing\n",
      "Boris is charming\n",
      "Boris is talented\n",
      "Bobby is amazing\n",
      "Bobby is charming\n",
      "Bobby is talented\n",
      "Debbie is amazing\n",
      "Debbie is charming\n",
      "Debbie is talented\n"
     ]
    }
   ],
   "source": [
    "# using parameters \n",
    "\n",
    "def praise_person(name)\n",
    "  puts \"#{name} is amazing\"\n",
    "  puts \"#{name} is charming\"\n",
    "  puts \"#{name} is talented\"\n",
    "end\n",
    "\n",
    "praise_person(\"Boris\")\n",
    "praise_person(\"Bobby\")\n",
    "praise_person \"Debbie\"\n",
    "\n",
    "# praise_person\n",
    "# praise_person(\"Debbie\", \"Ben\")"
   ]
  },
  {
   "cell_type": "code",
   "execution_count": 5,
   "id": "51a7e9bc",
   "metadata": {},
   "outputs": [
    {
     "name": "stdout",
     "output_type": "stream",
     "text": [
      "Boris is amazing\n",
      "Boris is charming\n",
      "Boris is talented\n",
      "They are 31 years old.\n"
     ]
    }
   ],
   "source": [
    "# multiple parameters\n",
    "\n",
    "def praise_person(name, age)\n",
    "  puts \"#{name} is amazing\"\n",
    "  puts \"#{name} is charming\"\n",
    "  puts \"#{name} is talented\"\n",
    "  puts \"They are #{age} years old.\"\n",
    "end\n",
    "\n",
    "praise_person(\"Boris\", 31)\n",
    "\n",
    "#Boris is amazing\n",
    "#Boris is charming\n",
    "#Boris is talented\n",
    "#They are 31 years old.\n",
    " "
   ]
  },
  {
   "cell_type": "code",
   "execution_count": 6,
   "id": "d223a23d",
   "metadata": {},
   "outputs": [
    {
     "name": "stdout",
     "output_type": "stream",
     "text": [
      "BORIS is amazing\n",
      "Boris is charming\n",
      "Boris is talented\n",
      "They are 36 years old.\n",
      "BOBBY is amazing\n",
      "Bobby is charming\n",
      "Bobby is talented\n",
      "They are 40 years old.\n"
     ]
    }
   ],
   "source": [
    "# maniplulate argument\n",
    "\n",
    "def praise_person(name, age)\n",
    "  puts \"#{name.upcase} is amazing\"\n",
    "  puts \"#{name} is charming\"\n",
    "  puts \"#{name} is talented\"\n",
    "  puts \"They are #{age + 5} years old.\"\n",
    "end\n",
    "\n",
    "praise_person(\"Boris\", 31)\n",
    "praise_person(\"Bobby\", 35)\n"
   ]
  },
  {
   "cell_type": "code",
   "execution_count": 7,
   "id": "50617b82",
   "metadata": {},
   "outputs": [
    {
     "name": "stdout",
     "output_type": "stream",
     "text": [
      "OK, I'm solving your math problem\n",
      "6\n"
     ]
    },
    {
     "data": {
      "text/plain": [
       "6"
      ]
     },
     "execution_count": 7,
     "metadata": {},
     "output_type": "execute_result"
    }
   ],
   "source": [
    "def add_two_numbers(num1, num2)\n",
    "  puts \"OK, I'm solving your math problem\"\n",
    "  return num1 + num2\n",
    "end\n",
    "\n",
    "result = add_two_numbers(1, 5)\n",
    "p result\n",
    "\n",
    "#  OK, I'm solving your math problem\n",
    "#  6"
   ]
  },
  {
   "cell_type": "code",
   "execution_count": 8,
   "id": "9e41b90a",
   "metadata": {},
   "outputs": [
    {
     "name": "stdout",
     "output_type": "stream",
     "text": [
      "The value of easy money is: 100\n"
     ]
    }
   ],
   "source": [
    "def easy_money\n",
    "  return 100\n",
    "end\n",
    "\n",
    "# Testing the method\n",
    "result = easy_money\n",
    "puts \"The value of easy money is: #{result}\"\n"
   ]
  },
  {
   "cell_type": "code",
   "execution_count": 9,
   "id": "b35bec3f",
   "metadata": {},
   "outputs": [
    {
     "name": "stdout",
     "output_type": "stream",
     "text": [
      "The best food ever is: Sushi\n"
     ]
    }
   ],
   "source": [
    "def best_food_ever\n",
    "  return \"Sushi\"\n",
    "end\n",
    "\n",
    "# Testing the method\n",
    "result = best_food_ever\n",
    "puts \"The best food ever is: #{result}\"\n"
   ]
  },
  {
   "cell_type": "code",
   "execution_count": 10,
   "id": "c7f6086f",
   "metadata": {},
   "outputs": [
    {
     "name": "stdout",
     "output_type": "stream",
     "text": [
      "$15\n",
      "$8\n"
     ]
    }
   ],
   "source": [
    "def convert_to_currency(number)\n",
    "  return \"$#{number}\"\n",
    "end\n",
    "\n",
    "# Testing the method\n",
    "puts convert_to_currency(15) # Output: \"$15\"\n",
    "puts convert_to_currency(8)  # Output: \"$8\"\n"
   ]
  },
  {
   "cell_type": "code",
   "execution_count": 12,
   "id": "00bc64b3",
   "metadata": {},
   "outputs": [
    {
     "name": "stdout",
     "output_type": "stream",
     "text": [
      "Dave the Wonderful\n",
      "Dave the Great\n"
     ]
    }
   ],
   "source": [
    "def title_assigner(name, suffix = \"the Great\")\n",
    "  \"#{name} #{suffix}\"\n",
    "end\n",
    "\n",
    "puts title_assigner(\"Dave\", \"the Wonderful\")\n",
    "puts title_assigner(\"Dave\")\n",
    "\n",
    "#  Dave the Wonderful\n",
    "#  Dave the Great"
   ]
  },
  {
   "cell_type": "code",
   "execution_count": 13,
   "id": "630a157a",
   "metadata": {},
   "outputs": [
    {
     "name": "stdout",
     "output_type": "stream",
     "text": [
      "21\n",
      "24\n",
      "112\n",
      "120\n"
     ]
    }
   ],
   "source": [
    "def calculate_meal_cost(amount, tip = 0.2)\n",
    "  total_cost = amount + (amount * tip)\n",
    "  return total_cost.round\n",
    "end\n",
    "\n",
    "# Examples\n",
    "puts calculate_meal_cost(20, 0.05)  # Output: 21\n",
    "puts calculate_meal_cost(20)        # Output: 24\n",
    "puts calculate_meal_cost(100, 0.12) # Output: 112\n",
    "puts calculate_meal_cost(100)       # Output: 120\n"
   ]
  },
  {
   "cell_type": "code",
   "execution_count": 14,
   "id": "0f5ea348",
   "metadata": {},
   "outputs": [
    {
     "name": "stdout",
     "output_type": "stream",
     "text": [
      "Hello World\n",
      "Emilio Estevez\n",
      "\n",
      "Tiger\n"
     ]
    }
   ],
   "source": [
    "def string_adder(str1 = \"\", str2 = \"\")\n",
    "  return \"#{str1} #{str2}\".strip\n",
    "end\n",
    "\n",
    "# Examples\n",
    "puts string_adder(\"Hello\", \"World\")     # Output: \"Hello World\"\n",
    "puts string_adder(\"Emilio\", \"Estevez\")  # Output: \"Emilio Estevez\"\n",
    "puts string_adder                        # Output: \" \"\n",
    "puts string_adder(\"Tiger\")              # Output: \"Tiger \"\n"
   ]
  },
  {
   "cell_type": "code",
   "execution_count": 18,
   "id": "8fa51cd2",
   "metadata": {},
   "outputs": [
    {
     "data": {
      "text/plain": [
       "\"Tiger \""
      ]
     },
     "execution_count": 18,
     "metadata": {},
     "output_type": "execute_result"
    }
   ],
   "source": [
    "def string_adder(a = \"\", b = \"\")\n",
    "  \"#{a} #{b}\"\n",
    "end\n",
    "\n",
    "string_adder(\"Hello\", \"World\")  #  \"Hello World\"   \n",
    "string_adder(\"Emilio\", \"Estevez\")   #  \"Emilio Estevez\" \n",
    "string_adder      # \" \"                    \n",
    "string_adder(\"Tiger\")    # \"Tiger \"           \n",
    "\n",
    "\n"
   ]
  },
  {
   "cell_type": "code",
   "execution_count": 20,
   "id": "00a26298",
   "metadata": {},
   "outputs": [
    {
     "name": "stdout",
     "output_type": "stream",
     "text": [
      "Ruby is awesome!\n",
      "I'm having fun learning it!\n",
      "Ruby is awesome!\n",
      "I'm having fun learning it!\n",
      "Ruby is awesome!\n",
      "I'm having fun learning it!\n",
      "3\n"
     ]
    }
   ],
   "source": [
    "# Blocks exist when attached directly to methods\n",
    "\n",
    "# Argument - object, concrete value\n",
    "# Blocks - a procedure, collection of code\n",
    "\n",
    "# 8.times { puts \"Ruby is awesome!\" }\n",
    "\n",
    "value = 3.times do\n",
    "  puts \"Ruby is awesome!\"\n",
    "  puts \"I'm having fun learning it!\"\n",
    "end\n",
    "\n",
    "puts value"
   ]
  },
  {
   "cell_type": "code",
   "execution_count": 3,
   "id": "19645940",
   "metadata": {},
   "outputs": [
    {
     "name": "stdout",
     "output_type": "stream",
     "text": [
      "MoneyMoneyMoneyMoneyMoneyMoneyMoneyMoney"
     ]
    },
    {
     "data": {
      "text/plain": [
       "0"
      ]
     },
     "execution_count": 3,
     "metadata": {},
     "output_type": "execute_result"
    }
   ],
   "source": [
    "def money_printer(times)\n",
    "  times.times { print \"Money\" }\n",
    "end\n",
    "\n",
    "money_printer(3) # Output: MoneyMoneyMoney\n",
    "money_printer(5) # Output: MoneyMoneyMoneyMoneyMoney\n",
    "money_printer(0) # Output: (No output)"
   ]
  },
  {
   "cell_type": "code",
   "execution_count": 5,
   "id": "de43fc19",
   "metadata": {},
   "outputs": [
    {
     "name": "stdout",
     "output_type": "stream",
     "text": [
      "HelloHelloHelloHelloHello"
     ]
    },
    {
     "data": {
      "text/plain": [
       "5"
      ]
     },
     "execution_count": 5,
     "metadata": {},
     "output_type": "execute_result"
    }
   ],
   "source": [
    "def print_five_times\n",
    "  5.times { print \"Hello\" }\n",
    "end\n",
    "\n",
    "print_five_times()"
   ]
  },
  {
   "cell_type": "code",
   "execution_count": 6,
   "id": "f7f949c6",
   "metadata": {},
   "outputs": [
    {
     "name": "stdout",
     "output_type": "stream",
     "text": [
      "0246810"
     ]
    },
    {
     "data": {
      "text/plain": [
       "0..5"
      ]
     },
     "execution_count": 6,
     "metadata": {},
     "output_type": "execute_result"
    }
   ],
   "source": [
    "def increments_of_two\n",
    "  (0..5).each { |num| print (num * 2).to_s }\n",
    "end\n",
    "\n",
    "increments_of_two"
   ]
  },
  {
   "cell_type": "code",
   "execution_count": null,
   "id": "38bf1c28",
   "metadata": {},
   "outputs": [],
   "source": []
  }
 ],
 "metadata": {
  "kernelspec": {
   "display_name": "Ruby 3.2.2",
   "language": "ruby",
   "name": "ruby"
  },
  "language_info": {
   "file_extension": ".rb",
   "mimetype": "application/x-ruby",
   "name": "ruby",
   "version": "3.2.2"
  }
 },
 "nbformat": 4,
 "nbformat_minor": 5
}
