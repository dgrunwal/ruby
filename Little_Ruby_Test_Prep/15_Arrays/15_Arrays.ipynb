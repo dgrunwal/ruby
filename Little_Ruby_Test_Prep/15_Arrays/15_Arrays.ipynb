{
 "cells": [
  {
   "cell_type": "code",
   "execution_count": null,
   "id": "c3f79d6b",
   "metadata": {},
   "outputs": [],
   "source": [
    "=begin\n",
    "\n",
    "https://ruby-doc.org/core-2.5.1/Array.html\n",
    "\n",
    "Creating Arrays¶ ↑\n",
    "A new array can be created by using the literal constructor []. Arrays can contain different types of objects. For example, the array below contains an Integer, a String and a Float:\n",
    "\n",
    "ary = [1, \"two\", 3.0] #=> [1, \"two\", 3.0]\n",
    "An array can also be created by explicitly calling Array.new with zero, one (the initial size of the Array) or two arguments (the initial size and a default object).\n",
    "\n",
    "ary = Array.new    #=> []\n",
    "Array.new(3)       #=> [nil, nil, nil]\n",
    "Array.new(3, true) #=> [true, true, true]\n",
    "Note that the second argument populates the array with references to the same object. Therefore, it is only recommended in cases when you need to instantiate arrays with natively immutable objects such as Symbols, numbers, true or false.\n",
    "\n",
    "To create an array with separate objects a block can be passed instead. This method is safe to use with mutable objects such as hashes, strings or other arrays:\n",
    "\n",
    "Array.new(4) { Hash.new }  #=> [{}, {}, {}, {}]\n",
    "Array.new(4) {|i| i.to_s } #=> [\"0\", \"1\", \"2\", \"3\"]\n",
    "This is also a quick way to build up multi-dimensional arrays:\n",
    "\n",
    "empty_table = Array.new(3) { Array.new(3) }\n",
    "#=> [[nil, nil, nil], [nil, nil, nil], [nil, nil, nil]]\n",
    "An array can also be created by using the Array() method, provided by Kernel, which tries to call to_ary, then to_a on its argument.\n",
    "\n",
    "Array({:a => \"a\", :b => \"b\"}) #=> [[:a, \"a\"], [:b, \"b\"]]\n",
    "Example Usage¶ ↑\n",
    "In addition to the methods it mixes in through the Enumerable module, the Array class has proprietary methods for accessing, searching and otherwise manipulating arrays.\n",
    "\n",
    "Some of the more common ones are illustrated below.\n",
    "\n",
    "Accessing Elements¶ ↑\n",
    "Elements in an array can be retrieved using the Array#[] method. It can take a single integer argument (a numeric index), a pair of arguments (start and length) or a range. Negative indices start counting from the end, with -1 being the last element.\n",
    "\n",
    "arr = [1, 2, 3, 4, 5, 6]\n",
    "arr[2]    #=> 3\n",
    "arr[100]  #=> nil\n",
    "arr[-3]   #=> 4\n",
    "arr[2, 3] #=> [3, 4, 5]\n",
    "arr[1..4] #=> [2, 3, 4, 5]\n",
    "arr[1..-3] #=> [2, 3, 4]\n",
    "Another way to access a particular array element is by using the at method\n",
    "\n",
    "arr.at(0) #=> 1\n",
    "The slice method works in an identical manner to Array#[].\n",
    "\n",
    "To raise an error for indices outside of the array bounds or else to provide a default value when that happens, you can use fetch.\n",
    "\n",
    "arr = ['a', 'b', 'c', 'd', 'e', 'f']\n",
    "arr.fetch(100) #=> IndexError: index 100 outside of array bounds: -6...6\n",
    "arr.fetch(100, \"oops\") #=> \"oops\"\n",
    "The special methods first and last will return the first and last elements of an array, respectively.\n",
    "\n",
    "arr.first #=> 1\n",
    "arr.last  #=> 6\n",
    "To return the first n elements of an array, use take\n",
    "\n",
    "arr.take(3) #=> [1, 2, 3]\n",
    "drop does the opposite of take, by returning the elements after n elements have been dropped:\n",
    "\n",
    "arr.drop(3) #=> [4, 5, 6]\n",
    "Obtaining Information about an Array¶ ↑\n",
    "Arrays keep track of their own length at all times. To query an array about the number of elements it contains, use length, count or size.\n",
    "\n",
    "browsers = ['Chrome', 'Firefox', 'Safari', 'Opera', 'IE']\n",
    "browsers.length #=> 5\n",
    "browsers.count #=> 5\n",
    "\n",
    "\n",
    "=end"
   ]
  },
  {
   "cell_type": "code",
   "execution_count": 1,
   "id": "99ae11f2",
   "metadata": {},
   "outputs": [
    {
     "name": "stdout",
     "output_type": "stream",
     "text": [
      "[4, 8, 15, 16, 23, 42]\n",
      "[4, true, \"Hello\", 10.99]\n",
      "[true, true, false, true, false]\n"
     ]
    },
    {
     "data": {
      "text/plain": [
       "[true, true, false, true, false]"
      ]
     },
     "execution_count": 1,
     "metadata": {},
     "output_type": "execute_result"
    }
   ],
   "source": [
    "# An array is an ordered list of objects.\n",
    "#\n",
    "# We often use the word “elements” to describe the items \n",
    "# inside the array.\n",
    "#\n",
    "# The array itself is an object. \n",
    "# Think of a box in the real world. \n",
    "# A box can hold multiple items inside of it. \n",
    "# The box is an object and the items inside of it are objects as well.\n",
    "\n",
    "numbers = [4, 8, 15, 16, 23, 42]\n",
    "p numbers\n",
    "\n",
    "things = [4, true, \"Hello\", 10.99]\n",
    "p things\n",
    "\n",
    "toys = [\"Teddy bear\", \"Water gun\", \"Board game\"]\n",
    "\n",
    "registrations = [true, true, false, true, false]\n",
    "p registrations"
   ]
  },
  {
   "cell_type": "code",
   "execution_count": 3,
   "id": "dc726e4e",
   "metadata": {},
   "outputs": [
    {
     "name": "stdout",
     "output_type": "stream",
     "text": [
      "[[\"Student\", \"Class\", \"Grade\"], [\"Sally\", \"Computer Science\", 95], [\"Ingrid\", \"Physics\", 45]]\n",
      "[\"Student\", \"Class\", \"Grade\"]\n",
      "[\"Sally\", \"Computer Science\", 95]\n",
      "[\"Ingrid\", \"Physics\", 45]\n"
     ]
    },
    {
     "data": {
      "text/plain": [
       "[\"Ingrid\", \"Physics\", 45]"
      ]
     },
     "execution_count": 3,
     "metadata": {},
     "output_type": "execute_result"
    }
   ],
   "source": [
    "# Column A, Column B\n",
    "# Row Value, Row Value\n",
    "\n",
    "spreadsheet = [\n",
    "  [\"Student\", \"Class\", \"Grade\"],\n",
    "  [\"Sally\", \"Computer Science\", 95],\n",
    "  [\"Ingrid\", \"Physics\", 45]\n",
    "]\n",
    "\n",
    "p spreadsheet\n",
    "\n",
    "first_row, second_row, third_row = spreadsheet\n",
    "\n",
    "p first_row\n",
    "p second_row\n",
    "p third_row"
   ]
  },
  {
   "cell_type": "code",
   "execution_count": 4,
   "id": "88fc8f55",
   "metadata": {},
   "outputs": [
    {
     "name": "stdout",
     "output_type": "stream",
     "text": [
      "[\"Jack\", \"Jill\", \"John\", \"James\"]\n",
      "[\"Jack\", \"Jill\", \"John\", \"James\"]\n"
     ]
    },
    {
     "data": {
      "text/plain": [
       "[\"Jack\", \"Jill\", \"John\", \"James\"]"
      ]
     },
     "execution_count": 4,
     "metadata": {},
     "output_type": "execute_result"
    }
   ],
   "source": [
    "names = [\"Jack\", \"Jill\", \"John\", \"James\"]\n",
    "p names\n",
    "\n",
    "names = %w[Jack Jill John James]\n",
    "p names"
   ]
  },
  {
   "cell_type": "code",
   "execution_count": 5,
   "id": "f6b4f6c2",
   "metadata": {},
   "outputs": [
    {
     "name": "stdout",
     "output_type": "stream",
     "text": [
      "[]\n"
     ]
    }
   ],
   "source": [
    "# returning an empty array\n",
    "\n",
    "def empty_array\n",
    "  return []\n",
    "end\n",
    "\n",
    "# Call the method to get an empty array\n",
    "result = empty_array\n",
    "puts result.inspect  # This will output an empty array: []"
   ]
  },
  {
   "cell_type": "code",
   "execution_count": 6,
   "id": "e516a3b5",
   "metadata": {},
   "outputs": [
    {
     "name": "stdout",
     "output_type": "stream",
     "text": [
      "[\"red\", \"green\", \"blue\"]\n"
     ]
    }
   ],
   "source": [
    "def three_colors\n",
    "  return [\"red\", \"green\", \"blue\"]\n",
    "end\n",
    "\n",
    "# Call the method to get an array with three colors\n",
    "result = three_colors\n",
    "puts result.inspect  # This will output [\"red\", \"green\", \"blue\"]\n"
   ]
  },
  {
   "cell_type": "code",
   "execution_count": 7,
   "id": "fd6e35b4",
   "metadata": {},
   "outputs": [
    {
     "name": "stdout",
     "output_type": "stream",
     "text": [
      "[7, 15, 23, 42, 56]\n"
     ]
    }
   ],
   "source": [
    "def five_favorite_numbers\n",
    "  return [7, 15, 23, 42, 56]\n",
    "end\n",
    "\n",
    "# Call the method to get an array of five favorite numbers\n",
    "result = five_favorite_numbers\n",
    "puts result.inspect  # This will output [7, 15, 23, 42, 56]\n"
   ]
  },
  {
   "cell_type": "code",
   "execution_count": 8,
   "id": "86db5877",
   "metadata": {},
   "outputs": [
    {
     "name": "stdout",
     "output_type": "stream",
     "text": [
      "Apple\n",
      "Orange\n",
      "Banana\n",
      "nil\n",
      "\n",
      "Banana\n",
      "Grape\n",
      "Apple\n",
      "nil\n",
      "\n",
      "Apple\n",
      "nil\n",
      "\"Orange\"\n",
      "\n",
      "Apple\n",
      "\n",
      "[\"Apple\", \"Watermelon\", \"Grape\", \"Banana\"]\n",
      "[\"Apple\", \"Watermelon\", \"Grape\", \"Banana\", \"Raspberry\"]\n",
      "[\"Apple\", \"Watermelon\", \"Grape\", \"Banana\", \"Raspberry\", nil, nil, nil, nil, nil, \"Kiwi\"]\n"
     ]
    },
    {
     "data": {
      "text/plain": [
       "[\"Apple\", \"Watermelon\", \"Grape\", \"Banana\", \"Raspberry\", nil, nil, nil, nil, nil, \"Kiwi\"]"
      ]
     },
     "execution_count": 8,
     "metadata": {},
     "output_type": "execute_result"
    }
   ],
   "source": [
    "fruits = [\"Apple\", \"Orange\", \"Grape\", \"Banana\"]\n",
    "\n",
    "puts fruits[0]\n",
    "puts fruits[1]\n",
    "puts fruits[3]\n",
    "p fruits[100]\n",
    "\n",
    "puts\n",
    "\n",
    "puts fruits[-1]\n",
    "puts fruits[-2]\n",
    "puts fruits[-4]\n",
    "p fruits[-10]\n",
    "\n",
    "puts\n",
    "\n",
    "puts fruits.slice(0)\n",
    "p fruits.slice(10)\n",
    "p fruits.slice(-3)\n",
    "\n",
    "puts\n",
    "\n",
    "puts fruits.[](0)\n",
    "\n",
    "puts\n",
    "\n",
    "fruits[1] = \"Watermelon\"\n",
    "p fruits\n",
    "\n",
    "fruits[4] = \"Raspberry\"\n",
    "p fruits\n",
    "\n",
    "fruits[10] = \"Kiwi\"\n",
    "p fruits"
   ]
  },
  {
   "cell_type": "code",
   "execution_count": 10,
   "id": "640a8068",
   "metadata": {},
   "outputs": [
    {
     "name": "stdout",
     "output_type": "stream",
     "text": [
      "Heathrow\n",
      "LAX\n",
      "Some Airport\n",
      "LAX\n"
     ]
    }
   ],
   "source": [
    "airports = [\"JFK\", \"LAX\", \"Heathrow\"]\n",
    "\n",
    "puts airports.fetch(2)\n",
    "puts airports.fetch(-2)\n",
    "# puts airports.fetch(100)\n",
    "\n",
    "puts airports.fetch(100, \"Some Airport\")\n",
    "puts airports.fetch(1, \"Some Airport\")"
   ]
  },
  {
   "cell_type": "code",
   "execution_count": 11,
   "id": "6ae2be94",
   "metadata": {},
   "outputs": [
    {
     "name": "stdout",
     "output_type": "stream",
     "text": [
      "ac\n",
      "bobrob\n",
      "aa\n"
     ]
    }
   ],
   "source": [
    "def first_and_last(arr)\n",
    "  arr.first + arr.last\n",
    "end\n",
    "\n",
    "# Test cases\n",
    "puts first_and_last([\"a\", \"b\", \"c\"])       # Output: \"ac\"\n",
    "puts first_and_last([\"bob\", \"tom\", \"rob\"]) # Output: \"bobrob\"\n",
    "puts first_and_last([\"a\"])                 # Output: \"aa\"\n"
   ]
  },
  {
   "cell_type": "code",
   "execution_count": 12,
   "id": "42126d7a",
   "metadata": {},
   "outputs": [
    {
     "name": "stdout",
     "output_type": "stream",
     "text": [
      "15\n",
      "27\n"
     ]
    }
   ],
   "source": [
    "def product_of_even_indices(arr)\n",
    "  arr.values_at(0, 2, 4).reduce(:*)\n",
    "end\n",
    "\n",
    "# Test cases\n",
    "puts product_of_even_indices([1, 2, 3, 4, 5, 6])    # Output: 15\n",
    "puts product_of_even_indices([3, 4, 3, 5, 3, 6])    # Output: 27\n"
   ]
  },
  {
   "cell_type": "code",
   "execution_count": 13,
   "id": "51056318",
   "metadata": {},
   "outputs": [
    {
     "name": "stdout",
     "output_type": "stream",
     "text": [
      "z\n",
      "n\n"
     ]
    }
   ],
   "source": [
    "def first_letter_of_last_string(arr)\n",
    "  arr.last[0]\n",
    "end\n",
    "\n",
    "# Test cases\n",
    "puts first_letter_of_last_string([\"cat\", \"dog\", \"zebra\"]) # Output: \"z\"\n",
    "puts first_letter_of_last_string([\"nonsense\"])            # Output:\n"
   ]
  },
  {
   "cell_type": "code",
   "execution_count": 14,
   "id": "a44c4991",
   "metadata": {},
   "outputs": [
    {
     "name": "stdout",
     "output_type": "stream",
     "text": [
      "\"Salmon\"\n",
      "[\"Salmon\", \"Tuna\", \"Shrimp\", \"Eel\"]\n",
      "[\"Salmon\", \"Tuna\", \"Shrimp\"]\n",
      "[\"Salmon\"]\n",
      "\n",
      "\"Yellowtail\"\n",
      "[\"Shrimp\", \"Eel\", \"Yellowtail\"]\n",
      "[\"Yellowtail\"]\n"
     ]
    },
    {
     "data": {
      "text/plain": [
       "[\"Yellowtail\"]"
      ]
     },
     "execution_count": 14,
     "metadata": {},
     "output_type": "execute_result"
    }
   ],
   "source": [
    "sushi = [\"Salmon\", \"Tuna\", \"Shrimp\", \"Eel\", \"Yellowtail\"]\n",
    "\n",
    "p sushi.first \n",
    "p sushi.first(4)\n",
    "p sushi.first(3)\n",
    "p sushi.first(1)\n",
    "\n",
    "puts\n",
    "\n",
    "p sushi.last\n",
    "p sushi.last(3)\n",
    "p sushi.last(1)"
   ]
  },
  {
   "cell_type": "code",
   "execution_count": 15,
   "id": "65ef40fc",
   "metadata": {},
   "outputs": [
    {
     "name": "stdout",
     "output_type": "stream",
     "text": [
      "[\"Elmo\", \"Big Bird\", \"Cookie Monster\"]\n",
      "[\"Cookie Monster\", \"Bert\", \"Ernie\", \"Oscar\"]\n",
      "[\"Bert\"]\n",
      "[\"Bert\", \"Ernie\", \"Oscar\"]\n",
      "\n",
      "[\"Elmo\", \"Big Bird\", \"Cookie Monster\"]\n",
      "[\"Cookie Monster\", \"Bert\", \"Ernie\", \"Oscar\"]\n",
      "[\"Bert\"]\n",
      "[\"Bert\", \"Ernie\", \"Oscar\"]\n",
      "\n",
      "[\"Elmo\", \"Big Bird\", \"Cookie Monster\", \"Stinky\", \"Kermit\", \"Oscar\"]\n",
      "[\"Elmo\", \"Big Bird\", \"Cookie Monster\", \"Bert\", \"Ernie\", \"Julia\", \"Oscar\"]\n"
     ]
    },
    {
     "data": {
      "text/plain": [
       "[\"Elmo\", \"Big Bird\", \"Cookie Monster\", \"Bert\", \"Ernie\", \"Julia\", \"Oscar\"]"
      ]
     },
     "execution_count": 15,
     "metadata": {},
     "output_type": "execute_result"
    }
   ],
   "source": [
    "sesame_street = [\n",
    "  \"Elmo\",\n",
    "  \"Big Bird\",\n",
    "  \"Cookie Monster\",\n",
    "  \"Bert\",\n",
    "  \"Ernie\",\n",
    "  \"Oscar\"\n",
    "]\n",
    "\n",
    "p sesame_street[0, 3]\n",
    "p sesame_street[2, 4]\n",
    "p sesame_street[3, 1]\n",
    "p sesame_street[3, 10]\n",
    "\n",
    "puts\n",
    "\n",
    "p sesame_street.slice(0, 3)\n",
    "p sesame_street.slice(2, 4)\n",
    "p sesame_street.slice(3, 1)\n",
    "p sesame_street.slice(3, 10)\n",
    "\n",
    "puts\n",
    "\n",
    "sesame_street[3, 2] = [\"Stinky\", \"Kermit\"]\n",
    "p sesame_street\n",
    "\n",
    "sesame_street[3, 2] = [\"Bert\", \"Ernie\", \"Julia\"]\n",
    "p sesame_street"
   ]
  },
  {
   "cell_type": "code",
   "execution_count": 18,
   "id": "d6e60085",
   "metadata": {
    "scrolled": true
   },
   "outputs": [
    {
     "name": "stdout",
     "output_type": "stream",
     "text": [
      "14\n",
      "4\n",
      "3\n",
      "0\n",
      "4\n",
      "3\n",
      "0\n",
      "\n",
      "6\n",
      "1\n",
      "2\n",
      "1\n"
     ]
    }
   ],
   "source": [
    "puts \"Double Whopper\".length\n",
    "\n",
    "puts [1, 2, 3, 4].length\n",
    "puts [\"Hi\", \"there\", nil].length\n",
    "puts [].length\n",
    "puts [1, 2, 3, 4].size\n",
    "puts [\"Hi\", \"there\", nil].size\n",
    "puts [].size\n",
    "\n",
    "puts \n",
    "\n",
    "puts [1, 2, 3, 4, 5, 2].count\n",
    "puts [1, 2, 3, 4, 5, 2].count(5)\n",
    "puts [1, 2, 3, 4, 5, 2].count(2)\n",
    "puts [1, 2, 3].count(1)"
   ]
  },
  {
   "cell_type": "code",
   "execution_count": 19,
   "id": "99a2555f",
   "metadata": {},
   "outputs": [
    {
     "name": "stdout",
     "output_type": "stream",
     "text": [
      "[[\"A\"], [\"B\"]]\n",
      "[[\"A\", \"B\"], [\"C\", \"D\"]]\n",
      "[[\"A\", \"B\"], [\"C\"]]\n",
      "[[\"A\", \"B\", \"C\"], [\"D\", \"E\"]]\n"
     ]
    },
    {
     "data": {
      "text/plain": [
       "[[\"A\", \"B\", \"C\"], [\"D\", \"E\"]]"
      ]
     },
     "execution_count": 19,
     "metadata": {},
     "output_type": "execute_result"
    }
   ],
   "source": [
    "def split_in_two(arr)\n",
    "  midpoint = (arr.length + 1) / 2\n",
    "  [arr.take(midpoint), arr.drop(midpoint)]\n",
    "end\n",
    "\n",
    "# Test cases\n",
    "p split_in_two([\"A\", \"B\"])                # Output: [[\"A\"], [\"B\"]]\n",
    "p split_in_two([\"A\", \"B\", \"C\", \"D\"])      # Output: [[\"A\", \"B\"], [\"C\", \"D\"]]\n",
    "p split_in_two([\"A\", \"B\", \"C\"])           # Output: [[\"A\", \"B\"], [\"C\"]]\n",
    "p split_in_two([\"A\", \"B\", \"C\", \"D\", \"E\"]) # Output: [[\"A\", \"B\", \"C\"], [\"D\", \"E\"]]\n"
   ]
  },
  {
   "cell_type": "code",
   "execution_count": 22,
   "id": "935c2b02",
   "metadata": {},
   "outputs": [
    {
     "name": "stdout",
     "output_type": "stream",
     "text": [
      "false\n",
      "true\n",
      "true\n",
      "\n",
      "false\n",
      "true\n"
     ]
    }
   ],
   "source": [
    "puts [\"A\", \"B\"].empty?\n",
    "puts [].empty?\n",
    "puts [].length == 0\n",
    "\n",
    "puts\n",
    "\n",
    "puts [].nil?\n",
    "puts nil.nil?"
   ]
  },
  {
   "cell_type": "code",
   "execution_count": 24,
   "id": "c63f5ce5",
   "metadata": {},
   "outputs": [
    {
     "name": "stdout",
     "output_type": "stream",
     "text": [
      "true\n",
      "false\n",
      "false\n",
      "\n",
      "false\n",
      "true\n",
      "true\n"
     ]
    }
   ],
   "source": [
    " candy = [\"Skittles\", \"Starbursts\", \"Snickers\"]\n",
    " vegetables = [\"Radishes\", \"Onions\"]\n",
    " desserts = [\"Skittles\", \"Starbursts\", \"Snickers\"]\n",
    " sweets = [\"Skittles\", \"Starbursts\", \"snickers\"]\n",
    "\n",
    " puts candy == desserts\n",
    " puts candy == vegetables\n",
    " puts candy == sweets\n",
    "\n",
    " puts\n",
    "\n",
    " puts candy != desserts\n",
    " puts candy != vegetables\n",
    " puts candy != sweets"
   ]
  },
  {
   "cell_type": "code",
   "execution_count": 27,
   "id": "24ffb67c",
   "metadata": {
    "scrolled": true
   },
   "outputs": [
    {
     "name": "stdout",
     "output_type": "stream",
     "text": [
      "0\n",
      "0\n",
      "-1\n",
      "-1\n",
      "1\n",
      "1\n",
      "nil\n",
      "nil\n"
     ]
    }
   ],
   "source": [
    "# Spaceship Operator <=>\n",
    "# Returns -1, 0, 1, or nil\n",
    "\n",
    "# Returns 0 if two values are equal\n",
    "p 5 <=> 5\n",
    "p [3, 4, 5] <=> [3, 4, 5]\n",
    "\n",
    "# Returns -1 if the value on the left is smaller\n",
    "p 5 <=> 10\n",
    "p [1, 2, 4] <=> [1, 2, 10]\n",
    "\n",
    "# Returns 1 if the value on the left is greater\n",
    "p 5 <=> 3\n",
    "p [1, 10, 5] <=> [1, 5, 8]\n",
    "\n",
    "# Returns nil if the values are incomparable\n",
    "p 5 <=> [1, 2, 3]\n",
    "p [nil, 1, 2] <=> [0, 1, 2]\n"
   ]
  },
  {
   "cell_type": "code",
   "execution_count": 26,
   "id": "634aac46",
   "metadata": {},
   "outputs": [
    {
     "name": "stdout",
     "output_type": "stream",
     "text": [
      "[\"French Onion\", \"Clam Chowder\", \"Chicken Noodle\", \"Miso\"]\n",
      "[\"French Onion\", \"Clam Chowder\", \"Chicken Noodle\", \"Miso\", \"Wonton\", \"Hot and Sour\"]\n",
      "[\"Airport\", \"Bar\", \"Saloon\", \"House\"]\n",
      "[\"Airport\", \"Bar\", \"Saloon\", \"House\", \"Rodeo\", \"Theme Park\"]\n"
     ]
    },
    {
     "data": {
      "text/plain": [
       "[\"Airport\", \"Bar\", \"Saloon\", \"House\", \"Rodeo\", \"Theme Park\"]"
      ]
     },
     "execution_count": 26,
     "metadata": {},
     "output_type": "execute_result"
    }
   ],
   "source": [
    "soups = [\"French Onion\", \"Clam Chowder\", \"Chicken Noodle\"]\n",
    "\n",
    "soups.push(\"Miso\")\n",
    "p soups\n",
    "\n",
    "soups.push(\"Wonton\", \"Hot and Sour\")\n",
    "p soups\n",
    "\n",
    "locations = [\"Airport\", \"Bar\", \"Saloon\"]\n",
    "locations << \"House\"\n",
    "p locations\n",
    "\n",
    "locations << \"Rodeo\" << \"Theme Park\"\n",
    "p locations"
   ]
  },
  {
   "cell_type": "code",
   "execution_count": 28,
   "id": "39866b1c",
   "metadata": {},
   "outputs": [
    {
     "name": "stdout",
     "output_type": "stream",
     "text": [
      "[19.99, 49.99, 29.43, 3.87]\n",
      "[1.23, 4.56, 7.89, 19.99, 49.99, 29.43, 3.87]\n",
      "[1, 2, 3, nil, nil, nil, nil, nil, 1000]\n"
     ]
    },
    {
     "data": {
      "text/plain": [
       "[1, 2, 3, nil, nil, nil, nil, nil, 1000]"
      ]
     },
     "execution_count": 28,
     "metadata": {},
     "output_type": "execute_result"
    }
   ],
   "source": [
    "credit_card_transactions = [19.99, 29.43, 3.87]\n",
    "\n",
    "credit_card_transactions.insert(1, 49.99)\n",
    "p credit_card_transactions\n",
    "\n",
    "credit_card_transactions.insert(0, 1.23, 4.56, 7.89)\n",
    "p credit_card_transactions\n",
    "\n",
    "p [1, 2, 3].insert(8, 1000)"
   ]
  },
  {
   "cell_type": "code",
   "execution_count": 29,
   "id": "928f1620",
   "metadata": {},
   "outputs": [
    {
     "name": "stdout",
     "output_type": "stream",
     "text": [
      "[\"Chocolate\", \"Kiwi\", \"Peach\", \"Plum\", \"Strawberry\", \"Taro\"]\n",
      "\"Taro\"\n",
      "[\"Chocolate\", \"Kiwi\", \"Peach\", \"Plum\", \"Strawberry\"]\n",
      "\n",
      "[\"Strawberry\"]\n",
      "[\"Chocolate\", \"Kiwi\", \"Peach\", \"Plum\"]\n",
      "\n",
      "[\"Peach\", \"Plum\"]\n",
      "[\"Chocolate\", \"Kiwi\"]\n"
     ]
    },
    {
     "data": {
      "text/plain": [
       "[\"Chocolate\", \"Kiwi\"]"
      ]
     },
     "execution_count": 29,
     "metadata": {},
     "output_type": "execute_result"
    }
   ],
   "source": [
    "bubble_tea_flavors = [\n",
    "  \"Chocolate\", \"Kiwi\", \"Peach\", \"Plum\", \"Strawberry\", \"Taro\"\n",
    "]\n",
    "p bubble_tea_flavors\n",
    "\n",
    "p bubble_tea_flavors.pop\n",
    "p bubble_tea_flavors\n",
    "\n",
    "puts\n",
    "\n",
    "p bubble_tea_flavors.pop(1)\n",
    "p bubble_tea_flavors\n",
    "\n",
    "puts\n",
    "\n",
    "p bubble_tea_flavors.pop(2)\n",
    "p bubble_tea_flavors"
   ]
  },
  {
   "cell_type": "code",
   "execution_count": 31,
   "id": "6ee3dfe6",
   "metadata": {},
   "outputs": [
    {
     "name": "stdout",
     "output_type": "stream",
     "text": [
      "\"meter\"\n",
      "[\"kilogram\", \"second\", \"ampere\"]\n",
      "[\"kilogram\", \"second\"]\n",
      "[\"ampere\"]\n",
      "\n",
      "[\"yard\", \"ampere\"]\n",
      "[\"inches\", \"miles\", \"yard\", \"ampere\"]\n"
     ]
    },
    {
     "data": {
      "text/plain": [
       "[\"inches\", \"miles\", \"yard\", \"ampere\"]"
      ]
     },
     "execution_count": 31,
     "metadata": {},
     "output_type": "execute_result"
    }
   ],
   "source": [
    "units = [\"meter\", \"kilogram\", \"second\", \"ampere\"]\n",
    "\n",
    "p units.shift\n",
    "p units\n",
    "\n",
    "p units.shift(2)\n",
    "p units\n",
    "\n",
    "puts\n",
    "\n",
    "units.unshift(\"yard\")\n",
    "p units\n",
    "\n",
    "units.unshift(\"inches\", \"miles\")\n",
    "p units"
   ]
  },
  {
   "cell_type": "code",
   "execution_count": null,
   "id": "87d289e5",
   "metadata": {},
   "outputs": [],
   "source": []
  }
 ],
 "metadata": {
  "kernelspec": {
   "display_name": "Ruby 3.2.2",
   "language": "ruby",
   "name": "ruby"
  },
  "language_info": {
   "file_extension": ".rb",
   "mimetype": "application/x-ruby",
   "name": "ruby",
   "version": "3.2.2"
  }
 },
 "nbformat": 4,
 "nbformat_minor": 5
}
