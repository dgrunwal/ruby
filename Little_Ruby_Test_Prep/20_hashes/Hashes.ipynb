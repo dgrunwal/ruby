{
 "cells": [
  {
   "cell_type": "code",
   "execution_count": 1,
   "id": "4336dd5f",
   "metadata": {},
   "outputs": [
    {
     "name": "stdout",
     "output_type": "stream",
     "text": [
      "{}\n",
      "Hash\n",
      "[]\n",
      "Array\n",
      "0\n",
      "true\n"
     ]
    }
   ],
   "source": [
    "# Intro to Hashes\n",
    "#\n",
    "# A hash is a data structure consisting of key-value pairs.\n",
    "# A key is an identifier for a value.\n",
    "# A hash solves the problem of association (connecting two values together).\n",
    "#\n",
    "# Example: Restaurant menu connects a food item to a price\n",
    "# Example: A dictionary connects a word to a definition\n",
    "#\n",
    "# Rules of a Hash\n",
    "# Hash keys must be unique.\n",
    "# Hash values can contain duplicates.\n",
    "# Hash values are extracted by key, not by order.\n",
    "# The basic types in Ruby are numbers, strings, arrays, hashes, ranges, symbols, and regular\n",
    "# expressions\n",
    "\n",
    "empty_hash = {}\n",
    "puts empty_hash\n",
    "puts empty_hash.class\n",
    "\n",
    "empty_array = []\n",
    "p empty_array\n",
    "puts empty_array.class\n",
    "\n",
    "puts empty_hash.length\n",
    "puts empty_hash.empty?"
   ]
  },
  {
   "cell_type": "code",
   "execution_count": 3,
   "id": "2cef1221",
   "metadata": {},
   "outputs": [
    {
     "name": "stdout",
     "output_type": "stream",
     "text": [
      "{\"Patrick Mahomes\"=>50000000, \"Josh Allen\"=>25000000, \"Joe Burrow\"=>12000000}\n",
      "{\"Kansas City Chiefs\"=>[\"Patrick Mahomes\", \"Travis Kelce\"], \"Los Angeles Rams\"=>[\"Matthew Stafford\", \"Aaron Donald\", \"Cooper Kupp\"]}\n",
      "50000000\n",
      "12000000\n",
      "[\"Matthew Stafford\", \"Aaron Donald\", \"Cooper Kupp\"]\n",
      "nil\n",
      "nil\n",
      "\n",
      "25000000\n",
      "0\n"
     ]
    },
    {
     "data": {
      "text/plain": [
       "0"
      ]
     },
     "execution_count": 3,
     "metadata": {},
     "output_type": "execute_result"
    }
   ],
   "source": [
    "# Hash key-value assignment syntax\n",
    "# key => value\n",
    "# hash rocket\n",
    "\n",
    "nfl_roster_salaries = {\n",
    "  \"Patrick Mahomes\" => 50_000_000,\n",
    "  \"Josh Allen\" => 25_000_000,\n",
    "  \"Joe Burrow\" => 12_000_000,\n",
    "}\n",
    "\n",
    "p nfl_roster_salaries\n",
    "\n",
    "nfl_roster = {\n",
    "  \"Kansas City Chiefs\" => [\"Patrick Mahomes\", \"Travis Kelce\"],\n",
    "  \"Los Angeles Rams\" => [\"Matthew Stafford\", \"Aaron Donald\", \"Cooper Kupp\"]\n",
    "}\n",
    "p nfl_roster\n",
    "\n",
    "p nfl_roster_salaries[\"Patrick Mahomes\"]\n",
    "p nfl_roster_salaries[\"Joe Burrow\"]\n",
    "p nfl_roster[\"Los Angeles Rams\"]\n",
    "p nfl_roster_salaries[\"Tom Brady\"]\n",
    "p nfl_roster_salaries[\"patrick Mahomes\"]\n",
    "\n",
    "puts\n",
    "\n",
    "p nfl_roster_salaries.fetch(\"Josh Allen\", 0)\n",
    "p nfl_roster_salaries.fetch(\"Josh Nonsense\", 0)"
   ]
  },
  {
   "cell_type": "code",
   "execution_count": 12,
   "id": "4b681d4f",
   "metadata": {},
   "outputs": [
    {
     "name": "stdout",
     "output_type": "stream",
     "text": [
      "hello\n",
      "hello\n",
      "Symbol\n",
      "String\n",
      "189\n",
      "87\n",
      "\n",
      "1880\n",
      "1900\n",
      "3672348\n",
      "3672348\n",
      "3672668\n"
     ]
    }
   ],
   "source": [
    "\n",
    "=begin\n",
    "\n",
    "A Ruby symbol is an identifier corresponding to a string of characters, often a name. You\n",
    "construct the symbol for a name by preceding the name with a colon, and you can construct\n",
    "the symbol for an arbitrary string by preceding a string literal with a colon. Substitution\n",
    "occurs in double-quoted strings. A particular name or string will always generate the same\n",
    "symbol, regardless of how that name is used within the program. You can also use the %s\n",
    "delimited notation to create a symbol.\n",
    "\n",
    ":Object\n",
    ":my_variable\n",
    ":\"Ruby rules\"\n",
    "a = \"cat\"\n",
    ":'catsup' # => :catsup\n",
    ":\"#{a}sup\" # => :catsup\n",
    ":'#{a}sup' # => :\"\\#{a}sup\"\n",
    "Other languages call this process interning and call symbols atoms.\n",
    "\n",
    "\n",
    "# Symbol - a lightweight, immutable Ruby object that is used as an identifier\n",
    "\n",
    "=end\n",
    "\n",
    "puts :hello\n",
    "puts \"hello\"\n",
    "puts :hello.class\n",
    "puts \"hello\".class\n",
    "\n",
    "p \"hello\".methods.length\n",
    "# p \"hello\".methods # prints all functionality in String e.g., 189 methods \n",
    "p :hello.methods.length\n",
    "#v p :hello.methods  87 methods \n",
    "\n",
    "puts\n",
    "\n",
    "a = \"hello\"\n",
    "b = \"hello\"\n",
    "c = :hello  #same symbol value\n",
    "d = :hello  #same symbol value \n",
    "e = :goodbye #different symbols have different numbers \n",
    "\n",
    "puts a.object_id\n",
    "puts b.object_id\n",
    "puts c.object_id\n",
    "puts d.object_id\n",
    "puts e.object_id"
   ]
  },
  {
   "cell_type": "code",
   "execution_count": 7,
   "id": "35419763",
   "metadata": {},
   "outputs": [
    {
     "name": "stdout",
     "output_type": "stream",
     "text": [
      "Boris\n",
      "32\n",
      "true\n"
     ]
    }
   ],
   "source": [
    "# person = {\n",
    "#   :name => \"Boris\",\n",
    "#   :age => 32,\n",
    "#   :handsome => true\n",
    "# }\n",
    "\n",
    "person = {            # notice hash rocket => is gone, accessing via symbols\n",
    "  name: \"Boris\",\n",
    "  age: 32,\n",
    "  handsome: true\n",
    "}\n",
    "\n",
    "puts person[:name]\n",
    "puts person[:age]\n",
    "puts person[:handsome]"
   ]
  },
  {
   "cell_type": "code",
   "execution_count": 8,
   "id": "0acfafb3",
   "metadata": {},
   "outputs": [
    {
     "name": "stdout",
     "output_type": "stream",
     "text": [
      "{:red=>230, :green=>0, :blue=>50}\n",
      "{:red=>230, :green=>0, :blue=>50}\n",
      "230\n"
     ]
    },
    {
     "data": {
      "text/plain": [
       "230"
      ]
     },
     "execution_count": 8,
     "metadata": {},
     "output_type": "execute_result"
    }
   ],
   "source": [
    "red = 230\n",
    "green = 0\n",
    "blue = 50\n",
    "\n",
    "color = { red: red, green: green, blue: blue }\n",
    "p color\n",
    "\n",
    "color = { red:, green:, blue: }\n",
    "p color\n",
    "\n",
    "p color[:red]"
   ]
  },
  {
   "cell_type": "code",
   "execution_count": 9,
   "id": "f62b5e2d",
   "metadata": {},
   "outputs": [
    {
     "name": "stdout",
     "output_type": "stream",
     "text": [
      "{:burger=>3.99, :taco=>1.99, :chips=>1.99}\n",
      "3\n",
      "{:burger=>3.99, :taco=>1.99, :chips=>1.99, :filet_mignon=>29.99}\n",
      "4\n",
      "{:burger=>3.99, :taco=>2.99, :chips=>1.99, :filet_mignon=>29.99}\n",
      "4\n",
      "{:burger=>3.99, :taco=>2.99, :chips=>1.99, :filet_mignon=>29.99, :salmon=>49.99}\n",
      "5\n"
     ]
    },
    {
     "data": {
      "text/plain": [
       "5"
      ]
     },
     "execution_count": 9,
     "metadata": {},
     "output_type": "execute_result"
    }
   ],
   "source": [
    "menu = { burger: 3.99, taco: 1.99, chips: 1.99 }\n",
    "p menu\n",
    "p menu.length\n",
    "\n",
    "menu[:filet_mignon] = 29.99\n",
    "p menu\n",
    "p menu.length\n",
    "\n",
    "menu[:taco] = 2.99\n",
    "p menu\n",
    "p menu.length\n",
    "\n",
    "menu.store(:salmon, 49.99)\n",
    "p menu\n",
    "p menu.length"
   ]
  },
  {
   "cell_type": "code",
   "execution_count": 10,
   "id": "fceb6c72",
   "metadata": {},
   "outputs": [
    {
     "name": "stdout",
     "output_type": "stream",
     "text": [
      "{\"red\"=>1, \"green\"=>2, \"blue\"=>3}\n",
      "{:hello=>:goodbye, :happy=>:sad}\n",
      "{}\n"
     ]
    }
   ],
   "source": [
    "def hash_from_arrays(keys, values)\n",
    "  result_hash = {}\n",
    "  \n",
    "  keys.each_with_index do |key, index|\n",
    "    result_hash[key] = values[index]\n",
    "  end\n",
    "\n",
    "  result_hash\n",
    "end\n",
    "\n",
    "# Test cases\n",
    "puts hash_from_arrays([\"red\", \"green\", \"blue\"], [1, 2, 3])\n",
    "# Output: {\"red\"=>1, \"green\"=>2, \"blue\"=>3}\n",
    "\n",
    "puts hash_from_arrays([:hello, :happy], [:goodbye, :sad])\n",
    "# Output: {:hello=>:goodbye, :happy=>:sad}\n",
    "\n",
    "puts hash_from_arrays([], [])\n",
    "# Output: {}\n"
   ]
  },
  {
   "cell_type": "code",
   "execution_count": 13,
   "id": "e3c04c58",
   "metadata": {
    "scrolled": true
   },
   "outputs": [
    {
     "name": "stdout",
     "output_type": "stream",
     "text": [
      "The director earns 100000\n",
      "The producer earns 200000\n",
      "The ceo earns 300000\n",
      "\n",
      "The next position is director\n",
      "The next position is producer\n",
      "The next position is ceo\n",
      "\n",
      "The next employee earns 100000\n",
      "The next employee earns 200000\n",
      "The next employee earns 300000\n",
      "\n",
      "[:director, :producer, :ceo]\n",
      "[100000, 200000, 300000]\n"
     ]
    },
    {
     "data": {
      "text/plain": [
       "[100000, 200000, 300000]"
      ]
     },
     "execution_count": 13,
     "metadata": {},
     "output_type": "execute_result"
    }
   ],
   "source": [
    "# Iteration is the process of looping over the pieces/components\n",
    "# of an object.\n",
    "#\n",
    "# METHODS:\n",
    "# each        - Iterate over each key-value pair\n",
    "# each_key    - Iterate over each key\n",
    "# each_value  - Iterate over each value\n",
    "# keys        - Return array of hash's keys\n",
    "# values      - Return array of hash's values\n",
    "\n",
    "salaries = { director: 100000, producer: 200000, ceo: 300000 }\n",
    "\n",
    "salaries.each { |position, salary| puts \"The #{position} earns #{salary}\" }\n",
    "puts\n",
    "\n",
    "salaries.each_key { |position| puts \"The next position is #{position}\" }\n",
    "puts\n",
    "\n",
    "salaries.each_value { |salary| puts \"The next employee earns #{salary}\" }\n",
    "puts\n",
    "\n",
    "p salaries.keys\n",
    "p salaries.values"
   ]
  },
  {
   "cell_type": "code",
   "execution_count": null,
   "id": "dc168b2b",
   "metadata": {},
   "outputs": [],
   "source": [
    "# select - build new hash by keeping key-value pairs based on a condition\n",
    "# reject - build new hash by discarding key-value pairs based on a condition\n",
    "\n",
    "recipe = { sugar: 3, flour: 10, salt: 1, pepper: 8 }\n",
    "\n",
    "p recipe.select { |ingredient, teaspoons| teaspoons >= 5 }\n",
    "p recipe.select { |ingredient, teaspoons| ingredient.length == 5 }\n",
    "puts\n",
    "\n",
    "p recipe.reject { |ingredient, teaspoons| teaspoons.even? }\n",
    "\n",
    "p recipe.reject { |ingredient, teaspoons| ingredient.to_s.include?(\"s\") }"
   ]
  },
  {
   "cell_type": "code",
   "execution_count": 14,
   "id": "b0f46ed0",
   "metadata": {},
   "outputs": [
    {
     "name": "stdout",
     "output_type": "stream",
     "text": [
      "[[:scary, \"Melanie Brown\"], [:sporty, \"Melanie Chisholm\"], [:baby, \"Emma Bunton\"], [:ginger, \"Geri Halliwell\"], [:posh, \"Victoria Beckham\"]]\n",
      "{:red=>\"Jason\", :black=>\"Zack\", :pink=>\"Kimberly\"}\n"
     ]
    },
    {
     "data": {
      "text/plain": [
       "{:red=>\"Jason\", :black=>\"Zack\", :pink=>\"Kimberly\"}"
      ]
     },
     "execution_count": 14,
     "metadata": {},
     "output_type": "execute_result"
    }
   ],
   "source": [
    "# to_a method - converts hash to array\n",
    "# to_h method - converts array to hash\n",
    "\n",
    "spice_girls = {\n",
    "  scary: \"Melanie Brown\",\n",
    "  sporty: \"Melanie Chisholm\",\n",
    "  baby: \"Emma Bunton\",\n",
    "  ginger: \"Geri Halliwell\",\n",
    "  posh: \"Victoria Beckham\"\n",
    "}\n",
    "p spice_girls.to_a\n",
    "\n",
    "power_rangers = [\n",
    "  [:red, \"Jason\"],\n",
    "  [:black, \"Zack\"],\n",
    "  [:pink, \"Kimberly\"]\n",
    "]\n",
    "p power_rangers.to_h"
   ]
  },
  {
   "cell_type": "code",
   "execution_count": 18,
   "id": "9236310a",
   "metadata": {},
   "outputs": [
    {
     "name": "stdout",
     "output_type": "stream",
     "text": [
      "{:spiderman=>\"Peter Parker\", :superman=>\"Clark Kent\", :batman=>\"Bruce Wayne\"}\n",
      "{:superman=>\"Clark Kent\", :batman=>\"Bruce Wayne\"}\n",
      "\"Peter Parker\"\n"
     ]
    },
    {
     "data": {
      "text/plain": [
       "\"Peter Parker\""
      ]
     },
     "execution_count": 18,
     "metadata": {},
     "output_type": "execute_result"
    }
   ],
   "source": [
    "# delete - remove a key-value pair by its key\n",
    "\n",
    "superheroes = {\n",
    "  spiderman: \"Peter Parker\",\n",
    "  superman: \"Clark Kent\",\n",
    "  batman: \"Bruce Wayne\"\n",
    "}\n",
    "\n",
    "p superheroes\n",
    "\n",
    "real_name = superheroes.delete(:spiderman)    # removes complete pair\n",
    "p superheroes\n",
    "p real_name"
   ]
  },
  {
   "cell_type": "code",
   "execution_count": 19,
   "id": "400eaf82",
   "metadata": {},
   "outputs": [
    {
     "name": "stdout",
     "output_type": "stream",
     "text": [
      "{:garlic=>\"3 cloves\", :milk=>\"100 gallons\", :bread=>\"2 slices\"}\n",
      "{:bread=>\"2 slices\", :milk=>\"10 gallons\", :garlic=>\"3 cloves\"}\n",
      "{:garlic=>\"3 cloves\", :milk=>\"100 gallons\", :bread=>\"2 slices\"}\n"
     ]
    },
    {
     "data": {
      "text/plain": [
       "{:garlic=>\"3 cloves\", :milk=>\"100 gallons\", :bread=>\"2 slices\"}"
      ]
     },
     "execution_count": 19,
     "metadata": {},
     "output_type": "execute_result"
    }
   ],
   "source": [
    "# merge method - combine two hashes together\n",
    "\n",
    "market = { garlic: \"3 cloves\", milk: \"10 gallons\" }\n",
    "kitchen = { bread: \"2 slices\", milk: \"100 gallons\" }\n",
    "p market.merge(kitchen)\n",
    "p kitchen.merge(market)\n",
    "# p market\n",
    "# p kitchen\n",
    "\n",
    "market.merge!(kitchen)  # permanently modifies in this case its market \n",
    "p market"
   ]
  },
  {
   "cell_type": "code",
   "execution_count": 1,
   "id": "ea244b63",
   "metadata": {},
   "outputs": [
    {
     "name": "stdout",
     "output_type": "stream",
     "text": [
      "nil\n",
      "3.14\n",
      "150\n",
      "0\n",
      "0\n"
     ]
    },
    {
     "data": {
      "text/plain": [
       "0"
      ]
     },
     "execution_count": 1,
     "metadata": {},
     "output_type": "execute_result"
    }
   ],
   "source": [
    "numbers = {}\n",
    "p numbers[:pi]\n",
    "\n",
    "numbers = Hash.new(0)\n",
    "numbers[:pi] = 3.14\n",
    "numbers[:pokemon] = 150\n",
    "p numbers[:pi]\n",
    "p numbers[:pokemon]\n",
    "\n",
    "p numbers[:planets]\n",
    "p numbers[:colors]"
   ]
  },
  {
   "cell_type": "code",
   "execution_count": 2,
   "id": "a3686284",
   "metadata": {},
   "outputs": [
    {
     "name": "stdout",
     "output_type": "stream",
     "text": [
      "{\"blue\"=>2, \"red\"=>1, \"green\"=>1}\n",
      "{\"a\"=>1, \"land\"=>1, \"far\"=>2, \"away\"=>1}\n",
      "{}\n"
     ]
    }
   ],
   "source": [
    "def word_frequency(text)\n",
    "  word_count = Hash.new(0)\n",
    "\n",
    "  text.split.each do |word|\n",
    "    word_count[word] += 1\n",
    "  end\n",
    "\n",
    "  word_count\n",
    "end\n",
    "\n",
    "# Examples\n",
    "puts word_frequency(\"blue red blue green\") # Output: {\"blue\"=>2, \"red\"=>1, \"green\"=>1}\n",
    "puts word_frequency(\"a land far far away\") # Output: {\"a\"=>1, \"land\"=>1, \"far\"=>2, \"away\"=>1}\n",
    "puts word_frequency(\"\")                     # Output: {}\n"
   ]
  },
  {
   "cell_type": "code",
   "execution_count": 3,
   "id": "ce147feb",
   "metadata": {},
   "outputs": [
    {
     "name": "stdout",
     "output_type": "stream",
     "text": [
      "[]\n",
      "{\"Buccaneers\"=>[]}\n",
      "[\"Tom Brady\"]\n",
      "{\"Buccaneers\"=>[\"Tom Brady\"]}\n",
      "[\"Tom Brady\", \"Mike Evans\"]\n",
      "{\"Buccaneers\"=>[\"Tom Brady\", \"Mike Evans\"]}\n",
      "[]\n",
      "{\"Buccaneers\"=>[\"Tom Brady\", \"Mike Evans\"], \"Patriots\"=>[]}\n"
     ]
    },
    {
     "data": {
      "text/plain": [
       "{\"Buccaneers\"=>[\"Tom Brady\", \"Mike Evans\"], \"Patriots\"=>[]}"
      ]
     },
     "execution_count": 3,
     "metadata": {},
     "output_type": "execute_result"
    }
   ],
   "source": [
    "# what Ruby will give to you when a key does not exist\n",
    "team_members = Hash.new do |hash, key|\n",
    "  hash[key] = []\n",
    "end\n",
    "\n",
    "p team_members[\"Buccaneers\"] # []\n",
    "p team_members\n",
    "\n",
    "team_members[\"Buccaneers\"] << \"Tom Brady\"\n",
    "p team_members[\"Buccaneers\"]\n",
    "p team_members\n",
    "\n",
    "team_members[\"Buccaneers\"] << \"Mike Evans\"\n",
    "p team_members[\"Buccaneers\"]\n",
    "p team_members\n",
    "\n",
    "p team_members[\"Patriots\"]\n",
    "p team_members"
   ]
  },
  {
   "cell_type": "code",
   "execution_count": 1,
   "id": "201c02e5",
   "metadata": {},
   "outputs": [
    {
     "name": "stdout",
     "output_type": "stream",
     "text": [
      "\"Kentucky\"\n"
     ]
    },
    {
     "data": {
      "text/plain": [
       "\"Kentucky\""
      ]
     },
     "execution_count": 1,
     "metadata": {},
     "output_type": "execute_result"
    }
   ],
   "source": [
    "states = { NJ: \"New Jersey\", NY: \"New York\", KY: \"Kansas\" }\n",
    "states[:KY] = \"Kentucky\" \n",
    "p states[:KY]"
   ]
  },
  {
   "cell_type": "code",
   "execution_count": null,
   "id": "92977909",
   "metadata": {},
   "outputs": [],
   "source": []
  }
 ],
 "metadata": {
  "kernelspec": {
   "display_name": "Ruby 3.2.2",
   "language": "ruby",
   "name": "ruby"
  },
  "language_info": {
   "file_extension": ".rb",
   "mimetype": "application/x-ruby",
   "name": "ruby",
   "version": "3.2.2"
  }
 },
 "nbformat": 4,
 "nbformat_minor": 5
}
