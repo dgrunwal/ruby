{
 "cells": [
  {
   "cell_type": "code",
   "execution_count": 4,
   "id": "bcd8442f",
   "metadata": {},
   "outputs": [
    {
     "name": "stdout",
     "output_type": "stream",
     "text": [
      "true\n",
      "true\n",
      "true\n",
      "\n",
      "Regexp\n",
      "0\n",
      "9\n",
      "4\n",
      "10\n",
      "15\n",
      "nil\n",
      "40\n",
      "6\n",
      "22\n",
      "37\n",
      "nil\n"
     ]
    }
   ],
   "source": [
    "# Regular expression - a search pattern for text\n",
    "#  https://rubular.com/  Regex editor\n",
    "\n",
    "phrase = \"The Ruby Programming Language is amazing!\"\n",
    "\n",
    "p phrase.include?(\"Pro\")\n",
    "p phrase.start_with?(\"The\")\n",
    "p phrase.end_with?(\"zing!\")\n",
    "\n",
    "puts\n",
    "\n",
    "p /T/.class     \n",
    "p phrase =~ /T/\n",
    "p /P/ =~ phrase\n",
    "p phrase =~ /R/\n",
    "p phrase =~ /r/\n",
    "p phrase =~ /m/\n",
    "p phrase =~ /x/\n",
    "p phrase =~ /!/\n",
    "p phrase =~ /by/\n",
    "p phrase =~ /ang/\n",
    "p phrase =~ /ing!/\n",
    "p phrase =~ /q/"
   ]
  },
  {
   "cell_type": "code",
   "execution_count": 5,
   "id": "450398ae",
   "metadata": {},
   "outputs": [
    {
     "name": "stdout",
     "output_type": "stream",
     "text": [
      "[\"e\", \"e\", \"e\", \"e\", \"e\"]\n",
      "[\"re\", \"re\"]\n",
      "[\"e\", \"r\", \"e\", \"e\", \"r\", \"r\", \"e\", \"e\"]\n"
     ]
    },
    {
     "data": {
      "text/plain": [
       "[\"e\", \"r\", \"e\", \"e\", \"r\", \"r\", \"e\", \"e\"]"
      ]
     },
     "execution_count": 5,
     "metadata": {},
     "output_type": "execute_result"
    }
   ],
   "source": [
    "# scan method - find all occurrences of a RegEx search pattern\n",
    "\n",
    "voicemail = \"I can be reached at 555-123-4567 or regexman@gmail.com\"\n",
    "\n",
    "p voicemail.scan(/e/)\n",
    "\n",
    "p voicemail.scan(/re/)\n",
    "\n",
    "p voicemail.scan(/[re]/)"
   ]
  },
  {
   "cell_type": "code",
   "execution_count": 6,
   "id": "fcab2451",
   "metadata": {},
   "outputs": [
    {
     "name": "stdout",
     "output_type": "stream",
     "text": [
      "[\"5\", \"5\", \"5\", \"1\", \"2\", \"3\", \"4\", \"5\", \"6\", \"7\"]\n",
      "[\"555\", \"123\", \"4567\"]\n",
      "[\"555\", \"123\", \"456\"]\n",
      "[\"4567\"]\n",
      "[\"555\", \"123\", \"4567\"]\n",
      "[\"555\", \"123\", \"456\"]\n"
     ]
    },
    {
     "data": {
      "text/plain": [
       "[\"555\", \"123\", \"456\"]"
      ]
     },
     "execution_count": 6,
     "metadata": {},
     "output_type": "execute_result"
    }
   ],
   "source": [
    "voicemail = 'I can be reached at 555-123-4567 or regexman@gmail.com'\n",
    "\n",
    "# Any digit (0 through 9)\n",
    "p voicemail.scan(/\\d/)\n",
    "\n",
    "# Plus sign -> 1 or more digits in a row\n",
    "p voicemail.scan(/\\d+/)\n",
    "\n",
    "# {} - An exact number of digits\n",
    "p voicemail.scan(/\\d{3}/)\n",
    "p voicemail.scan(/\\d{4}/)\n",
    "\n",
    "# 3 or more consecutive digits in a row\n",
    "p voicemail.scan(/\\d{3,}/)\n",
    "\n",
    "# Between 2 and 3 consecutive digits in a row\n",
    "p voicemail.scan(/\\d{2,3}/)"
   ]
  },
  {
   "cell_type": "code",
   "execution_count": 7,
   "id": "e38d4d87",
   "metadata": {},
   "outputs": [
    {
     "name": "stdout",
     "output_type": "stream",
     "text": [
      "[\"be\", \"re\", \"he\", \"re\", \"ge\"]\n",
      "[\"be \", \"rea\", \"hed\", \"reg\"]\n",
      "[\"555 123 4567\"]\n",
      "[\".\"]\n"
     ]
    },
    {
     "data": {
      "text/plain": [
       "[\".\"]"
      ]
     },
     "execution_count": 7,
     "metadata": {},
     "output_type": "execute_result"
    }
   ],
   "source": [
    "voicemail = 'I can be reached at 555 123 4567 or regexman@gmail.com'\n",
    "\n",
    "# .\n",
    "\n",
    "# p voicemail.scan(/./)\n",
    "p voicemail.scan(/.e/)\n",
    "p voicemail.scan(/.e./)\n",
    "\n",
    "# 3 digits, any number of any character, 3 digits, any number of any character, 4 digits\n",
    "p voicemail.scan(/\\d{3}.+\\d{3}.+\\d{4}/)\n",
    "\n",
    "p voicemail.scan(/\\./)"
   ]
  },
  {
   "cell_type": "code",
   "execution_count": 8,
   "id": "85a4578d",
   "metadata": {},
   "outputs": [
    {
     "name": "stdout",
     "output_type": "stream",
     "text": [
      "[\"99\"]\n",
      "[\"...\"]\n"
     ]
    },
    {
     "data": {
      "text/plain": [
       "[\"...\"]"
      ]
     },
     "execution_count": 8,
     "metadata": {},
     "output_type": "execute_result"
    }
   ],
   "source": [
    "# anchor - regular expression symbol that signifies a location\n",
    "# in the string (beginning or end)  https://www.rexegg.com/regex-anchors.html\n",
    "\n",
    "poem = \"99 bottles of beer on the wall. 99 bottles of beer...\"\n",
    "\n",
    "p poem.scan(/\\A\\d+/)\n",
    "\n",
    "p poem.scan(/\\.+\\z/)"
   ]
  },
  {
   "cell_type": "code",
   "execution_count": 1,
   "id": "040731ad",
   "metadata": {},
   "outputs": [
    {
     "name": "stdout",
     "output_type": "stream",
     "text": [
      "[\"b\", \"g\", \"h\", \"t\", \"p\", \"p\", \"l\", \"s\", \"b\", \"n\", \"n\", \"s\", \"n\", \"d\", \"r\", \"n\", \"g\", \"s\", \"t\", \"t\", \"h\", \"s\", \"t\", \"r\"]\n"
     ]
    },
    {
     "data": {
      "text/plain": [
       "[\"b\", \"g\", \"h\", \"t\", \"p\", \"p\", \"l\", \"s\", \"b\", \"n\", \"n\", \"s\", \"n\", \"d\", \"r\", \"n\", \"g\", \"s\", \"t\", \"t\", \"h\", \"s\", \"t\", \"r\"]"
      ]
     },
     "execution_count": 1,
     "metadata": {},
     "output_type": "execute_result"
    }
   ],
   "source": [
    "sales = \"I bought 9 apples, 25 bananas, and 4 oranges at the store.\"\n",
    "\n",
    "p sales.scan(/[^aeiouAEIOU,\\s\\.\\d]/)"
   ]
  },
  {
   "cell_type": "code",
   "execution_count": 2,
   "id": "0bfb9d25",
   "metadata": {},
   "outputs": [
    {
     "name": "stdout",
     "output_type": "stream",
     "text": [
      "555-555-5555\n",
      "555-555-5555\n",
      "555**555**5555\n",
      "\n",
      "15551234567\n",
      "15551234567\n"
     ]
    }
   ],
   "source": [
    "# sub method - replace the first occurrence of a match\n",
    "# gsub method - replace all occurrences of a match\n",
    "\n",
    "puts \"555 555 5555\".sub(\" \", \"-\").sub(\" \", \"-\")\n",
    "puts \"555 555 5555\".gsub(\" \", \"-\")\n",
    "puts \"555 555 5555\".gsub(\" \", \"**\")\n",
    "\n",
    "puts\n",
    "\n",
    "puts \"1-(555)-123-4567\".gsub(\"-\", \"\").gsub(\"(\", \"\").gsub(\")\", \"\")\n",
    "puts \"1-(555)-123-4567\".gsub(/[-()]/, \"\")\n",
    "\n",
    "# sub!\n",
    "# gsub!"
   ]
  },
  {
   "cell_type": "code",
   "execution_count": 4,
   "id": "a4d95580",
   "metadata": {},
   "outputs": [
    {
     "name": "stdout",
     "output_type": "stream",
     "text": [
      "35.47\n"
     ]
    }
   ],
   "source": [
    "def calculate_grocery_total(description)\n",
    "  # Use a regular expression to find all occurrences of prices in the format $xx.xx\n",
    "  prices = description.scan(/\\$\\d+\\.\\d{2}/)\n",
    "  \n",
    "  # Convert the prices to floating-point numbers and sum them up\n",
    "  total = prices.map { |price| price.delete('$').to_f }.sum\n",
    "  \n",
    "  # Return the total as a floating-point number\n",
    "  total\n",
    "end\n",
    "\n",
    "# Test the method with an example\n",
    "puts calculate_grocery_total(\"I purchased 4 apples for $9.99, 3 boxes of strawberries for $19.99, and one box of cereal for $5.49.\")\n",
    "# => 35.47\n",
    "\n"
   ]
  },
  {
   "cell_type": "code",
   "execution_count": null,
   "id": "d02f349e",
   "metadata": {},
   "outputs": [],
   "source": []
  }
 ],
 "metadata": {
  "kernelspec": {
   "display_name": "Ruby 3.2.2",
   "language": "ruby",
   "name": "ruby"
  },
  "language_info": {
   "file_extension": ".rb",
   "mimetype": "application/x-ruby",
   "name": "ruby",
   "version": "3.2.2"
  }
 },
 "nbformat": 4,
 "nbformat_minor": 5
}
