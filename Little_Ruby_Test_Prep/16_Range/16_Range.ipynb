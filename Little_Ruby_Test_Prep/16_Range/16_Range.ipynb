{
 "cells": [
  {
   "cell_type": "code",
   "execution_count": 1,
   "id": "0e6d167f",
   "metadata": {},
   "outputs": [
    {
     "name": "stdout",
     "output_type": "stream",
     "text": [
      "Range\n",
      "Range\n",
      "1\n",
      "1\n",
      "5\n",
      "5\n",
      "\n",
      "[1, 2, 3]\n",
      "[1, 2, 3]\n",
      "[3, 4, 5]\n",
      "[2, 3, 4]\n",
      "[5]\n",
      "[4]\n",
      "\n",
      "10\n",
      "[12, 13]\n"
     ]
    },
    {
     "data": {
      "text/plain": [
       "[12, 13]"
      ]
     },
     "execution_count": 1,
     "metadata": {},
     "output_type": "execute_result"
    }
   ],
   "source": [
    "# range - sequence of numbers or letters in order\n",
    "inclusive_nums = 1..5 # closed range (5 will be included)\n",
    "exclusive_nums = 1...5 # open range (5 will be excluded)\n",
    "\n",
    "puts inclusive_nums.class\n",
    "puts exclusive_nums.class\n",
    "\n",
    "puts inclusive_nums.first\n",
    "puts exclusive_nums.first\n",
    "puts inclusive_nums.last\n",
    "puts exclusive_nums.last\n",
    "\n",
    "puts \n",
    "\n",
    "p inclusive_nums.first(3)\n",
    "p exclusive_nums.first(3)\n",
    "\n",
    "p inclusive_nums.last(3)\n",
    "p exclusive_nums.last(3)\n",
    "\n",
    "p inclusive_nums.last(1)\n",
    "p exclusive_nums.last(1)\n",
    "\n",
    "puts\n",
    "\n",
    "p (2...10).last\n",
    "\n",
    "p (5..13).last(2)\n"
   ]
  },
  {
   "cell_type": "code",
   "execution_count": 2,
   "id": "cf20632a",
   "metadata": {},
   "outputs": [
    {
     "name": "stdout",
     "output_type": "stream",
     "text": [
      "Range\n",
      "\"a\"\n",
      "\"z\"\n",
      "[\"a\", \"b\", \"c\"]\n",
      "[\"v\", \"w\", \"x\", \"y\", \"z\"]\n",
      "[\"A\", \"B\", \"C\", \"D\", \"E\", \"F\", \"G\", \"H\", \"I\", \"J\", \"K\", \"L\", \"M\", \"N\", \"O\", \"P\", \"Q\", \"R\", \"S\", \"T\", \"U\", \"V\", \"W\", \"X\", \"Y\", \"Z\", \"[\", \"\\\\\", \"]\", \"^\", \"_\", \"`\", \"a\", \"b\", \"c\", \"d\", \"e\", \"f\", \"g\", \"h\"]\n"
     ]
    },
    {
     "data": {
      "text/plain": [
       "[\"A\", \"B\", \"C\", \"D\", \"E\", \"F\", \"G\", \"H\", \"I\", \"J\", \"K\", \"L\", \"M\", \"N\", \"O\", \"P\", \"Q\", \"R\", \"S\", \"T\", \"U\", \"V\", \"W\", \"X\", \"Y\", \"Z\", \"[\", \"\\\\\", \"]\", \"^\", \"_\", \"`\", \"a\", \"b\", \"c\", \"d\", \"e\", \"f\", \"g\", \"h\"]"
      ]
     },
     "execution_count": 2,
     "metadata": {},
     "output_type": "execute_result"
    }
   ],
   "source": [
    "alphabet = \"a\"..\"z\"\n",
    "p alphabet.class\n",
    "p alphabet.first\n",
    "p alphabet.last\n",
    "p alphabet.first(3)\n",
    "p alphabet.last(5)\n",
    "\n",
    "alphabet = \"A\"..\"z\" # A-Z, a-z\n",
    "p alphabet.first(40)"
   ]
  },
  {
   "cell_type": "code",
   "execution_count": 3,
   "id": "7f259617",
   "metadata": {},
   "outputs": [
    {
     "name": "stdout",
     "output_type": "stream",
     "text": [
      "true\n",
      "true\n",
      "false\n",
      "\n",
      "true\n",
      "true\n",
      "false\n",
      "\n",
      "true\n",
      "true\n",
      "false\n"
     ]
    }
   ],
   "source": [
    "alphabet = \"a\"..\"z\"\n",
    "\n",
    "puts alphabet.include?(\"j\")\n",
    "puts alphabet.include?(\"z\")\n",
    "puts alphabet.include?(\"J\")\n",
    "\n",
    "puts\n",
    "\n",
    "puts alphabet.member?(\"j\")\n",
    "puts alphabet.member?(\"z\")\n",
    "puts alphabet.member?(\"J\")\n",
    "\n",
    "puts\n",
    "\n",
    "puts alphabet === \"j\"\n",
    "puts alphabet === \"z\"\n",
    "puts alphabet === \"J\""
   ]
  },
  {
   "cell_type": "code",
   "execution_count": 4,
   "id": "18921589",
   "metadata": {},
   "outputs": [
    {
     "name": "stdout",
     "output_type": "stream",
     "text": [
      "0.8904429808774292\n",
      "0.29\n",
      "0.7654\n",
      "5.3999999999999995\n",
      "\n",
      "3\n",
      "57\n",
      "0\n",
      "\n",
      "96\n",
      "54\n"
     ]
    }
   ],
   "source": [
    "puts rand\n",
    "puts rand.round(2)\n",
    "puts rand.round(4)\n",
    "puts rand.round(2) * 30\n",
    "\n",
    "puts\n",
    "\n",
    "puts rand(100)\n",
    "puts rand(101)\n",
    "puts rand(1)\n",
    "\n",
    "puts\n",
    "\n",
    "puts rand(1..100)\n",
    "puts rand(50...60)"
   ]
  },
  {
   "cell_type": "code",
   "execution_count": 7,
   "id": "23f837a2",
   "metadata": {},
   "outputs": [
    {
     "name": "stdout",
     "output_type": "stream",
     "text": [
      "0.8030537241892989\n",
      "0.51\n",
      "0.198\n",
      "19.5\n",
      "\n",
      "29\n",
      "43\n",
      "0\n",
      "\n",
      "46\n",
      "58\n"
     ]
    }
   ],
   "source": [
    "puts rand\n",
    "puts rand.round(2)\n",
    "puts rand.round(4)\n",
    "puts rand.round(2) * 30\n",
    "\n",
    "puts\n",
    "\n",
    "puts rand(100)\n",
    "puts rand(101)\n",
    "puts rand(1)\n",
    "\n",
    "puts\n",
    "\n",
    "puts rand(1..100)\n",
    "puts rand(50...60)"
   ]
  },
  {
   "cell_type": "code",
   "execution_count": 9,
   "id": "4e73a541",
   "metadata": {},
   "outputs": [
    {
     "name": "stdout",
     "output_type": "stream",
     "text": [
      "far, far away\n",
      "far, far away\n",
      "far, far awa\n",
      "far, far awa\n",
      "far, far away...\n",
      "far, far away...\n",
      "far\n",
      "fa\n",
      "far\n",
      "Once upon a season in a land far, far away...\n",
      "[9, 15, 21]\n",
      "[9, 15, 21]\n",
      "[9, 15]\n"
     ]
    },
    {
     "data": {
      "text/plain": [
       "[9, 15]"
      ]
     },
     "execution_count": 9,
     "metadata": {},
     "output_type": "execute_result"
    }
   ],
   "source": [
    "story = \"Once upon a time in a land far, far away...\"\n",
    "\n",
    "puts story[27..39]\n",
    "puts story.slice(27..39)\n",
    "puts story[27...39]\n",
    "puts story.slice(27...39)\n",
    "puts story[27..200]\n",
    "puts story.slice(27..200)\n",
    "puts story[32..-9]\n",
    "puts story[32...-9]\n",
    "puts story.slice(32..-9)\n",
    "\n",
    "story[12..15] = \"season\"\n",
    "puts story\n",
    "\n",
    "numbers = [1, 3, 5, 7, 9, 15, 21, 18, 6]\n",
    "\n",
    "p numbers[4..6]\n",
    "p numbers.slice(4..6)\n",
    "p numbers[4...6]"
   ]
  },
  {
   "cell_type": "code",
   "execution_count": 10,
   "id": "ed8b57af",
   "metadata": {},
   "outputs": [
    {
     "name": "stdout",
     "output_type": "stream",
     "text": [
      "Range\n",
      "[\"A\", \"B\", \"C\", \"D\", \"E\", \"F\", \"G\", \"H\", \"I\", \"J\", \"K\", \"L\", \"M\", \"N\", \"O\", \"P\", \"Q\", \"R\", \"S\", \"T\"]\n",
      "Array\n",
      "\"A\"\n",
      "\"K\"\n",
      "[415, 416, 417, 418, 419, 420, 421, 422, 423, 424, 425, 426, 427, 428, 429, 430, 431, 432, 433, 434, 435, 436, 437, 438, 439, 440, 441, 442, 443, 444, 445, 446, 447, 448, 449]\n"
     ]
    },
    {
     "data": {
      "text/plain": [
       "[415, 416, 417, 418, 419, 420, 421, 422, 423, 424, 425, 426, 427, 428, 429, 430, 431, 432, 433, 434, 435, 436, 437, 438, 439, 440, 441, 442, 443, 444, 445, 446, 447, 448, 449]"
      ]
     },
     "execution_count": 10,
     "metadata": {},
     "output_type": "execute_result"
    }
   ],
   "source": [
    "letters_range = \"A\"..\"T\"\n",
    "p letters_range.class\n",
    "# p letters_range[0]\n",
    "\n",
    "letters_array = letters_range.to_a\n",
    "p letters_array\n",
    "p letters_array.class\n",
    "p letters_array[0]\n",
    "p letters_array[10]\n",
    "\n",
    "numbers_range = 415...450\n",
    "p numbers_range.to_a"
   ]
  },
  {
   "cell_type": "code",
   "execution_count": 11,
   "id": "8e8c3f04",
   "metadata": {},
   "outputs": [
    {
     "name": "stdout",
     "output_type": "stream",
     "text": [
      "A\n",
      "B\n",
      "C\n",
      "D\n",
      "F\n",
      "F\n"
     ]
    }
   ],
   "source": [
    "# 90 to 100 is an A\n",
    "# 80 to 89 is a B\n",
    "# 70 to 79 is a C\n",
    "# 60 to 79 is a D\n",
    "# <60 is an F\n",
    "\n",
    "def calculate_test_grade(grade)\n",
    "  case grade\n",
    "  when 90..100 then \"A\"\n",
    "  when 80..89 then \"B\"\n",
    "  when 70..79 then \"C\"\n",
    "  when 60..69 then \"D\"\n",
    "  else \"F\"\n",
    "  end\n",
    "end\n",
    "\n",
    "puts calculate_test_grade(90)\n",
    "puts calculate_test_grade(83)\n",
    "puts calculate_test_grade(78)\n",
    "puts calculate_test_grade(62)\n",
    "puts calculate_test_grade(13)\n",
    "puts calculate_test_grade(\"Nonsense\")"
   ]
  },
  {
   "cell_type": "code",
   "execution_count": 16,
   "id": "be5465b7",
   "metadata": {},
   "outputs": [
    {
     "name": "stdout",
     "output_type": "stream",
     "text": [
      "Range\n",
      "[\"A\", \"B\", \"C\", \"D\", \"E\", \"F\", \"G\", \"H\", \"I\", \"J\", \"K\", \"L\", \"M\", \"N\", \"O\", \"P\", \"Q\", \"R\", \"S\", \"T\"]\n",
      "Array\n",
      "\"A\"\n",
      "\"K\"\n",
      "[415, 416, 417, 418, 419, 420, 421, 422, 423, 424, 425, 426, 427, 428, 429, 430, 431, 432, 433, 434, 435, 436, 437, 438, 439, 440, 441, 442, 443, 444, 445, 446, 447, 448, 449]\n",
      "417\n"
     ]
    },
    {
     "data": {
      "text/plain": [
       "417"
      ]
     },
     "execution_count": 16,
     "metadata": {},
     "output_type": "execute_result"
    }
   ],
   "source": [
    "letters_range = \"A\"..\"T\"\n",
    "p letters_range.class\n",
    "# p letters_range[0]\n",
    "\n",
    "letters_array = letters_range.to_a\n",
    "p letters_array\n",
    "p letters_array.class\n",
    "p letters_array[0]\n",
    "p letters_array[10]\n",
    "\n",
    "numbers_range = 415...450\n",
    "p numbers_range.to_a\n",
    "my_numbers = numbers_range.to_a\n",
    "p my_numbers[2]"
   ]
  },
  {
   "cell_type": "code",
   "execution_count": null,
   "id": "4cce39e6",
   "metadata": {},
   "outputs": [],
   "source": []
  }
 ],
 "metadata": {
  "kernelspec": {
   "display_name": "Ruby 3.2.2",
   "language": "ruby",
   "name": "ruby"
  },
  "language_info": {
   "file_extension": ".rb",
   "mimetype": "application/x-ruby",
   "name": "ruby",
   "version": "3.2.2"
  }
 },
 "nbformat": 4,
 "nbformat_minor": 5
}
