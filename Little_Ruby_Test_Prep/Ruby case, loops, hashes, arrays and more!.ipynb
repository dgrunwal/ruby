{
 "cells": [
  {
   "cell_type": "code",
   "execution_count": null,
   "id": "bf1d36a1",
   "metadata": {},
   "outputs": [],
   "source": [
    "# Ruby case, loops, hashes, arrays, ranges and more!"
   ]
  },
  {
   "cell_type": "code",
   "execution_count": 2,
   "id": "a5942f24",
   "metadata": {},
   "outputs": [
    {
     "data": {
      "text/plain": [
       "\"S\""
      ]
     },
     "execution_count": 2,
     "metadata": {},
     "output_type": "execute_result"
    }
   ],
   "source": [
    "# Example of a case statement in Ruby\n",
    "\n",
    "amount = 120\n",
    "\n",
    "size = case amount\n",
    "  when 1..120; \"S\"\n",
    "  when 120..170; \"M\"\n",
    "  when 170..200; \"L\"\n",
    "  else \"XL\"\n",
    "end"
   ]
  },
  {
   "cell_type": "code",
   "execution_count": 2,
   "id": "9705159a",
   "metadata": {},
   "outputs": [
    {
     "name": "stdout",
     "output_type": "stream",
     "text": [
      "Enter your score: \n",
      "Sorry, you failed. Better luck next time.\n"
     ]
    }
   ],
   "source": [
    "# An example of case statement\n",
    "\n",
    "def grade_evaluation(score)\n",
    "  case score\n",
    "  when 90..100\n",
    "    puts \"Excellent! You got an A.\"\n",
    "  when 80..89\n",
    "    puts \"Good job! You got a B.\"\n",
    "  when 70..79\n",
    "    puts \"Not bad! You got a C.\"\n",
    "  when 60..69\n",
    "    puts \"You passed, but it's a D.\"\n",
    "  else\n",
    "    puts \"Sorry, you failed. Better luck next time.\"\n",
    "  end\n",
    "end\n",
    "\n",
    "# Example usage\n",
    "puts \"Enter your score: \"\n",
    "score = gets.chomp.to_i\n",
    "\n",
    "grade_evaluation(score)\n"
   ]
  },
  {
   "cell_type": "code",
   "execution_count": null,
   "id": "30a6d3fc",
   "metadata": {},
   "outputs": [],
   "source": [
    "puts \"hello\""
   ]
  },
  {
   "cell_type": "code",
   "execution_count": null,
   "id": "471531c7",
   "metadata": {},
   "outputs": [],
   "source": [
    "p \"hello\"\n"
   ]
  },
  {
   "cell_type": "code",
   "execution_count": null,
   "id": "40f3bd6f",
   "metadata": {},
   "outputs": [],
   "source": [
    "my_float = 3.14\n"
   ]
  },
  {
   "cell_type": "code",
   "execution_count": 6,
   "id": "3d4fae8a",
   "metadata": {},
   "outputs": [
    {
     "name": "stdout",
     "output_type": "stream",
     "text": [
      "my_float\n"
     ]
    }
   ],
   "source": [
    "puts \"my_float\""
   ]
  },
  {
   "cell_type": "code",
   "execution_count": 11,
   "id": "cd3eff33",
   "metadata": {},
   "outputs": [
    {
     "data": {
      "text/plain": [
       "6.28"
      ]
     },
     "execution_count": 11,
     "metadata": {},
     "output_type": "execute_result"
    }
   ],
   "source": [
    "my_float + my_float"
   ]
  },
  {
   "cell_type": "code",
   "execution_count": 8,
   "id": "c719c363",
   "metadata": {},
   "outputs": [
    {
     "name": "stdout",
     "output_type": "stream",
     "text": [
      "3.14\n"
     ]
    }
   ],
   "source": [
    "puts(my_float)"
   ]
  },
  {
   "cell_type": "code",
   "execution_count": 9,
   "id": "8a94772c",
   "metadata": {},
   "outputs": [
    {
     "name": "stdout",
     "output_type": "stream",
     "text": [
      "3.14\n"
     ]
    },
    {
     "data": {
      "text/plain": [
       "3.14"
      ]
     },
     "execution_count": 9,
     "metadata": {},
     "output_type": "execute_result"
    }
   ],
   "source": [
    "p(my_float)"
   ]
  },
  {
   "cell_type": "code",
   "execution_count": 9,
   "id": "0e2aed46",
   "metadata": {},
   "outputs": [
    {
     "name": "stdout",
     "output_type": "stream",
     "text": [
      "Integer\n",
      "String\n"
     ]
    }
   ],
   "source": [
    "# Define a variable and check its type.  A variable is a name we assign to an object in a program.\n",
    "# A variable is a reference to an object.\n",
    "\n",
    "my_variable = 42\n",
    "\n",
    "# Check the type of the variable\n",
    "puts my_variable.class  # Output: Integer\n",
    "\n",
    "# Define another variable\n",
    "another_variable = \"Hello, World!\"\n",
    "\n",
    "# Check the type of the second variable\n",
    "puts another_variable.class  # Output: String\n"
   ]
  },
  {
   "cell_type": "code",
   "execution_count": null,
   "id": "02b96d00",
   "metadata": {},
   "outputs": [],
   "source": [
    "#  TIP pressing Ctrl + / adds a comment in Jupyter notebook"
   ]
  },
  {
   "cell_type": "code",
   "execution_count": null,
   "id": "09ca0cba",
   "metadata": {},
   "outputs": [],
   "source": [
    "=begin\n",
    "This is a multiline comment in Ruby.\n",
    "You can write multiple lines of comments here.  Remember it is case sensitive!\n",
    "=end\n",
    "\n",
    "puts \"Hello, World!\" # This is a single-line comment\n",
    "\n",
    "=begin\n",
    "Another multiline comment.\n",
    "This section will also be treated as a comment.\n",
    "=end\n"
   ]
  },
  {
   "cell_type": "code",
   "execution_count": null,
   "id": "8de52373",
   "metadata": {},
   "outputs": [],
   "source": [
    "puts 2 + 2 # comments can be placed here too"
   ]
  },
  {
   "cell_type": "code",
   "execution_count": null,
   "id": "b0553d53",
   "metadata": {},
   "outputs": [],
   "source": [
    "item = \"apple\"\n",
    "\n",
    "[\"banana\", \"carrot\", \"daikon\"].each do |item|\n",
    "  puts item\n",
    "end\n",
    "\n",
    "puts item"
   ]
  },
  {
   "cell_type": "code",
   "execution_count": 22,
   "id": "35b1d6eb",
   "metadata": {},
   "outputs": [
    {
     "name": "stdout",
     "output_type": "stream",
     "text": [
      "1\n",
      "2\n",
      "3\n",
      "local variable\n"
     ]
    }
   ],
   "source": [
    "=begin\n",
    "\n",
    "Local variable named 'item'.   When you run this code with the -w flag, you will see a warning message indicating that the block parameter \n",
    "is shadowing the outer local variable in earlier versions of Ruby 2.7.2+:  RuboCop is a widely used static code analysis tool for Ruby that helps enforce coding standards and best practices, \n",
    "including catching issues like \"variable shadowing\".  To install RuboCop <gem install rubocop> https://rubocop.org/\n",
    "\n",
    "RuboCop supports MRI 2.7+ and JRuby 9.4+.\n",
    "\n",
    "rubocop your_script.rb\n",
    "\n",
    "\n",
    "warning: shadowing outer local variable - item\n",
    "1\n",
    "2\n",
    "3\n",
    "local variable\n",
    "\n",
    "=end \n",
    "\n",
    "\n",
    "item = \"local variable\"\n",
    "\n",
    "# Using a block with a parameter named 'item', which shadows the outer local variable\n",
    "[1, 2, 3].each do |item|\n",
    "  puts item\n",
    "end\n",
    "\n",
    "# Accessing the outer local variable 'item' after the block\n",
    "puts item\n"
   ]
  },
  {
   "cell_type": "code",
   "execution_count": 25,
   "id": "899178ef",
   "metadata": {},
   "outputs": [
    {
     "name": "stdout",
     "output_type": "stream",
     "text": [
      "Alice\n",
      "30\n",
      "name: Alice\n",
      "age: 31\n",
      "city: New York\n",
      "gender: Female\n"
     ]
    },
    {
     "data": {
      "text/plain": [
       "{\"name\"=>\"Alice\", \"age\"=>31, \"city\"=>\"New York\", \"gender\"=>\"Female\"}"
      ]
     },
     "execution_count": 25,
     "metadata": {},
     "output_type": "execute_result"
    }
   ],
   "source": [
    "# Ruby hash.  Can index using any type of object strings, regular expressions etc.  Elements are no ordered.\n",
    "\n",
    "# Creating a hash: a collection of key, value pairs\n",
    "person = {\n",
    "  \"name\" => \"Alice\",\n",
    "  \"age\" => 30,\n",
    "  \"city\" => \"New York\"\n",
    "}\n",
    "\n",
    "# Accessing values using keys\n",
    "puts person[\"name\"]  # Output: Alice\n",
    "puts person[\"age\"]   # Output: 30\n",
    "\n",
    "# Modifying values\n",
    "person[\"age\"] = 31\n",
    "\n",
    "# Adding a new key-value pair\n",
    "person[\"gender\"] = \"Female\"\n",
    "\n",
    "# Iterating through a hash\n",
    "person.each do |key, value|\n",
    "  puts \"#{key}: #{value}\"\n",
    "end\n"
   ]
  },
  {
   "cell_type": "code",
   "execution_count": null,
   "id": "45fe3897",
   "metadata": {},
   "outputs": [],
   "source": [
    "# Ruby arrays: an ordered list of items \n",
    "\n",
    "# Creating an array\n",
    "fruits = [\"apple\", \"banana\", \"orange\", \"grape\"]\n",
    "\n",
    "# Accessing elements using indexes (indexes start at 0)\n",
    "puts fruits[0]  # Output: apple\n",
    "puts fruits[2]  # Output: orange\n",
    "\n",
    "# Modifying elements\n",
    "fruits[1] = \"kiwi\"\n",
    "\n",
    "# Adding elements to the end of the array\n",
    "fruits.push(\"melon\")\n",
    "\n",
    "# Iterating through an array\n",
    "fruits.each do |fruit|\n",
    "  puts fruit\n",
    "end\n",
    "\n",
    "\n"
   ]
  },
  {
   "cell_type": "code",
   "execution_count": null,
   "id": "d879ce4e",
   "metadata": {},
   "outputs": [],
   "source": [
    "# Arrays are indexed using integers, and you can access elements by their indexes.\n",
    "\n",
    "numbers = [10, 20, 30, 40, 50]\n",
    "\n",
    "# Accessing elements by index\n",
    "puts numbers[0]  # Output: 10\n",
    "puts numbers[3]  # Output: 40\n",
    "\n",
    "# Negative indexes count from the end of the array\n",
    "puts numbers[-1]  # Output: 50 (last element)\n",
    "puts numbers[-2]  # Output: 40 (second to last element)\n",
    "\n",
    "# Slicing arrays (getting a portion of the array)\n",
    "subset = numbers[1..3]\n",
    "puts subset.inspect  # Output: [20, 30, 40]\n",
    "\n",
    "# Using ranges to access elements\n",
    "subset = numbers[1, 3]  # Get 3 elements starting from index 1\n",
    "puts subset.inspect  # Output: [20, 30, 40]\n"
   ]
  },
  {
   "cell_type": "code",
   "execution_count": null,
   "id": "137e30c7",
   "metadata": {},
   "outputs": [],
   "source": [
    "# Ruby loops\n",
    "\n",
    "x = 0\n",
    "\n",
    "4.times do |i|\n",
    "  x += i\n",
    "end\n",
    "\n",
    "p x"
   ]
  },
  {
   "cell_type": "code",
   "execution_count": null,
   "id": "df862008",
   "metadata": {},
   "outputs": [],
   "source": [
    "#  String#each_char returns an Enumerator which yields each character in the receiver. \n",
    "#  Note that characters are represented by single character strings.\n",
    "\n",
    "\n",
    "s = \"abcde\"\n",
    "p s.each_char.map { |i|\n",
    "  i * 2\n",
    "}"
   ]
  },
  {
   "cell_type": "code",
   "execution_count": null,
   "id": "a6e044c7",
   "metadata": {},
   "outputs": [],
   "source": [
    "puts \"Hello\""
   ]
  },
  {
   "cell_type": "code",
   "execution_count": null,
   "id": "d20ce7e4",
   "metadata": {},
   "outputs": [],
   "source": [
    "print \"Ruby is fun!\""
   ]
  },
  {
   "cell_type": "code",
   "execution_count": null,
   "id": "e54e3972",
   "metadata": {},
   "outputs": [],
   "source": [
    "p \"Elephant\""
   ]
  },
  {
   "cell_type": "code",
   "execution_count": null,
   "id": "dd5a4abb",
   "metadata": {},
   "outputs": [],
   "source": [
    "# Ruby supports several types of loops, allowing you to repeat a block of code multiple times. \n",
    "# Here are some examples of Ruby loops:\n",
    "\n",
    "# Example of a while loop\n",
    "counter = 1\n",
    "while counter <= 5 do\n",
    "  puts \"Iteration #{counter}\"\n",
    "  counter += 1\n",
    "end"
   ]
  },
  {
   "cell_type": "code",
   "execution_count": null,
   "id": "fc84da6f",
   "metadata": {},
   "outputs": [],
   "source": [
    "# Example of a for loop\n",
    "for i in 1..5 do\n",
    "  puts \"Iteration #{i}\"\n",
    "end"
   ]
  },
  {
   "cell_type": "code",
   "execution_count": 7,
   "id": "8c1a612d",
   "metadata": {},
   "outputs": [
    {
     "name": "stdout",
     "output_type": "stream",
     "text": [
      "Iteration 1\n",
      "Iteration 2\n",
      "Iteration 3\n",
      "Iteration 4\n",
      "Iteration 5\n"
     ]
    },
    {
     "data": {
      "text/plain": [
       "[1, 2, 3, 4, 5]"
      ]
     },
     "execution_count": 7,
     "metadata": {},
     "output_type": "execute_result"
    }
   ],
   "source": [
    "# Example of using each iterator with an array\n",
    "numbers = [1, 2, 3, 4, 5]\n",
    "numbers.each do |num|\n",
    "  puts \"Iteration #{num}\"\n",
    "end"
   ]
  },
  {
   "cell_type": "code",
   "execution_count": 4,
   "id": "5f3921d0",
   "metadata": {},
   "outputs": [
    {
     "name": "stdout",
     "output_type": "stream",
     "text": [
      "Iteration 1\n",
      "Iteration 2\n",
      "Iteration 3\n",
      "Iteration 4\n",
      "Iteration 5\n"
     ]
    },
    {
     "data": {
      "text/plain": [
       "5"
      ]
     },
     "execution_count": 4,
     "metadata": {},
     "output_type": "execute_result"
    }
   ],
   "source": [
    "# Example of using times loop\n",
    "5.times do |i|\n",
    "  puts \"Iteration #{i + 1}\"\n",
    "end"
   ]
  },
  {
   "cell_type": "code",
   "execution_count": 5,
   "id": "51a4460f",
   "metadata": {},
   "outputs": [
    {
     "name": "stdout",
     "output_type": "stream",
     "text": [
      "Iteration 1\n",
      "Iteration 2\n",
      "Iteration 3\n",
      "Iteration 4\n",
      "Iteration 5\n"
     ]
    }
   ],
   "source": [
    "# Example of an until loop\n",
    "counter = 1\n",
    "until counter > 5 do\n",
    "  puts \"Iteration #{counter}\"\n",
    "  counter += 1\n",
    "end"
   ]
  },
  {
   "cell_type": "code",
   "execution_count": 6,
   "id": "16543148",
   "metadata": {},
   "outputs": [
    {
     "name": "stdout",
     "output_type": "stream",
     "text": [
      "Outer Loop: 1, Inner Loop: 1\n",
      "Outer Loop: 1, Inner Loop: 2\n",
      "Outer Loop: 1, Inner Loop: 3\n",
      "Outer Loop: 2, Inner Loop: 1\n",
      "Outer Loop: 2, Inner Loop: 2\n",
      "Outer Loop: 2, Inner Loop: 3\n",
      "Outer Loop: 3, Inner Loop: 1\n",
      "Outer Loop: 3, Inner Loop: 2\n",
      "Outer Loop: 3, Inner Loop: 3\n"
     ]
    },
    {
     "data": {
      "text/plain": [
       "1..3"
      ]
     },
     "execution_count": 6,
     "metadata": {},
     "output_type": "execute_result"
    }
   ],
   "source": [
    "# Example of nested loops\n",
    "\n",
    "for i in 1..3 do\n",
    "  for j in 1..3 do\n",
    "    puts \"Outer Loop: #{i}, Inner Loop: #{j}\"\n",
    "  end\n",
    "end\n",
    "\n",
    "#Outer Loop: 1, Inner Loop: 1\n",
    "#Outer Loop: 1, Inner Loop: 2\n",
    "#Outer Loop: 1, Inner Loop: 3\n",
    "#Outer Loop: 2, Inner Loop: 1\n",
    "#Outer Loop: 2, Inner Loop: 2\n",
    "#Outer Loop: 2, Inner Loop: 3\n",
    "#Outer Loop: 3, Inner Loop: 1\n",
    "#Outer Loop: 3, Inner Loop: 2\n",
    "#Outer Loop: 3, Inner Loop: 3"
   ]
  },
  {
   "cell_type": "code",
   "execution_count": 1,
   "id": "f3b15678",
   "metadata": {},
   "outputs": [
    {
     "name": "stdout",
     "output_type": "stream",
     "text": [
      "short\n"
     ]
    }
   ],
   "source": [
    " s = \"bean\"\n",
    "\n",
    "if s.empty?\n",
    "  puts \"blank\"\n",
    "elsif s.length < 5\n",
    "  puts \"short\"\n",
    "else\n",
    "  puts \"long\"\n",
    "end\n",
    "\n",
    "#short"
   ]
  },
  {
   "cell_type": "code",
   "execution_count": 2,
   "id": "0621db90",
   "metadata": {},
   "outputs": [
    {
     "name": "stdout",
     "output_type": "stream",
     "text": [
      "Iteration 1\n"
     ]
    }
   ],
   "source": [
    "# i is initially 1: It prints \"Iteration 1\" and moves to the next iteration.\n",
    "# i becomes 2: The next statement is encountered, so it skips this iteration and moves to the next.\n",
    "# i becomes 3: The break statement is encountered, causing the loop to exit.\n",
    "# Therefore, only \"Iteration 1\" is printed, and the loop completes. \n",
    "\n",
    "\n",
    "\n",
    "for i in 1..5 do\n",
    "  if i == 3\n",
    "    break   # Exit the loop completely\n",
    "  elsif i == 2\n",
    "    next    # Skip to the next iteration\n",
    "  end\n",
    "  puts \"Iteration #{i}\"\n",
    "end\n",
    "\n",
    "#Iteration 1\n"
   ]
  },
  {
   "cell_type": "code",
   "execution_count": 5,
   "id": "516d8d76",
   "metadata": {},
   "outputs": [
    {
     "name": "stdout",
     "output_type": "stream",
     "text": [
      "nil\n",
      "100\n"
     ]
    },
    {
     "data": {
      "text/plain": [
       "[\"foo: abc \", \"bar: 100\"]"
      ]
     },
     "execution_count": 5,
     "metadata": {},
     "output_type": "execute_result"
    }
   ],
   "source": [
    "[\"foo: abc \", \"bar: 100\"].each do |i|\n",
    "  p i.slice(/[0-9]+/)&.to_i\n",
    "end\n",
    "\n",
    "#slice returns the first matching substring found in the receiver, or nil if none found. &. is called \n",
    "#safe nagivation operator. x&.foo invokes foo on x if x is not nil. If x is nil, x&.foo does not invoke foo \n",
    "#and evaluates to nil.\n"
   ]
  },
  {
   "cell_type": "code",
   "execution_count": 2,
   "id": "18dfe7a0",
   "metadata": {},
   "outputs": [
    {
     "name": "stdout",
     "output_type": "stream",
     "text": [
      "Example of Range:\n",
      "1 2 3 4 5 \n",
      "\n",
      "Example of Conditionals:\n",
      "1 is odd.\n",
      "2 is even.\n",
      "3 is odd.\n",
      "4 is even.\n",
      "5 is odd.\n",
      "\n",
      "Example of Intervals:\n",
      "You are an adult.\n"
     ]
    }
   ],
   "source": [
    "# Fun with sequences, conditions, and intervals \n",
    "\n",
    "# Example of sequences using an array\n",
    "numbers = [1, 2, 3, 4, 5]\n",
    "\n",
    "# Example of ranges\n",
    "puts \"Example of Range:\"\n",
    "range = (1..5)\n",
    "range.each do |num|\n",
    "  print \"#{num} \"\n",
    "end\n",
    "puts \"\\n\\n\"\n",
    "\n",
    "# Example of conditionals\n",
    "puts \"Example of Conditionals:\"\n",
    "numbers.each do |num|\n",
    "  if num.even?\n",
    "    puts \"#{num} is even.\"\n",
    "  else\n",
    "    puts \"#{num} is odd.\"\n",
    "  end\n",
    "end\n",
    "puts \"\\n\"\n",
    "\n",
    "# Example of intervals\n",
    "puts \"Example of Intervals:\"\n",
    "age = 20\n",
    "case age\n",
    "when 0..12\n",
    "  puts \"You are a child.\"\n",
    "when 13..19\n",
    "  puts \"You are a teenager.\"\n",
    "when 20..59\n",
    "  puts \"You are an adult.\"\n",
    "else\n",
    "  puts \"You are a senior citizen.\"\n",
    "end\n",
    "\n",
    "=begin\n",
    "Example of Range:\n",
    "1 2 3 4 5 \n",
    "\n",
    "Example of Conditionals:\n",
    "1 is odd.\n",
    "2 is even.\n",
    "3 is odd.\n",
    "4 is even.\n",
    "5 is odd.\n",
    "\n",
    "Example of Intervals:\n",
    "You are an adult.\n",
    "=end\n"
   ]
  },
  {
   "cell_type": "code",
   "execution_count": null,
   "id": "8de798ea",
   "metadata": {},
   "outputs": [],
   "source": []
  }
 ],
 "metadata": {
  "kernelspec": {
   "display_name": "Ruby 3.2.2",
   "language": "ruby",
   "name": "ruby"
  },
  "language_info": {
   "file_extension": ".rb",
   "mimetype": "application/x-ruby",
   "name": "ruby",
   "version": "3.2.2"
  }
 },
 "nbformat": 4,
 "nbformat_minor": 5
}
