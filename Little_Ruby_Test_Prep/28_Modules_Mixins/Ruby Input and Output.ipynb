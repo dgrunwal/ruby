{
 "cells": [
  {
   "cell_type": "code",
   "execution_count": 1,
   "id": "6689829d",
   "metadata": {},
   "outputs": [
    {
     "name": "stdout",
     "output_type": "stream",
     "text": [
      "File\n",
      "Hello this is my great novel\n"
     ]
    },
    {
     "data": {
      "text/plain": [
       "Hello this is my great novel"
      ]
     },
     "execution_count": 1,
     "metadata": {},
     "output_type": "execute_result"
    }
   ],
   "source": [
    "my_novel = File.open(\"novel.txt\")\n",
    "puts my_novel.class\n",
    "\n",
    "my_novel.each { |line| puts line }"
   ]
  },
  {
   "cell_type": "code",
   "execution_count": 2,
   "id": "e23ebc01",
   "metadata": {},
   "outputs": [
    {
     "name": "stdout",
     "output_type": "stream",
     "text": [
      "true\n",
      "false\n"
     ]
    }
   ],
   "source": [
    "class MyClass\n",
    "  attr_accessor :value\n",
    "\n",
    "  def initialize(value)\n",
    "    @value = value\n",
    "  end\n",
    "\n",
    "  # Override the == method to compare objects based on their value attribute\n",
    "  def ==(other)\n",
    "    self.class == other.class && @value == other.value\n",
    "  end\n",
    "end\n",
    "\n",
    "# Create instances of MyClass\n",
    "obj1 = MyClass.new(10)\n",
    "obj2 = MyClass.new(10)\n",
    "obj3 = MyClass.new(20)\n",
    "\n",
    "# Test equality using ==\n",
    "puts obj1 == obj2  # Output: true\n",
    "puts obj1 == obj3  # Output: false\n"
   ]
  },
  {
   "cell_type": "code",
   "execution_count": 4,
   "id": "8a380023",
   "metadata": {},
   "outputs": [],
   "source": [
    "# append - add to the end of something\n",
    "\n",
    "File.open(\"my_first_file.txt\", \"a\") do |file|\n",
    "  file.puts \"What's up? How you doing?\"\n",
    "  file.write \"No line break here!\"\n",
    "  file.puts \"Pretty cool!\"\n",
    "end"
   ]
  },
  {
   "cell_type": "code",
   "execution_count": 1,
   "id": "2358f51c",
   "metadata": {},
   "outputs": [
    {
     "ename": "Errno::ENOENT",
     "evalue": "No such file or directory @ rb_file_s_rename - (my_first_file.txt, SomethingBetter.txt)",
     "output_type": "error",
     "traceback": [
      "\u001b[31mErrno::ENOENT\u001b[0m: No such file or directory @ rb_file_s_rename - (my_first_file.txt, SomethingBetter.txt)",
      "(irb):in `rename'",
      "(irb):in `<top (required)>'"
     ]
    }
   ],
   "source": [
    "File.rename(\"my_first_file.txt\", \"SomethingBetter.txt\")\n",
    "\n",
    "File.delete(\"SomethingBetter.txt\") if File.exist?(\"SomethingBetter.txt\")\n",
    "\n",
    "File.open(\"SomethingBetter.txt\", \"w\") do |file|\n",
    "   file.puts \"I'm creating this file within Ruby\"\n",
    "   file.puts \"Pretty cool!\"\n",
    " end"
   ]
  },
  {
   "cell_type": "code",
   "execution_count": 2,
   "id": "302448a9",
   "metadata": {},
   "outputs": [
    {
     "name": "stdout",
     "output_type": "stream",
     "text": [
      "The square of C:\\Users\\dgrun\\AppData\\Roaming\\jupyter\\runtime\\kernel-624a1afa-765a-4ddc-be10-840a06e7221a.json is 0\n"
     ]
    },
    {
     "data": {
      "text/plain": [
       "[\"C:\\\\Users\\\\dgrun\\\\AppData\\\\Roaming\\\\jupyter\\\\runtime\\\\kernel-624a1afa-765a-4ddc-be10-840a06e7221a.json\"]"
      ]
     },
     "execution_count": 2,
     "metadata": {},
     "output_type": "execute_result"
    }
   ],
   "source": [
    "# ARGV available by default \n",
    "\n",
    "ARGV.each do |argument|\n",
    "  square = argument.to_i ** 2\n",
    "  puts \"The square of #{argument} is #{square}\"\n",
    "end"
   ]
  },
  {
   "cell_type": "code",
   "execution_count": null,
   "id": "5ec4d7ac",
   "metadata": {},
   "outputs": [],
   "source": [
    "puts \"Welcome to the program\"\n",
    "\n",
    "load \"another_file.rb\"\n",
    "\n",
    "some_method\n",
    "table = Table.\n",
    "  new\n",
    "puts table.class\n",
    "\n",
    "load \"./another_file.rb\"\n",
    "load \"./another_file.rb\" if 8 > 5\n",
    "\n",
    "puts \"We've reached the end of our program.\""
   ]
  },
  {
   "cell_type": "code",
   "execution_count": 2,
   "id": "4cd69b03",
   "metadata": {},
   "outputs": [
    {
     "name": "stdout",
     "output_type": "stream",
     "text": [
      "Welcome to the program\n"
     ]
    },
    {
     "ename": "LoadError",
     "evalue": "cannot load such file -- C:/Users/dgrun/another_file",
     "output_type": "error",
     "traceback": [
      "\u001b[31mLoadError\u001b[0m: cannot load such file -- C:/Users/dgrun/another_file",
      "(irb):2:in `require_relative'",
      "(irb):2:in `<top (required)>'"
     ]
    }
   ],
   "source": [
    "puts \"Welcome to the program\"\n",
    "\n",
    "require_relative \"another_file\"\n",
    "require_relative \"another_file\"\n",
    "require_relative \"another_file\"\n",
    "\n",
    "some_method\n",
    "table = Table.new\n",
    "puts table.class"
   ]
  },
  {
   "cell_type": "code",
   "execution_count": null,
   "id": "b420b8ab",
   "metadata": {},
   "outputs": [],
   "source": []
  }
 ],
 "metadata": {
  "kernelspec": {
   "display_name": "Ruby 3.2.2",
   "language": "ruby",
   "name": "ruby"
  },
  "language_info": {
   "file_extension": ".rb",
   "mimetype": "application/x-ruby",
   "name": "ruby",
   "version": "3.2.2"
  }
 },
 "nbformat": 4,
 "nbformat_minor": 5
}
