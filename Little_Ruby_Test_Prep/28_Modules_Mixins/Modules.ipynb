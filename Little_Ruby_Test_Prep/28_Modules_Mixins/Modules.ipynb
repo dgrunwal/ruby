{
 "cells": [
  {
   "cell_type": "code",
   "execution_count": 1,
   "id": "eca7879f",
   "metadata": {},
   "outputs": [
    {
     "name": "stdout",
     "output_type": "stream",
     "text": [
      "528000\n",
      "12672000\n",
      "48280320.0\n"
     ]
    }
   ],
   "source": [
    "# A module is a \"toolbox\" of related classes, methods, and/or constants.\n",
    "# Module organize functionality into containers, \n",
    "# similar to directories on your computer.\n",
    "# Modules are not classes; we cannot create \"instances\" of a module.\n",
    "\n",
    "module LengthConversions\n",
    "  def self.miles_to_feet(miles)\n",
    "    miles * 5280\n",
    "  end\n",
    "\n",
    "  def self.miles_to_inches(miles)\n",
    "    feet = miles_to_feet(miles)\n",
    "    feet * 12\n",
    "  end\n",
    "\n",
    "  def self.miles_to_centimers(miles)\n",
    "    inches = miles_to_inches(miles)\n",
    "    inches * 2.54\n",
    "  end\n",
    "end\n",
    "\n",
    "puts LengthConversions.miles_to_feet(100)\n",
    "puts LengthConversions.miles_to_inches(200)\n",
    "puts LengthConversions.miles_to_centimers(300)"
   ]
  },
  {
   "cell_type": "code",
   "execution_count": 2,
   "id": "417bf0fa",
   "metadata": {},
   "outputs": [
    {
     "name": "stdout",
     "output_type": "stream",
     "text": [
      "100\n",
      "50\n"
     ]
    }
   ],
   "source": [
    "module Square\n",
    "  def self.area(side)\n",
    "    side * side\n",
    "  end  \n",
    "end\n",
    "\n",
    "module Rectangle\n",
    "  def self.area(length, width)\n",
    "    length * width\n",
    "  end\n",
    "end\n",
    "\n",
    "puts Square.area(10)\n",
    "puts Rectangle.area(10, 5)"
   ]
  },
  {
   "cell_type": "code",
   "execution_count": null,
   "id": "33eff382",
   "metadata": {},
   "outputs": [],
   "source": [
    "require \"uri\"\n",
    "require \"net/http\"\n",
    "\n",
    "p URI.class\n",
    "p Net.class\n",
    "\n",
    "uri = URI.parse(\"https://www.google.com\")\n",
    "\n",
    "p Net::HTTP.get(uri)\n"
   ]
  },
  {
   "cell_type": "code",
   "execution_count": null,
   "id": "7d409cf2",
   "metadata": {},
   "outputs": [],
   "source": [
    "# A mixin describes a module that we inject into a class to add\n",
    "# additional behavior. It's a way to share functionality\n",
    "# between classes without declaring a superclass/subclass hierarchy.\n",
    "#\n",
    "# Enumerable module - enables \"iteration\" for our object\n",
    "# Enumerable - adjective - able to be counted by one-to-one \n",
    "# Automatically defines methods like map, select, reject, any?, and more\n",
    "#\n",
    "# 1) Mix in the Enumerable module with the include keyword\n",
    "# 2) Define an 'each' method\n",
    "\n",
    "class Refrigerator\n",
    "  include Enumerable\n",
    "\n",
    "  attr_reader :snacks, :drinks\n",
    "\n",
    "  def initialize(snacks:, drinks:)\n",
    "    @snacks = snacks\n",
    "    @drinks = drinks\n",
    "  end\n",
    "\n",
    "  def items\n",
    "    snacks + drinks\n",
    "  end\n",
    "\n",
    "  def each\n",
    "    items.each { |item| yield item }\n",
    "\n",
    "  end\n",
    "end\n",
    "\n",
    "fridge = Refrigerator.new(\n",
    "  snacks: [\"Doritos\", \"Jolly Ranchers\", \"Ben & Jerry's Ice Cream\"],\n",
    "  drinks: [\"Pepsi\", \"Coke\", \"Gatorade\"]\n",
    ")\n",
    "\n",
    "fridge.each { |item| puts \"#{item} is delicious\" }\n",
    "p fridge.sort\n",
    "p fridge.any? { |item| item.length > 10 }\n",
    "p fridge.all? { |item| item.length < 25 }\n",
    "p fridge.map { |item| item.upcase }\n",
    "p fridge.select { |item| item.downcase.include?(\"j\") }\n",
    "p fridge.reject { |item| item.upcase.include?(\"B\") }"
   ]
  },
  {
   "cell_type": "code",
   "execution_count": null,
   "id": "45a9149e",
   "metadata": {},
   "outputs": [],
   "source": [
    "# The Comparable module/mixin enables us to \"compare\" our objects.\n",
    "# In previous sections, we saw how to declare basic equality\n",
    "# by overriding the == instance method. But Comparable expands that\n",
    "# by granting access to many comparison methods (<, <=, >, >=, ==, etc)\n",
    "#\n",
    "# 1) Mix in the Comparable module with the include keyword\n",
    "# 2) Define an '<=>' (spaceship operator) method\n",
    "#\n",
    "# Spaceship operator method \n",
    "# Return -1 if current item is less than other item\n",
    "# Return 0 if two items are equal\n",
    "# Return 1 if current item is greater than other item\n",
    "\n",
    "class OlympicMedal\n",
    "  include Comparable\n",
    "\n",
    "  attr_reader :type\n",
    "\n",
    "  def initialize(type:)\n",
    "    @type = type\n",
    "  end\n",
    "\n",
    "  def <=>(other)\n",
    "    medal_values = { gold: 3, silver: 2, bronze: 1 }\n",
    "    current_medal_value = medal_values[type] # number\n",
    "    other_medal_value = medal_values[other.type] # number\n",
    "\n",
    "    if current_medal_value < other_medal_value\n",
    "      -1\n",
    "    elsif current_medal_value == other_medal_value\n",
    "      0\n",
    "    else\n",
    "      1\n",
    "    end\n",
    "  end\n",
    "end\n",
    "\n",
    "bronze = OlympicMedal.new(type: :bronze)\n",
    "silver = OlympicMedal.new(type: :silver)\n",
    "gold = OlympicMedal.new(type: :gold)\n",
    "\n",
    "puts bronze > silver\n",
    "puts bronze < gold\n",
    "puts bronze.<(gold)\n",
    "puts gold > bronze\n",
    "puts silver <= gold\n",
    "puts bronze >= gold\n",
    "puts bronze == gold\n",
    "puts silver != gold\n",
    "puts silver.between?(bronze, gold)\n"
   ]
  },
  {
   "cell_type": "code",
   "execution_count": 3,
   "id": "a8bb5567",
   "metadata": {},
   "outputs": [
    {
     "name": "stdout",
     "output_type": "stream",
     "text": [
      "Animal Farm has been purchased!\n",
      "Ice Cream has been purchased!\n",
      "Slim Jim has been purchased!\n"
     ]
    }
   ],
   "source": [
    "# Use inheritance when the relationship is an \"is-a\" relationship.\n",
    "# A Car is a type of Vehicle.\n",
    "# Use modules/mixins when the relationship is a \"has-a\" relationship.\n",
    "# A Car is Towable, Purchaseable, Crushable\n",
    "# We can mix in multiple modules but only inherit from 1 superclass.\n",
    "# Methods are mixed in, no keyword \"self\" included\" \n",
    "\n",
    "module Purchaseable\n",
    "  def purchase(item)\n",
    "    \"#{item} has been purchased!\"\n",
    "  end\n",
    "end\n",
    "\n",
    "class Bookstore\n",
    "  include Purchaseable\n",
    "end\n",
    "\n",
    "class Supermarket\n",
    "  include Purchaseable\n",
    "end\n",
    "\n",
    "class Bodega < Supermarket\n",
    "end\n",
    "\n",
    "bookstore = Bookstore.new\n",
    "supermarket = Supermarket.new\n",
    "bodega = Bodega.new\n",
    "\n",
    "puts bookstore.purchase(\"Animal Farm\")\n",
    "puts supermarket.purchase(\"Ice Cream\")\n",
    "puts bodega.purchase(\"Slim Jim\")"
   ]
  },
  {
   "cell_type": "code",
   "execution_count": 4,
   "id": "92ae607e",
   "metadata": {},
   "outputs": [
    {
     "name": "stdout",
     "output_type": "stream",
     "text": [
      "[#<Class:0x0000021f8c438fc0>::Bookstore, #<Class:0x0000021f8c438fc0>::Purchaseable, Object, PP::ObjectMixin, JSON::Ext::Generator::GeneratorMethods::Object, Kernel, BasicObject]\n",
      "Module\n",
      "Class\n",
      "Module\n",
      "Class\n",
      "\n",
      "true\n",
      "true\n",
      "true\n",
      "true\n",
      "true\n",
      "\n",
      "\"You bought a copy of Animal Farm at the bookstore!\"\n"
     ]
    },
    {
     "data": {
      "text/plain": [
       "\"You bought a copy of Animal Farm at the bookstore!\""
      ]
     },
     "execution_count": 4,
     "metadata": {},
     "output_type": "execute_result"
    }
   ],
   "source": [
    "#ancestors method - array of hierarchy, mixins included \n",
    "def purchase(item)\n",
    "    \"#{item} has been purchased!\"\n",
    "  end\n",
    "end\n",
    "\n",
    "class Bookstore\n",
    "  include Purchaseable\n",
    "\n",
    "  def purchase(item)\n",
    "    \"You bought a copy of #{item} at the bookstore!\"\n",
    "  end\n",
    "end\n",
    "\n",
    "class Supermarket\n",
    "  include Purchaseable\n",
    "end\n",
    "\n",
    "class Bodega < Supermarket\n",
    "end\n",
    "\n",
    "bookstore = Bookstore.new\n",
    "supermarket = Supermarket.new\n",
    "bodega = Bodega.new\n",
    "\n",
    "p Bookstore.ancestors\n",
    "p Purchaseable.class\n",
    "p Object.class\n",
    "p Kernel.class\n",
    "p BasicObject.class\n",
    "\n",
    "puts\n",
    "\n",
    "p bookstore.is_a?(Bookstore)\n",
    "p bookstore.is_a?(Purchaseable)\n",
    "p bookstore.is_a?(Object)\n",
    "p bookstore.is_a?(Kernel)\n",
    "p bookstore.is_a?(BasicObject)\n",
    "\n",
    "puts \n",
    "\n",
    "p bookstore.purchase(\"Animal Farm\")"
   ]
  },
  {
   "cell_type": "code",
   "execution_count": 1,
   "id": "bde7c291",
   "metadata": {},
   "outputs": [
    {
     "name": "stdout",
     "output_type": "stream",
     "text": [
      "\"Goosebumps has been purchased!\"\n",
      "[#<Class:0x00000261846c7e50>::Purchaseable, #<Class:0x00000261846c7e50>::Bookstore, Object, PP::ObjectMixin, JSON::Ext::Generator::GeneratorMethods::Object, Kernel, BasicObject]\n"
     ]
    },
    {
     "data": {
      "text/plain": [
       "[#<Class:0x00000261846c7e50>::Purchaseable, #<Class:0x00000261846c7e50>::Bookstore, Object, PP::ObjectMixin, JSON::Ext::Generator::GeneratorMethods::Object, Kernel, BasicObject]"
      ]
     },
     "execution_count": 1,
     "metadata": {},
     "output_type": "execute_result"
    }
   ],
   "source": [
    "# prepend - verb - to add something to the beginning of something else\n",
    "#\n",
    "# prepend keyword - add the mixin's methods before the instance method\n",
    "# in the lookup order\n",
    "\n",
    "module Purchaseable\n",
    "  def purchase(item)\n",
    "    \"#{item} has been purchased!\"\n",
    "  end\n",
    "end\n",
    "\n",
    "class Bookstore\n",
    "  prepend Purchaseable\n",
    "\n",
    "  def purchase(item)\n",
    "    \"You bought a copy of #{item} at the bookstore!\"\n",
    "  end\n",
    "end\n",
    "\n",
    "bn = Bookstore.new\n",
    "p bn.purchase(\"Goosebumps\")\n",
    "p Bookstore.ancestors"
   ]
  },
  {
   "cell_type": "code",
   "execution_count": 2,
   "id": "63ca8392",
   "metadata": {},
   "outputs": [
    {
     "name": "stdout",
     "output_type": "stream",
     "text": [
      "The name of this class is #<Class:0x000001e4cb987d10>::Dog\n",
      "The name of this class is #<Class:0x000001e4cb987d10>::Warehouse\n"
     ]
    },
    {
     "data": {
      "text/plain": [
       "#<#<Class:0x000001e4cb987d10>::Dog:0x000001e4cb4b55a8>"
      ]
     },
     "execution_count": 2,
     "metadata": {},
     "output_type": "execute_result"
    }
   ],
   "source": [
    "# extend keyword - add the mixin's methods as class methods\n",
    "\n",
    "module Announceable\n",
    "  def who_am_i\n",
    "    \"The name of this class is #{self}\"\n",
    "  end\n",
    "end\n",
    "\n",
    "class Dog\n",
    "  extend Announceable\n",
    "end\n",
    "\n",
    "class Warehouse\n",
    "  extend Announceable\n",
    "end\n",
    "\n",
    "puts Dog.who_am_i\n",
    "puts Warehouse.who_am_i\n",
    "\n",
    "watson = Dog.new\n",
    "# p watson.who_am_i"
   ]
  },
  {
   "cell_type": "code",
   "execution_count": 3,
   "id": "7c5a3edf",
   "metadata": {},
   "outputs": [
    {
     "name": "stdout",
     "output_type": "stream",
     "text": [
      "Hello from A\n",
      "Whatever\n"
     ]
    }
   ],
   "source": [
    "module A\n",
    "  def whatever\n",
    "    \"Whatever\"\n",
    "  end\n",
    "\n",
    "  def some_method\n",
    "    \"Hello from A\"\n",
    "  end\n",
    "end\n",
    "\n",
    "module B\n",
    "  def some_method\n",
    "    \"Hello from B\"\n",
    "  end\n",
    "end\n",
    "\n",
    "class SomeClass\n",
    "  include B\n",
    "  include A # last listed wins out when duplicate name \n",
    "end\n",
    "\n",
    "some_object = SomeClass.new\n",
    "puts some_object.some_method\n",
    "puts some_object.whatever"
   ]
  },
  {
   "cell_type": "code",
   "execution_count": 4,
   "id": "58619ac4",
   "metadata": {},
   "outputs": [
    {
     "data": {
      "text/plain": [
       ":download_low_quality"
      ]
     },
     "execution_count": 4,
     "metadata": {},
     "output_type": "execute_result"
    }
   ],
   "source": [
    "module Downloadable\n",
    "  def download_low_quality\n",
    "    \"low quality\"\n",
    "  end\n",
    "end"
   ]
  },
  {
   "cell_type": "code",
   "execution_count": 10,
   "id": "fc915bda",
   "metadata": {},
   "outputs": [
    {
     "data": {
      "text/plain": [
       ":download_high_quality"
      ]
     },
     "execution_count": 10,
     "metadata": {},
     "output_type": "execute_result"
    }
   ],
   "source": [
    "module Downloadable\n",
    "  def download_high_quality\n",
    "    \"high quality\"\n",
    "  end\n",
    "end"
   ]
  },
  {
   "cell_type": "code",
   "execution_count": 11,
   "id": "ce7ea882",
   "metadata": {},
   "outputs": [
    {
     "name": "stdout",
     "output_type": "stream",
     "text": [
      "low quality\n",
      "high quality\n"
     ]
    }
   ],
   "source": [
    "require_relative \"low_quality\"\n",
    "require_relative \"high_quality\"\n",
    "\n",
    "class Song\n",
    "  include Downloadable\n",
    "end\n",
    "\n",
    "song = Song.new\n",
    "puts song.download_low_quality\n",
    "puts song.download_high_quality"
   ]
  },
  {
   "cell_type": "code",
   "execution_count": 12,
   "id": "266e1971",
   "metadata": {},
   "outputs": [
    {
     "name": "stdout",
     "output_type": "stream",
     "text": [
      "#<#<Class:0x000001e4cb987d10>::FileManagement::CSV::Reader:0x000001e4cc08c4f8>\n",
      "#<#<Class:0x000001e4cb987d10>::FileManagement::Excel::Reader:0x000001e4cc08b8c8>\n"
     ]
    },
    {
     "data": {
      "text/plain": [
       "#<#<Class:0x000001e4cb987d10>::FileManagement::Excel::Reader:0x000001e4cc08b8c8>"
      ]
     },
     "execution_count": 12,
     "metadata": {},
     "output_type": "execute_result"
    }
   ],
   "source": [
    "module FileManagement\n",
    "  # file_management/csv/reader.rb\n",
    "  module CSV\n",
    "    class Reader\n",
    "      # Class that deals with reading CSV files\n",
    "    end\n",
    "  end\n",
    "\n",
    "  # file_management/excel/reader.rb\n",
    "  module Excel\n",
    "    class Reader\n",
    "      # Class that deals with reading Excel files\n",
    "    end\n",
    "  end\n",
    "end\n",
    "\n",
    "p FileManagement::CSV::Reader.new\n",
    "p FileManagement::Excel::Reader.new"
   ]
  },
  {
   "cell_type": "code",
   "execution_count": null,
   "id": "4e859acf",
   "metadata": {},
   "outputs": [],
   "source": []
  }
 ],
 "metadata": {
  "kernelspec": {
   "display_name": "Ruby 3.2.2",
   "language": "ruby",
   "name": "ruby"
  },
  "language_info": {
   "file_extension": ".rb",
   "mimetype": "application/x-ruby",
   "name": "ruby",
   "version": "3.2.2"
  }
 },
 "nbformat": 4,
 "nbformat_minor": 5
}
