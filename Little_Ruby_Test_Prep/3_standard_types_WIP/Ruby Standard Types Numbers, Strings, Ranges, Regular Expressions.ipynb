{
 "cells": [
  {
   "cell_type": "code",
   "execution_count": 1,
   "id": "195e12ea",
   "metadata": {},
   "outputs": [
    {
     "name": "stdout",
     "output_type": "stream",
     "text": [
      "Sum: 52\n",
      "Difference: 32\n",
      "Product: 420\n",
      "Quotient: 4\n",
      "42 is even.\n",
      "Color at index 1: Green\n"
     ]
    }
   ],
   "source": [
    "# A little tutorial on numbers using FixNum which has been merged into Integer class in Ruby 2.4+\n",
    "\n",
    "\n",
    "# Using Fixnum (which is an alias for Integer in modern Ruby versions)\n",
    "number1 = 42\n",
    "number2 = 10\n",
    "\n",
    "# Basic arithmetic operations\n",
    "sum = number1 + number2\n",
    "difference = number1 - number2\n",
    "product = number1 * number2\n",
    "quotient = number1 / number2\n",
    "\n",
    "puts \"Sum: #{sum}\"           # Output: Sum: 52\n",
    "puts \"Difference: #{difference}\" # Output: Difference: 32\n",
    "puts \"Product: #{product}\"     # Output: Product: 420\n",
    "puts \"Quotient: #{quotient}\"   # Output: Quotient: 4\n",
    "\n",
    "# Check if a number is even or odd\n",
    "puts \"#{number1} is even.\" if number1.even? # Output: 42 is even.\n",
    "puts \"#{number2} is odd.\" if number2.odd?   # Output: 10 is odd.\n",
    "\n",
    "# Using Fixnum as an index in an array\n",
    "colors = ['Red', 'Green', 'Blue']\n",
    "index = 1\n",
    "puts \"Color at index #{index}: #{colors[index]}\" # Output: Color at index 1: Green\n",
    "\n",
    "#Sum: 52\n",
    "#Difference: 32\n",
    "#Product: 420\n",
    "#Quotient: 4\n",
    "#42 is even.\n",
    "#Color at index 1: Green\n"
   ]
  },
  {
   "cell_type": "code",
   "execution_count": 3,
   "id": "5d25954c",
   "metadata": {},
   "outputs": [
    {
     "name": "stdout",
     "output_type": "stream",
     "text": [
      "Sum: 25\n",
      "Difference: 15\n",
      "Product: 100\n",
      "Quotient: 4\n",
      "Converted Number: 42\n",
      "Number of digits: 5\n",
      "Is it odd? true\n",
      "Is it even? false\n",
      "Color at index 1: Green\n",
      "Iteration 1\n",
      "Iteration 2\n",
      "Iteration 3\n",
      "Iteration 4\n",
      "Iteration 5\n"
     ]
    },
    {
     "data": {
      "text/plain": [
       "5"
      ]
     },
     "execution_count": 3,
     "metadata": {},
     "output_type": "execute_result"
    }
   ],
   "source": [
    "# Using the Integer class in Ruby\n",
    "\n",
    "# 1. Basic arithmetic operations\n",
    "num1 = 20\n",
    "num2 = 5\n",
    "\n",
    "sum = num1 + num2\n",
    "difference = num1 - num2\n",
    "product = num1 * num2\n",
    "quotient = num1 / num2\n",
    "\n",
    "puts \"Sum: #{sum}\"           # Output: Sum: 25\n",
    "puts \"Difference: #{difference}\" # Output: Difference: 15\n",
    "puts \"Product: #{product}\"     # Output: Product: 100\n",
    "puts \"Quotient: #{quotient}\"   # Output: Quotient: 4\n",
    "\n",
    "# 2. Converting strings to integers\n",
    "string_num = \"42\"\n",
    "converted_num = string_num.to_i\n",
    "puts \"Converted Number: #{converted_num}\" # Output: Converted Number: 42\n",
    "\n",
    "# 3. Using Integer methods\n",
    "num = 12345\n",
    "puts \"Number of digits: #{num.digits.count}\" # Output: Number of digits: 5\n",
    "puts \"Is it odd? #{num.odd?}\"                # Output: Is it odd? true\n",
    "puts \"Is it even? #{num.even?}\"              # Output: Is it even? false\n",
    "\n",
    "# 4. Integer as an index\n",
    "colors = ['Red', 'Green', 'Blue']\n",
    "index = 1\n",
    "puts \"Color at index #{index}: #{colors[index]}\" # Output: Color at index 1: Green\n",
    "\n",
    "# 5. Using Integer with loops\n",
    "5.times do |i|\n",
    "  puts \"Iteration #{i + 1}\"\n",
    "end\n",
    "# Output: \n",
    "# Iteration 1\n",
    "# Iteration 2\n",
    "# Iteration 3\n",
    "# Iteration 4\n",
    "# Iteration 5\n"
   ]
  },
  {
   "cell_type": "code",
   "execution_count": 2,
   "id": "2f9b6cf1",
   "metadata": {},
   "outputs": [
    {
     "name": "stdout",
     "output_type": "stream",
     "text": [
      "Hello Boris, how are you?\n",
      "I am 46 years old\n",
      "In 5 years, I will be 51 years old!\n",
      "The sum of 5 and 8 is 13\n"
     ]
    }
   ],
   "source": [
    "#Simple string reminders\n",
    "\n",
    "name = \"Boris\"\n",
    "puts \"Hello #{name}, how are you?\"\n",
    "\n",
    "age = 46\n",
    "puts \"I am #{age} years old\"\n",
    "\n",
    "puts \"In 5 years, I will be #{age + 5} years old!\"\n",
    "\n",
    "x = 5\n",
    "y = 8\n",
    "puts \"The sum of #{x} and #{y} is #{x + y}\""
   ]
  },
  {
   "cell_type": "code",
   "execution_count": 3,
   "id": "c6ba6b80",
   "metadata": {},
   "outputs": [
    {
     "name": "stdout",
     "output_type": "stream",
     "text": [
      "Hi, what's your name?\n",
      "Great, what's your age?\n",
      "Your name is { and you are   \"shell_port\": 62393, years old. Awesome!\n"
     ]
    }
   ],
   "source": [
    "puts \"Hi, what's your name?\"\n",
    "name = gets.chomp\n",
    "\n",
    "puts \"Great, what's your age?\"\n",
    "age = gets.chomp\n",
    "\n",
    "puts \"Your name is #{name} and you are #{age} years old. Awesome!\""
   ]
  },
  {
   "cell_type": "code",
   "execution_count": 8,
   "id": "1bba5496",
   "metadata": {},
   "outputs": [
    {
     "name": "stdout",
     "output_type": "stream",
     "text": [
      "This is a single-quoted string with no interpolation.\n",
      "Hello, Alice! This is a double-quoted string with interpolation.\n",
      "This is a multiline string.\n",
      "It can contain multiple lines.\n"
     ]
    }
   ],
   "source": [
    "\n",
    "# Simple Ruby string examples\n",
    "#  For more String methonds see https://ruby-doc.org/docs/ruby-doc-bundle/Manual/man-1.4/String.html\n",
    "\n",
    "# Using %q{} for single-quoted strings (no interpolation)\n",
    "single_quoted_string = %q{This is a single-quoted string with no interpolation.}\n",
    "\n",
    "# Using %Q{} for double-quoted strings (allows interpolation)\n",
    "name = \"Alice\"\n",
    "double_quoted_string = %Q{Hello, #{name}! This is a double-quoted string with interpolation.}\n",
    "\n",
    "# Using <<-END_OF_STRING for multiline strings\n",
    "multiline_string = <<END_OF_STRING\n",
    "This is a multiline string.\n",
    "It can contain multiple lines.\n",
    "END_OF_STRING\n",
    "\n",
    "# Output the strings\n",
    "puts single_quoted_string\n",
    "puts double_quoted_string\n",
    "puts multiline_string\n",
    "\n",
    "#This is a single-quoted string with no interpolation.\n",
    "#Hello, Alice! This is a double-quoted string with interpolation.\n",
    "#This is a multiline string.\n",
    "#It can contain multiple lines.\n"
   ]
  },
  {
   "cell_type": "code",
   "execution_count": 11,
   "id": "7910cb3e",
   "metadata": {},
   "outputs": [
    {
     "name": "stdout",
     "output_type": "stream",
     "text": [
      "Is 6 even? true\n",
      "Is 6 odd? false\n",
      "Square of 6: 36\n",
      "Square root of 6: 2.449489742783178\n",
      "Absolute value of -6: 6\n",
      "Factorial of 6: 720\n",
      "Maximum of 4 and 6: 6\n",
      "Minimum of 4 and 6: 4\n",
      "0\n",
      "11\n",
      "9\n"
     ]
    }
   ],
   "source": [
    "# Ruby program showcasing integer methods\n",
    "\n",
    "# Method to check if a number is even\n",
    "def is_even?(num)\n",
    "  num.even?\n",
    "end\n",
    "\n",
    "# Method to check if a number is odd\n",
    "def is_odd?(num)\n",
    "  num.odd?\n",
    "end\n",
    "\n",
    "# Method to find the square of a number\n",
    "def square(num)\n",
    "  num**2\n",
    "end\n",
    "\n",
    "# Method to find the square root of a number\n",
    "def square_root(num)\n",
    "  Math.sqrt(num)\n",
    "end\n",
    "\n",
    "# Method to find the absolute value of a number\n",
    "def absolute_value(num)\n",
    "  num.abs\n",
    "end\n",
    "\n",
    "# Method to find the factorial of a number\n",
    "def factorial(num)\n",
    "  (1..num).reduce(1, :*)\n",
    "end\n",
    "\n",
    "# Method to find the maximum of two numbers\n",
    "def maximum(num1, num2)\n",
    "  [num1, num2].max\n",
    "end\n",
    "\n",
    "# Method to find the minimum of two numbers\n",
    "def minimum(num1, num2)\n",
    "  [num1, num2].min\n",
    "end\n",
    "\n",
    "# Example usage of integer methods\n",
    "number = 6\n",
    "\n",
    "puts \"Is #{number} even? #{is_even?(number)}\"\n",
    "puts \"Is #{number} odd? #{is_odd?(number)}\"\n",
    "puts \"Square of #{number}: #{square(number)}\"\n",
    "puts \"Square root of #{number}: #{square_root(number)}\"\n",
    "puts \"Absolute value of -#{number}: #{absolute_value(-number)}\"\n",
    "puts \"Factorial of #{number}: #{factorial(number)}\"\n",
    "puts \"Maximum of 4 and #{number}: #{maximum(4, number)}\"\n",
    "puts \"Minimum of 4 and #{number}: #{minimum(4, number)}\"\n",
    "puts -1.next  \n",
    "puts 10.succ   # next number\n",
    "puts 10.pred   # previous number\n",
    "\n",
    "\n",
    "#Is 6 even? true\n",
    "#Is 6 odd? false\n",
    "#Square of 6: 36\n",
    "#Square root of 6: 2.449489742783178\n",
    "#Absolute value of -6: 6\n",
    "#Factorial of 6: 720\n",
    "#Maximum of 4 and 6: 6\n",
    "#Minimum of 4 and 6: 4\n",
    "#0\n",
    "#11\n",
    "#9"
   ]
  },
  {
   "cell_type": "code",
   "execution_count": 14,
   "id": "6392cb34",
   "metadata": {},
   "outputs": [
    {
     "name": "stdout",
     "output_type": "stream",
     "text": [
      "Length of the string 'Stallone': 8\n",
      "STALLONE\n"
     ]
    }
   ],
   "source": [
    "actor = \"Stallone\"\n",
    "\n",
    "# Use a method to determine the number of characters in \n",
    "# the string above. Output the value to the screen.\n",
    "\n",
    "length = actor.length # or length = actor.size\n",
    "puts \"Length of the string '#{actor}': #{length}\"\n",
    "\n",
    "# Using the string above, invoke a method to create a new string \n",
    "# with all characters in UPPERCASE. Output the value to the screen.\n",
    "\n",
    "actor = \"Stallone\"\n",
    "new_actor = actor.upcase\n",
    "puts new_actor\n"
   ]
  },
  {
   "cell_type": "code",
   "execution_count": null,
   "id": "53c9d8c0",
   "metadata": {},
   "outputs": [],
   "source": []
  }
 ],
 "metadata": {
  "kernelspec": {
   "display_name": "Ruby 3.2.2",
   "language": "ruby",
   "name": "ruby"
  },
  "language_info": {
   "file_extension": ".rb",
   "mimetype": "application/x-ruby",
   "name": "ruby",
   "version": "3.2.2"
  }
 },
 "nbformat": 4,
 "nbformat_minor": 5
}
