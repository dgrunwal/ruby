{
 "cells": [
  {
   "cell_type": "code",
   "execution_count": 2,
   "id": "6de64a4c",
   "metadata": {},
   "outputs": [
    {
     "name": "stdout",
     "output_type": "stream",
     "text": [
      "Number is greater than 5\n",
      "Number is not less than or equal to 5\n",
      "Number is 10 and text is Hello\n",
      "Number is less than 5 or text is not World\n",
      "It's true!\n",
      "Number is 10\n"
     ]
    }
   ],
   "source": [
    "# Conditionals in Ruby\n",
    "\n",
    "# Define variables for demonstration\n",
    "number = 10\n",
    "text = \"Hello\"\n",
    "is_true = true\n",
    "\n",
    "# Conditional statements\n",
    "if number > 5\n",
    "  puts \"Number is greater than 5\"\n",
    "end\n",
    "\n",
    "unless number <= 5\n",
    "  puts \"Number is not less than or equal to 5\"\n",
    "end\n",
    "\n",
    "if number == 10 && text == \"Hello\"\n",
    "  puts \"Number is 10 and text is Hello\"\n",
    "end\n",
    "\n",
    "if number < 5 || text != \"World\"\n",
    "  puts \"Number is less than 5 or text is not World\"\n",
    "end\n",
    "\n",
    "if is_true\n",
    "  puts \"It's true!\"\n",
    "else\n",
    "  puts \"It's false!\"\n",
    "end\n",
    "\n",
    "case number\n",
    "when 5\n",
    "  puts \"Number is 5\"\n",
    "when 10\n",
    "  puts \"Number is 10\"\n",
    "else\n",
    "  puts \"Number is neither 5 nor 10\"\n",
    "end\n",
    "\n",
    "=begin\n",
    "\n",
    "Number is greater than 5\n",
    "Number is not less than or equal to 5\n",
    "Number is 10 and text is Hello\n",
    "Number is less than 5 or text is not World\n",
    "It's true!\n",
    "Number is 10\n",
    "\n",
    "=end\n"
   ]
  },
  {
   "cell_type": "code",
   "execution_count": null,
   "id": "0d40006c",
   "metadata": {},
   "outputs": [],
   "source": []
  }
 ],
 "metadata": {
  "kernelspec": {
   "display_name": "Ruby 3.2.2",
   "language": "ruby",
   "name": "ruby"
  },
  "language_info": {
   "file_extension": ".rb",
   "mimetype": "application/x-ruby",
   "name": "ruby",
   "version": "3.2.2"
  }
 },
 "nbformat": 4,
 "nbformat_minor": 5
}
