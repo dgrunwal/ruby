{
 "cells": [
  {
   "cell_type": "code",
   "execution_count": 1,
   "id": "6ff86aef",
   "metadata": {},
   "outputs": [
    {
     "name": "stdout",
     "output_type": "stream",
     "text": [
      "true\n",
      "false\n",
      "true\n",
      "false\n",
      "TrueClass\n",
      "FalseClass\n"
     ]
    }
   ],
   "source": [
    "# boolean\n",
    "# George Boole\n",
    "puts true\n",
    "puts false\n",
    "\n",
    "puts 5 < 10\n",
    "puts 10 > 12\n",
    "\n",
    "handsome = true\n",
    "stupid = false\n",
    "\n",
    "puts handsome.class\n",
    "puts stupid.class\n",
    "\n",
    "=begin\n",
    "\n",
    "true\n",
    "false\n",
    "true\n",
    "false\n",
    "TrueClass\n",
    "FalseClass\n",
    "\n",
    "=end"
   ]
  },
  {
   "cell_type": "code",
   "execution_count": 3,
   "id": "9ee26d5b",
   "metadata": {},
   "outputs": [
    {
     "name": "stdout",
     "output_type": "stream",
     "text": [
      "true\n",
      "false\n",
      "false\n",
      "true\n",
      "true\n",
      "true\n",
      "true\n",
      "true\n"
     ]
    }
   ],
   "source": [
    "puts 20.between? 10, 30\n",
    "puts 20.between? 10, 15\n",
    "puts 20.between?(10, 15)\n",
    "puts 20.between?(10, 20)\n",
    "puts 20.between?(20, 30)\n",
    "\n",
    "puts 1.2.between?(1.1, 1.3)\n",
    "puts -10.between?(-13, -8)\n",
    "puts -8.3.between? -9.5, -7.2 # parentheses optional"
   ]
  },
  {
   "cell_type": "code",
   "execution_count": null,
   "id": "f2d3475d",
   "metadata": {},
   "outputs": [],
   "source": []
  }
 ],
 "metadata": {
  "kernelspec": {
   "display_name": "Ruby 3.2.2",
   "language": "ruby",
   "name": "ruby"
  },
  "language_info": {
   "file_extension": ".rb",
   "mimetype": "application/x-ruby",
   "name": "ruby",
   "version": "3.2.2"
  }
 },
 "nbformat": 4,
 "nbformat_minor": 5
}
