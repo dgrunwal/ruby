{
 "cells": [
  {
   "cell_type": "code",
   "execution_count": 54,
   "id": "bdfa0811",
   "metadata": {
    "scrolled": true
   },
   "outputs": [
    {
     "name": "stdout",
     "output_type": "stream",
     "text": [
      "Integer\n",
      "Integer\n",
      "true\n",
      "Float\n",
      "Float\n",
      "true\n",
      "false\n",
      "\n",
      "String\n",
      "Array\n",
      "Hash\n",
      "TrueClass\n",
      "FalseClass\n",
      "NilClass\n",
      "Range\n",
      "Proc\n"
     ]
    }
   ],
   "source": [
    "# class method - Return the class from which the object was made\n",
    "\n",
    "puts 5.class\n",
    "puts 8.class\n",
    "puts 5.class == 8.class\n",
    "\n",
    "puts 3.14.class\n",
    "puts 99.99.class\n",
    "puts 3.14.class == 99.99.class\n",
    "\n",
    "puts 3.class == 3.14.class\n",
    "\n",
    "puts\n",
    "\n",
    "puts \"Hello World\".class\n",
    "puts [1, 2, 3].class\n",
    "puts ({}).class\n",
    "puts true.class\n",
    "puts false.class\n",
    "puts nil.class\n",
    "puts (0..9).class\n",
    "puts Proc.new {}.class"
   ]
  },
  {
   "cell_type": "code",
   "execution_count": 2,
   "id": "49ca1ac2",
   "metadata": {},
   "outputs": [
    {
     "name": "stdout",
     "output_type": "stream",
     "text": [
      "#<#<Class:0x000001bf874bcbc8>::Guitar:0x000001bf87d12c50>\n",
      "#<#<Class:0x000001bf874bcbc8>::Guitar:0x000001bf87d12bd8>\n",
      "#<#<Class:0x000001bf874bcbc8>::Guitar:0x000001bf87d12b88>\n",
      "#<Class:0x000001bf874bcbc8>::Guitar\n",
      "#<Class:0x000001bf874bcbc8>::Guitar\n",
      "#<Class:0x000001bf874bcbc8>::Guitar\n"
     ]
    }
   ],
   "source": [
    "# UpperCamelCase - Capitalize first letter of every word\n",
    "\n",
    "class Guitar\n",
    "end\n",
    "\n",
    "acoustic = Guitar.new\n",
    "electric = Guitar.new\n",
    "hybrid = Guitar.new\n",
    "\n",
    "puts acoustic\n",
    "puts electric\n",
    "puts hybrid\n",
    "\n",
    "puts acoustic.class\n",
    "puts electric.class\n",
    "puts hybrid.class"
   ]
  },
  {
   "cell_type": "code",
   "execution_count": 5,
   "id": "7cbd2d54",
   "metadata": {},
   "outputs": [
    {
     "data": {
      "text/plain": [
       ":multiple_cookies"
      ]
     },
     "execution_count": 5,
     "metadata": {},
     "output_type": "execute_result"
    }
   ],
   "source": [
    " class Cookie\n",
    "  def initialize\n",
    "    # Initialization code here (if any)\n",
    "  end\n",
    "  \n",
    "  # Method to create a single Cookie object\n",
    "  def self.create_cookie\n",
    "    Cookie.new\n",
    "  end\n",
    "  \n",
    "  # Method to create an array containing two separate Cookie objects\n",
    "  def self.multiple_cookies\n",
    "    [Cookie.new, Cookie.new]\n",
    "  end\n",
    "end\n"
   ]
  },
  {
   "cell_type": "code",
   "execution_count": 6,
   "id": "7fbe1554",
   "metadata": {},
   "outputs": [
    {
     "data": {
      "text/plain": [
       ":multiple_cookies"
      ]
     },
     "execution_count": 6,
     "metadata": {},
     "output_type": "execute_result"
    }
   ],
   "source": [
    "# Define a Cookie class within the file.  ACCEPTED SOLUTION \n",
    "#\n",
    "# Declare a create_cookie method that returns a Cookie object/instance\n",
    "#\n",
    "# Declare a multiple_cookies method that returns an array of\n",
    "# two separate Cookie objects\n",
    "\n",
    "class Cookie\n",
    "end\n",
    "\n",
    "def create_cookie\n",
    "  Cookie.new\n",
    "end\n",
    "\n",
    "def multiple_cookies\n",
    "  [Cookie.new, Cookie.new]\n",
    "end"
   ]
  },
  {
   "cell_type": "code",
   "execution_count": 7,
   "id": "c5590a2a",
   "metadata": {},
   "outputs": [
    {
     "name": "stdout",
     "output_type": "stream",
     "text": [
      "{}\n",
      "\"Boris\"\n",
      "[]\n",
      "[nil]\n",
      "[nil, nil, nil, nil, nil]\n"
     ]
    },
    {
     "data": {
      "text/plain": [
       "[nil, nil, nil, nil, nil]"
      ]
     },
     "execution_count": 7,
     "metadata": {},
     "output_type": "execute_result"
    }
   ],
   "source": [
    "p Hash.new(0)\n",
    "p String.new(\"Boris\")\n",
    "p Array.new\n",
    "p Array.new(1)\n",
    "p Array.new(5)\n",
    "\n",
    "# {}\n",
    "# \"\"\n",
    "# []"
   ]
  },
  {
   "cell_type": "code",
   "execution_count": 19,
   "id": "b3d2920d",
   "metadata": {
    "scrolled": true
   },
   "outputs": [
    {
     "name": "stdout",
     "output_type": "stream",
     "text": [
      "#<#<Class:0x000001bf874bcbc8>::Guitar:0x000001bf87099fc8 @type=\"Acoustic\", @wood=\"Alder\", @strings=6, @colors=[\"Black\", \"Gold\"], @cost=[\"Expensive\", \"Cheap\"]>\n",
      "#<#<Class:0x000001bf874bcbc8>::Guitar:0x000001bf87099f78 @type=\"Acoustic\", @wood=\"Alder\", @strings=6, @colors=[\"Black\", \"Gold\"], @cost=[\"Expensive\", \"Cheap\"]>\n"
     ]
    },
    {
     "data": {
      "text/plain": [
       "#<#<Class:0x000001bf874bcbc8>::Guitar:0x000001bf87099f78 @type=\"Acoustic\", @wood=\"Alder\", @strings=6, @colors=[\"Black\", \"Gold\"], @cost=[\"Expensive\", \"Cheap\"]>"
      ]
     },
     "execution_count": 19,
     "metadata": {},
     "output_type": "execute_result"
    }
   ],
   "source": [
    "# Instance variables are variables that belong to an object.\n",
    "# They are \"data\" that belongs to the object.\n",
    "# They hold information on the object's current state.\n",
    "#\n",
    "# Instance variables begin with an @ symbol. Without the\n",
    "# symbol, Ruby interprets a variable as a local variable.\n",
    "#\n",
    "# Ruby calls a special, private \"initialize\" method when an object is\n",
    "# instantiated from a class. The initialize method offers a\n",
    "# perfect place to create instance variables and assign them\n",
    "# starting values.\n",
    "#\n",
    "# If we do not define an \"initialize method\", the object is\n",
    "# initialized without state (like in the previous lesson.)\n",
    "#\n",
    "# The instance variable values do not have to stay constant.\n",
    "# We can alter the object's state later.\n",
    "\n",
    "class Guitar\n",
    "  def initialize\n",
    "    @type = \"Acoustic\"\n",
    "    @wood = \"Alder\"\n",
    "    @strings = 6\n",
    "    @colors = [\"Black\", \"Gold\"]\n",
    "    @cost = [\"Expensive\", \"Cheap\"]\n",
    "  end\n",
    "end\n",
    "\n",
    "guitar_1 = Guitar.new\n",
    "guitar_2 = Guitar.new\n",
    "\n",
    "p guitar_1\n",
    "p guitar_2"
   ]
  },
  {
   "cell_type": "code",
   "execution_count": 18,
   "id": "67087d08",
   "metadata": {},
   "outputs": [
    {
     "data": {
      "text/plain": [
       ":initialize"
      ]
     },
     "execution_count": 18,
     "metadata": {},
     "output_type": "execute_result"
    }
   ],
   "source": [
    "class Musical\n",
    "  attr_accessor :name, :cast, :duration\n",
    "\n",
    "  def initialize(name = \"Untitled\", cast = [], duration = 0)\n",
    "    @name = name\n",
    "    @cast = cast\n",
    "    @duration = duration\n",
    "  end\n",
    "end\n"
   ]
  },
  {
   "cell_type": "code",
   "execution_count": 20,
   "id": "e4ec96f6",
   "metadata": {},
   "outputs": [
    {
     "name": "stdout",
     "output_type": "stream",
     "text": [
      "#<#<Class:0x000001bf874bcbc8>::Musical:0x000001bf87001f20 @name=\"Rent\", @cast=[], @duration=90>\n"
     ]
    },
    {
     "data": {
      "text/plain": [
       "#<#<Class:0x000001bf874bcbc8>::Musical:0x000001bf87001f20 @name=\"Rent\", @cast=[], @duration=90>"
      ]
     },
     "execution_count": 20,
     "metadata": {},
     "output_type": "execute_result"
    }
   ],
   "source": [
    "# Declare a Musical class that includes \"name\",\n",
    "# \"cast\", and \"duration\" instance variables.\n",
    "# Feel free to initialize the instance variables\n",
    "# to whatever values you'd like.\n",
    "\n",
    "class Musical\n",
    "  def initialize\n",
    "    @name = \"Rent\"\n",
    "    @cast = []\n",
    "    @duration = 90\n",
    "  end\n",
    "end\n",
    "\n",
    "my_musical = Musical.new\n",
    "p my_musical"
   ]
  },
  {
   "cell_type": "code",
   "execution_count": 21,
   "id": "e3510b9d",
   "metadata": {},
   "outputs": [
    {
     "name": "stdout",
     "output_type": "stream",
     "text": [
      "\"An Acoustic Alder guitar with 6 strings.\"\n"
     ]
    },
    {
     "data": {
      "text/plain": [
       "\"An Acoustic Alder guitar with 6 strings.\""
      ]
     },
     "execution_count": 21,
     "metadata": {},
     "output_type": "execute_result"
    }
   ],
   "source": [
    "# Encapsulation refers to a design paradigm where we restrict\n",
    "# direct access to an object's data. Instead, we use methods\n",
    "# to access and write that data, which hides away the complexity\n",
    "# of the implementation and reduces the chance of bugs\n",
    "#\n",
    "# Example: Microwave\n",
    "\n",
    "class Guitar\n",
    "  def initialize\n",
    "    @type = \"Acoustic\"\n",
    "    @wood = \"Alder\"\n",
    "    @strings = 6\n",
    "  end\n",
    "\n",
    "  def information\n",
    "    \"An #{@type} #{@wood} guitar with #{@strings} strings.\"\n",
    "  end\n",
    "end\n",
    "\n",
    "guitar = Guitar.new\n",
    "p guitar.information\n",
    "\n",
    "# p information\n",
    "# p guitar.information\n",
    "# p Guitar.information\n",
    "\n",
    "# class String\n",
    "#   def upcase\n",
    "#   end\n",
    "\n",
    "#   def split\n",
    "#   end\n",
    "\n",
    "#   def includes?\n",
    "#   end\n",
    "# end\n",
    "\n"
   ]
  },
  {
   "cell_type": "code",
   "execution_count": 23,
   "id": "9b130af1",
   "metadata": {},
   "outputs": [
    {
     "data": {
      "text/plain": [
       ":sell"
      ]
     },
     "execution_count": 23,
     "metadata": {},
     "output_type": "execute_result"
    }
   ],
   "source": [
    "class Cake\n",
    "  def bake\n",
    "    \"Baking the cake\"\n",
    "  end\n",
    "  \n",
    "  def slice\n",
    "    \"Slicing the cake\"\n",
    "  end\n",
    "  \n",
    "  def sell\n",
    "    \"Sold the cake\"\n",
    "  end\n",
    "end\n"
   ]
  },
  {
   "cell_type": "code",
   "execution_count": 24,
   "id": "bc19440b",
   "metadata": {},
   "outputs": [
    {
     "name": "stdout",
     "output_type": "stream",
     "text": [
      "\"Baking the cake\"\n",
      "\"Slicing the cake\"\n",
      "\"Sold the cake\"\n"
     ]
    },
    {
     "data": {
      "text/plain": [
       "\"Sold the cake\""
      ]
     },
     "execution_count": 24,
     "metadata": {},
     "output_type": "execute_result"
    }
   ],
   "source": [
    "# Define a Cake class. It will have 3 instance methods.\n",
    "#    - A bake method that returns the string \"Baking the cake\"\n",
    "#    - A slice method that returns the string \"Slicing the cake\"\n",
    "#    - A sell method that return the string \"Sold the cake\"\n",
    "\n",
    "class Cake\n",
    "  def bake\n",
    "    \"Baking the cake\"\n",
    "  end\n",
    "\n",
    "  def slice\n",
    "    \"Slicing the cake\"\n",
    "  end\n",
    "\n",
    "  def sell\n",
    "    \"Sold the cake\"\n",
    "  end\n",
    "end\n",
    "\n",
    "cake = Cake.new\n",
    "p cake.bake\n",
    "p cake.slice\n",
    "p cake.sell"
   ]
  },
  {
   "cell_type": "code",
   "execution_count": 26,
   "id": "21a217c8",
   "metadata": {},
   "outputs": [
    {
     "name": "stdout",
     "output_type": "stream",
     "text": [
      "An Acoustic Alder guitar with 6 strings.\n",
      "#<Class:0x000001bf874bcbc8>::Guitar\n",
      "An Acoustic Alder guitar with 6 strings.\n"
     ]
    }
   ],
   "source": [
    "class Guitar\n",
    "  def initialize\n",
    "    @type = \"Acoustic\"\n",
    "    @wood = \"Alder\"\n",
    "    @strings = 6\n",
    "  end\n",
    "\n",
    "  def to_s\n",
    "    \"An #{@type} #{@wood} guitar with #{@strings} strings.\"\n",
    "  end\n",
    "end\n",
    "\n",
    "guitar = Guitar.new\n",
    "puts guitar.information\n",
    "puts guitar.class\n",
    "puts guitar.to_s"
   ]
  },
  {
   "cell_type": "code",
   "execution_count": 29,
   "id": "81b81ac6",
   "metadata": {},
   "outputs": [
    {
     "name": "stdout",
     "output_type": "stream",
     "text": [
      "A powerful Intel i7 computer with 64GB memory and 2 TB of storage\n"
     ]
    }
   ],
   "source": [
    "class Computer\n",
    "  def initialize\n",
    "    @cpu = 'Intel i7'\n",
    "    @memory = 64\n",
    "    @storage = '2 TB'\n",
    "  end\n",
    "  \n",
    "  def to_s\n",
    "    \"A powerful #{@cpu} computer with #{@memory}GB memory and #{@storage} of storage\"\n",
    "  end\n",
    "end\n",
    "\n",
    "computer = Computer.new\n",
    "puts computer.to_s\n",
    "# Output: A powerful Intel i7 computer with 64GB memory and 2 TB of storage\n",
    "\n"
   ]
  },
  {
   "cell_type": "code",
   "execution_count": 30,
   "id": "ab5ef073",
   "metadata": {},
   "outputs": [
    {
     "name": "stdout",
     "output_type": "stream",
     "text": [
      "Inside Guitar class: #<Class:0x000001bf874bcbc8>::Guitar\n"
     ]
    },
    {
     "data": {
      "text/plain": [
       ":details"
      ]
     },
     "execution_count": 30,
     "metadata": {},
     "output_type": "execute_result"
    }
   ],
   "source": [
    "# self keyword - returns the entity in which the keyword is used\n",
    "\n",
    "class Guitar\n",
    "  puts \"Inside Guitar class: #{self}\"\n",
    "\n",
    "  def initialize\n",
    "    @type = \"Acoustic\"\n",
    "    @wood = \"Alder\"\n",
    "    @strings = 6\n",
    "  end\n",
    "\n",
    "  # def to_s\n",
    "  #   \"An #{@type} #{@wood} guitar with #{@strings} strings.\"\n",
    "  # end\n",
    "\n",
    "  def details\n",
    "    puts \"Is it nil? #{self.nil?}. It is made from the #{self.class} class.\"\n",
    "  end\n",
    "end\n"
   ]
  },
  {
   "cell_type": "code",
   "execution_count": 33,
   "id": "c7c23cf8",
   "metadata": {},
   "outputs": [
    {
     "name": "stdout",
     "output_type": "stream",
     "text": [
      "Inside Guitar class: #<Class:0x000001bf874bcbc8>::Guitar\n",
      "Is it nil? false. It is made from the #<Class:0x000001bf874bcbc8>::Guitar class.\n"
     ]
    }
   ],
   "source": [
    "# self keyword - returns the entity in which the keyword is used\n",
    "\n",
    "class Guitar\n",
    "  puts \"Inside Guitar class: #{self}\"\n",
    "\n",
    "  def initialize\n",
    "    @type = \"Acoustic\"\n",
    "    @wood = \"Alder\"\n",
    "    @strings = 6\n",
    "  end\n",
    "\n",
    "  # def to_s\n",
    "  #   \"An #{@type} #{@wood} guitar with #{@strings} strings.\"\n",
    "  # end\n",
    "\n",
    "  def details\n",
    "    puts \"Is it nil? #{self.nil?}. It is made from the #{self.class} class.\"\n",
    "  end\n",
    "end\n",
    "\n",
    "guitar = Guitar.new\n",
    "guitar.details"
   ]
  },
  {
   "cell_type": "code",
   "execution_count": 34,
   "id": "f58fb929",
   "metadata": {},
   "outputs": [
    {
     "name": "stdout",
     "output_type": "stream",
     "text": [
      "Is it nil? false\n",
      "It is made from the #<Class:0x000001bf874bcbc8>::Guitar class.\n"
     ]
    }
   ],
   "source": [
    "# self keyword - returns the entity in which the keyword is used\n",
    "\n",
    "class Guitar\n",
    "  def initialize\n",
    "    @type = \"Acoustic\"\n",
    "    @wood = \"Alder\"\n",
    "    @strings = 6\n",
    "  end\n",
    "\n",
    "  def to_s\n",
    "    \"An #{@type} #{@wood} guitar with #{@strings} strings.\"\n",
    "  end\n",
    "\n",
    "  def details\n",
    "    nil_details\n",
    "    class_details\n",
    "  end\n",
    "\n",
    "  def nil_details\n",
    "    puts \"Is it nil? #{nil?}\"\n",
    "  end\n",
    "\n",
    "  def class_details\n",
    "    puts \"It is made from the #{self.class} class.\"\n",
    "  end\n",
    "end\n",
    "\n",
    "guitar = Guitar.new\n",
    "guitar.details"
   ]
  },
  {
   "cell_type": "code",
   "execution_count": 35,
   "id": "f645f742",
   "metadata": {},
   "outputs": [
    {
     "name": "stdout",
     "output_type": "stream",
     "text": [
      "\"Acoustic\"\n",
      "\"Alder\"\n",
      "6\n"
     ]
    },
    {
     "data": {
      "text/plain": [
       "6"
      ]
     },
     "execution_count": 35,
     "metadata": {},
     "output_type": "execute_result"
    }
   ],
   "source": [
    "# Getter method - method that reads/gets/retrieves the value of an instance variable\n",
    "\n",
    "class Guitar\n",
    "  def initialize\n",
    "    @type = \"Acoustic\"\n",
    "    @wood = \"Alder\"\n",
    "    @strings = 6\n",
    "  end\n",
    "\n",
    "  def to_s\n",
    "    \"An #{@type} #{@wood} guitar with #{@strings} strings.\"\n",
    "  end\n",
    "\n",
    "  def type\n",
    "    @type\n",
    "  end\n",
    "\n",
    "  def wood\n",
    "    @wood\n",
    "  end\n",
    "\n",
    "  def strings\n",
    "    @strings\n",
    "  end\n",
    "end\n",
    "\n",
    "guitar = Guitar.new\n",
    "p guitar.type\n",
    "p guitar.wood\n",
    "p guitar.strings"
   ]
  },
  {
   "cell_type": "code",
   "execution_count": 38,
   "id": "d097b4c0",
   "metadata": {},
   "outputs": [
    {
     "name": "stdout",
     "output_type": "stream",
     "text": [
      "\"Boeing\"\n",
      "757\n",
      "60\n"
     ]
    },
    {
     "data": {
      "text/plain": [
       "60"
      ]
     },
     "execution_count": 38,
     "metadata": {},
     "output_type": "execute_result"
    }
   ],
   "source": [
    "class Airplane\n",
    "  def initialize\n",
    "    @maker = \"Boeing\"\n",
    "    @model = 757\n",
    "    @seats = 60\n",
    "  end\n",
    "\n",
    "  def maker\n",
    "    @maker\n",
    "  end\n",
    "\n",
    "  def model\n",
    "    @model\n",
    "  end\n",
    "\n",
    "  def seats\n",
    "    @seats\n",
    "  end\n",
    "end\n",
    "\n",
    "plane = Airplane.new\n",
    "p plane.maker\n",
    "p plane.model\n",
    "p plane.seats\n"
   ]
  },
  {
   "cell_type": "code",
   "execution_count": 39,
   "id": "9a904a78",
   "metadata": {},
   "outputs": [
    {
     "name": "stdout",
     "output_type": "stream",
     "text": [
      "1500\n",
      "5000\n",
      "10000\n"
     ]
    },
    {
     "data": {
      "text/plain": [
       "10000"
      ]
     },
     "execution_count": 39,
     "metadata": {},
     "output_type": "execute_result"
    }
   ],
   "source": [
    "# Setter method - method that writes/sets/updates the value of an instance variable\n",
    "\n",
    "class Guitar\n",
    "  def initialize\n",
    "    @type = \"Acoustic\"\n",
    "    @wood = \"Alder\"\n",
    "    @strings = 6\n",
    "    @price = 1500\n",
    "  end\n",
    "\n",
    "  def to_s\n",
    "    \"An #{@type} #{@wood} guitar with #{@strings} strings.\"\n",
    "  end\n",
    "\n",
    "  def type\n",
    "    @type\n",
    "  end\n",
    "\n",
    "  def wood\n",
    "    @wood\n",
    "  end\n",
    "\n",
    "  def strings\n",
    "    @strings\n",
    "  end\n",
    "\n",
    "  def price\n",
    "    @price\n",
    "  end\n",
    "\n",
    "  def price=(new_price)\n",
    "    @price = new_price\n",
    "  end\n",
    "end\n",
    "\n",
    "guitar = Guitar.new\n",
    "p guitar.price\n",
    "guitar.price=(5000)\n",
    "p guitar.price\n",
    "\n",
    "guitar.price = 10000  # cleaner syntax \n",
    "p guitar.price\n",
    "\n",
    "# guitar.wood = \"Mahogany\"\n"
   ]
  },
  {
   "cell_type": "code",
   "execution_count": 42,
   "id": "24610f39",
   "metadata": {},
   "outputs": [
    {
     "name": "stdout",
     "output_type": "stream",
     "text": [
      "\"Q4 Tech updates\"\n",
      "100000\n",
      "[\"Piers\", \"Rob\", \"Jon\"]\n",
      "10000\n"
     ]
    },
    {
     "data": {
      "text/plain": [
       "10000"
      ]
     },
     "execution_count": 42,
     "metadata": {},
     "output_type": "execute_result"
    }
   ],
   "source": [
    "class Project\n",
    "  def initialize\n",
    "    @name = \"Q4 Tech updates\"\n",
    "    @budget = 100000\n",
    "    @team_members = [\"Piers\", \"Rob\", \"Jon\"]\n",
    "  end\n",
    "\n",
    "  # Getter methods\n",
    "  def name\n",
    "    @name\n",
    "  end\n",
    "\n",
    "  def budget\n",
    "    @budget\n",
    "  end\n",
    "\n",
    "  def team_members\n",
    "    @team_members\n",
    "  end\n",
    "\n",
    "  # Setter method\n",
    "  def budget=(new_budget)\n",
    "    @budget = new_budget\n",
    "  end\n",
    "end\n",
    "\n",
    "\n",
    "project = Project.new\n",
    "p project.name\n",
    "p project.budget\n",
    "p project.team_members\n",
    "\n",
    "p project.budget = 10000  # cleaner syntax \n",
    " \n",
    "\n"
   ]
  },
  {
   "cell_type": "code",
   "execution_count": 43,
   "id": "b76e6f36",
   "metadata": {},
   "outputs": [
    {
     "name": "stdout",
     "output_type": "stream",
     "text": [
      "\"Q4 Tech Updates\"\n",
      "100000\n",
      "[\"Piers\", \"Rob\", \"Jon\"]\n",
      "500000\n"
     ]
    },
    {
     "data": {
      "text/plain": [
       "500000"
      ]
     },
     "execution_count": 43,
     "metadata": {},
     "output_type": "execute_result"
    }
   ],
   "source": [
    "# Define an Project class below.\n",
    "# The instantiation should define 3 instance variables:\n",
    "#  - @name set to \"Q4 Tech updates\"\n",
    "#  - @budget set to 100000\n",
    "#  - @team_members set to [\"Piers\", \"Rob\", \"Jon\"]\n",
    "#\n",
    "# Define 3 getter methods (name, budget, team_members) to return\n",
    "# the value of the respective instance variables\n",
    "#\n",
    "# Define 1 setter method (budget=) to update the value \n",
    "# of the @budget instance variable\n",
    "\n",
    "#  In the next example you see the simplified code using attr_ \n",
    "\n",
    "class Project\n",
    "  def initialize\n",
    "    @name = \"Q4 Tech Updates\"\n",
    "    @budget = 100_000\n",
    "    @team_members = [\"Piers\", \"Rob\", \"Jon\"]\n",
    "  end\n",
    "\n",
    "  def name     \n",
    "    @name\n",
    "  end\n",
    "\n",
    "  def budget\n",
    "    @budget\n",
    "  end\n",
    "  \n",
    "  def budget=(budget)\n",
    "    @budget = budget\n",
    "  end\n",
    "\n",
    "  def team_members\n",
    "    @team_members\n",
    "  end\n",
    "end\n",
    "\n",
    "project = Project.new\n",
    "p project.name\n",
    "p project.budget\n",
    "p project.team_members\n",
    "project.budget = 500_000\n",
    "p project.budget"
   ]
  },
  {
   "cell_type": "code",
   "execution_count": 45,
   "id": "72cc4efa",
   "metadata": {},
   "outputs": [
    {
     "name": "stdout",
     "output_type": "stream",
     "text": [
      "\"Acoustic\"\n",
      "\"Alder\"\n",
      "6\n",
      "1500\n",
      "5000\n",
      "10000\n"
     ]
    },
    {
     "data": {
      "text/plain": [
       "10000"
      ]
     },
     "execution_count": 45,
     "metadata": {},
     "output_type": "execute_result"
    }
   ],
   "source": [
    "# see how the attr_reader, att_writer replaces the above code, simplifies it\n",
    "# choose which is writable and readable \n",
    "\n",
    "class Guitar\n",
    "  attr_reader :type, :wood, :strings, :price\n",
    "  attr_writer :price\n",
    "\n",
    "  def initialize\n",
    "    @type = \"Acoustic\"\n",
    "    @wood = \"Alder\"\n",
    "    @strings = 6\n",
    "    @price = 1500\n",
    "  end\n",
    "\n",
    "  def to_s\n",
    "    \"An #{@type} #{@wood} guitar with #{@strings} strings.\"\n",
    "  end\n",
    "end\n",
    "\n",
    "guitar = Guitar.new\n",
    "p guitar.type\n",
    "p guitar.wood\n",
    "p guitar.strings\n",
    "p guitar.price\n",
    "guitar.price=(5000)\n",
    "p guitar.price\n",
    "\n",
    "guitar.price = 10000\n",
    "p guitar.price\n"
   ]
  },
  {
   "cell_type": "code",
   "execution_count": 46,
   "id": "d040e9d2",
   "metadata": {},
   "outputs": [
    {
     "name": "stdout",
     "output_type": "stream",
     "text": [
      "\"Acoustic\"\n",
      "\"Alder\"\n",
      "6\n",
      "1500\n",
      "5000\n",
      "10000\n"
     ]
    },
    {
     "data": {
      "text/plain": [
       "10000"
      ]
     },
     "execution_count": 46,
     "metadata": {},
     "output_type": "execute_result"
    }
   ],
   "source": [
    "class Guitar\n",
    "  attr_reader :type, :wood, :strings\n",
    "  attr_accessor :price  # allows reader and writer access, simplifies code\n",
    "\n",
    "  def initialize\n",
    "    @type = \"Acoustic\"\n",
    "    @wood = \"Alder\"\n",
    "    @strings = 6\n",
    "    @price = 1500\n",
    "  end\n",
    "\n",
    "  def to_s\n",
    "    \"An #{@type} #{@wood} guitar with #{@strings} strings.\"\n",
    "  end\n",
    "end\n",
    "\n",
    "guitar = Guitar.new\n",
    "p guitar.type\n",
    "p guitar.wood\n",
    "p guitar.strings\n",
    "p guitar.price\n",
    "guitar.price=(5000)\n",
    "p guitar.price\n",
    "\n",
    "guitar.price = 10000\n",
    "p guitar.price"
   ]
  },
  {
   "cell_type": "code",
   "execution_count": 48,
   "id": "7d4d800a",
   "metadata": {},
   "outputs": [
    {
     "name": "stdout",
     "output_type": "stream",
     "text": [
      "\"Acoustic\"\n",
      "\"Mahogany\"\n",
      "6\n",
      "1000\n",
      "\"Electric\"\n",
      "\"Alder\"\n",
      "7\n",
      "2400\n"
     ]
    },
    {
     "data": {
      "text/plain": [
       "2400"
      ]
     },
     "execution_count": 48,
     "metadata": {},
     "output_type": "execute_result"
    }
   ],
   "source": [
    "class Guitar\n",
    "  attr_reader :type, :wood, :strings\n",
    "  attr_accessor :price\n",
    "\n",
    "  def initialize(type, wood, strings, price)\n",
    "    @type = type\n",
    "    @wood = wood\n",
    "    @strings = strings\n",
    "    @price = price\n",
    "  end\n",
    "\n",
    "  def to_s\n",
    "    \"An #{@type} #{@wood} guitar with #{@strings} strings.\"\n",
    "  end\n",
    "end\n",
    "\n",
    "sound_viking_2000 = Guitar.new(\"Acoustic\", \"Mahogany\", 6, 1000)\n",
    "thunderstorm = Guitar.new(\"Electric\", \"Alder\", 7, 2400)\n",
    "\n",
    "p sound_viking_2000.type\n",
    "p sound_viking_2000.wood\n",
    "p sound_viking_2000.strings\n",
    "p sound_viking_2000.price\n",
    "p thunderstorm.type\n",
    "p thunderstorm.wood\n",
    "p thunderstorm.strings\n",
    "p thunderstorm.price"
   ]
  },
  {
   "cell_type": "code",
   "execution_count": 49,
   "id": "8cd3e01c",
   "metadata": {},
   "outputs": [
    {
     "name": "stdout",
     "output_type": "stream",
     "text": [
      "\"Acoustic\"\n",
      "\"Mahogany\"\n",
      "6\n",
      "1000\n",
      "\"Electric\"\n",
      "\"Alder\"\n",
      "7\n",
      "2400\n"
     ]
    },
    {
     "data": {
      "text/plain": [
       "2400"
      ]
     },
     "execution_count": 49,
     "metadata": {},
     "output_type": "execute_result"
    }
   ],
   "source": [
    "class Guitar\n",
    "  attr_reader :type, :wood, :strings\n",
    "  attr_accessor :price\n",
    "\n",
    "  def initialize(type, wood, strings, price)\n",
    "    @type = type\n",
    "    @wood = wood\n",
    "    @strings = strings\n",
    "    @price = price\n",
    "  end\n",
    "\n",
    "  def to_s\n",
    "    \"An #{@type} #{@wood} guitar with #{@strings} strings.\"\n",
    "  end\n",
    "end\n",
    "\n",
    "sound_viking_2000 = Guitar.new(\"Acoustic\", \"Mahogany\", 6, 1000)\n",
    "thunderstorm = Guitar.new(\"Electric\", \"Alder\", 7, 2400)\n",
    "\n",
    "p sound_viking_2000.type\n",
    "p sound_viking_2000.wood\n",
    "p sound_viking_2000.strings\n",
    "p sound_viking_2000.price\n",
    "p thunderstorm.type\n",
    "p thunderstorm.wood\n",
    "p thunderstorm.strings\n",
    "p thunderstorm.price"
   ]
  },
  {
   "cell_type": "code",
   "execution_count": null,
   "id": "8e128625",
   "metadata": {},
   "outputs": [],
   "source": [
    "# Define an FinancialTransaction class below.\n",
    "#\n",
    "# The instantiation should define 4 instance variables.\n",
    "# Arguments to initialize should provide initial values for all 4 variables.\n",
    "#  - @to\n",
    "#  - @from\n",
    "#  - @amount\n",
    "#  - @completed\n",
    "#\n",
    "# Define getter methods for @to, @from, and @amount\n",
    "# Define getter + setter methods for @completed\n",
    "#\n",
    "# Sample use:\n",
    "# my_rent = FinancialTransaction.new(\"Landlord\", \"Boris\", 1000, false)\n",
    "# p my_rent.to\n",
    "# p my_rent.from\n",
    "# p my_rent.amount\n",
    "# p my_rent.completed\n",
    "# my_rent.completed = true\n",
    "# p my_rent.completed\n",
    "\n",
    "class FinancialTransaction\n",
    "  attr_reader :to, :from, :amount\n",
    "  attr_accessor :completed\n",
    "\n",
    "  def initialize(to, from, amount, completed)\n",
    "    @to = to\n",
    "    @from = from\n",
    "    @amount = amount\n",
    "    @completed = completed\n",
    "  end\n",
    "end\n",
    "\n",
    "# Sample use:\n",
    "my_rent = FinancialTransaction.new(\"Landlord\", \"Boris\", 1000, false)\n",
    "puts my_rent.to      # Output: \"Landlord\"\n",
    "puts my_rent.from    # Output: \"Boris\"\n",
    "puts my_rent.amount  # Output: 1000\n",
    "puts my_rent.completed  # Output: false\n",
    "my_rent.completed = true\n",
    "puts my_rent.completed  # Output: true\n",
    "\n"
   ]
  },
  {
   "cell_type": "code",
   "execution_count": 51,
   "id": "260575fb",
   "metadata": {},
   "outputs": [
    {
     "name": "stdout",
     "output_type": "stream",
     "text": [
      "\"2023-97524-18073\"\n"
     ]
    },
    {
     "data": {
      "text/plain": [
       "\"2023-97524-18073\""
      ]
     },
     "execution_count": 51,
     "metadata": {},
     "output_type": "execute_result"
    }
   ],
   "source": [
    "class SmartPhone\n",
    "  attr_reader :username, :production_number\n",
    "  attr_writer :password\n",
    "\n",
    "  def initialize(username, password)\n",
    "    @username = username\n",
    "    @password = password\n",
    "    @production_number = generate_production_number\n",
    "  end\n",
    "\n",
    "  private\n",
    "\n",
    "  def generate_production_number\n",
    "    random_number = rand(10_000..99_999)\n",
    "    another_random_number = rand(10_000..99_999)\n",
    "    \"2023-#{random_number}-#{another_random_number}\"\n",
    "  end\n",
    "end\n",
    "\n",
    "phone = SmartPhone.new(\"rubyfan123\", \"topsecret\")\n",
    "p phone.production_number"
   ]
  },
  {
   "cell_type": "code",
   "execution_count": 52,
   "id": "57f29608",
   "metadata": {},
   "outputs": [],
   "source": [
    "#Error example, called outside class \n",
    "\n",
    "class MyClass\n",
    "  def public_method\n",
    "    private_method # This will raise an error\n",
    "  end\n",
    "\n",
    "  private\n",
    "\n",
    "  def private_method\n",
    "    puts \"This is a private method\"\n",
    "  end\n",
    "end\n",
    "\n",
    "my_object = MyClass.new\n",
    "my_object.public_method\n",
    "\n",
    "private method `private_method' called for #<MyClass:0x00007fa443877170> (NoMethodError)\n",
    "\n"
   ]
  },
  {
   "cell_type": "code",
   "execution_count": 53,
   "id": "25de08d1",
   "metadata": {},
   "outputs": [
    {
     "name": "stdout",
     "output_type": "stream",
     "text": [
      "This is a private method\n"
     ]
    }
   ],
   "source": [
    "#Corrected - called inside class MyClass \n",
    "\n",
    "class MyClass\n",
    "  def public_method\n",
    "    call_private_method # Correct way to access the private method\n",
    "  end\n",
    "\n",
    "  private\n",
    "\n",
    "  def private_method\n",
    "    puts \"This is a private method\"\n",
    "  end\n",
    "\n",
    "  def call_private_method\n",
    "    private_method # Calling private_method from within the class\n",
    "  end\n",
    "end\n",
    "\n",
    "my_object = MyClass.new\n",
    "my_object.public_method\n",
    "\n",
    "\n",
    "# This is a private method\n",
    "\n",
    "\n"
   ]
  },
  {
   "cell_type": "code",
   "execution_count": 56,
   "id": "6de9a454",
   "metadata": {},
   "outputs": [
    {
     "name": "stdout",
     "output_type": "stream",
     "text": [
      "Your car is worse!\n",
      "Your car is better!\n"
     ]
    }
   ],
   "source": [
    " # public methods - can be invoked by any other object\n",
    "#\n",
    "# private methods - can only be invoked by internal methods\n",
    "#\n",
    "# protected methods - can only be invoked by internal methods or\n",
    "# objects of the same class\n",
    "\n",
    "class Car\n",
    "  def initialize(age, miles)\n",
    "    base_value = 20_000\n",
    "    age_deduction = age * 1000\n",
    "    miles_deduction = miles / 10\n",
    "    @value = base_value - age_deduction - miles_deduction\n",
    "  end\n",
    "\n",
    "  def compare_car_with(car)\n",
    "    self.value > car.value ? \"Your car is better!\" : \"Your car is worse!\"\n",
    "  end\n",
    "\n",
    "  protected\n",
    "\n",
    "  def value\n",
    "    @value\n",
    "  end\n",
    "end\n",
    "\n",
    "civic = Car.new(3, 30_000)\n",
    "fiat = Car.new(1, 20_000)\n",
    "dodge = Car.new(8, 100_000)\n",
    "\n",
    "puts civic.compare_car_with(fiat)\n",
    "puts civic.compare_car_with(dodge)\n",
    "# puts civic.value\n"
   ]
  },
  {
   "cell_type": "code",
   "execution_count": 61,
   "id": "1365750d",
   "metadata": {},
   "outputs": [
    {
     "name": "stdout",
     "output_type": "stream",
     "text": [
      "\"topsecret\"\n",
      "\"programming\"\n",
      "\"programming\"\n",
      "\"hellothere\"\n",
      "\"hellothere\"\n"
     ]
    },
    {
     "data": {
      "text/plain": [
       "\"hellothere\""
      ]
     },
     "execution_count": 61,
     "metadata": {},
     "output_type": "execute_result"
    }
   ],
   "source": [
    "class SmartPhone\n",
    "  attr_reader :username, :production_number, :password\n",
    "\n",
    "  def initialize(username, password)\n",
    "    @username = username\n",
    "    @password = password\n",
    "    @production_number = generate_production_number\n",
    "  end\n",
    "\n",
    "  def password=(password)\n",
    "    @password = password if valid_password?(password)\n",
    "  end\n",
    "\n",
    "  private\n",
    "\n",
    "  def generate_production_number\n",
    "    random_number = rand(10_000..99_999)\n",
    "    another_random_number = rand(10_000..99_999)\n",
    "    \"2023-#{random_number}-#{another_random_number}\"\n",
    "  end\n",
    "\n",
    "  def valid_password?(password)\n",
    "    password.length >= 6\n",
    "  end\n",
    "end\n",
    "\n",
    "phone = SmartPhone.new(\"rubyfan123\", \"topsecret\")\n",
    "p phone.password\n",
    "\n",
    "phone.password = \"programming\"\n",
    "p phone.password\n",
    "\n",
    "phone.password = \"ok\"\n",
    "p phone.password\n",
    "\n",
    "phone.password = \"hellothere\"\n",
    "p phone.password\n",
    "\n",
    "phone.password = \"ok\"\n",
    "p phone.password"
   ]
  },
  {
   "cell_type": "code",
   "execution_count": 62,
   "id": "017257fb",
   "metadata": {},
   "outputs": [
    {
     "name": "stdout",
     "output_type": "stream",
     "text": [
      "\"1984\"\n",
      "\"Harry Potter\"\n",
      "\"TBD\"\n",
      "9.99\n",
      "24.99\n",
      "24.99\n"
     ]
    },
    {
     "data": {
      "text/plain": [
       "24.99"
      ]
     },
     "execution_count": 62,
     "metadata": {},
     "output_type": "execute_result"
    }
   ],
   "source": [
    "class Product\n",
    "  attr_accessor :name, :price\n",
    "\n",
    "  def initialize(name, price)\n",
    "    @name = name\n",
    "    @price = price\n",
    "  end\n",
    "\n",
    "  def name=(new_name)\n",
    "    if new_name.length >= 3 && new_name.length <= 20\n",
    "      @name = new_name\n",
    "    else\n",
    "      @name = \"TBD\"\n",
    "    end\n",
    "  end\n",
    "\n",
    "  def price=(new_price)\n",
    "    if new_price > 0\n",
    "      @price = new_price\n",
    "    end\n",
    "  end\n",
    "end\n",
    "\n",
    "# Test code\n",
    "book = Product.new(\"1984\", 9.99)\n",
    "p book.name # \"1984\"\n",
    "\n",
    "book.name = \"Harry Potter\"\n",
    "p book.name # \"Harry Potter\"\n",
    "\n",
    "book.name = \"OK\"\n",
    "p book.name # \"TBD\"\n",
    "\n",
    "p book.price # 9.99\n",
    "\n",
    "book.price = 24.99\n",
    "p book.price # 24.99\n",
    "\n",
    "book.price = -100\n",
    "p book.price # 24.99 (unchanged because the new price is not greater than 0)\n"
   ]
  },
  {
   "cell_type": "code",
   "execution_count": 65,
   "id": "71c82ab7",
   "metadata": {},
   "outputs": [
    {
     "name": "stdout",
     "output_type": "stream",
     "text": [
      "15\n",
      "50\n",
      "80\n"
     ]
    },
    {
     "data": {
      "text/plain": [
       "80"
      ]
     },
     "execution_count": 65,
     "metadata": {},
     "output_type": "execute_result"
    }
   ],
   "source": [
    "# Anti-pattern - a \"pattern\" to avoid when writing code  ex \"God Object\" one class doing too much\n",
    "\n",
    "# Derived value - calculated/computed from another piece of state\n",
    "\n",
    "class Rectangle\n",
    "  attr_accessor :height, :width\n",
    "\n",
    "  def initialize(height, width)\n",
    "    @height = height\n",
    "    @width = width\n",
    "  end\n",
    "\n",
    "  def area\n",
    "    height * width\n",
    "  end\n",
    "end\n",
    "\n",
    "r = Rectangle.new(3, 5)\n",
    "p r.area\n",
    "\n",
    "r.height = 10\n",
    "p r.area\n",
    "\n",
    "r.width = 8\n",
    "p r.area"
   ]
  },
  {
   "cell_type": "code",
   "execution_count": 64,
   "id": "36b65725",
   "metadata": {},
   "outputs": [
    {
     "name": "stdout",
     "output_type": "stream",
     "text": [
      "4\n",
      "6\n",
      "18\n",
      "2\n"
     ]
    },
    {
     "data": {
      "text/plain": [
       "2"
      ]
     },
     "execution_count": 64,
     "metadata": {},
     "output_type": "execute_result"
    }
   ],
   "source": [
    "# Class method - method invoked on the class rather than an instance\n",
    "# Class methods can be called on a class even if instances don't exist\n",
    "\n",
    "class Vehicle\n",
    "  attr_reader :wheels, :passengers\n",
    "\n",
    "  def initialize(wheels, passengers)\n",
    "    @wheels = wheels\n",
    "    @passengers = passengers\n",
    "  end\n",
    "\n",
    "  def self.car\n",
    "    self.new(4, 6)\n",
    "  end\n",
    "\n",
    "  def self.truck\n",
    "    self.new(18, 2)\n",
    "  end\n",
    "end\n",
    "\n",
    "car = Vehicle.car\n",
    "p car.wheels\n",
    "p car.passengers\n",
    "\n",
    "truck = Vehicle.truck\n",
    "p truck.wheels\n",
    "p truck.passengers"
   ]
  },
  {
   "cell_type": "code",
   "execution_count": null,
   "id": "7043d3bd",
   "metadata": {},
   "outputs": [],
   "source": [
    "# Class variable - data that lives on a class rather than an instance\n",
    "class Bicycle\n",
    "  @@count = 0\n",
    "\n",
    "  def self.count\n",
    "    @@count\n",
    "  end\n",
    "\n",
    "  def initialize\n",
    "    @@count += 1\n",
    "  end\n",
    "\n",
    "  def count\n",
    "    @@count\n",
    "  end\n",
    "end\n",
    "\n",
    "p Bicycle.count\n",
    "\n",
    "b1 = Bicycle.new\n",
    "Bicycle.new\n",
    "Bicycle.new\n",
    "\n",
    "p Bicycle.count\n",
    "p b1.count"
   ]
  },
  {
   "cell_type": "code",
   "execution_count": 1,
   "id": "cd9cdf05",
   "metadata": {},
   "outputs": [
    {
     "name": "stdout",
     "output_type": "stream",
     "text": [
      "4\n",
      "6\n",
      "18\n",
      "2\n"
     ]
    },
    {
     "data": {
      "text/plain": [
       "2"
      ]
     },
     "execution_count": 1,
     "metadata": {},
     "output_type": "execute_result"
    }
   ],
   "source": [
    "class Vehicle\n",
    "  class << self\n",
    "    def car\n",
    "      new(4, 6)\n",
    "    end\n",
    "  \n",
    "    def truck\n",
    "      new(18, 2)\n",
    "    end\n",
    "  end\n",
    "\n",
    "  attr_reader :wheels, :passengers\n",
    "\n",
    "  def initialize(wheels, passengers)\n",
    "    @wheels = wheels\n",
    "    @passengers = passengers\n",
    "  end\n",
    "end\n",
    "\n",
    "car = Vehicle.car\n",
    "p car.wheels\n",
    "p car.passengers\n",
    "\n",
    "truck = Vehicle.truck\n",
    "p truck.wheels\n",
    "p truck.passengers"
   ]
  },
  {
   "cell_type": "code",
   "execution_count": 5,
   "id": "4d2075b6",
   "metadata": {},
   "outputs": [
    {
     "name": "stdout",
     "output_type": "stream",
     "text": [
      "0\n",
      "3\n"
     ]
    },
    {
     "data": {
      "text/plain": [
       "3"
      ]
     },
     "execution_count": 5,
     "metadata": {},
     "output_type": "execute_result"
    }
   ],
   "source": [
    "# Class variable - data that lives on a class rather than an instance\n",
    "class Bicycle\n",
    "  @@count = 0\n",
    "\n",
    "  def self.count\n",
    "    @@count\n",
    "  end\n",
    "\n",
    "  def initialize\n",
    "    @@count += 1\n",
    "  end\n",
    "\n",
    "  def count\n",
    "    @@count\n",
    "  end\n",
    "end\n",
    "\n",
    "p Bicycle.count\n",
    "\n",
    "b1 = Bicycle.new\n",
    "Bicycle.new\n",
    "Bicycle.new\n",
    "\n",
    "p Bicycle.count\n",
    "#p b1.count\n",
    "\n",
    "\n",
    "=begin\n",
    "\n",
    "In the provided Ruby code, the value returned is 3 because:\n",
    "\n",
    "Initially, the @@count class variable is set to 0.\n",
    "When Bicycle.count is called before any instances of the Bicycle class are created, it returns the value of @@count, which is 0.\n",
    "Three instances of the Bicycle class are created (b1, another instance created on the line following b1 = Bicycle.new, and yet another one created right after that).\n",
    "Each time an instance is created, the initialize method is called, incrementing @@count by 1.\n",
    "Thus, after creating three instances, @@count becomes 3.\n",
    "When Bicycle.count is called again, it returns the updated value of @@count, which is now 3.\n",
    "\n",
    "=end"
   ]
  },
  {
   "cell_type": "code",
   "execution_count": 9,
   "id": "8c4328f0",
   "metadata": {},
   "outputs": [
    {
     "name": "stdout",
     "output_type": "stream",
     "text": [
      "6\n",
      "3\n",
      "3\n",
      "12\n",
      "12\n",
      "12\n",
      "12\n",
      "48\n",
      "3\n",
      "4\n",
      "5\n",
      "60\n"
     ]
    },
    {
     "data": {
      "text/plain": [
       "60"
      ]
     },
     "execution_count": 9,
     "metadata": {},
     "output_type": "execute_result"
    }
   ],
   "source": [
    "# Define a SushiLunchOrder class below.\n",
    "#\n",
    "# A SushiLunchOrder object should initialize with @salmon, @tuna,\n",
    "# and @yellowtail instance variables from arguments to the\n",
    "# initialize method. All values will be integers representing\n",
    "# the number of that type of fish in the lunch order.\n",
    "#\n",
    "# Define getter methods for the 3 instance variables.\n",
    "#\n",
    "# Define a salmon_special class method that instantiates a\n",
    "# SushiLunchOrder instance with 6 pieces of salmon, 3 pieces\n",
    "# of tuna, and 3 pieces of yellowtail.\n",
    "#\n",
    "# Define a family_combo class method that instantiates a\n",
    "# SushiLunchOrder instance with 12 pieces of salmon, 12 pieces\n",
    "# of tuna, and 12 pieces of yellowtail.\n",
    "#\n",
    "# Define a total_pieces class variable that keeps track of\n",
    "# the TOTAL number of pieces of fish that have been sold.\n",
    "# This is not the number of SushiLunchOrder instances but rather\n",
    "# the sum of all the parts of fish.\n",
    "#\n",
    "# Define a total_pieces class method that exposes the value of\n",
    "# the total_pieces class variable.\n",
    "#\n",
    "\n",
    "class SushiLunchOrder\n",
    "  @@total_pieces = 0\n",
    "\n",
    "  def self.salmon_special\n",
    "    self.new(6, 3, 3)\n",
    "  end\n",
    "\n",
    "  def self.family_combo\n",
    "    self.new(12, 12, 12)\n",
    "  end\n",
    "\n",
    "  def self.total_pieces\n",
    "    @@total_pieces\n",
    "  end\n",
    "\n",
    "  attr_reader :salmon, :tuna, :yellowtail\n",
    "\n",
    "  def initialize(salmon, tuna, yellowtail)\n",
    "    @salmon = salmon\n",
    "    @tuna = tuna\n",
    "    @yellowtail = yellowtail\n",
    "\n",
    "    @@total_pieces += salmon + tuna + yellowtail\n",
    "  end\n",
    "end\n",
    "\n",
    "order1 = SushiLunchOrder.salmon_special\n",
    "p order1.salmon     # 6\n",
    "p order1.tuna       # 3\n",
    "p order1.yellowtail # 3\n",
    "p SushiLunchOrder.total_pieces # 12\n",
    "\n",
    "order2 = SushiLunchOrder.family_combo\n",
    "p order2.salmon     # 12\n",
    "p order2.tuna       # 12\n",
    "p order2.yellowtail # 12\n",
    "p SushiLunchOrder.total_pieces # 48\n",
    "\n",
    "order3 = SushiLunchOrder.new(3, 4, 5)\n",
    "p order3.salmon     # 3\n",
    "p order3.tuna       # 4\n",
    "p order3.yellowtail # 5\n",
    "p SushiLunchOrder.total_pieces # 60"
   ]
  },
  {
   "cell_type": "code",
   "execution_count": 1,
   "id": "0ca9cbe4",
   "metadata": {},
   "outputs": [
    {
     "name": "stdout",
     "output_type": "stream",
     "text": [
      "Reading page 1\n",
      "Reading page 11\n",
      "Reading page 21\n",
      "Reading page 31\n",
      "Reading page 41\n",
      "Reading page 51\n",
      "Reading page 61\n",
      "Reading page 71\n",
      "Reading page 81\n",
      "Reading page 91\n",
      "Done! Night of the Living Dummy was a great book!\n"
     ]
    }
   ],
   "source": [
    "# building a class over time\n",
    "\n",
    "class Book\n",
    "  attr_reader :title, :author, :pages\n",
    "\n",
    "  def initialize(title, author, pages)\n",
    "    @title = title\n",
    "    @author = author\n",
    "    @pages = pages\n",
    "  end\n",
    "end\n",
    "\n",
    "goosebumps = Book.new(\"Night of the Living Dummy\", \"R.L. Stine\", 100)\n",
    "# goosebumps.read\n",
    "\n",
    "class Book\n",
    "  def read\n",
    "    1.step(pages, 10) { |page| puts \"Reading page #{page}\" }\n",
    "    puts \"Done! #{title} was a great book!\"\n",
    "  end\n",
    "end\n",
    "\n",
    "goosebumps.read"
   ]
  },
  {
   "cell_type": "code",
   "execution_count": 6,
   "id": "c31abde1",
   "metadata": {},
   "outputs": [
    {
     "ename": "NoMethodError",
     "evalue": "undefined method `count_vowels' for \"Hello\":String",
     "output_type": "error",
     "traceback": [
      "\u001b[31mNoMethodError\u001b[0m: undefined method `count_vowels' for \"Hello\":String",
      "(irb):8:in `<top (required)>'"
     ]
    }
   ],
   "source": [
    "# monkey patching - adding functionality to an existing Ruby class.  Careful not to overwrite existing methods e.g., sort\n",
    "\n",
    "class String\n",
    "  def count_vowels\n",
    "    self.downcase.count(\"aeiou\")\n",
    "  end\n",
    "end\n",
    "\n",
    "p \"Hello\".count_vowels\n",
    "p \"refrigerator\".count_vowels\n",
    "\n",
    "class Array\n",
    "  def sorted?\n",
    "    self == self.sort\n",
    "  end\n",
    "end\n",
    "\n",
    "p [1, 2, 3].sorted?\n",
    "p [1, 3, 2].sorted?\n",
    "\n"
   ]
  },
  {
   "cell_type": "code",
   "execution_count": 8,
   "id": "76e4acdf",
   "metadata": {},
   "outputs": [
    {
     "ename": "NoMethodError",
     "evalue": "undefined method `more_than_once?' for [1, 2, 2, 3]:Array",
     "output_type": "error",
     "traceback": [
      "\u001b[31mNoMethodError\u001b[0m: undefined method `more_than_once?' for [1, 2, 2, 3]:Array",
      "(irb):14:in `<top (required)>'"
     ]
    }
   ],
   "source": [
    "class Array\n",
    "  def more_than_once?(element)\n",
    "    self.count(element) > 1\n",
    "  end\n",
    "end\n",
    "\n",
    "class Hash\n",
    "  def common_keys_and_values\n",
    "    self.keys & self.values\n",
    "  end\n",
    "end\n",
    "\n",
    "# Example usage:\n",
    "my_array = [1, 2, 2, 3]\n",
    "puts my_array.more_than_once?(2)  # Output: true\n",
    "puts my_array.more_than_once?(3)  # Output: false\n",
    "\n",
    "my_hash = { a: \"hello\", b: \"goodbye\", \"goodbye\" => 5 }\n",
    "p my_hash.common_keys_and_values  # Output: [\"goodbye\"]\n"
   ]
  },
  {
   "cell_type": "code",
   "execution_count": null,
   "id": "2e143d2a",
   "metadata": {},
   "outputs": [],
   "source": []
  }
 ],
 "metadata": {
  "kernelspec": {
   "display_name": "Ruby 3.2.2",
   "language": "ruby",
   "name": "ruby"
  },
  "language_info": {
   "file_extension": ".rb",
   "mimetype": "application/x-ruby",
   "name": "ruby",
   "version": "3.2.2"
  }
 },
 "nbformat": 4,
 "nbformat_minor": 5
}
