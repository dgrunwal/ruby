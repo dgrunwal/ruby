{
 "cells": [
  {
   "cell_type": "code",
   "execution_count": 5,
   "id": "9b87a2fc",
   "metadata": {},
   "outputs": [
    {
     "name": "stdout",
     "output_type": "stream",
     "text": [
      "\"Mr. Smith\"\n",
      "53\n",
      "nil\n",
      "\"Fishing\"\n",
      "\"Kentucky\"\n"
     ]
    },
    {
     "data": {
      "text/plain": [
       "\"Kentucky\""
      ]
     },
     "execution_count": 5,
     "metadata": {},
     "output_type": "execute_result"
    }
   ],
   "source": [
    "# Keyword arguments - allow invocation of a method to specify which\n",
    "# parameters the arguments correspond to  hash is dynamic, notice NIL b/c no parameter requirement\n",
    "# hash introduces some new problems\n",
    "class Candidate\n",
    "  attr_reader :name, :age, :occupation, :hobby, :birthplace\n",
    "\n",
    "  def initialize(details)\n",
    "    @name = details[:name]\n",
    "    @age = details[:age]\n",
    "    @occupation = details[:occupation]\n",
    "    @hobby = details[:hobby]\n",
    "    @birthplace = details[:birthplace]\n",
    "  end\n",
    "end\n",
    "\n",
    "senator = Candidate.new(\n",
    "  hobby: \"Fishing\",\n",
    "  name: \"Mr. Smith\",\n",
    "  age: 53,\n",
    "  birthplace: \"Kentucky\"\n",
    ")\n",
    "\n",
    "p senator.name\n",
    "p senator.age\n",
    "p senator.occupation\n",
    "p senator.hobby\n",
    "p senator.birthplace"
   ]
  },
  {
   "cell_type": "code",
   "execution_count": 10,
   "id": "21dba68c",
   "metadata": {},
   "outputs": [
    {
     "name": "stdout",
     "output_type": "stream",
     "text": [
      "5\n",
      "5\n",
      "5\n"
     ]
    },
    {
     "data": {
      "text/plain": [
       "5"
      ]
     },
     "execution_count": 10,
     "metadata": {},
     "output_type": "execute_result"
    }
   ],
   "source": [
    "# *Keyword* arguments - a new feature in Ruby 2.0 that is conceptually\n",
    "# similar to passing a hash, but with better error handling\n",
    "# Keyword arguments allow the invocation of a method to specify which\n",
    "# parameters the arguments correspond to\n",
    "# order does not matter b/c keys are defined \n",
    "\n",
    "def sum(a:, b:)\n",
    "  a + b\n",
    "end\n",
    "\n",
    "p sum(a: 2, b: 3)\n",
    "p sum(b: 3, a: 2)\n",
    "p sum(a: 2, b: 3)\n",
    "\n"
   ]
  },
  {
   "cell_type": "code",
   "execution_count": 11,
   "id": "fb8e0e6e",
   "metadata": {},
   "outputs": [
    {
     "name": "stdout",
     "output_type": "stream",
     "text": [
      "2\n",
      "6\n",
      "4\n",
      "10\n",
      "10\n"
     ]
    },
    {
     "data": {
      "text/plain": [
       "10"
      ]
     },
     "execution_count": 11,
     "metadata": {},
     "output_type": "execute_result"
    }
   ],
   "source": [
    "def sum(a: 1, b: 1)\n",
    "  a + b\n",
    "end\n",
    "\n",
    "p sum\n",
    "# p sum(3, 5)\n",
    "p sum(a: 5)\n",
    "p sum(b: 3)\n",
    "p sum(a: 2, b: 8)\n",
    "p sum(b: 8, a: 2)\n"
   ]
  },
  {
   "cell_type": "code",
   "execution_count": 14,
   "id": "278b6cab",
   "metadata": {},
   "outputs": [
    {
     "name": "stdout",
     "output_type": "stream",
     "text": [
      "8\n",
      "5\n"
     ]
    },
    {
     "data": {
      "text/plain": [
       "5"
      ]
     },
     "execution_count": 14,
     "metadata": {},
     "output_type": "execute_result"
    }
   ],
   "source": [
    "def sum(a, b: 1)\n",
    "  a + b\n",
    "end\n",
    "\n",
    "p sum(3, b: 5)\n",
    "p sum(4)\n",
    "# p sum(4, 9)\n",
    "# p sum(b: 5, 3)"
   ]
  },
  {
   "cell_type": "code",
   "execution_count": null,
   "id": "008e880c",
   "metadata": {},
   "outputs": [],
   "source": [
    "class Candidate\n",
    "  attr_reader :name, :age, :occupation, :hobby, :birthplace\n",
    "\n",
    "  def initialize(\n",
    "    name:,\n",
    "    age:,\n",
    "    occupation: \"Candidate\", \n",
    "    hobby: \"Running for office\", \n",
    "    birthplace: \"USA\"\n",
    "  )\n",
    "    @name = name\n",
    "    @age = age\n",
    "    @occupation = occupation\n",
    "    @hobby = hobby\n",
    "    @birthplace = birthplace\n",
    "  end\n",
    "end\n",
    "\n",
    "senator = Candidate.new(\n",
    "  name: \"Mr. Smith\",\n",
    "  age: 53,\n",
    "  occupation: \"Banker\",\n",
    "  hobby: \"Fishing\",\n",
    "  birthplace: \"Canada\"\n",
    ")\n",
    "\n",
    "p senator.name\n",
    "p senator.age\n",
    "p senator.occupation\n",
    "p senator.hobby\n",
    "p senator.birthplace\n",
    "\n"
   ]
  },
  {
   "cell_type": "code",
   "execution_count": 15,
   "id": "4976a5bb",
   "metadata": {},
   "outputs": [
    {
     "name": "stdout",
     "output_type": "stream",
     "text": [
      "\"\"\n",
      "3\n",
      "{}\n"
     ]
    },
    {
     "data": {
      "text/plain": [
       "{}"
      ]
     },
     "execution_count": 15,
     "metadata": {},
     "output_type": "execute_result"
    }
   ],
   "source": [
    "class Restaurant\n",
    "  attr_reader :name, :address, :cuisine, :head_chef, :rating, :menu\n",
    "\n",
    "  def initialize(name:, address:, cuisine:, head_chef: \"\", rating: 3, menu: {})\n",
    "    @name = name\n",
    "    @address = address\n",
    "    @cuisine = cuisine\n",
    "    @head_chef = head_chef\n",
    "    @rating = rating\n",
    "    @menu = menu\n",
    "  end\n",
    "end\n",
    "\n",
    "# Sample invocations\n",
    "r1 = Restaurant.new(\n",
    "  name: \"La Casa\",\n",
    "  address: \"123 Flavortown Street, NJ\",\n",
    "  cuisine: \"Patriotic American\",\n",
    "  head_chef: \"Guy Fieri\",\n",
    "  rating: 5,\n",
    "  menu: { wings: 14.99 }\n",
    ")\n",
    "\n",
    "r2 = Restaurant.new(\n",
    "  name: \"Hell's Kitchen\",\n",
    "  address: \"345 Las Vegas Boulevard, NV\",\n",
    "  cuisine: \"British\",\n",
    ")\n",
    "\n",
    "p r2.head_chef # \"\"\n",
    "p r2.rating    # 3\n",
    "p r2.menu      # {}\n"
   ]
  },
  {
   "cell_type": "code",
   "execution_count": 16,
   "id": "68b1cbf0",
   "metadata": {},
   "outputs": [
    {
     "name": "stdout",
     "output_type": "stream",
     "text": [
      "8\n",
      "5\n"
     ]
    },
    {
     "data": {
      "text/plain": [
       "5"
      ]
     },
     "execution_count": 16,
     "metadata": {},
     "output_type": "execute_result"
    }
   ],
   "source": [
    "#positional arguments first then keyword arguments\n",
    "\n",
    "def sum(a, b: 1)\n",
    "  a + b\n",
    "end\n",
    "\n",
    "p sum(3, b: 5)\n",
    "p sum(4)\n",
    "# p sum(4, 9)\n",
    "# p sum(b: 5, 3)"
   ]
  },
  {
   "cell_type": "code",
   "execution_count": null,
   "id": "ffa3c93d",
   "metadata": {},
   "outputs": [],
   "source": []
  }
 ],
 "metadata": {
  "kernelspec": {
   "display_name": "Ruby 3.2.2",
   "language": "ruby",
   "name": "ruby"
  },
  "language_info": {
   "file_extension": ".rb",
   "mimetype": "application/x-ruby",
   "name": "ruby",
   "version": "3.2.2"
  }
 },
 "nbformat": 4,
 "nbformat_minor": 5
}
