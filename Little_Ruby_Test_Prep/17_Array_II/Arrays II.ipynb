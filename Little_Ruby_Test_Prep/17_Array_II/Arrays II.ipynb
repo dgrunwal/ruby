{
 "cells": [
  {
   "cell_type": "code",
   "execution_count": 1,
   "id": "fde285cd",
   "metadata": {},
   "outputs": [
    {
     "name": "stdout",
     "output_type": "stream",
     "text": [
      "OPTION: A striped shirt and a polka dot tie.\n",
      "OPTION: A striped shirt and a solid color tie.\n",
      "OPTION: A striped shirt and a boring tie.\n",
      "OPTION: A plain white shirt and a polka dot tie.\n",
      "OPTION: A plain white shirt and a solid color tie.\n",
      "OPTION: A plain white shirt and a boring tie.\n",
      "OPTION: A plaid shirt and a polka dot tie.\n",
      "OPTION: A plaid shirt and a solid color tie.\n",
      "OPTION: A plaid shirt and a boring tie.\n",
      "OPTION: A band shirt and a polka dot tie.\n",
      "OPTION: A band shirt and a solid color tie.\n",
      "OPTION: A band shirt and a boring tie.\n"
     ]
    },
    {
     "data": {
      "text/plain": [
       "[\"striped\", \"plain white\", \"plaid\", \"band\"]"
      ]
     },
     "execution_count": 1,
     "metadata": {},
     "output_type": "execute_result"
    }
   ],
   "source": [
    "shirts = [\"striped\", \"plain white\", \"plaid\", \"band\"]\n",
    "ties = [\"polka dot\", \"solid color\", \"boring\"]\n",
    "\n",
    "shirts.each do |shirt|\n",
    "  ties.each do |tie|\n",
    "    puts \"OPTION: A #{shirt} shirt and a #{tie} tie.\"\n",
    "  end\n",
    "end"
   ]
  },
  {
   "cell_type": "code",
   "execution_count": 2,
   "id": "ef2d1236",
   "metadata": {},
   "outputs": [
    {
     "name": "stdout",
     "output_type": "stream",
     "text": [
      "[5, 10, 15, 20, 25, 30, 35, 40]\n",
      "[10, 20, 30, 40]\n"
     ]
    },
    {
     "data": {
      "text/plain": [
       "[10, 20, 30, 40]"
      ]
     },
     "execution_count": 2,
     "metadata": {},
     "output_type": "execute_result"
    }
   ],
   "source": [
    "fives = [5, 10, 15, 20, 25, 30, 35, 40]\n",
    "evens = []\n",
    "\n",
    "# fives.each { |value| puts value if value.even? }\n",
    "\n",
    "fives.each { |number| evens.push(number) if number.even? }\n",
    "\n",
    "p fives\n",
    "p evens"
   ]
  },
  {
   "cell_type": "code",
   "execution_count": 7,
   "id": "6b9b1730",
   "metadata": {},
   "outputs": [
    {
     "name": "stdout",
     "output_type": "stream",
     "text": [
      "[5, 10, 15, 20, 25, 30, 35, 40]\n",
      "[10, 20, 30, 40]\n"
     ]
    },
    {
     "data": {
      "text/plain": [
       "[10, 20, 30, 40]"
      ]
     },
     "execution_count": 7,
     "metadata": {},
     "output_type": "execute_result"
    }
   ],
   "source": [
    "fives = [5, 10, 15, 20, 25, 30, 35, 40]\n",
    "evens = []\n",
    "\n",
    "# fives.each { |value| puts value if value.even? }\n",
    "\n",
    "fives.each { |number| evens.push(number) if number.even? }\n",
    "\n",
    "p fives\n",
    "p evens"
   ]
  },
  {
   "cell_type": "code",
   "execution_count": 3,
   "id": "2acfaf81",
   "metadata": {},
   "outputs": [
    {
     "name": "stdout",
     "output_type": "stream",
     "text": [
      "OPTION: A striped shirt and a polka dot tie.\n",
      "OPTION: A striped shirt and a solid color tie.\n",
      "OPTION: A striped shirt and a boring tie.\n",
      "OPTION: A plain white shirt and a polka dot tie.\n",
      "OPTION: A plain white shirt and a solid color tie.\n",
      "OPTION: A plain white shirt and a boring tie.\n",
      "OPTION: A plaid shirt and a polka dot tie.\n",
      "OPTION: A plaid shirt and a solid color tie.\n",
      "OPTION: A plaid shirt and a boring tie.\n",
      "OPTION: A band shirt and a polka dot tie.\n",
      "OPTION: A band shirt and a solid color tie.\n",
      "OPTION: A band shirt and a boring tie.\n"
     ]
    },
    {
     "data": {
      "text/plain": [
       "[\"striped\", \"plain white\", \"plaid\", \"band\"]"
      ]
     },
     "execution_count": 3,
     "metadata": {},
     "output_type": "execute_result"
    }
   ],
   "source": [
    "shirts = [\"striped\", \"plain white\", \"plaid\", \"band\"]\n",
    "ties = [\"polka dot\", \"solid color\", \"boring\"]\n",
    "\n",
    "shirts.each do |shirt|\n",
    "  ties.each do |tie|\n",
    "    puts \"OPTION: A #{shirt} shirt and a #{tie} tie.\"\n",
    "  end\n",
    "end"
   ]
  },
  {
   "cell_type": "code",
   "execution_count": 5,
   "id": "b05541d9",
   "metadata": {},
   "outputs": [
    {
     "data": {
      "text/plain": [
       "[{:name=>\"Alice\", :age=>30}, {:name=>\"Bob\", :age=>25}]"
      ]
     },
     "execution_count": 5,
     "metadata": {},
     "output_type": "execute_result"
    }
   ],
   "source": [
    "# array of hashes\n",
    "\n",
    "people = [{ name: \"Alice\", age: 30 }, { name: \"Bob\", age: 25 }]\n"
   ]
  },
  {
   "cell_type": "code",
   "execution_count": 6,
   "id": "e68d1865",
   "metadata": {},
   "outputs": [
    {
     "name": "stdout",
     "output_type": "stream",
     "text": [
      "2\n",
      "true\n",
      "apple\n",
      "1 2 3 \n",
      "a x c \n",
      "true false true \n",
      "apple banana grape \n",
      "10 20 30 \n"
     ]
    },
    {
     "data": {
      "text/plain": [
       "[[1, 2, 3], [\"a\", \"x\", \"c\"], [true, false, true], [\"apple\", \"banana\", \"grape\"], [10, 20, 30]]"
      ]
     },
     "execution_count": 6,
     "metadata": {},
     "output_type": "execute_result"
    }
   ],
   "source": [
    "# Nested Array Example\n",
    "nested_array = [\n",
    "  [1, 2, 3],\n",
    "  [\"a\", \"b\", \"c\"],\n",
    "  [true, false, true],\n",
    "  [\"apple\", \"banana\", \"orange\"]\n",
    "]\n",
    "\n",
    "# Accessing elements in the nested array\n",
    "puts nested_array[0][1]  # Output: 2\n",
    "puts nested_array[2][2]  # Output: true\n",
    "puts nested_array[3][0]  # Output: \"apple\"\n",
    "\n",
    "# Modifying elements in the nested array\n",
    "nested_array[1][1] = \"x\"\n",
    "nested_array[3][2] = \"grape\"\n",
    "\n",
    "# Adding a new array to the nested array\n",
    "new_array = [10, 20, 30]\n",
    "nested_array << new_array\n",
    "\n",
    "# Iterating through the nested array\n",
    "nested_array.each do |inner_array|\n",
    "  inner_array.each do |element|\n",
    "    print \"#{element} \"\n",
    "  end\n",
    "  puts\n",
    "end\n"
   ]
  },
  {
   "cell_type": "code",
   "execution_count": 8,
   "id": "4f61118f",
   "metadata": {},
   "outputs": [
    {
     "name": "stdout",
     "output_type": "stream",
     "text": [
      "1\n",
      "2\n",
      "3\n",
      "Yay, we're iterating here!\n",
      "We are currently on 1\n",
      "Yay, we're iterating here!\n",
      "We are currently on 2\n",
      "Yay, we're iterating here!\n",
      "We are currently on 3\n",
      "Yay, we're iterating here!\n",
      "We are currently on 4\n",
      "Yay, we're iterating here!\n",
      "We are currently on 5\n",
      "Yay, we're iterating here!\n",
      "We are currently on 6\n",
      "Yay, we're iterating here!\n",
      "We are currently on 7\n",
      "Yay, we're iterating here!\n",
      "We are currently on 8\n",
      "Yay, we're iterating here!\n",
      "We are currently on 9\n",
      "Yay, we're iterating here!\n",
      "We are currently on 10\n"
     ]
    },
    {
     "data": {
      "text/plain": [
       "1..10"
      ]
     },
     "execution_count": 8,
     "metadata": {},
     "output_type": "execute_result"
    }
   ],
   "source": [
    "# for element in iterable data structure\n",
    "\n",
    "# for number in [1, 2, 3]\n",
    "#   puts number\n",
    "# end\n",
    "\n",
    "[1, 2, 3].each { |number| puts number }\n",
    "\n",
    "# for value in 1..10\n",
    "#   puts \"Yay, we're iterating here!\"\n",
    "#   puts \"We are currently on #{value}\"\n",
    "# end\n",
    "\n",
    "# puts value\n",
    "\n",
    "(1..10).each do |range_number|\n",
    "  puts \"Yay, we're iterating here!\"\n",
    "  puts \"We are currently on #{range_number}\"\n",
    "end"
   ]
  },
  {
   "cell_type": "code",
   "execution_count": 9,
   "id": "cce48aad",
   "metadata": {},
   "outputs": [
    {
     "name": "stdout",
     "output_type": "stream",
     "text": [
      "2\n",
      "4\n",
      "6\n",
      "8\n",
      "10\n",
      "20\n",
      "40\n",
      "60\n"
     ]
    }
   ],
   "source": [
    "def double_elements(numbers)\n",
    "  # Use the map method to create a new array with doubled elements\n",
    "  doubled_array = numbers.map { |num| num * 2 }\n",
    "  \n",
    "  # Return the new array\n",
    "  return doubled_array\n",
    "end\n",
    "\n",
    "# Test the method with examples\n",
    "result1 = double_elements([1, 2, 3, 4, 5])\n",
    "puts result1  # Output: [2, 4, 6, 8, 10]\n",
    "\n",
    "result2 = double_elements([10, 20, 30])\n",
    "puts result2  # Output: [20, 40, 60]\n"
   ]
  },
  {
   "cell_type": "code",
   "execution_count": 10,
   "id": "b7907578",
   "metadata": {},
   "outputs": [
    {
     "name": "stdout",
     "output_type": "stream",
     "text": [
      "spaghetti\n",
      "fettuccine\n",
      "cannelloni\n",
      "tagliatelle\n"
     ]
    }
   ],
   "source": [
    "def extract_long_words(strings)\n",
    "  # Use the select method to filter strings with more than 7 characters\n",
    "  long_words_array = strings.select { |word| word.length > 7 }\n",
    "  \n",
    "  # Return the new array\n",
    "  return long_words_array\n",
    "end\n",
    "\n",
    "# Test the method with examples\n",
    "result1 = extract_long_words([\"spaghetti\", \"penne\", \"fettuccine\", \"ziti\"])\n",
    "puts result1  # Output: [\"spaghetti\", \"fettuccine\"]\n",
    "\n",
    "result2 = extract_long_words([\"lasagna\", \"ravioli\", \"cannelloni\", \"tagliatelle\"])\n",
    "puts result2  # Output: [\"cannelloni\", \"tagliatelle\"]\n"
   ]
  },
  {
   "cell_type": "code",
   "execution_count": 11,
   "id": "75cf9449",
   "metadata": {},
   "outputs": [
    {
     "name": "stdout",
     "output_type": "stream",
     "text": [
      "Fettucine with Alfredo sauce\n",
      "Fettucine with Bolognese sauce\n",
      "Fettucine with Pesto sauce\n",
      "Spaghetti with Alfredo sauce\n",
      "Spaghetti with Bolognese sauce\n",
      "Spaghetti with Pesto sauce\n",
      "Penne with Alfredo sauce\n",
      "Penne with Bolognese sauce\n",
      "Penne with Pesto sauce\n"
     ]
    }
   ],
   "source": [
    "def pastas_and_sauces(pasta_types, sauces)\n",
    "  # Use nested loops to combine each pasta with each sauce\n",
    "  combinations = []\n",
    "  pasta_types.each do |pasta|\n",
    "    sauces.each do |sauce|\n",
    "      # Capitalize each pasta and sauce and create the combination string\n",
    "      combination = \"#{pasta.capitalize} with #{sauce.capitalize} sauce\"\n",
    "      combinations << combination\n",
    "    end\n",
    "  end\n",
    "  \n",
    "  # Return the array of combinations\n",
    "  return combinations\n",
    "end\n",
    "\n",
    "# Test the method with the example\n",
    "result = pastas_and_sauces([\"fettucine\", \"spaghetti\", \"penne\"], [\"alfredo\", \"bolognese\", \"pesto\"])\n",
    "puts result\n",
    "# Output:\n",
    "# [\"Fettucine with Alfredo sauce\", \"Fettucine with Bolognese sauce\", \"Fettucine with Pesto sauce\", \n",
    "#  \"Spaghetti with Alfredo sauce\", \"Spaghetti with Bolognese sauce\", \"Spaghetti with Pesto sauce\", \n",
    "#  \"Penne with Alfredo sauce\", \"Penne with Bolognese sauce\", \"Penne with Pesto sauce\"]\n"
   ]
  },
  {
   "cell_type": "code",
   "execution_count": 12,
   "id": "ab2d4325",
   "metadata": {},
   "outputs": [
    {
     "name": "stdout",
     "output_type": "stream",
     "text": [
      "The value for index position 0 is Red!\n",
      "The value for index position 1 is Blue!\n",
      "The value for index position 2 is Green!\n",
      "The value for index position 3 is Yellow!\n",
      "The number is 5 and the index is 0\n",
      "The product of the two is 0\n",
      "The number is 10 and the index is 1\n",
      "The product of the two is 10\n",
      "The number is 15 and the index is 2\n",
      "The product of the two is 30\n"
     ]
    },
    {
     "data": {
      "text/plain": [
       "[5, 10, 15]"
      ]
     },
     "execution_count": 12,
     "metadata": {},
     "output_type": "execute_result"
    }
   ],
   "source": [
    "# each_with_index\n",
    "colors = [\"Red\", \"Blue\", \"Green\", \"Yellow\"]\n",
    "\n",
    "colors.each_with_index { |color, index| puts \"The value for index position #{index} is #{color}!\" }\n",
    "\n",
    "[5, 10, 15].each_with_index do |number, index|\n",
    "  puts \"The number is #{number} and the index is #{index}\"\n",
    "  puts \"The product of the two is #{number * index}\"\n",
    "end"
   ]
  },
  {
   "cell_type": "code",
   "execution_count": 13,
   "id": "f76e2ad5",
   "metadata": {},
   "outputs": [
    {
     "name": "stdout",
     "output_type": "stream",
     "text": [
      "8\n",
      "0\n"
     ]
    }
   ],
   "source": [
    "def product_of_number_and_index(numbers)\n",
    "  sum = 0\n",
    "\n",
    "  numbers.each_with_index do |number, index|\n",
    "    sum += number * index\n",
    "  end\n",
    "\n",
    "  sum\n",
    "end\n",
    "\n",
    "# Examples\n",
    "puts product_of_number_and_index([1, 2, 3])  # Output: 8\n",
    "puts product_of_number_and_index([])         # Output: 0\n"
   ]
  },
  {
   "cell_type": "code",
   "execution_count": 15,
   "id": "522db543",
   "metadata": {},
   "outputs": [
    {
     "name": "stdout",
     "output_type": "stream",
     "text": [
      "The index is 0 and the animal is Lion\n",
      "The index is 1 and the animal is Zebra\n",
      "The index is 2 and the animal is Baboon\n",
      "The index is 3 and the animal is Cheetah\n",
      "\n",
      "The index is 0 and the animal is Lion\n",
      "The index is 1 and the animal is Zebra\n",
      "The index is 2 and the animal is Baboon\n",
      "The index is 3 and the animal is Cheetah\n"
     ]
    }
   ],
   "source": [
    "animals = [\"Lion\", \"Zebra\", \"Baboon\", \"Cheetah\"]\n",
    "\n",
    "i = 0\n",
    "\n",
    "while i < animals.length # 4 < 4\n",
    "  puts \"The index is #{i} and the animal is #{animals[i]}\"\n",
    "  i += 1\n",
    "end\n",
    "\n",
    "puts\n",
    "\n",
    "i = 0\n",
    "\n",
    "until i == animals.length # 4 == 4\n",
    "  puts \"The index is #{i} and the animal is #{animals[i]}\"\n",
    "  i += 1\n",
    "end"
   ]
  },
  {
   "cell_type": "code",
   "execution_count": 21,
   "id": "a418c377",
   "metadata": {},
   "outputs": [
    {
     "name": "stdout",
     "output_type": "stream",
     "text": [
      "[5, 7, 6, 4, 7]\n",
      "[5, 7, 6, 4, 7]\n",
      "[\"EAGLE\", \"SPARROW\", \"PIGEON\", \"HAWK\", \"PENGUIN\"]\n",
      "[\"EAGLE\", \"HAWK\", \"PENGUIN\", \"PIGEON\", \"SPARROW\"]\n",
      "[\"SPARROW\", \"PIGEON\", \"PENGUIN\", \"HAWK\", \"EAGLE\"]\n"
     ]
    },
    {
     "data": {
      "text/plain": [
       "[\"SPARROW\", \"PIGEON\", \"PENGUIN\", \"HAWK\", \"EAGLE\"]"
      ]
     },
     "execution_count": 21,
     "metadata": {},
     "output_type": "execute_result"
    }
   ],
   "source": [
    "# map/collect - create a new array by performing a consistent operation\n",
    "# on all elements from an original array, same thing \n",
    "\n",
    "birds = [\"eagle\", \"sparrow\", \"pigeon\", \"hawk\", \"penguin\"]\n",
    "\n",
    "# lengths = []\n",
    "# birds.each { |bird| lengths << bird.length }\n",
    "# p lengths\n",
    "\n",
    "lengths = birds.map { |bird| bird.length }\n",
    "p lengths\n",
    "\n",
    "lengths = birds.collect { |bird| bird.length }\n",
    "p lengths\n",
    "\n",
    "uppercased_birds = birds.map { |bird| bird.upcase }\n",
    "p uppercased_birds\n",
    "p uppercased_birds.sort\n",
    "p uppercased_birds.sort.reverse\n"
   ]
  },
  {
   "cell_type": "code",
   "execution_count": 23,
   "id": "c794a5f1",
   "metadata": {},
   "outputs": [
    {
     "name": "stdout",
     "output_type": "stream",
     "text": [
      "[\"racecar\", \"level\"]\n",
      "[\"lion\", \"elephant\", \"dog\"]\n"
     ]
    },
    {
     "data": {
      "text/plain": [
       "[\"lion\", \"elephant\", \"dog\"]"
      ]
     },
     "execution_count": 23,
     "metadata": {},
     "output_type": "execute_result"
    }
   ],
   "source": [
    "# select - filter array for elements that satisfy a condition\n",
    "# reject - filter array for elements that do not satisfy a condition\n",
    "\n",
    "words = [\"racecar\", \"selfless\", \"sentences\", \"level\"]\n",
    "\n",
    "# palindrome - a word that is the same backwards as it is forwards\n",
    "palindromes = words.select { |word| word == word.reverse } \n",
    "p palindromes\n",
    "\n",
    "animals = [\"cheetah\", \"cat\", \"lion\", \"elephant\", \"dog\", \"cow\"]\n",
    "# If the block returns true, then Ruby will REJECT that element (Exclude it)\n",
    "# If the block returns false, then Ruby will INCLUDE that element\n",
    "p animals.reject { |animal| animal.include?(\"c\") }\n"
   ]
  },
  {
   "cell_type": "code",
   "execution_count": 24,
   "id": "0f18b0f7",
   "metadata": {},
   "outputs": [
    {
     "name": "stdout",
     "output_type": "stream",
     "text": [
      "& # x A 5 ; 1 0 0 0 & # x A 5 ; 1 0 0 0 "
     ]
    },
    {
     "data": {
      "text/plain": [
       "0"
      ]
     },
     "execution_count": 24,
     "metadata": {},
     "output_type": "execute_result"
    }
   ],
   "source": [
    "s = \"&#xA5;1000\"\n",
    "s.each_char {|x| print \"#{x} \" }         # Prints \"&#xA5; 1 0 0 0\". Ruby 1.9\n",
    "0.upto(s.size-1) {|i| print \"#{s[i]} \"}  # Inefficient with multibyte chars"
   ]
  },
  {
   "cell_type": "code",
   "execution_count": 28,
   "id": "04b4f971",
   "metadata": {},
   "outputs": [
    {
     "name": "stdout",
     "output_type": "stream",
     "text": [
      "b\n"
     ]
    }
   ],
   "source": [
    "a = ('a'..'e').to_a   # Range converted to ['a', 'b', 'c', 'd', 'e']\n",
    "a[0,0]                # []: this subarray has zero elements\n",
    "a[1,1]                # ['b']: a one-element array\n",
    "a[-2,2]               # ['d','e']: the last two elements of the array\n",
    "a[0..2]               # ['a', 'b', 'c']: the first three elements\n",
    "a[-2..-1]             # ['d','e']: the last two elements of the array\n",
    "a[0...-1]             # ['a', 'b', 'c', 'd']: all but the last element\n",
    "\n",
    "puts (a[1])"
   ]
  },
  {
   "cell_type": "code",
   "execution_count": 31,
   "id": "6a64f966",
   "metadata": {},
   "outputs": [
    {
     "name": "stdout",
     "output_type": "stream",
     "text": [
      "a\n",
      "b\n",
      "c\n",
      "d\n",
      "e\n",
      "[\"a\", \"b\", \"c\", \"d\", \"e\"]"
     ]
    }
   ],
   "source": [
    "a = ('a'..'e').to_a\n",
    "puts (a) # each separate line \n",
    "print (a) # same line "
   ]
  },
  {
   "cell_type": "code",
   "execution_count": 32,
   "id": "eed99a81",
   "metadata": {},
   "outputs": [
    {
     "name": "stdout",
     "output_type": "stream",
     "text": [
      "[\"racecar\", \"level\"]\n",
      "[\"lion\", \"elephant\", \"dog\"]\n"
     ]
    },
    {
     "data": {
      "text/plain": [
       "[\"lion\", \"elephant\", \"dog\"]"
      ]
     },
     "execution_count": 32,
     "metadata": {},
     "output_type": "execute_result"
    }
   ],
   "source": [
    "# select - filter array for elements that satisfy a condition\n",
    "# reject - filter array for elements that do not satisfy a condition\n",
    "\n",
    "words = [\"racecar\", \"selfless\", \"sentences\", \"level\"]\n",
    "\n",
    "# palindrome - a word that is the same backwards as it is forwards\n",
    "palindromes = words.select { |word| word == word.reverse } \n",
    "p palindromes\n",
    "\n",
    "animals = [\"cheetah\", \"cat\", \"lion\", \"elephant\", \"dog\", \"cow\"]\n",
    "# If the block returns true, then Ruby will REJECT that element (Exclude it)\n",
    "# If the block returns false, then Ruby will INCLUDE that element\n",
    "p animals.reject { |animal| animal.include?(\"c\") }"
   ]
  },
  {
   "cell_type": "code",
   "execution_count": 35,
   "id": "e56fcf32",
   "metadata": {},
   "outputs": [
    {
     "name": "stdout",
     "output_type": "stream",
     "text": [
      "[\"Steak\", \"Steak Burger\", \"Tuna Steaks\"]\n",
      "[\"Vegetables\", \"Kale\", \"Tofu\"]\n"
     ]
    },
    {
     "data": {
      "text/plain": [
       "[\"Vegetables\", \"Kale\", \"Tofu\"]"
      ]
     },
     "execution_count": 35,
     "metadata": {},
     "output_type": "execute_result"
    }
   ],
   "source": [
    "# partition - split an array into two arrays based on matching/not matching a condition\n",
    "\n",
    "foods = [\"Steak\", \"Vegetables\", \"Steak Burger\", \"Kale\", \"Tofu\", \"Tuna Steaks\"]\n",
    "\n",
    "# good - food that includes the word \"Steak\"\n",
    "# bad  - food that does not include the word \"Steak\"\n",
    "\n",
    "# good_foods = foods.select { |food| food.include?(\"Steak\") }\n",
    "# bad_foods = foods.reject { |food| food.include?(\"Steak\") }\n",
    "# p good_foods\n",
    "# p bad_foods\n",
    "\n",
    "good_foods, bad_foods = foods.partition { |food| food.include?(\"Steak\") }\n",
    "p good_foods\n",
    "p bad_foods"
   ]
  },
  {
   "cell_type": "code",
   "execution_count": 38,
   "id": "68b6450b",
   "metadata": {},
   "outputs": [
    {
     "name": "stdout",
     "output_type": "stream",
     "text": [
      "Words starting with A-N: [\"Apple\", \"Banana\", \"Cat\", \"Dog\", \"Elephant\", \"Lion\"]\n",
      "Words starting with O-Z: [\"Orange\", \"Zebra\", \"zeppelin\"]\n"
     ]
    }
   ],
   "source": [
    "# Short list of words\n",
    "words = [\"Apple\", \"Banana\", \"Orange\", \"Dog\", \"Cat\", \"Elephant\", \"Zebra\", \"Lion\", \"zeppelin\"]\n",
    "\n",
    "# Initialize arrays for letters A-N and O-Z\n",
    "a_to_n_array = []\n",
    "o_to_z_array = []\n",
    "\n",
    "# Iterate through each word and assign to the respective array based on starting letter\n",
    "words.each do |word|\n",
    "  if word.downcase[0] >= 'a' && word.downcase[0] <= 'n'\n",
    "    a_to_n_array << word\n",
    "  elsif word.downcase[0] >= 'o' && word.downcase[0] <= 'z'\n",
    "    o_to_z_array << word\n",
    "  end\n",
    "end\n",
    "\n",
    "# Sort the arrays\n",
    "a_to_n_array.sort!\n",
    "o_to_z_array.sort!\n",
    "\n",
    "# Print the sorted arrays\n",
    "puts \"Words starting with A-N: #{a_to_n_array}\"\n",
    "puts \"Words starting with O-Z: #{o_to_z_array}\"\n",
    "\n"
   ]
  },
  {
   "cell_type": "code",
   "execution_count": 39,
   "id": "ea0aa50c",
   "metadata": {},
   "outputs": [
    {
     "name": "stdout",
     "output_type": "stream",
     "text": [
      "tac\n",
      "tab\n",
      "but\n",
      "tserof\n"
     ]
    }
   ],
   "source": [
    "def reverse_all(strings)\n",
    "  # Use the map method to create a new array with reversed strings\n",
    "  reversed_array = strings.map { |str| str.reverse }\n",
    "  \n",
    "  # Return the new array\n",
    "  return reversed_array\n",
    "end\n",
    "\n",
    "# Test the method with examples\n",
    "result1 = reverse_all([\"cat\", \"bat\", \"tub\"])\n",
    "puts result1  # Output: [\"tac\", \"tab\", \"but\"]\n",
    "\n",
    "result2 = reverse_all([\"forest\"])\n",
    "puts result2  # Output: [\"tserof\"]\n",
    "\n",
    "result3 = reverse_all([])\n",
    "puts result3  # Output: []\n"
   ]
  },
  {
   "cell_type": "code",
   "execution_count": 40,
   "id": "31babbd0",
   "metadata": {},
   "outputs": [
    {
     "name": "stdout",
     "output_type": "stream",
     "text": [
      "cat\n",
      "bat\n",
      "tub\n"
     ]
    }
   ],
   "source": [
    "def words_with_letter(strings, letter)\n",
    "  # Use the select method to filter strings that include the letter\n",
    "  selected_words = strings.select { |str| str.include?(letter) }\n",
    "  \n",
    "  # Return the new array\n",
    "  return selected_words\n",
    "end\n",
    "\n",
    "# Test the method with examples\n",
    "result1 = words_with_letter([\"cat\", \"bat\", \"tub\"], \"a\")\n",
    "puts result1  # Output: [\"cat\", \"bat\"]\n",
    "\n",
    "result2 = words_with_letter([\"cat\", \"bat\", \"tub\"], \"u\")\n",
    "puts result2  # Output: [\"tub\"]\n",
    "\n",
    "result3 = words_with_letter([\"cat\", \"bat\", \"tub\"], \"z\")\n",
    "puts result3  # Output: []\n"
   ]
  },
  {
   "cell_type": "code",
   "execution_count": 41,
   "id": "91f219dd",
   "metadata": {},
   "outputs": [
    {
     "name": "stdout",
     "output_type": "stream",
     "text": [
      "2\n",
      "4\n",
      "1\n",
      "3\n",
      "5\n",
      "2\n",
      "4\n",
      "6\n",
      "8\n"
     ]
    }
   ],
   "source": [
    "def evens_and_odds(numbers)\n",
    "  # Use the partition method to separate even and odd numbers\n",
    "  even_numbers, odd_numbers = numbers.partition { |num| num.even? }\n",
    "  \n",
    "  # Return an array consisting of the two arrays\n",
    "  return [even_numbers, odd_numbers]\n",
    "end\n",
    "\n",
    "# Test the method with examples\n",
    "result1 = evens_and_odds([1, 2, 3, 4, 5])\n",
    "puts result1  # Output: [[2, 4], [1, 3, 5]]\n",
    "\n",
    "result2 = evens_and_odds([2, 4, 6, 8])\n",
    "puts result2  # Output: [[2, 4, 6, 8], []]\n",
    "\n",
    "result3 = evens_and_odds([])\n",
    "puts result3  # Output: [[], []]\n"
   ]
  },
  {
   "cell_type": "code",
   "execution_count": 42,
   "id": "33634255",
   "metadata": {},
   "outputs": [
    {
     "name": "stdout",
     "output_type": "stream",
     "text": [
      "true\n",
      "false\n",
      "true\n",
      "false\n"
     ]
    },
    {
     "data": {
      "text/plain": [
       "false"
      ]
     },
     "execution_count": 42,
     "metadata": {},
     "output_type": "execute_result"
    }
   ],
   "source": [
    "# any? method - check if any array element satisfies a condition\n",
    "# all? method - check if every array element satisfies a condition\n",
    "\n",
    "sports = [\"soccer\", \"basketball\", \"baseball\", \"tennis\", \"golf\"]\n",
    "\n",
    "p sports.any? { |sport| sport.length == 8 }\n",
    "p sports.any? { |sport| sport.length == 12 }\n",
    "p sports.all? { |sport| sport.length < 100 }\n",
    "p sports.all? { |sport| sport.length < 10 }"
   ]
  },
  {
   "cell_type": "code",
   "execution_count": 48,
   "id": "e52e289c",
   "metadata": {},
   "outputs": [
    {
     "name": "stdout",
     "output_type": "stream",
     "text": [
      "[\"refrigerator\", \"microwave\"]\n",
      "[]\n",
      "\"refrigerator\"\n",
      "\"refrigerator\"\n",
      "nil\n",
      "nil\n"
     ]
    }
   ],
   "source": [
    "# find/detect - find first array element that matches condition\n",
    "\n",
    "words = [\"dictionary\", \"refrigerator\", \"platypus\", \"microwave\"]\n",
    "p words.select { |word| word.include?(\"e\") }\n",
    "p words.select { |word| word.include?(\"z\") }\n",
    "p words.find { |word| word.include?(\"e\") }\n",
    "p words.detect { |word| word.include?(\"e\") }\n",
    "p words.find { |word| word.include?(\"z\") }\n",
    "p words.detect { |word| word.include?(\"z\") }"
   ]
  },
  {
   "cell_type": "code",
   "execution_count": 49,
   "id": "0fa91cf7",
   "metadata": {},
   "outputs": [
    {
     "name": "stdout",
     "output_type": "stream",
     "text": [
      "2\n",
      "0\n",
      "nil\n",
      "2\n",
      "0\n",
      "nil\n"
     ]
    }
   ],
   "source": [
    "# index/find_index - return the index position of the first occurrence of element\n",
    "\n",
    "colors = [\"Red\", \"Blue\", \"Green\", \"Red\"]\n",
    "\n",
    "p colors.index(\"Green\")\n",
    "p colors.index(\"Red\")\n",
    "p colors.index(\"Orange\")\n",
    "\n",
    "p colors.find_index(\"Green\")\n",
    "p colors.find_index(\"Red\")\n",
    "p colors.find_index(\"Orange\")"
   ]
  },
  {
   "cell_type": "code",
   "execution_count": 50,
   "id": "dd28bf3e",
   "metadata": {},
   "outputs": [
    {
     "name": "stdout",
     "output_type": "stream",
     "text": [
      "true\n",
      "true\n",
      "false\n",
      "false\n"
     ]
    },
    {
     "data": {
      "text/plain": [
       "false"
      ]
     },
     "execution_count": 50,
     "metadata": {},
     "output_type": "execute_result"
    }
   ],
   "source": [
    "# include? method - check for inclusion within the array\n",
    "\n",
    "p \"action\".include?(\"act\")\n",
    "\n",
    "movie_genres = [\"comedy\", \"action\", \"drama\", \"horror\"]\n",
    "\n",
    "p movie_genres.include?(\"drama\")\n",
    "p movie_genres.include?(\"romance\")\n",
    "p movie_genres.include?(\"Drama\")"
   ]
  },
  {
   "cell_type": "code",
   "execution_count": 51,
   "id": "106ae20f",
   "metadata": {},
   "outputs": [
    {
     "name": "stdout",
     "output_type": "stream",
     "text": [
      "723.99\n",
      "84.12\n",
      "\"Nike\"\n",
      "\"Apple\"\n",
      "nil\n",
      "nil\n"
     ]
    }
   ],
   "source": [
    "# max - greatest value in an array\n",
    "# min - smallest value in an array\n",
    "\n",
    "stock_prices = [434.12, 723.99, 84.12, 649.92]\n",
    "p stock_prices.max\n",
    "p stock_prices.min\n",
    "\n",
    "companies = [\"Nike\", \"Microsoft\", \"Apple\"]\n",
    "p companies.max\n",
    "p companies.min\n",
    "\n",
    "p [].max\n",
    "p [].min"
   ]
  },
  {
   "cell_type": "code",
   "execution_count": 52,
   "id": "437ee519",
   "metadata": {},
   "outputs": [
    {
     "name": "stdout",
     "output_type": "stream",
     "text": [
      "[\"refrigerator\", \"microwave\"]\n",
      "[]\n",
      "\"refrigerator\"\n",
      "\"refrigerator\"\n",
      "nil\n",
      "nil\n"
     ]
    }
   ],
   "source": [
    "# find/detect - find first array element that matches condition\n",
    "\n",
    "words = [\"dictionary\", \"refrigerator\", \"platypus\", \"microwave\"]\n",
    "p words.select { |word| word.include?(\"e\") }\n",
    "p words.select { |word| word.include?(\"z\") }\n",
    "p words.find { |word| word.include?(\"e\") }\n",
    "p words.detect { |word| word.include?(\"e\") }\n",
    "p words.find { |word| word.include?(\"z\") }\n",
    "p words.detect { |word| word.include?(\"z\") }"
   ]
  },
  {
   "cell_type": "code",
   "execution_count": 56,
   "id": "e9da8eca",
   "metadata": {},
   "outputs": [
    {
     "name": "stdout",
     "output_type": "stream",
     "text": [
      "723.99\n",
      "19\n",
      "Zebra\n",
      "\n"
     ]
    }
   ],
   "source": [
    "def custom_max(arr)\n",
    "  return nil if arr.empty?\n",
    "\n",
    "  max_value = arr[0]\n",
    "  arr.each do |element|\n",
    "    max_value = element if element > max_value\n",
    "  end\n",
    "\n",
    "  max_value\n",
    "end\n",
    "\n",
    "# Examples\n",
    "puts custom_max([434.12, 723.99, 84.12, 649.92])  # Output: 723.99\n",
    "puts custom_max([8, 10, 2, 1, 19, 4])             # Output: 19\n",
    "puts custom_max([\"Tree\", \"Elm\", \"Zebra\"])         # Output: \"Zebra\"\n",
    "puts custom_max([])                               # Output: nil\n"
   ]
  },
  {
   "cell_type": "code",
   "execution_count": 57,
   "id": "db4b2083",
   "metadata": {},
   "outputs": [
    {
     "name": "stdout",
     "output_type": "stream",
     "text": [
      "723.99\n",
      "84.12\n",
      "\"Nike\"\n",
      "\"Apple\"\n",
      "nil\n",
      "nil\n"
     ]
    }
   ],
   "source": [
    "# max - greatest value in an array\n",
    "# min - smallest value in an array\n",
    "\n",
    "stock_prices = [434.12, 723.99, 84.12, 649.92]\n",
    "p stock_prices.max\n",
    "p stock_prices.min\n",
    "\n",
    "companies = [\"Nike\", \"Microsoft\", \"Apple\"]\n",
    "p companies.max\n",
    "p companies.min\n",
    "\n",
    "p [].max\n",
    "p [].min"
   ]
  },
  {
   "cell_type": "code",
   "execution_count": 58,
   "id": "ed2386b5",
   "metadata": {},
   "outputs": [
    {
     "name": "stdout",
     "output_type": "stream",
     "text": [
      "[]\n",
      "0\n",
      "[3]\n",
      "3\n",
      "[3, 4]\n",
      "7\n"
     ]
    },
    {
     "data": {
      "text/plain": [
       "7"
      ]
     },
     "execution_count": 58,
     "metadata": {},
     "output_type": "execute_result"
    }
   ],
   "source": [
    "def adder(a, b, *numbers, c, d)\n",
    "  p numbers\n",
    "  sum = 0\n",
    "  numbers.each { |number| sum += number }\n",
    "  sum\n",
    "end\n",
    "\n",
    "p adder(1, 2, 3, 4)     # a = 1, b = 2, numbers = [], c = 3, d = 4\n",
    "p adder(1, 2, 3, 4, 5)  # a = 1, b = 2, numbers = [3], c = 4, d = 5\n",
    "p adder(1, 2, 3, 4, 5, 6) # a = 1, b = 2, numbers = [3, 4], c = 5, d = 6"
   ]
  },
  {
   "cell_type": "code",
   "execution_count": 59,
   "id": "a38840b0",
   "metadata": {},
   "outputs": [
    {
     "name": "stdout",
     "output_type": "stream",
     "text": [
      "15\n",
      "13\n",
      "0\n"
     ]
    }
   ],
   "source": [
    "def sum_of_string_lengths(*strings)\n",
    "  strings.sum(&:length)\n",
    "end\n",
    "\n",
    "# Examples\n",
    "puts sum_of_string_lengths(\"bob\", \"loves\", \"burgers\")   # 15\n",
    "puts sum_of_string_lengths(\"coding\", \"is\", \"so\", \"fun\") # 13\n",
    "puts sum_of_string_lengths()                            # 0\n"
   ]
  },
  {
   "cell_type": "code",
   "execution_count": null,
   "id": "61f007c2",
   "metadata": {},
   "outputs": [],
   "source": []
  }
 ],
 "metadata": {
  "kernelspec": {
   "display_name": "Ruby 3.2.2",
   "language": "ruby",
   "name": "ruby"
  },
  "language_info": {
   "file_extension": ".rb",
   "mimetype": "application/x-ruby",
   "name": "ruby",
   "version": "3.2.2"
  }
 },
 "nbformat": 4,
 "nbformat_minor": 5
}
