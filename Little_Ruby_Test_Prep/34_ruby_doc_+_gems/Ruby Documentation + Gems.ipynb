{
 "cells": [
  {
   "cell_type": "code",
   "execution_count": 2,
   "id": "a22282ed",
   "metadata": {},
   "outputs": [
    {
     "name": "stdout",
     "output_type": "stream",
     "text": [
      "hello\n"
     ]
    }
   ],
   "source": [
    "#  Ruby documentation  https://docs.ruby-lang.org/en/3.2/"
   ]
  },
  {
   "cell_type": "code",
   "execution_count": null,
   "id": "dffe100d",
   "metadata": {},
   "outputs": [],
   "source": [
    "C:\\Ruby32\\bin>gem install rdoc\n",
    "Fetching rdoc-6.7.0.gem\n",
    "Successfully installed rdoc-6.7.0\n",
    "Parsing documentation for rdoc-6.7.0\n",
    "Installing ri documentation for rdoc-6.7.0\n",
    "Done installing documentation for rdoc after 42 seconds\n",
    "1 gem installed\n",
    "\n",
    "A new release of RubyGems is available: 3.4.21 → 3.5.12!\n",
    "Run `gem update --system 3.5.12` to update your installation."
   ]
  },
  {
   "cell_type": "code",
   "execution_count": null,
   "id": "5c7cfbd7",
   "metadata": {},
   "outputs": [],
   "source": [
    "# An Album class that stores a list of songs\n",
    "class Album\n",
    "  include Enumerable\n",
    "\n",
    "  # An array of songs. Each song should be a string\n",
    "  attr_reader :songs\n",
    "\n",
    "  # Instantiates an Album object with no starter songs\n",
    "  def initialize\n",
    "    @songs = []\n",
    "  end\n",
    "\n",
    "  # Add a song to the album's song collection.\n",
    "  def add_song(song)\n",
    "    songs << song\n",
    "  end\n",
    "\n",
    "  # Iterate over each song on the album.\n",
    "  def each\n",
    "    songs.each { |song| yield song }\n",
    "  end\n",
    "end"
   ]
  },
  {
   "cell_type": "code",
   "execution_count": 10,
   "id": "b920bd9d",
   "metadata": {},
   "outputs": [
    {
     "name": "stdout",
     "output_type": "stream",
     "text": [
      "Module\n",
      "Class\n",
      "Nelda Crona Jr.\n",
      "Ammie\n",
      "McDermott\n",
      "[:Address, :Adjective, :Alphanumeric, :Ancient, :App, :Appliance, :Artist, :Australia, :Avatar, :Bank, :Barcode, :Base, :Base58, :Beer, :Blockchain, :Blood, :Book, :Books, :Boolean, :BossaNova, :Business, :Camera, :Cannabis, :Char, :ChileRut, :ChuckNorris, :Code, :Coffee, :Coin, :Color, :Commerce, :Company, :Compass, :Computer, :Config, :Construction, :Cosmere, :Creature, :Crypto, :CryptoCoin, :Currency, :Date, :DcComics, :Demographic, :Dessert, :Device, :DrivingLicence, :Drone, :Educator, :ElectricalComponents, :Emotion, :Esport, :Fantasy, :File, :Finance, :Food, :FunnyName, :Game, :Games, :Gender, :GreekPhilosophers, :HTML, :Hacker, :Hipster, :Hobby, :House, :IDNumber, :IndustrySegments, :Internet, :InvalidStatePassed, :Invoice, :JapaneseMedia, :Job, :Json, :Kpop, :Lorem, :LoremFlickr, :Markdown, :Marketing, :Measurement, :Military, :Mountain, :Movie, :Movies, :Music, :Name, :Nation, :NationalHealthService, :NatoPhoneticAlphabet, :Number, :Omniauth, :PhoneNumber, :Placeholdit, :ProgrammingLanguage, :Quote, :Quotes, :Relationship, :Religion, :Restaurant, :Science, :Show, :SlackEmoji, :Source, :SouthAfrica, :Space, :Sport, :Sports, :String, :Stripe, :Subscription, :Superhero, :Tea, :Team, :Time, :Travel, :TvShows, :Twitter, :Types, :UniqueGenerator, :University, :VERSION, :Vehicle, :Verb, :VulnerabilityIdentifier, :WorldCup]\n",
      "Bass Guitar\n",
      "Manuel Neuer\n"
     ]
    }
   ],
   "source": [
    "#rubygems.org\n",
    "#   COMMANDS\n",
    "\n",
    "# gem -v \n",
    "\n",
    "#  use faker gem\n",
    "#  gem install faker\n",
    "#  gem update --system\n",
    "#  gem uninstall faker\n",
    "\n",
    "#  create Gemfile (used with bundle install)\n",
    "#   source \"https://rubygems.org\"\n",
    "#   gem \"faker\", \"~> 3.2.1\"   (~> like +, or leave \"3.2.0\")\n",
    "#   gem \"1\"\n",
    "#   gem \"2\"\n",
    "\n",
    "#  Gemfile.lock created \n",
    "\n",
    "# bundle install \n",
    "\n",
    "\n",
    "\n",
    "require \"faker\"\n",
    "\n",
    "puts Faker.class\n",
    "puts Faker::Name.class\n",
    "puts Faker::Name.name\n",
    "puts Faker::Name.first_name\n",
    "puts Faker::Name.last_name\n",
    "\n",
    "#p Faker.constants.sort\n",
    "\n",
    "puts Faker::Music.instrument\n",
    "puts Faker::Sports::Football.player"
   ]
  },
  {
   "cell_type": "code",
   "execution_count": null,
   "id": "fae65198",
   "metadata": {},
   "outputs": [],
   "source": []
  },
  {
   "cell_type": "code",
   "execution_count": null,
   "id": "e6fe6bc5",
   "metadata": {},
   "outputs": [],
   "source": []
  }
 ],
 "metadata": {
  "kernelspec": {
   "display_name": "Ruby 3.2.2",
   "language": "ruby",
   "name": "ruby"
  },
  "language_info": {
   "file_extension": ".rb",
   "mimetype": "application/x-ruby",
   "name": "ruby",
   "version": "3.2.2"
  }
 },
 "nbformat": 4,
 "nbformat_minor": 5
}
