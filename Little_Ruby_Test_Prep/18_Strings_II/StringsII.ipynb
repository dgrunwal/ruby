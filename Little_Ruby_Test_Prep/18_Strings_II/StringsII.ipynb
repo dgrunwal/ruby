{
 "cells": [
  {
   "cell_type": "code",
   "execution_count": 1,
   "id": "571d3749",
   "metadata": {},
   "outputs": [
    {
     "name": "stdout",
     "output_type": "stream",
     "text": [
      "[\"Hi,\", \"my\", \"name\", \"is\", \"Boris.\", \"My\", \"favorite\", \"hobby\", \"is\", \"coding!\"]\n",
      "[\"Hi,\", \"my\", \"name\", \"is\", \"Boris.\", \"My\", \"favorite\", \"hobby\", \"is\", \"coding!\"]\n",
      "[\"Hi, my name is Boris\", \" My favorite hobby is coding!\"]\n",
      "[\"Hi, my name is B\", \"ris. My fav\", \"rite h\", \"bby is c\", \"ding!\"]\n",
      "\n",
      "Currently, I'm on the word Hi,!\n",
      "It has 3 characters!\n",
      "Currently, I'm on the word my!\n",
      "It has 2 characters!\n",
      "Currently, I'm on the word name!\n",
      "It has 4 characters!\n",
      "Currently, I'm on the word is!\n",
      "It has 2 characters!\n",
      "Currently, I'm on the word Boris.!\n",
      "It has 6 characters!\n",
      "Currently, I'm on the word My!\n",
      "It has 2 characters!\n",
      "Currently, I'm on the word favorite!\n",
      "It has 8 characters!\n",
      "Currently, I'm on the word hobby!\n",
      "It has 5 characters!\n",
      "Currently, I'm on the word is!\n",
      "It has 2 characters!\n",
      "Currently, I'm on the word coding!!\n",
      "It has 7 characters!\n"
     ]
    },
    {
     "data": {
      "text/plain": [
       "[\"Hi,\", \"my\", \"name\", \"is\", \"Boris.\", \"My\", \"favorite\", \"hobby\", \"is\", \"coding!\"]"
      ]
     },
     "execution_count": 1,
     "metadata": {},
     "output_type": "execute_result"
    }
   ],
   "source": [
    "sentences = \"Hi, my name is Boris. My favorite hobby is coding!\"\n",
    "\n",
    "p sentences.split\n",
    "p sentences.split(\" \")\n",
    "p sentences.split(\".\")\n",
    "p sentences.split(\"o\")\n",
    "\n",
    "puts\n",
    "\n",
    "sentences.split(\" \").each do |word|\n",
    "  puts \"Currently, I'm on the word #{word}!\"\n",
    "  puts \"It has #{word.length} characters!\"\n",
    "end"
   ]
  },
  {
   "cell_type": "code",
   "execution_count": 3,
   "id": "586e459a",
   "metadata": {},
   "outputs": [
    {
     "name": "stderr",
     "output_type": "stream",
     "text": [
      "(irb): warning: already initialized constant Object::CM_PER_INCH\n"
     ]
    },
    {
     "name": "stdout",
     "output_type": "stream",
     "text": [
      "2.54\n",
      "3.54\n"
     ]
    }
   ],
   "source": [
    "CM_PER_INCH = 2.54\n",
    "puts CM_PER_INCH\n",
    "puts CM_PER_INCH + 1"
   ]
  },
  {
   "cell_type": "code",
   "execution_count": 4,
   "id": "ec21c110",
   "metadata": {},
   "outputs": [
    {
     "name": "stdout",
     "output_type": "stream",
     "text": [
      "[\"Hi,\", \"my\", \"name\", \"is\", \"Boris.\", \"My\", \"favorite\", \"hobby\", \"is\", \"coding!\"]\n",
      "[\"Hi,\", \"my\", \"name\", \"is\", \"Boris.\", \"My\", \"favorite\", \"hobby\", \"is\", \"coding!\"]\n",
      "[\"Hi, my name is Boris\", \" My favorite hobby is coding!\"]\n",
      "[\"Hi, my name is B\", \"ris. My fav\", \"rite h\", \"bby is c\", \"ding!\"]\n",
      "\n",
      "Currently, I'm on the word Hi,!\n",
      "It has 3 characters!\n",
      "Currently, I'm on the word my!\n",
      "It has 2 characters!\n",
      "Currently, I'm on the word name!\n",
      "It has 4 characters!\n",
      "Currently, I'm on the word is!\n",
      "It has 2 characters!\n",
      "Currently, I'm on the word Boris.!\n",
      "It has 6 characters!\n",
      "Currently, I'm on the word My!\n",
      "It has 2 characters!\n",
      "Currently, I'm on the word favorite!\n",
      "It has 8 characters!\n",
      "Currently, I'm on the word hobby!\n",
      "It has 5 characters!\n",
      "Currently, I'm on the word is!\n",
      "It has 2 characters!\n",
      "Currently, I'm on the word coding!!\n",
      "It has 7 characters!\n"
     ]
    },
    {
     "data": {
      "text/plain": [
       "[\"Hi,\", \"my\", \"name\", \"is\", \"Boris.\", \"My\", \"favorite\", \"hobby\", \"is\", \"coding!\"]"
      ]
     },
     "execution_count": 4,
     "metadata": {},
     "output_type": "execute_result"
    }
   ],
   "source": [
    "sentences = \"Hi, my name is Boris. My favorite hobby is coding!\"\n",
    "\n",
    "p sentences.split\n",
    "p sentences.split(\" \")\n",
    "p sentences.split(\".\")\n",
    "p sentences.split(\"o\")\n",
    "\n",
    "puts\n",
    "\n",
    "sentences.split(\" \").each do |word|\n",
    "  puts \"Currently, I'm on the word #{word}!\"\n",
    "  puts \"It has #{word.length} characters!\"\n",
    "end"
   ]
  },
  {
   "cell_type": "code",
   "execution_count": 7,
   "id": "cbdcabd1",
   "metadata": {},
   "outputs": [
    {
     "name": "stdout",
     "output_type": "stream",
     "text": [
      "kangaroos\n",
      "language\n",
      "Hello\n"
     ]
    }
   ],
   "source": [
    "def longest_word(sentence)\n",
    "  words = sentence.split(\" \")\n",
    "  longest_length = 0\n",
    "  longest_word = \"\"\n",
    "\n",
    "  words.each do |word|\n",
    "    length = word.length\n",
    "    if length >= longest_length\n",
    "      longest_length = length\n",
    "      longest_word = word\n",
    "    end\n",
    "  end\n",
    "\n",
    "  longest_word\n",
    "end\n",
    "\n",
    "# Examples\n",
    "puts longest_word(\"Bobby loves big scary kangaroos too\")  # \"kangaroos\"\n",
    "puts longest_word(\"Ruby Language is my favorite language\")         # \"language returns *last* one notice\"\n",
    "puts longest_word(\"Hello\")                                # \"Hello\"\n"
   ]
  },
  {
   "cell_type": "code",
   "execution_count": 8,
   "id": "f8d54f97",
   "metadata": {},
   "outputs": [
    {
     "name": "stdout",
     "output_type": "stream",
     "text": [
      "\"kangaroos\"\n",
      "\"language\"\n",
      "\"Hello\"\n"
     ]
    },
    {
     "data": {
      "text/plain": [
       "\"Hello\""
      ]
     },
     "execution_count": 8,
     "metadata": {},
     "output_type": "execute_result"
    }
   ],
   "source": [
    "# Define a longest_word method that accepts a string.\n",
    "# The method should return the longest word in the string.\n",
    "# If two words are tied for maximum length, the method should \n",
    "# return the last word in the phrase with that length.\n",
    "# You can assume:\n",
    "#  - Every two words are separated by a single space\n",
    "#  - The string does not contain any symbols or characters\n",
    "#\n",
    "# Examples:\n",
    "# The => indicates the expected return value\n",
    "\n",
    "def longest_word(phrase)\n",
    "  words = phrase.split(\" \")\n",
    "  longest_word_in_phrase = words[0]\n",
    "\n",
    "  words.each do |word|\n",
    "    if word.length >= longest_word_in_phrase.length\n",
    "      longest_word_in_phrase = word\n",
    "    end\n",
    "  end\n",
    "\n",
    "  longest_word_in_phrase\n",
    "end\n",
    "\n",
    "p longest_word(\"Bobby loves big scary kangaroos too\") # \"kangaroos\"\n",
    "p longest_word(\"Ruby is my favorite language\")        # \"language\" \n",
    "p longest_word(\"Hello\")                               # \"Hello\""
   ]
  },
  {
   "cell_type": "code",
   "execution_count": 9,
   "id": "75cbaf98",
   "metadata": {},
   "outputs": [
    {
     "name": "stdout",
     "output_type": "stream",
     "text": [
      "[\"S\", \"p\", \"a\", \"c\", \"e\", \"s\", \"h\", \"i\", \"p\"]\n",
      "[\"S\", \"p\", \"a\", \"c\", \"e\", \"s\", \"h\", \"i\", \"p\"]\n",
      "S is awesome\n",
      "p is awesome\n",
      "a is awesome\n",
      "c is awesome\n",
      "e is awesome\n",
      "s is awesome\n",
      "h is awesome\n",
      "i is awesome\n",
      "p is awesome\n",
      "\n",
      "S is awesome\n",
      "p is awesome\n",
      "a is awesome\n",
      "c is awesome\n",
      "e is awesome\n",
      "s is awesome\n",
      "h is awesome\n",
      "i is awesome\n",
      "p is awesome\n"
     ]
    },
    {
     "data": {
      "text/plain": [
       "\"Spaceship\""
      ]
     },
     "execution_count": 9,
     "metadata": {},
     "output_type": "execute_result"
    }
   ],
   "source": [
    "vehicle = \"Spaceship\"\n",
    "characters = vehicle.split(\"\")\n",
    "p characters\n",
    "characters = vehicle.chars\n",
    "p characters\n",
    "\n",
    "characters.each { |character| puts \"#{character} is awesome\" }\n",
    "\n",
    "puts\n",
    "\n",
    "vehicle.each_char { |character| puts \"#{character} is awesome\" }"
   ]
  },
  {
   "cell_type": "code",
   "execution_count": 13,
   "id": "7e56f8d7",
   "metadata": {},
   "outputs": [
    {
     "name": "stdout",
     "output_type": "stream",
     "text": [
      "[\"Hi,\", \"my\", \"name\", \"is\", \"Boris\"]\n",
      "[\"rav\", \"ol\", \" \", \"s del\", \"c\", \"ous\"]\n",
      "[\"Zebra\"]\n",
      "[\"hello\"]\n"
     ]
    },
    {
     "data": {
      "text/plain": [
       "[\"hello\"]"
      ]
     },
     "execution_count": 13,
     "metadata": {},
     "output_type": "execute_result"
    }
   ],
   "source": [
    "# Define a custom_split method that accepts a piece of text and a delimiter.\n",
    "# The method should return an array of the segments of the text\n",
    "# after being split by the delimiter. Your solution should NOT\n",
    "# use the built-in split method on a string. Assume that the delimiter\n",
    "# will never be an empty string.\n",
    "#\n",
    "# Examples:\n",
    "# The => indicates the expected return value\n",
    "\n",
    "def custom_split(text, delimiter)\n",
    "  results = []\n",
    "  current = \"\"\n",
    "\n",
    "  text.each_char do |character|\n",
    "    if character == delimiter\n",
    "      results << current if current.length > 0\n",
    "      current = \"\"\n",
    "    else\n",
    "      current << character\n",
    "    end\n",
    "  end\n",
    "\n",
    "  results << current if current.length > 0\n",
    "  results\n",
    "end\n",
    "\n",
    "p custom_split(\"Hi, my name is Boris\", \" \") # => [\"Hi,\", \"my\", \"name\", \"is\", \"Boris\"]\n",
    "p custom_split(\"ravioli is delicious\", \"i\") # => [\"rav\", \"ol\", \" \", \"s del\", \"c\", \"ous\"]\n",
    "p custom_split(\"Zebra\", \"j\")                # => [\"Zebra\"]\n",
    "p custom_split(\" hello\", \" \")               # => [\"hello\"]\n"
   ]
  },
  {
   "cell_type": "code",
   "execution_count": 1,
   "id": "0213c7da",
   "metadata": {},
   "outputs": [
    {
     "name": "stdout",
     "output_type": "stream",
     "text": [
      "JakeMikeyHannah\n",
      "\"Jake-Mikey-Hannah\"\n",
      "\"Jake!*!Mikey!*!Hannah\"\n",
      "\"Jake, Mikey, Hannah\"\n"
     ]
    },
    {
     "data": {
      "text/plain": [
       "\"Jake, Mikey, Hannah\""
      ]
     },
     "execution_count": 1,
     "metadata": {},
     "output_type": "execute_result"
    }
   ],
   "source": [
    "# join method - merge array elements into a string (optionally using a delimiter)\n",
    "\n",
    "registrants = [\"Jake\", \"Mikey\", \"Hannah\"]\n",
    "puts registrants.join\n",
    "p registrants.join(\"-\")\n",
    "p registrants.join(\"!*!\")\n",
    "p registrants.join(\", \")"
   ]
  },
  {
   "cell_type": "code",
   "execution_count": 2,
   "id": "b433e5af",
   "metadata": {},
   "outputs": [
    {
     "name": "stdout",
     "output_type": "stream",
     "text": [
      "red!green!blue\n",
      "Big$$Mac\n",
      "\n"
     ]
    }
   ],
   "source": [
    "def custom_join(strings, delimiter)\n",
    "  return '' if strings.empty?\n",
    "\n",
    "  result = strings[0]\n",
    "  \n",
    "  (1...strings.length).each do |i|\n",
    "    result += delimiter + strings[i]\n",
    "  end\n",
    "\n",
    "  result\n",
    "end\n",
    "\n",
    "# Test cases\n",
    "puts custom_join([\"red\", \"green\", \"blue\"], \"!\")  # Output: \"red!green!blue\"\n",
    "puts custom_join([\"Big\", \"Mac\"], \"$$\")            # Output: \"Big$$Mac\"\n",
    "puts custom_join([], \"$$$\")                        # Output: \"\"\n"
   ]
  },
  {
   "cell_type": "code",
   "execution_count": 3,
   "id": "ac45f535",
   "metadata": {},
   "outputs": [
    {
     "name": "stdout",
     "output_type": "stream",
     "text": [
      "3\n",
      "0\n",
      "5\n",
      "5\n",
      "4\n"
     ]
    }
   ],
   "source": [
    "# count method - count the number of occurrences of character(s) in a string\n",
    "\n",
    "puts \"Hello World\".count(\"l\")  # 3\n",
    "puts \"Hello World\".count(\"w\")  # 0\n",
    "puts \"Hello World\".count(\"lo\") # 5\n",
    "puts \"Hello World\".count(\"ol\") # 5\n",
    "puts \"Hello World\".count(\"Wl\") # 4"
   ]
  },
  {
   "cell_type": "code",
   "execution_count": 5,
   "id": "cb54173f",
   "metadata": {
    "scrolled": true
   },
   "outputs": [
    {
     "name": "stdout",
     "output_type": "stream",
     "text": [
      "2\n",
      "4\n",
      "4\n",
      "2\n"
     ]
    }
   ],
   "source": [
    "x = 2\n",
    "y = 4\n",
    "\n",
    "puts x\n",
    "puts y\n",
    "\n",
    "x,y = y,x # swap values \n",
    "\n",
    "puts x\n",
    "puts y\n"
   ]
  },
  {
   "cell_type": "code",
   "execution_count": 6,
   "id": "565018b3",
   "metadata": {},
   "outputs": [
    {
     "name": "stdout",
     "output_type": "stream",
     "text": [
      "1\n"
     ]
    }
   ],
   "source": [
    "z, = 1, 2, 3   #assigns first value, others discarded  (returns 1)\n",
    "puts z"
   ]
  },
  {
   "cell_type": "code",
   "execution_count": 8,
   "id": "3522cb30",
   "metadata": {},
   "outputs": [
    {
     "name": "stdout",
     "output_type": "stream",
     "text": [
      "3\n",
      "0\n",
      "0\n",
      "5\n",
      "5\n"
     ]
    }
   ],
   "source": [
    "def custom_count(original_str, search_chars)\n",
    "  count = 0\n",
    "  search_chars.each_char do |char|\n",
    "    original_str.each_char { |c| count += 1 if c == char }\n",
    "  end\n",
    "  count\n",
    "end\n",
    "\n",
    "# Examples\n",
    "puts custom_count(\"Hello World\", \"l\")    # Output: 3\n",
    "puts custom_count(\"Hello World\", \"O\")    # Output: 0\n",
    "puts custom_count(\"Hello World\", \"z\")    # Output: 0\n",
    "puts custom_count(\"Hello World\", \"lo\")   # Output: 5\n",
    "puts custom_count(\"Hello World\", \"ol\")   # Output: 5\n"
   ]
  },
  {
   "cell_type": "code",
   "execution_count": 9,
   "id": "e4441551",
   "metadata": {},
   "outputs": [
    {
     "name": "stdout",
     "output_type": "stream",
     "text": [
      "0\n",
      "6\n",
      "nil\n",
      "2\n",
      "11\n",
      "\n",
      "6\n",
      "6\n",
      "17\n",
      "\n",
      "17\n"
     ]
    },
    {
     "data": {
      "text/plain": [
       "17"
      ]
     },
     "execution_count": 9,
     "metadata": {},
     "output_type": "execute_result"
    }
   ],
   "source": [
    "# index - find index of first occurrence of substring\n",
    "\n",
    "fact = \"I am very handsome\"\n",
    "\n",
    "p fact.index(\"I\")\n",
    "p fact.index(\"e\")\n",
    "p fact.index(\"Z\")\n",
    "p fact.index(\"am\")\n",
    "p fact.index(\"and\")\n",
    "\n",
    "puts\n",
    "\n",
    "p fact.index(\"e\", 3)\n",
    "p fact.index(\"e\", 6)\n",
    "p fact.index(\"e\", 7)\n",
    "\n",
    "puts\n",
    "\n",
    "p fact.rindex(\"e\")"
   ]
  },
  {
   "cell_type": "code",
   "execution_count": 11,
   "id": "0aae73e4",
   "metadata": {},
   "outputs": [
    {
     "name": "stdout",
     "output_type": "stream",
     "text": [
      "0\n",
      "6\n",
      "\n",
      "2\n",
      "\n"
     ]
    }
   ],
   "source": [
    "def custom_index(str, search_term)\n",
    "  index = nil\n",
    "\n",
    "  (0..str.length - search_term.length).each do |i|\n",
    "    if str[i, search_term.length] == search_term\n",
    "      index = i\n",
    "      break\n",
    "    end\n",
    "  end\n",
    "\n",
    "  index\n",
    "end\n",
    "\n",
    "# Examples\n",
    "puts custom_index(\"I am very handsome\", \"I\")     # Output: 0\n",
    "puts custom_index(\"I am very handsome\", \"e\")     # Output: 6\n",
    "puts custom_index(\"I am very handsome\", \"Z\")     # Output: nil\n",
    "puts custom_index(\"I am very handsome\", \"am\")    # Output: 2\n",
    "puts custom_index(\"I am very handsome\", \"ma\")    # Output: nil\n"
   ]
  },
  {
   "cell_type": "code",
   "execution_count": 12,
   "id": "d8a98aca",
   "metadata": {},
   "outputs": [
    {
     "name": "stdout",
     "output_type": "stream",
     "text": [
      "\"ottage heese\"\n",
      "\"cottag chs\"\n",
      "\"ottag hs\"\n",
      "\"ottag hs\"\n"
     ]
    },
    {
     "data": {
      "text/plain": [
       "\"ottag hs\""
      ]
     },
     "execution_count": 12,
     "metadata": {},
     "output_type": "execute_result"
    }
   ],
   "source": [
    "# delete - remove character(s) from a string\n",
    "\n",
    "p \"cottage cheese\".delete(\"c\")\n",
    "p \"cottage cheese\".delete(\"e\")\n",
    "p \"cottage cheese\".delete(\"ce\")\n",
    "p \"cottage cheese\".delete(\"ec\")"
   ]
  },
  {
   "cell_type": "code",
   "execution_count": null,
   "id": "153eebde",
   "metadata": {},
   "outputs": [],
   "source": []
  }
 ],
 "metadata": {
  "kernelspec": {
   "display_name": "Ruby 3.2.2",
   "language": "ruby",
   "name": "ruby"
  },
  "language_info": {
   "file_extension": ".rb",
   "mimetype": "application/x-ruby",
   "name": "ruby",
   "version": "3.2.2"
  }
 },
 "nbformat": 4,
 "nbformat_minor": 5
}
