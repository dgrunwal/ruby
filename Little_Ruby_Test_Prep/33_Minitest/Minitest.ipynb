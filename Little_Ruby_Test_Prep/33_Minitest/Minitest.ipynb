{
 "cells": [
  {
   "cell_type": "code",
   "execution_count": 1,
   "id": "51b437bd",
   "metadata": {},
   "outputs": [
    {
     "data": {
      "text/plain": [
       ":test_sum_method_again"
      ]
     },
     "execution_count": 1,
     "metadata": {},
     "output_type": "execute_result"
    }
   ],
   "source": [
    "# A test is code that validates that other code\n",
    "# works as expected.\n",
    "#\n",
    "# MiniTest is a unit testing framework included in\n",
    "# the Ruby standard library.\n",
    "\n",
    "require \"minitest/autorun\"\n",
    "\n",
    "def sum(a, b)\n",
    "  a + b\n",
    "end\n",
    "\n",
    "class TestMathematics < Minitest::Test\n",
    "  def test_sum_method\n",
    "    assert_equal(5, sum(2, 3))\n",
    "  end\n",
    "\n",
    "  def test_sum_method_again\n",
    "    assert_equal(7, sum(3, 4))\n",
    "  end\n",
    "end"
   ]
  },
  {
   "cell_type": "code",
   "execution_count": null,
   "id": "f8c16d04",
   "metadata": {},
   "outputs": [],
   "source": []
  },
  {
   "cell_type": "code",
   "execution_count": 2,
   "id": "049d90b4",
   "metadata": {},
   "outputs": [
    {
     "data": {
      "text/plain": [
       ":test_type"
      ]
     },
     "execution_count": 2,
     "metadata": {},
     "output_type": "execute_result"
    }
   ],
   "source": [
    "require \"minitest/autorun\"\n",
    "\n",
    "class Pokemon\n",
    "  attr_reader :name, :type\n",
    "\n",
    "  def initialize(name, type)\n",
    "    @name = name\n",
    "    @type = type\n",
    "  end\n",
    "end\n",
    "\n",
    "class TestPokemon < Minitest::Test\n",
    "  def test_name\n",
    "    pikachu = Pokemon.new(\"Pikachu\", :electric)\n",
    "    assert_equal(\"Pikachu\", pikachu.name)\n",
    "  end\n",
    "\n",
    "  def test_type\n",
    "    pikachu = Pokemon.new(\"Pikachu\", :electric)\n",
    "    assert_equal(:electric, pikachu.type)\n",
    "  end\n",
    "end"
   ]
  },
  {
   "cell_type": "code",
   "execution_count": 5,
   "id": "aed88737",
   "metadata": {},
   "outputs": [
    {
     "data": {
      "text/plain": [
       ":test_type"
      ]
     },
     "execution_count": 5,
     "metadata": {},
     "output_type": "execute_result"
    }
   ],
   "source": [
    "require \"minitest/autorun\"\n",
    "\n",
    "class Pokemon\n",
    "  attr_reader :name, :type\n",
    "\n",
    "  def initialize(name, type)\n",
    "    @name = name\n",
    "    @type = type\n",
    "  end\n",
    "end\n",
    "\n",
    "class TestPokemon < Minitest::Test\n",
    "  def setup   # special methods\n",
    "    # Run this method before each test\n",
    "    @pikachu = Pokemon.new(\"Pikachu\", :electric)\n",
    "    # note @ makes it an instance variable\n",
    "  end\n",
    "\n",
    "  def teardown # special methods \n",
    "    # Run this method after each test\n",
    "    puts \"Test is done. Deleting Pokemon from database\"\n",
    "  end\n",
    "\n",
    "  def test_name\n",
    "    assert_equal(\"Pikachu\", @pikachu.name)\n",
    "  end\n",
    "\n",
    "  def test_type\n",
    "    assert_equal(:electric, @pikachu.type)\n",
    "  end\n",
    "end"
   ]
  },
  {
   "cell_type": "code",
   "execution_count": 9,
   "id": "ee1ae9b7",
   "metadata": {},
   "outputs": [
    {
     "data": {
      "text/plain": [
       ":test_adding_new_power"
      ]
     },
     "execution_count": 9,
     "metadata": {},
     "output_type": "execute_result"
    }
   ],
   "source": [
    "require \"minitest/autorun\"\n",
    "\n",
    "class Pokemon\n",
    "  attr_reader :name, :type, :attacks\n",
    "\n",
    "  def initialize(name, type)\n",
    "    @name = name\n",
    "    @type = type\n",
    "    @attacks = []\n",
    "  end\n",
    "\n",
    "  def add_attack(attack)\n",
    "    attacks << attack\n",
    "  end\n",
    "end\n",
    "\n",
    "class TestPokemon < Minitest::Test\n",
    "  def setup\n",
    "    # Run this method before each test\n",
    "    @pikachu = Pokemon.new(\"Pikachu\", :electric)\n",
    "  end\n",
    "\n",
    "  def teardown\n",
    "    # Run this method after each test\n",
    "  end\n",
    "\n",
    "  def test_name\n",
    "    assert_equal(\"Pikachu\", @pikachu.name)\n",
    "  end\n",
    "\n",
    "  def test_type\n",
    "    assert_equal(:electric, @pikachu.type)\n",
    "  end\n",
    "\n",
    "  def test_adding_new_power\n",
    "    @pikachu.add_attack(\"Lightning Bolt\")\n",
    "    @pikachu.add_attack(\"Electric Shock\")\n",
    "    @pikachu.add_attack(\"Shock Treatment\")\n",
    "    assert_includes(@pikachu.attacks, \"Electric Shock\")\n",
    "  end\n",
    "end\n",
    "\n",
    "=begin\n",
    "\n",
    "C:\\Ruby32\\bin>ruby assert_inclusion.rb\n",
    "Run options: --seed 39064\n",
    "\n",
    "# Running:\n",
    "\n",
    "...\n",
    "\n",
    "Finished in 0.006699s, 447.8214 runs/s, 597.0951 assertions/s.\n",
    "\n",
    "3 runs, 4 assertions, 0 failures, 0 errors, 0 skips\n",
    "\n",
    "=end\n"
   ]
  },
  {
   "cell_type": "code",
   "execution_count": 1,
   "id": "95ee890c",
   "metadata": {},
   "outputs": [
    {
     "data": {
      "text/plain": [
       ":test_adding_fake_power"
      ]
     },
     "execution_count": 1,
     "metadata": {},
     "output_type": "execute_result"
    }
   ],
   "source": [
    "require \"minitest/autorun\"\n",
    "\n",
    "class InvalidAttackError < StandardError\n",
    "end\n",
    "\n",
    "class Pokemon\n",
    "  attr_reader :name, :type, :attacks\n",
    "\n",
    "  def initialize(name, type)\n",
    "    @name = name\n",
    "    @type = type\n",
    "    @attacks = []\n",
    "  end\n",
    "\n",
    "  def add_attack(attack)\n",
    "    raise InvalidAttackError unless attack.is_a?(String)\n",
    "    attacks << attack\n",
    "  end\n",
    "end\n",
    "\n",
    "class TestPokemon < Minitest::Test\n",
    "  def setup\n",
    "    # Run this method before each test\n",
    "    @pikachu = Pokemon.new(\"Pikachu\", :electric)\n",
    "  end\n",
    "\n",
    "  def teardown\n",
    "    # Run this method after each test\n",
    "  end\n",
    "\n",
    "  def test_name\n",
    "    assert_equal(\"Pikachu\", @pikachu.name)\n",
    "  end\n",
    "\n",
    "  def test_type\n",
    "    assert_equal(:electric, @pikachu.type)\n",
    "  end\n",
    "\n",
    "  def test_adding_new_power\n",
    "    @pikachu.add_attack(\"Lightning Bolt\")\n",
    "    @pikachu.add_attack(\"Electric Shock\")\n",
    "    @pikachu.add_attack(\"Shock Treatment\")\n",
    "    assert_includes(@pikachu.attacks, \"Electric Shock\")\n",
    "  end\n",
    "\n",
    "  def test_adding_fake_power  #allows program to continue \n",
    "    assert_raises(InvalidAttackError) do\n",
    "      @pikachu.add_attack(15)\n",
    "    end\n",
    "  end\n",
    "end"
   ]
  },
  {
   "cell_type": "code",
   "execution_count": null,
   "id": "cd96fe3e",
   "metadata": {},
   "outputs": [],
   "source": [
    "require \"minitest/autorun\"\n",
    "\n",
    "class InvalidAttackError < StandardError\n",
    "end\n",
    "\n",
    "class Pokemon\n",
    "  attr_reader :name, :type, :attacks\n",
    "\n",
    "  def initialize(name, type)\n",
    "    @name = name\n",
    "    @type = type\n",
    "    @attacks = []\n",
    "  end\n",
    "\n",
    "  def add_attack(attack)\n",
    "    raise InvalidAttackError unless attack.is_a?(String)\n",
    "    attacks << attack\n",
    "  end\n",
    "end\n",
    "\n",
    "class TestPokemon < Minitest::Test\n",
    "  def setup\n",
    "    # Run this method before each test\n",
    "    @pikachu = Pokemon.new(\"Pikachu\", :electric)\n",
    "  end\n",
    "\n",
    "  def teardown\n",
    "    # Run this method after each test\n",
    "  end\n",
    "\n",
    "  def test_name\n",
    "    assert_equal(\"Pikachu\", @pikachu.name, \"The Pokemon object did not assign its name correctly\")\n",
    "  end\n",
    "\n",
    "  def test_type\n",
    "    assert_equal(:electric, @pikachu.type, \"The Pokemon object did not assign its type correctly\")\n",
    "  end\n",
    "\n",
    "  def test_adding_new_power\n",
    "    @pikachu.add_attack(\"Lightning Bolt\")\n",
    "    @pikachu.add_attack(\"Electric Shock\")\n",
    "    @pikachu.add_attack(\"Shock Treatment\")\n",
    "    assert_includes(@pikachu.attacks, \"Electric Shock\", \"The add_attack method did not correctly add a power to the Pokemon's attack collection\")\n",
    "  end\n",
    "\n",
    "  def test_adding_fake_power\n",
    "    assert_raises(InvalidAttackError, \"Adding a non-string attack should have triggered an error but did not\") do\n",
    "      @pikachu.add_attack(15)\n",
    "    end\n",
    "  end\n",
    "end"
   ]
  }
 ],
 "metadata": {
  "kernelspec": {
   "display_name": "Ruby 3.2.2",
   "language": "ruby",
   "name": "ruby"
  },
  "language_info": {
   "file_extension": ".rb",
   "mimetype": "application/x-ruby",
   "name": "ruby",
   "version": "3.2.2"
  }
 },
 "nbformat": 4,
 "nbformat_minor": 5
}
