{
 "cells": [
  {
   "cell_type": "code",
   "execution_count": 1,
   "id": "96c233d9",
   "metadata": {},
   "outputs": [
    {
     "name": "stdout",
     "output_type": "stream",
     "text": [
      "1\n",
      "2\n",
      "3\n",
      "4\n",
      "5\n",
      "6\n",
      "7\n",
      "8\n",
      "9\n",
      "\n",
      "10\n",
      "a\n",
      "aa\n",
      "aaa\n",
      "aaaa\n"
     ]
    }
   ],
   "source": [
    "# Loop - a series of instructions that is repeated until a\n",
    "# terminating condition is reached.\n",
    "\n",
    "count = 1\n",
    "\n",
    "while count < 10\n",
    "  puts count\n",
    "  count += 1 # 10\n",
    "end\n",
    "\n",
    "puts\n",
    "puts count\n",
    "\n",
    "letters = \"a\"\n",
    "\n",
    "while letters.length < 5\n",
    "  puts letters\n",
    "  letters << \"a\"\n",
    "end\n",
    "\n",
    "# while true\n",
    "\n",
    "# end"
   ]
  },
  {
   "cell_type": "code",
   "execution_count": null,
   "id": "3183a8c1",
   "metadata": {},
   "outputs": [],
   "source": [
    "In Ruby, there are several ways to create loops. Here are some examples:\n",
    "\n",
    "### 1. **`while` loop:**\n",
    "   ```ruby\n",
    "   i = 0\n",
    "   while i < 5 do\n",
    "     puts i\n",
    "     i += 1\n",
    "   end\n",
    "   ```\n",
    "\n",
    "### 2. **`for` loop:**\n",
    "   ```ruby\n",
    "   for i in 0..4 do\n",
    "     puts i\n",
    "   end\n",
    "   ```\n",
    "\n",
    "### 3. **`each` loop:**\n",
    "   ```ruby\n",
    "   (0..4).each do |i|\n",
    "     puts i\n",
    "   end\n",
    "   ```\n",
    "\n",
    "### 4. **`times` loop:**\n",
    "   ```ruby\n",
    "   5.times do |i|\n",
    "     puts i\n",
    "   end\n",
    "   ```\n",
    "\n",
    "### 5. **`until` loop:**\n",
    "   ```ruby\n",
    "   i = 0\n",
    "   until i == 5 do\n",
    "     puts i\n",
    "     i += 1\n",
    "   end\n",
    "   ```\n",
    "\n",
    "### 6. **Loop control keywords (`break`, `next`, `redo`):**\n",
    "   - `break`: Exits the loop.\n",
    "   - `next`: Skips the current iteration and moves to the next one.\n",
    "   - `redo`: Restarts the current iteration.\n",
    "\n",
    "### 7. **Nested Loops:**\n",
    "   ```ruby\n",
    "   for i in 1..3 do\n",
    "     for j in 1..3 do\n",
    "       puts \"#{i} * #{j} = #{i * j}\"\n",
    "     end\n",
    "   end\n",
    "   ```\n",
    "\n",
    "### 8. **Looping through arrays/hashes:**\n",
    "   ```ruby\n",
    "   array = [1, 2, 3, 4, 5]\n",
    "   array.each do |num|\n",
    "     puts num\n",
    "   end\n",
    "\n",
    "   hash = { a: 1, b: 2, c: 3 }\n",
    "   hash.each do |key, value|\n",
    "     puts \"#{key}: #{value}\"\n",
    "   end\n",
    "   ```\n",
    "\n",
    "These examples demonstrate different types of loops available in Ruby, providing flexibility in executing repetitive tasks or iterating through collections."
   ]
  },
  {
   "cell_type": "code",
   "execution_count": 2,
   "id": "22a6161e",
   "metadata": {},
   "outputs": [
    {
     "name": "stdout",
     "output_type": "stream",
     "text": [
      "a: 1\n",
      "b: 2\n",
      "c: 3\n"
     ]
    },
    {
     "data": {
      "text/plain": [
       "{:a=>1, :b=>2, :c=>3}"
      ]
     },
     "execution_count": 2,
     "metadata": {},
     "output_type": "execute_result"
    }
   ],
   "source": [
    " hash = { a: 1, b: 2, c: 3 }\n",
    "   hash.each do |key, value|\n",
    "     puts \"#{key}: #{value}\"\n",
    "   end"
   ]
  },
  {
   "cell_type": "code",
   "execution_count": 1,
   "id": "b5c970cb",
   "metadata": {},
   "outputs": [
    {
     "name": "stdout",
     "output_type": "stream",
     "text": [
      "1\n",
      "2\n",
      "3\n",
      "4\n",
      "5\n",
      "6\n",
      "7\n",
      "8\n",
      "9\n",
      "10\n"
     ]
    }
   ],
   "source": [
    "# a while loop executes while a condition is true\n",
    "# an until loop executes until a condition is true\n",
    "\n",
    "i = 1\n",
    "\n",
    "until i > 9\n",
    "  puts i\n",
    "  i += 1 # 10\n",
    "end\n",
    "\n",
    "puts i"
   ]
  },
  {
   "cell_type": "code",
   "execution_count": 3,
   "id": "eeecb8b3",
   "metadata": {},
   "outputs": [
    {
     "name": "stdout",
     "output_type": "stream",
     "text": [
      "1\n",
      "2\n",
      "Fizz\n",
      "4\n",
      "Buzz\n",
      "Fizz\n",
      "7\n",
      "8\n",
      "Fizz\n",
      "Buzz\n",
      "11\n",
      "Fizz\n",
      "13\n",
      "14\n",
      "FizzBuzz\n",
      "16\n",
      "17\n",
      "Fizz\n",
      "19\n",
      "Buzz\n",
      "Fizz\n",
      "22\n",
      "23\n",
      "Fizz\n",
      "Buzz\n",
      "26\n",
      "Fizz\n",
      "28\n",
      "29\n",
      "FizzBuzz\n"
     ]
    }
   ],
   "source": [
    "# FizzBuzz is a popular programming problem to test a developer's\n",
    "# ability to think logically with code.\n",
    "#\n",
    "# The problem is simple but deceptive.\n",
    "#\n",
    "# Define a fizzbuzz method that accepts a single number. \n",
    "# The method should output every number from 1 to that argument. \n",
    "#\n",
    "# There are a couple caveats.\n",
    "# If the number is divisible by 3, output \"Fizz\" instead of the number.\n",
    "# If the number is divisible by 5, output \"Buzz\" instead of the number.\n",
    "# If the number is divisible by both 3 and 5, output \"FizzBuzz\" instead of the number.\n",
    "# If the number is not divisible by either 3 or 5, just output the number.\n",
    "#\n",
    "# Example: fizzbuzz(30) should print:\n",
    "#\n",
    "# 1\n",
    "# 2\n",
    "# Fizz\n",
    "# 4x  \n",
    "# Buzz\n",
    "# Fizz\n",
    "# 7\n",
    "# 8\n",
    "# Fizz\n",
    "# Buzz\n",
    "# 11\n",
    "# Fizz\n",
    "# 13\n",
    "# 14\n",
    "# FizzBuzz\n",
    "# 16\n",
    "# 17\n",
    "# Fizz\n",
    "# 19\n",
    "# Buzz\n",
    "# Fizz\n",
    "# 22\n",
    "# 23\n",
    "# Fizz\n",
    "# Buzz\n",
    "# 26\n",
    "# Fizz\n",
    "# 28\n",
    "# 29\n",
    "# FizzBuzz\n",
    "\n",
    "def fizzbuzz(number)\n",
    "  i = 1\n",
    "\n",
    "  while i <= number\n",
    "    if i % 3 == 0 && i % 5 == 0\n",
    "      puts \"FizzBuzz\"\n",
    "    elsif i % 3 == 0\n",
    "      puts \"Fizz\"\n",
    "    elsif i % 5 == 0\n",
    "      puts \"Buzz\"\n",
    "    else\n",
    "      puts i\n",
    "    end\n",
    "\n",
    "    i += 1\n",
    "  end\n",
    "end\n",
    "fizzbuzz(30)"
   ]
  },
  {
   "cell_type": "code",
   "execution_count": 4,
   "id": "ea9ca6b6",
   "metadata": {},
   "outputs": [
    {
     "name": "stdout",
     "output_type": "stream",
     "text": [
      "Found $ at index 7\n",
      "Found $ at index 25\n",
      "Found $ at index 49\n"
     ]
    }
   ],
   "source": [
    "# next - move automatically to the next iteration of a loop\n",
    "\n",
    "money_sentence = \"I love $ in the morning, $ in the afternoon, and $ at night\"\n",
    "\n",
    "current_index = 0\n",
    "final_index = money_sentence.length - 1 # 40\n",
    "\n",
    "while current_index <= final_index # 7 <= 40\n",
    "  if money_sentence[current_index] != \"$\" # false\n",
    "    current_index += 1\n",
    "    next\n",
    "  end\n",
    "\n",
    "  puts \"Found $ at index #{current_index}\"\n",
    "  current_index += 1\n",
    "end\n"
   ]
  },
  {
   "cell_type": "code",
   "execution_count": 5,
   "id": "5834fa4e",
   "metadata": {},
   "outputs": [
    {
     "name": "stdout",
     "output_type": "stream",
     "text": [
      "7\n"
     ]
    }
   ],
   "source": [
    "# next - move automatically to the next iteration of a loop\n",
    "# break - terminates the loop completely\n",
    "\n",
    "money_sentence = \"I love $ in the morning, $ in the afternoon, and $ at night\"\n",
    "\n",
    "current_index = 0\n",
    "final_index = money_sentence.length - 1\n",
    "first_money_index = nil\n",
    "\n",
    "while current_index <= final_index\n",
    "  if money_sentence[current_index] == \"$\"\n",
    "    first_money_index = current_index\n",
    "    break\n",
    "  end\n",
    "\n",
    "  current_index += 1\n",
    "end\n",
    "\n",
    "puts first_money_index\n",
    "\n",
    "\n"
   ]
  },
  {
   "cell_type": "code",
   "execution_count": 6,
   "id": "36dfbb60",
   "metadata": {},
   "outputs": [
    {
     "name": "stdout",
     "output_type": "stream",
     "text": [
      "120\n"
     ]
    }
   ],
   "source": [
    "# recursion is when a method calls itself\n",
    "# base case - condition that tells the recursion to stop\n",
    "\n",
    "# factorials\n",
    "# 5! = 5 * 4 * 3 * 2 * 1 = 120\n",
    "\n",
    "def factorial(number)\n",
    "  return 1 if number == 1\n",
    "  number * factorial(number - 1)\n",
    "end\n",
    "\n",
    "puts factorial(5)\n",
    "\n",
    "# First Layer:  5 * 24 = 120\n",
    "\n",
    "\n",
    "# 5 * 4!\n",
    "#     4 * 3!\n",
    "#         3 * 2!\n",
    "#             2 * 1!\n",
    "\n",
    "# 4! = 4 * 3 * 2 * 1     = 24\n",
    "# 3! = 3 * 2 * 1         = 6\n",
    "# 2! = 2 * 1             = 2\n",
    "# 1! = 1                 = 1"
   ]
  },
  {
   "cell_type": "code",
   "execution_count": 7,
   "id": "f4b15658",
   "metadata": {},
   "outputs": [
    {
     "name": "stdout",
     "output_type": "stream",
     "text": [
      "warts\n"
     ]
    }
   ],
   "source": [
    "# puts \"straw\".reverse\n",
    "\n",
    "# def reverse(text)\n",
    "#   first_index = 0\n",
    "#   last_index = text.length - 1 # 4\n",
    "#   reversed_text = \"\" # w\n",
    "\n",
    "#   while last_index >= first_index # 0 >= 0\n",
    "#     reversed_text += text[last_index] # warts\n",
    "#     last_index -= 1\n",
    "#   end\n",
    "\n",
    "#   reversed_text\n",
    "# end\n",
    "\n",
    "def reverse(text) # stra\n",
    "  return text if text.length == 1\n",
    "  last_character = text[-1] # a\n",
    "  remainder = text[0, text.length - 1] # str\n",
    "  last_character + reverse(remainder) # w + reverse(stra)\n",
    "end\n",
    "\n",
    "# reverse(straw)\n",
    "#  warts\n",
    "#        \n",
    "#                \n",
    "#                      \n",
    "\n",
    "puts reverse(\"straw\")"
   ]
  },
  {
   "cell_type": "code",
   "execution_count": null,
   "id": "1f02f532",
   "metadata": {},
   "outputs": [],
   "source": []
  },
  {
   "cell_type": "code",
   "execution_count": null,
   "id": "61925749",
   "metadata": {},
   "outputs": [],
   "source": []
  }
 ],
 "metadata": {
  "kernelspec": {
   "display_name": "Ruby 3.2.2",
   "language": "ruby",
   "name": "ruby"
  },
  "language_info": {
   "file_extension": ".rb",
   "mimetype": "application/x-ruby",
   "name": "ruby",
   "version": "3.2.2"
  }
 },
 "nbformat": 4,
 "nbformat_minor": 5
}
