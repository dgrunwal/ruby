{
 "cells": [
  {
   "cell_type": "code",
   "execution_count": 1,
   "id": "47b7c86b",
   "metadata": {
    "scrolled": true
   },
   "outputs": [
    {
     "name": "stdout",
     "output_type": "stream",
     "text": [
      "[3, 2, 1]\n",
      "[false, false, true, true]\n",
      "[42, 23, 16, 15, 8, 4]\n"
     ]
    },
    {
     "data": {
      "text/plain": [
       "[42, 23, 16, 15, 8, 4]"
      ]
     },
     "execution_count": 1,
     "metadata": {},
     "output_type": "execute_result"
    }
   ],
   "source": [
    "# reverse - returns a new array with elements in reverse order\n",
    "\n",
    "p [1, 2, 3].reverse\n",
    "p [true, true, false, false].reverse\n",
    "\n",
    "queue = [4, 8, 15, 16, 23, 42]\n",
    "queue.reverse!\n",
    "p queue\n"
   ]
  },
  {
   "cell_type": "code",
   "execution_count": null,
   "id": "2a154ee3",
   "metadata": {},
   "outputs": [],
   "source": [
    "# sort method - sorts an array in ascending/alphabetical order\n",
    "\n",
    "p [2, 3, 1].sort\n",
    "p [2, 3, 1].sort.reverse\n",
    "\n",
    "p [\"Hello\", \"Blah\", \"Zebra\"].sort\n",
    "p [\"Hello\", \"Blah\", \"Zebra\"].sort.reverse\n",
    "p [\"Hello\", \"zebra\", \"Blah\", \"Zebra\", \"artist\"].sort\n",
    "\n",
    "# A-Z comes before a-z"
   ]
  },
  {
   "cell_type": "code",
   "execution_count": 2,
   "id": "036957a5",
   "metadata": {},
   "outputs": [
    {
     "name": "stdout",
     "output_type": "stream",
     "text": [
      "[1, 8, 3, 2, 9]\n",
      "[1, 8, 3, 2, 9]\n"
     ]
    },
    {
     "data": {
      "text/plain": [
       "[1, 8, 3, 2, 9]"
      ]
     },
     "execution_count": 2,
     "metadata": {},
     "output_type": "execute_result"
    }
   ],
   "source": [
    "# uniq method - return a new array without duplicates\n",
    "numbers = [1, 8, 3, 2, 3, 8, 1, 8, 9]\n",
    "p numbers.uniq\n",
    "\n",
    "numbers.uniq!\n",
    "p numbers"
   ]
  },
  {
   "cell_type": "code",
   "execution_count": 7,
   "id": "c1ad642c",
   "metadata": {},
   "outputs": [
    {
     "name": "stdout",
     "output_type": "stream",
     "text": [
      "[1, 2, 3.14, false]\n",
      "[1, 2, 3]\n",
      "[]\n",
      "[\"Football\", \"Soccer\", \"Baseball\"]\n",
      "[\"Football\", \"Soccer\", nil, \"Baseball\", nil]\n"
     ]
    },
    {
     "data": {
      "text/plain": [
       "[\"Football\", \"Soccer\", nil, \"Baseball\", nil]"
      ]
     },
     "execution_count": 7,
     "metadata": {},
     "output_type": "execute_result"
    }
   ],
   "source": [
    "# compact method - removes all nil values from an array\n",
    "p [1, nil, 2, nil, 3.14, false, nil].compact\n",
    "p [1, 2, 3].compact\n",
    "p [].compact\n",
    "\n",
    "sports = [\"Football\", \"Soccer\", nil, \"Baseball\", nil]\n",
    "p sports.compact\n",
    "p sports"
   ]
  },
  {
   "cell_type": "code",
   "execution_count": 8,
   "id": "43f69df5",
   "metadata": {},
   "outputs": [
    {
     "name": "stdout",
     "output_type": "stream",
     "text": [
      "60\n",
      "60\n",
      "{\"Red\"=>2, \"Blue\"=>1}\n"
     ]
    },
    {
     "data": {
      "text/plain": [
       "{\"Red\"=>2, \"Blue\"=>1}"
      ]
     },
     "execution_count": 8,
     "metadata": {},
     "output_type": "execute_result"
    }
   ],
   "source": [
    "# inject/reduce methods - derive a new value by combining all array elements \n",
    "\n",
    "# first block variable - the \"aggregate\" value, the value being calculated\n",
    "# second block variable - the current array element\n",
    "# block calculation - what to send to next loop as the \"aggregate\" value\n",
    "\n",
    "p [10, 20, 30].reduce(0) { |sum, number| sum + number }\n",
    "p [10, 20, 30].inject(0) { |sum, number| sum + number }\n",
    "\n",
    "# element = 10, sum = 0, number = 10, sum + number = 10\n",
    "# element = 20, sum = 10, number = 20, sum + number = 30\n",
    "# element = 30, sum = 30, number = 30, sum + number = 60\n",
    "\n",
    "color_counts = [\"Red\", \"Blue\", \"Red\"].inject({}) do |counts, color|\n",
    "  if counts[color].nil?\n",
    "    counts[color] = 1\n",
    "  else\n",
    "    counts[color] += 1\n",
    "  end\n",
    "  counts\n",
    "end\n",
    "\n",
    "p color_counts"
   ]
  },
  {
   "cell_type": "code",
   "execution_count": 9,
   "id": "99987c9b",
   "metadata": {},
   "outputs": [
    {
     "name": "stdout",
     "output_type": "stream",
     "text": [
      "The sum of the numbers is: 15\n"
     ]
    }
   ],
   "source": [
    "# Define an array of numbers, no differences between reduce and inject\n",
    "numbers = [1, 2, 3, 4, 5]\n",
    "\n",
    "# Use reduce to find the sum of elements\n",
    "sum = numbers.reduce(0) { |accumulator, current_value| accumulator + current_value }\n",
    "\n",
    "puts \"The sum of the numbers is: #{sum}\"\n"
   ]
  },
  {
   "cell_type": "code",
   "execution_count": 10,
   "id": "11a7db34",
   "metadata": {},
   "outputs": [
    {
     "name": "stdout",
     "output_type": "stream",
     "text": [
      "The product of the numbers is: 120\n"
     ]
    }
   ],
   "source": [
    "# Define an array of numbers\n",
    "numbers = [1, 2, 3, 4, 5]\n",
    "\n",
    "# Use reduce to find the product of elements\n",
    "product = numbers.reduce(1, :*)\n",
    "\n",
    "puts \"The product of the numbers is: #{product}\"\n"
   ]
  },
  {
   "cell_type": "code",
   "execution_count": 11,
   "id": "b5eb6317",
   "metadata": {},
   "outputs": [
    {
     "name": "stdout",
     "output_type": "stream",
     "text": [
      "The sum of the numbers is: 15\n"
     ]
    }
   ],
   "source": [
    "# Define an array of numbers\n",
    "numbers = [1, 2, 3, 4, 5]\n",
    "\n",
    "# Use inject to find the sum of elements\n",
    "sum = numbers.inject(0) { |accumulator, current_value| accumulator + current_value }\n",
    "\n",
    "puts \"The sum of the numbers is: #{sum}\"\n"
   ]
  },
  {
   "cell_type": "code",
   "execution_count": 12,
   "id": "6a3e76aa",
   "metadata": {},
   "outputs": [
    {
     "name": "stdout",
     "output_type": "stream",
     "text": [
      "The product of the numbers is: 120\n"
     ]
    }
   ],
   "source": [
    "# Define an array of numbers\n",
    "numbers = [1, 2, 3, 4, 5]\n",
    "\n",
    "# Use inject to find the product of elements\n",
    "product = numbers.inject(1, :*)\n",
    "\n",
    "puts \"The product of the numbers is: #{product}\"\n"
   ]
  },
  {
   "cell_type": "code",
   "execution_count": 13,
   "id": "7ffe5403",
   "metadata": {},
   "outputs": [
    {
     "name": "stdout",
     "output_type": "stream",
     "text": [
      "[\"Joe\", \"Bob\", \"Keith\", \"Cam\", \"Holly\", \"Rick\", \"Molly\"]\n"
     ]
    },
    {
     "data": {
      "text/plain": [
       "[\"Joe\", \"Bob\", \"Keith\", \"Cam\", \"Holly\", \"Rick\", \"Molly\"]"
      ]
     },
     "execution_count": 13,
     "metadata": {},
     "output_type": "execute_result"
    }
   ],
   "source": [
    "# flatten method - create a 1-dimensional array (no nested arrays)\n",
    "\n",
    "party_attendees = [\n",
    "  \"Joe\",\n",
    "  [\"Bob\", [\"Keith\"], \"Cam\"],\n",
    "  \"Holly\",\n",
    "  [\"Rick\", [[\"Molly\"]]]\n",
    "]\n",
    "\n",
    "p party_attendees.flatten"
   ]
  },
  {
   "cell_type": "code",
   "execution_count": 15,
   "id": "42074466",
   "metadata": {},
   "outputs": [
    {
     "name": "stdout",
     "output_type": "stream",
     "text": [
      "\"Vanilla\"\n",
      "\n",
      "[\"Strawberry\"]\n",
      "[\"Cookies and Cream\", \"Vanilla\"]\n",
      "[\"Vanilla\", \"Chocolate\", \"Cookies and Cream\"]\n",
      "[\"Vanilla\", \"Cookies and Cream\", \"Strawberry\", \"Chocolate\"]\n",
      "[\"Vanilla\", \"Cookies and Cream\", \"Strawberry\", \"Chocolate\"]\n"
     ]
    },
    {
     "data": {
      "text/plain": [
       "[\"Vanilla\", \"Cookies and Cream\", \"Strawberry\", \"Chocolate\"]"
      ]
     },
     "execution_count": 15,
     "metadata": {},
     "output_type": "execute_result"
    }
   ],
   "source": [
    "# sample method - extract one or more random elements from an array\n",
    "flavors = [\"Chocolate\", \"Vanilla\", \"Strawberry\", \"Cookies and Cream\"]\n",
    "\n",
    "p flavors.sample\n",
    "puts\n",
    "\n",
    "p flavors.sample(1)\n",
    "p flavors.sample(2)\n",
    "p flavors.sample(3)\n",
    "p flavors.sample(4)\n",
    "p flavors.sample(10)"
   ]
  },
  {
   "cell_type": "code",
   "execution_count": 16,
   "id": "363c8ec0",
   "metadata": {},
   "outputs": [
    {
     "name": "stdout",
     "output_type": "stream",
     "text": [
      "12\n",
      "RubyRubyRuby\n",
      "[\"A\", \"B\", \"C\", \"A\", \"B\", \"C\", \"A\", \"B\", \"C\"]\n"
     ]
    },
    {
     "data": {
      "text/plain": [
       "[\"A\", \"B\", \"C\", \"A\", \"B\", \"C\", \"A\", \"B\", \"C\"]"
      ]
     },
     "execution_count": 16,
     "metadata": {},
     "output_type": "execute_result"
    }
   ],
   "source": [
    "puts 4 * 3\n",
    "puts \"Ruby\" * 3\n",
    "p [\"A\", \"B\", \"C\"] * 3"
   ]
  },
  {
   "cell_type": "code",
   "execution_count": 20,
   "id": "10dae021",
   "metadata": {},
   "outputs": [
    {
     "data": {
      "text/plain": [
       "\"\\u0001\""
      ]
     },
     "execution_count": 20,
     "metadata": {},
     "output_type": "execute_result"
    }
   ],
   "source": [
    "?\\C-a\n"
   ]
  },
  {
   "cell_type": "code",
   "execution_count": 21,
   "id": "0e24b409",
   "metadata": {},
   "outputs": [
    {
     "name": "stdout",
     "output_type": "stream",
     "text": [
      "[1, 2, 3, 4, 5, 6]\n",
      "[1, 2, 3, 4, 5, 6]\n",
      "[1, 2, 3, 4, 5, 6]\n"
     ]
    },
    {
     "data": {
      "text/plain": [
       "[1, 2, 3, 4, 5, 6]"
      ]
     },
     "execution_count": 21,
     "metadata": {},
     "output_type": "execute_result"
    }
   ],
   "source": [
    "# | symbol - create a union of array elements (remove any duplicates)\n",
    "\n",
    "p [1, 2, 3, 3, 3, 4] | [3, 4, 5, 6]\n",
    "p [1, 2, 3, 3, 3, 4].|([3, 4, 5, 6])\n",
    "p [1, 2, 3] | [3, 4, 5] | [4, 5, 6]"
   ]
  },
  {
   "cell_type": "code",
   "execution_count": 22,
   "id": "d0d87ed3",
   "metadata": {},
   "outputs": [
    {
     "name": "stdout",
     "output_type": "stream",
     "text": [
      "[1, 1, 4, 5]\n",
      "[1, 1, 4, 5]\n"
     ]
    },
    {
     "data": {
      "text/plain": [
       "[1, 1, 4, 5]"
      ]
     },
     "execution_count": 22,
     "metadata": {},
     "output_type": "execute_result"
    }
   ],
   "source": [
    "# - sign - removes all array elements found in second array\n",
    "\n",
    "p [1, 1, 2, 2, 3, 3, 3, 4, 5, 3, 2] - [2, 3]\n",
    "p [1, 1, 2, 2, 3, 3, 3, 4, 5, 3, 2].-([2, 3])\n"
   ]
  },
  {
   "cell_type": "code",
   "execution_count": 23,
   "id": "e9b3cf61",
   "metadata": {},
   "outputs": [
    {
     "name": "stdout",
     "output_type": "stream",
     "text": [
      "[1, 4, 5]\n",
      "[1, 4, 5]\n",
      "[4, 5]\n"
     ]
    },
    {
     "data": {
      "text/plain": [
       "[4, 5]"
      ]
     },
     "execution_count": 23,
     "metadata": {},
     "output_type": "execute_result"
    }
   ],
   "source": [
    "# & symbol - combine multiple arrays, keep elements that are found in both\n",
    "\n",
    "p [1, 1, 2, 3, 4, 5] & [1, 4, 5, 8, 9]\n",
    "p [1, 1, 2, 3, 4, 5].&([1, 4, 5, 8, 9])\n",
    "p [1, 1, 2, 3, 4, 5] & [1, 4, 5, 8, 9] & [4, 5, 10, 11]"
   ]
  },
  {
   "cell_type": "code",
   "execution_count": 24,
   "id": "a189ad83",
   "metadata": {},
   "outputs": [
    {
     "data": {
      "text/plain": [
       "[1, 2]"
      ]
     },
     "execution_count": 24,
     "metadata": {},
     "output_type": "execute_result"
    }
   ],
   "source": [
    "array1 = [1, 2, 3]\n",
    "array2 = [3, 4, 5]\n",
    "result = array1 - array2\n"
   ]
  },
  {
   "cell_type": "code",
   "execution_count": null,
   "id": "eb28adec",
   "metadata": {},
   "outputs": [],
   "source": []
  }
 ],
 "metadata": {
  "kernelspec": {
   "display_name": "Ruby 3.2.2",
   "language": "ruby",
   "name": "ruby"
  },
  "language_info": {
   "file_extension": ".rb",
   "mimetype": "application/x-ruby",
   "name": "ruby",
   "version": "3.2.2"
  }
 },
 "nbformat": 4,
 "nbformat_minor": 5
}
