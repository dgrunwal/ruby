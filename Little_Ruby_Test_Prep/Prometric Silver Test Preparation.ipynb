{
 "cells": [
  {
   "cell_type": "code",
   "execution_count": 3,
   "id": "67dc2538",
   "metadata": {},
   "outputs": [],
   "source": [
    "#  Silver Test Preparation: concepts and code: case, variables, hashes and arrays, loops, if elseif\n",
    "#  https://www.prometric.com/test-takers/search/ry\n",
    "\n",
    "=begin\n",
    "\n",
    "  \n",
    "Literals (e.g., numbers, booleans, strings, characters, arrays, hashes) WORKING ON \n",
    "Variables, constants, and scope *\n",
    "Operators\n",
    "Conditional branching\n",
    "Loops *\n",
    "Exception handling\n",
    "Method calls *\n",
    "Blocks *\n",
    "Method definition *\n",
    "Module definition\n",
    "Keyword arguments\n",
    "Built-in libraries *\n",
    "\n",
    "Well-used built-in classes and modules\n",
    "(e.g., Object, Numerical classes, String, Array, Hash, Kernel, Enumerable, Comparable)\n",
    "Object orientation\n",
    "\n",
    "Polymorphism\n",
    "Inheritance\n",
    "mix-in *\n",
    "\n",
    "=end"
   ]
  },
  {
   "cell_type": "code",
   "execution_count": 1,
   "id": "f0230c66",
   "metadata": {},
   "outputs": [
    {
     "name": "stdout",
     "output_type": "stream",
     "text": [
      "[1, 4, 5]\n"
     ]
    },
    {
     "data": {
      "text/plain": [
       "[1, 4, 5]"
      ]
     },
     "execution_count": 1,
     "metadata": {},
     "output_type": "execute_result"
    }
   ],
   "source": [
    "def foo(x: 1, y: 2, z: 3)\n",
    "  p [x, y, z]\n",
    "end\n",
    "\n",
    "foo(y: 4, z: 5)\n",
    "\n",
    "# Not the default returned if no argument provided in the foo function."
   ]
  },
  {
   "cell_type": "code",
   "execution_count": 4,
   "id": "4a234323",
   "metadata": {},
   "outputs": [
    {
     "name": "stdout",
     "output_type": "stream",
     "text": [
      "[1, 2, 3]\n"
     ]
    },
    {
     "data": {
      "text/plain": [
       "[1, 2, 3]"
      ]
     },
     "execution_count": 4,
     "metadata": {},
     "output_type": "execute_result"
    }
   ],
   "source": [
    "# Example of ** turning a Hash into keyword arguments.\n",
    "\n",
    "def foo(x:, y:, z:)\n",
    "  p [x, y, z]\n",
    "end\n",
    "\n",
    "h = {x: 1, y: 2, z: 3}\n",
    "foo(**h)"
   ]
  },
  {
   "cell_type": "code",
   "execution_count": 5,
   "id": "6f1734bc",
   "metadata": {},
   "outputs": [
    {
     "name": "stderr",
     "output_type": "stream",
     "text": [
      "(irb):1: warning: already initialized constant Object::MSG\n"
     ]
    },
    {
     "name": "stdout",
     "output_type": "stream",
     "text": [
      "47\n"
     ]
    },
    {
     "data": {
      "text/plain": [
       "47"
      ]
     },
     "execution_count": 5,
     "metadata": {},
     "output_type": "execute_result"
    }
   ],
   "source": [
    "MSG = 42\n",
    "MSG += 5\n",
    "p MSG"
   ]
  },
  {
   "cell_type": "code",
   "execution_count": 6,
   "id": "1fe19dec",
   "metadata": {},
   "outputs": [
    {
     "name": "stderr",
     "output_type": "stream",
     "text": [
      "(irb): warning: already initialized constant Object::MSG\n",
      "(irb):1: warning: previous definition of MSG was here\n"
     ]
    },
    {
     "name": "stdout",
     "output_type": "stream",
     "text": [
      "\"HELLO\"\n"
     ]
    },
    {
     "data": {
      "text/plain": [
       "\"HELLO\""
      ]
     },
     "execution_count": 6,
     "metadata": {},
     "output_type": "execute_result"
    }
   ],
   "source": [
    "MSG = \"hello\"\n",
    "MSG.upcase!\n",
    "p MSG\n",
    "\n",
    " \n",
    "#irb(main):001> MSG = \"hello\"\n",
    "#irb(main):002> MSG.upcase!\n",
    "#irb(main):003> p MSG\n",
    "#\"HELLO\"\n",
    "#=> \"HELLO\"\n",
    "\n"
   ]
  },
  {
   "cell_type": "code",
   "execution_count": 7,
   "id": "c760896c",
   "metadata": {},
   "outputs": [],
   "source": [
    "# Remember about Ruby variables \n",
    "\n",
    "=begin \n",
    "\n",
    "Global variables start with $.\n",
    "Class variables start with @@.\n",
    "Instance variables start with @.\n",
    "Local variables must begin with a lowercase letter or an underscore.\n",
    "The remaining characters in any variable type are limited to letters, numbers, underscores, and non-ASCII characters.\n",
    "\n",
    "=end "
   ]
  },
  {
   "cell_type": "code",
   "execution_count": 9,
   "id": "9eff1bba",
   "metadata": {},
   "outputs": [
    {
     "name": "stdout",
     "output_type": "stream",
     "text": [
      "[1, 3, 5, 7]\n",
      "[1, 3, 5, 7]\n"
     ]
    },
    {
     "data": {
      "text/plain": [
       "[1, 3, 5, 7]"
      ]
     },
     "execution_count": 9,
     "metadata": {},
     "output_type": "execute_result"
    }
   ],
   "source": [
    "# both the x and y variables reference the same array object.\n",
    "# Because Array#reject! modifies its receiver, this means that it modifies the single array that is referenced by both variables.\n",
    "\n",
    "\n",
    "\n",
    "x = [1,2,3,4,5,6,7,8]\n",
    "y = x\n",
    "x.reject! { |e| e.even? }\n",
    "p x\n",
    "p y"
   ]
  },
  {
   "cell_type": "code",
   "execution_count": null,
   "id": "ebc0b6ec",
   "metadata": {},
   "outputs": [],
   "source": []
  },
  {
   "cell_type": "code",
   "execution_count": null,
   "id": "e19be9a1",
   "metadata": {},
   "outputs": [],
   "source": []
  }
 ],
 "metadata": {
  "kernelspec": {
   "display_name": "Ruby 3.2.2",
   "language": "ruby",
   "name": "ruby"
  },
  "language_info": {
   "file_extension": ".rb",
   "mimetype": "application/x-ruby",
   "name": "ruby",
   "version": "3.2.2"
  }
 },
 "nbformat": 4,
 "nbformat_minor": 5
}
